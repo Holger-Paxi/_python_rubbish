{
 "cells": [
  {
   "cell_type": "code",
   "execution_count": 61,
   "metadata": {},
   "outputs": [],
   "source": [
    "import pandas as pd\n",
    "import os"
   ]
  },
  {
   "cell_type": "code",
   "execution_count": 62,
   "metadata": {},
   "outputs": [
    {
     "data": {
      "text/plain": [
       "'C:/Users/13004522/Downloads/SharedFiles_ProfJames/_Spline_Surface/_SP_m_test/prec_csv_files/'"
      ]
     },
     "execution_count": 62,
     "metadata": {},
     "output_type": "execute_result"
    }
   ],
   "source": [
    "parent_directory = 'C:/Users/13004522/Downloads/SharedFiles_ProfJames/_Spline_Surface/_SP_m_test/prec_csv_files/'\n",
    "parent_directory"
   ]
  },
  {
   "cell_type": "code",
   "execution_count": 63,
   "metadata": {},
   "outputs": [
    {
     "data": {
      "text/plain": [
       "'C:/Users/13004522/Downloads/SharedFiles_ProfJames/_Spline_Surface/_SP_m_test/prec_csv_sc/'"
      ]
     },
     "execution_count": 63,
     "metadata": {},
     "output_type": "execute_result"
    }
   ],
   "source": [
    "output_directory = 'C:/Users/13004522/Downloads/SharedFiles_ProfJames/_Spline_Surface/_SP_m_test/prec_csv_sc/'\n",
    "output_directory"
   ]
  },
  {
   "cell_type": "code",
   "execution_count": 64,
   "metadata": {},
   "outputs": [
    {
     "data": {
      "text/plain": [
       "0      prec_csv_000000_000201\n",
       "1      prec_csv_000201_000501\n",
       "2      prec_csv_000501_000801\n",
       "3      prec_csv_000801_001101\n",
       "4      prec_csv_001101_001401\n",
       "                ...          \n",
       "758    prec_csv_217601_217901\n",
       "759    prec_csv_217901_218201\n",
       "760    prec_csv_218201_218501\n",
       "761    prec_csv_218501_218801\n",
       "762    prec_csv_218801_218991\n",
       "Length: 763, dtype: object"
      ]
     },
     "execution_count": 64,
     "metadata": {},
     "output_type": "execute_result"
    }
   ],
   "source": [
    "directories = pd.Series(os.listdir('C:/Users/13004522/Downloads/SharedFiles_ProfJames/_Spline_Surface/_SP_m_test/prec_csv_files/'))\n",
    "directories"
   ]
  },
  {
   "cell_type": "code",
   "execution_count": 65,
   "metadata": {},
   "outputs": [
    {
     "data": {
      "text/plain": [
       "0      C:/Users/13004522/Downloads/SharedFiles_ProfJa...\n",
       "1      C:/Users/13004522/Downloads/SharedFiles_ProfJa...\n",
       "2      C:/Users/13004522/Downloads/SharedFiles_ProfJa...\n",
       "3      C:/Users/13004522/Downloads/SharedFiles_ProfJa...\n",
       "4      C:/Users/13004522/Downloads/SharedFiles_ProfJa...\n",
       "                             ...                        \n",
       "758    C:/Users/13004522/Downloads/SharedFiles_ProfJa...\n",
       "759    C:/Users/13004522/Downloads/SharedFiles_ProfJa...\n",
       "760    C:/Users/13004522/Downloads/SharedFiles_ProfJa...\n",
       "761    C:/Users/13004522/Downloads/SharedFiles_ProfJa...\n",
       "762    C:/Users/13004522/Downloads/SharedFiles_ProfJa...\n",
       "Length: 763, dtype: object"
      ]
     },
     "execution_count": 65,
     "metadata": {},
     "output_type": "execute_result"
    }
   ],
   "source": [
    "directories_path = pd.Series([parent_directory + directory_path for directory_path in directories])\n",
    "directories_path"
   ]
  },
  {
   "cell_type": "code",
   "execution_count": 66,
   "metadata": {},
   "outputs": [
    {
     "data": {
      "text/plain": [
       "0       prec_0001\n",
       "1       prec_0002\n",
       "2       prec_0003\n",
       "3       prec_0004\n",
       "4       prec_0005\n",
       "          ...    \n",
       "1529    prec_1530\n",
       "1530    prec_1531\n",
       "1531    prec_1532\n",
       "1532    prec_1533\n",
       "1533    prec_1534\n",
       "Length: 1534, dtype: object"
      ]
     },
     "execution_count": 66,
     "metadata": {},
     "output_type": "execute_result"
    }
   ],
   "source": [
    "csv_files = pd.Series(os.listdir('C:/Users/13004522/Downloads/SharedFiles_ProfJames/_Spline_Surface/_SP_m_test/prec_csv_files/prec_csv_000000_000201/'))\n",
    "csv_files = csv_files.str[:-4]\n",
    "csv_files"
   ]
  },
  {
   "cell_type": "code",
   "execution_count": 67,
   "metadata": {},
   "outputs": [
    {
     "name": "stdout",
     "output_type": "stream",
     "text": [
      "763 763 1534\n"
     ]
    }
   ],
   "source": [
    "print(len(directories), len(directories_path), len(csv_files), sep=\" \")"
   ]
  },
  {
   "cell_type": "code",
   "execution_count": 68,
   "metadata": {},
   "outputs": [],
   "source": [
    "for i_csv_file in csv_files:\n",
    "    locals()[i_csv_file] = []\n",
    "    for i_dir_path in directories_path:\n",
    "        locals()[i_csv_file].append(pd.read_csv(i_dir_path + '/' + i_csv_file + '.csv', header=None))\n",
    "    locals()[i_csv_file] = pd.concat(locals()[i_csv_file], ignore_index=True)\n",
    "    locals()[i_csv_file].to_csv(output_directory + i_csv_file + '.csv', index=False, header=False)"
   ]
  },
  {
   "cell_type": "code",
   "execution_count": null,
   "metadata": {},
   "outputs": [],
   "source": []
  },
  {
   "cell_type": "code",
   "execution_count": null,
   "metadata": {},
   "outputs": [],
   "source": []
  },
  {
   "cell_type": "code",
   "execution_count": null,
   "metadata": {},
   "outputs": [],
   "source": []
  },
  {
   "cell_type": "code",
   "execution_count": null,
   "metadata": {},
   "outputs": [],
   "source": []
  },
  {
   "cell_type": "code",
   "execution_count": null,
   "metadata": {},
   "outputs": [],
   "source": []
  },
  {
   "cell_type": "code",
   "execution_count": 69,
   "metadata": {},
   "outputs": [],
   "source": [
    "# temp1 = pd.read_csv(directories_path[0] + '/' + csv_files[0] + '.csv', header=None)\n",
    "# temp1"
   ]
  },
  {
   "cell_type": "code",
   "execution_count": 70,
   "metadata": {},
   "outputs": [],
   "source": [
    "# temp2 = pd.read_csv(directories_path[1] + '/' + csv_files[0] + '.csv', header=None)\n",
    "# temp2"
   ]
  },
  {
   "cell_type": "code",
   "execution_count": 71,
   "metadata": {},
   "outputs": [],
   "source": [
    "# temp3 = pd.read_csv(directories_path[2] + '/' + csv_files[0] + '.csv', header=None)\n",
    "# temp3"
   ]
  },
  {
   "cell_type": "code",
   "execution_count": 72,
   "metadata": {},
   "outputs": [],
   "source": [
    "# temp4 = pd.read_csv(directories_path[3] + '/' + csv_files[0] + '.csv', header=None)\n",
    "# temp4"
   ]
  },
  {
   "cell_type": "code",
   "execution_count": 73,
   "metadata": {},
   "outputs": [],
   "source": [
    "# locals()[csv_files[0]] = []\n",
    "# locals()[csv_files[0]]"
   ]
  },
  {
   "cell_type": "code",
   "execution_count": 74,
   "metadata": {},
   "outputs": [],
   "source": [
    "# locals()[csv_files[0]].append(temp1)\n",
    "# locals()[csv_files[0]]"
   ]
  },
  {
   "cell_type": "code",
   "execution_count": 75,
   "metadata": {},
   "outputs": [],
   "source": [
    "# locals()[csv_files[0]].append(temp2)\n",
    "# locals()[csv_files[0]]"
   ]
  },
  {
   "cell_type": "code",
   "execution_count": 76,
   "metadata": {},
   "outputs": [],
   "source": [
    "# locals()[csv_files[0]].append(temp3)\n",
    "# locals()[csv_files[0]]"
   ]
  },
  {
   "cell_type": "code",
   "execution_count": 77,
   "metadata": {},
   "outputs": [],
   "source": [
    "# locals()[csv_files[0]].append(temp4)\n",
    "# locals()[csv_files[0]]"
   ]
  },
  {
   "cell_type": "code",
   "execution_count": 78,
   "metadata": {},
   "outputs": [],
   "source": [
    "# locals()[csv_files[0]] = pd.concat(locals()[csv_files[0]], ignore_index=True)\n",
    "# locals()[csv_files[0]]"
   ]
  },
  {
   "cell_type": "code",
   "execution_count": 79,
   "metadata": {},
   "outputs": [],
   "source": [
    "# locals()[csv_files[0]].to_csv(output_directory + csv_files[0] + '.csv', index=False, header=False)"
   ]
  },
  {
   "cell_type": "code",
   "execution_count": null,
   "metadata": {},
   "outputs": [],
   "source": []
  },
  {
   "cell_type": "code",
   "execution_count": null,
   "metadata": {},
   "outputs": [],
   "source": []
  },
  {
   "cell_type": "code",
   "execution_count": null,
   "metadata": {},
   "outputs": [],
   "source": []
  }
 ],
 "metadata": {
  "kernelspec": {
   "display_name": "test_env",
   "language": "python",
   "name": "python3"
  },
  "language_info": {
   "codemirror_mode": {
    "name": "ipython",
    "version": 3
   },
   "file_extension": ".py",
   "mimetype": "text/x-python",
   "name": "python",
   "nbconvert_exporter": "python",
   "pygments_lexer": "ipython3",
   "version": "3.9.13"
  },
  "orig_nbformat": 4,
  "vscode": {
   "interpreter": {
    "hash": "83bef93714252228ca5979c881ad67fbc6cd6ac9828521f8b0a029c81fc4275d"
   }
  }
 },
 "nbformat": 4,
 "nbformat_minor": 2
}
