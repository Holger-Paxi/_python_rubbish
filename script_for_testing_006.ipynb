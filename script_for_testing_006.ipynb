{
 "cells": [
  {
   "cell_type": "code",
   "execution_count": 1,
   "id": "5e0393c8",
   "metadata": {},
   "outputs": [],
   "source": [
    "#%% MODULES\n",
    "\n",
    "import pandas as pd\n",
    "import processing\n",
    "import numpy as np\n",
    "import geopandas as gpd\n",
    "import datetime as dt\n",
    "from csv import DictWriter"
   ]
  },
  {
   "cell_type": "code",
   "execution_count": 2,
   "id": "211836ce",
   "metadata": {},
   "outputs": [],
   "source": [
    "#%% INPUT TIMESTAMPS (ts) THROUGH CSV FILES\n",
    "# IMPORTANT: the csv file must have a title and be limited to one column\n",
    "ts_csv_filename = '_test_timestamp2.csv'\n",
    "location_ts_csv_folder = 'C:/Users/HOLGER/Downloads/SharedFiles_ProfJames/_Spline_Surface/'\n",
    "location_ts_csv_file = '{}{}'.format(location_ts_csv_folder,ts_csv_filename)\n",
    "ts_name_df = pd.read_csv(location_ts_csv_file)"
   ]
  },
  {
   "cell_type": "code",
   "execution_count": 3,
   "id": "68994f8f",
   "metadata": {},
   "outputs": [
    {
     "data": {
      "text/html": [
       "<div>\n",
       "<style scoped>\n",
       "    .dataframe tbody tr th:only-of-type {\n",
       "        vertical-align: middle;\n",
       "    }\n",
       "\n",
       "    .dataframe tbody tr th {\n",
       "        vertical-align: top;\n",
       "    }\n",
       "\n",
       "    .dataframe thead th {\n",
       "        text-align: right;\n",
       "    }\n",
       "</style>\n",
       "<table border=\"1\" class=\"dataframe\">\n",
       "  <thead>\n",
       "    <tr style=\"text-align: right;\">\n",
       "      <th></th>\n",
       "      <th>timestamp</th>\n",
       "    </tr>\n",
       "  </thead>\n",
       "  <tbody>\n",
       "    <tr>\n",
       "      <th>0</th>\n",
       "      <td>Precipitation_30pts_1mm_28356</td>\n",
       "    </tr>\n",
       "    <tr>\n",
       "      <th>1</th>\n",
       "      <td>Precipitation_30pts_1mm_28357</td>\n",
       "    </tr>\n",
       "    <tr>\n",
       "      <th>2</th>\n",
       "      <td>Precipitation_30pts_1mm_28358</td>\n",
       "    </tr>\n",
       "    <tr>\n",
       "      <th>3</th>\n",
       "      <td>Precipitation_30pts_1mm_28359</td>\n",
       "    </tr>\n",
       "    <tr>\n",
       "      <th>4</th>\n",
       "      <td>Precipitation_30pts_1mm_28360</td>\n",
       "    </tr>\n",
       "  </tbody>\n",
       "</table>\n",
       "</div>"
      ],
      "text/plain": [
       "                       timestamp\n",
       "0  Precipitation_30pts_1mm_28356\n",
       "1  Precipitation_30pts_1mm_28357\n",
       "2  Precipitation_30pts_1mm_28358\n",
       "3  Precipitation_30pts_1mm_28359\n",
       "4  Precipitation_30pts_1mm_28360"
      ]
     },
     "execution_count": 3,
     "metadata": {},
     "output_type": "execute_result"
    }
   ],
   "source": [
    "ts_name_df.head()"
   ]
  },
  {
   "cell_type": "code",
   "execution_count": 4,
   "id": "446a71f3",
   "metadata": {},
   "outputs": [],
   "source": [
    "#%% INPUT SUBCATCHMENTS (sc) THROUGH CSV FILE\n",
    "sc_csv_filename = '_test_subcatchments.csv'\n",
    "location_sc_csv_folder = 'C:/Users/HOLGER/Downloads/SharedFiles_ProfJames/_Spline_Surface/'\n",
    "location_sc_csv_file = '{}{}'.format(location_sc_csv_folder,sc_csv_filename)\n",
    "sc_name_df = pd.read_csv(location_sc_csv_file)"
   ]
  },
  {
   "cell_type": "code",
   "execution_count": 5,
   "id": "1708f52a",
   "metadata": {},
   "outputs": [
    {
     "data": {
      "text/html": [
       "<div>\n",
       "<style scoped>\n",
       "    .dataframe tbody tr th:only-of-type {\n",
       "        vertical-align: middle;\n",
       "    }\n",
       "\n",
       "    .dataframe tbody tr th {\n",
       "        vertical-align: top;\n",
       "    }\n",
       "\n",
       "    .dataframe thead th {\n",
       "        text-align: right;\n",
       "    }\n",
       "</style>\n",
       "<table border=\"1\" class=\"dataframe\">\n",
       "  <thead>\n",
       "    <tr style=\"text-align: right;\">\n",
       "      <th></th>\n",
       "      <th>subcatchment</th>\n",
       "      <th>area</th>\n",
       "    </tr>\n",
       "  </thead>\n",
       "  <tbody>\n",
       "    <tr>\n",
       "      <th>0</th>\n",
       "      <td>sc_0001</td>\n",
       "      <td>1</td>\n",
       "    </tr>\n",
       "    <tr>\n",
       "      <th>1</th>\n",
       "      <td>sc_0002</td>\n",
       "      <td>2</td>\n",
       "    </tr>\n",
       "    <tr>\n",
       "      <th>2</th>\n",
       "      <td>sc_0003</td>\n",
       "      <td>3</td>\n",
       "    </tr>\n",
       "    <tr>\n",
       "      <th>3</th>\n",
       "      <td>sc_0004</td>\n",
       "      <td>4</td>\n",
       "    </tr>\n",
       "    <tr>\n",
       "      <th>4</th>\n",
       "      <td>sc_0005</td>\n",
       "      <td>5</td>\n",
       "    </tr>\n",
       "  </tbody>\n",
       "</table>\n",
       "</div>"
      ],
      "text/plain": [
       "  subcatchment  area\n",
       "0      sc_0001     1\n",
       "1      sc_0002     2\n",
       "2      sc_0003     3\n",
       "3      sc_0004     4\n",
       "4      sc_0005     5"
      ]
     },
     "execution_count": 5,
     "metadata": {},
     "output_type": "execute_result"
    }
   ],
   "source": [
    "sc_name_df.head()"
   ]
  },
  {
   "cell_type": "code",
   "execution_count": 6,
   "id": "3244262a",
   "metadata": {},
   "outputs": [],
   "source": [
    "#%% INPUT AND OUTPUT FOLDER\n",
    "input_folder = 'C:/Users/HOLGER/Downloads/SharedFiles_ProfJames/_Spline_Surface/clspl_sdat/'\n",
    "output_folder = 'C:/Users/HOLGER/Downloads/SharedFiles_ProfJames/_Spline_Surface/clsc_sdat/'"
   ]
  },
  {
   "cell_type": "code",
   "execution_count": 7,
   "id": "49f008e2",
   "metadata": {},
   "outputs": [],
   "source": [
    "#%% SET NUMBER OF ITERATIONS\n",
    "# Sometimes it is necessary to put the maximum amount of iterations\n",
    "# remember: the first one is inclusive, whereas the last one is exclusive\n",
    "# first index: input index [n = 0] = dataframe index [n + 1 = 1]\n",
    "# last index: input index [n] = dataframe index [n + 1] \n",
    "initial_index = 2\n",
    "final_index = 6\n",
    "\n",
    "ts_name_df = ts_name_df.iloc[initial_index, :] if initial_index == final_index else ts_name_df.iloc[initial_index: final_index, :]\n",
    "ts_name_df = ts_name_df if type(ts_name_df) == type(pd.DataFrame()) else ts_name_df.to_frame().T\n",
    "ts_name_df['clspl_sdat'] = input_folder + 'clspl_' + ts_name_df.timestamp.str[3:] + '.sdat'\n",
    "ts_name_df['clsc_sdat'] = '_' + ts_name_df.timestamp.str[3:] + '.sdat'"
   ]
  },
  {
   "cell_type": "code",
   "execution_count": 8,
   "id": "4983886a",
   "metadata": {},
   "outputs": [
    {
     "data": {
      "text/html": [
       "<div>\n",
       "<style scoped>\n",
       "    .dataframe tbody tr th:only-of-type {\n",
       "        vertical-align: middle;\n",
       "    }\n",
       "\n",
       "    .dataframe tbody tr th {\n",
       "        vertical-align: top;\n",
       "    }\n",
       "\n",
       "    .dataframe thead th {\n",
       "        text-align: right;\n",
       "    }\n",
       "</style>\n",
       "<table border=\"1\" class=\"dataframe\">\n",
       "  <thead>\n",
       "    <tr style=\"text-align: right;\">\n",
       "      <th></th>\n",
       "      <th>timestamp</th>\n",
       "      <th>clspl_sdat</th>\n",
       "      <th>clsc_sdat</th>\n",
       "    </tr>\n",
       "  </thead>\n",
       "  <tbody>\n",
       "    <tr>\n",
       "      <th>2</th>\n",
       "      <td>Precipitation_30pts_1mm_28358</td>\n",
       "      <td>C:/Users/HOLGER/Downloads/SharedFiles_ProfJame...</td>\n",
       "      <td>_cipitation_30pts_1mm_28358.sdat</td>\n",
       "    </tr>\n",
       "    <tr>\n",
       "      <th>3</th>\n",
       "      <td>Precipitation_30pts_1mm_28359</td>\n",
       "      <td>C:/Users/HOLGER/Downloads/SharedFiles_ProfJame...</td>\n",
       "      <td>_cipitation_30pts_1mm_28359.sdat</td>\n",
       "    </tr>\n",
       "    <tr>\n",
       "      <th>4</th>\n",
       "      <td>Precipitation_30pts_1mm_28360</td>\n",
       "      <td>C:/Users/HOLGER/Downloads/SharedFiles_ProfJame...</td>\n",
       "      <td>_cipitation_30pts_1mm_28360.sdat</td>\n",
       "    </tr>\n",
       "    <tr>\n",
       "      <th>5</th>\n",
       "      <td>Precipitation_30pts_1mm_28361</td>\n",
       "      <td>C:/Users/HOLGER/Downloads/SharedFiles_ProfJame...</td>\n",
       "      <td>_cipitation_30pts_1mm_28361.sdat</td>\n",
       "    </tr>\n",
       "  </tbody>\n",
       "</table>\n",
       "</div>"
      ],
      "text/plain": [
       "                       timestamp  \\\n",
       "2  Precipitation_30pts_1mm_28358   \n",
       "3  Precipitation_30pts_1mm_28359   \n",
       "4  Precipitation_30pts_1mm_28360   \n",
       "5  Precipitation_30pts_1mm_28361   \n",
       "\n",
       "                                          clspl_sdat  \\\n",
       "2  C:/Users/HOLGER/Downloads/SharedFiles_ProfJame...   \n",
       "3  C:/Users/HOLGER/Downloads/SharedFiles_ProfJame...   \n",
       "4  C:/Users/HOLGER/Downloads/SharedFiles_ProfJame...   \n",
       "5  C:/Users/HOLGER/Downloads/SharedFiles_ProfJame...   \n",
       "\n",
       "                          clsc_sdat  \n",
       "2  _cipitation_30pts_1mm_28358.sdat  \n",
       "3  _cipitation_30pts_1mm_28359.sdat  \n",
       "4  _cipitation_30pts_1mm_28360.sdat  \n",
       "5  _cipitation_30pts_1mm_28361.sdat  "
      ]
     },
     "execution_count": 8,
     "metadata": {},
     "output_type": "execute_result"
    }
   ],
   "source": [
    "ts_name_df"
   ]
  },
  {
   "cell_type": "code",
   "execution_count": 9,
   "id": "c1550f0d",
   "metadata": {},
   "outputs": [
    {
     "data": {
      "text/plain": [
       "'C:/Users/HOLGER/Downloads/SharedFiles_ProfJames/_Spline_Surface/clspl_sdat/clspl_cipitation_30pts_1mm_28358.sdat'"
      ]
     },
     "execution_count": 9,
     "metadata": {},
     "output_type": "execute_result"
    }
   ],
   "source": [
    "ts_name_df.iloc[0,1]"
   ]
  },
  {
   "cell_type": "code",
   "execution_count": 10,
   "id": "ebf0c7be",
   "metadata": {},
   "outputs": [
    {
     "data": {
      "text/plain": [
       "'_cipitation_30pts_1mm_28358.sdat'"
      ]
     },
     "execution_count": 10,
     "metadata": {},
     "output_type": "execute_result"
    }
   ],
   "source": [
    "ts_name_df.iloc[0,2]"
   ]
  },
  {
   "cell_type": "code",
   "execution_count": 11,
   "id": "ee7ed073",
   "metadata": {},
   "outputs": [],
   "source": [
    "#%% SET SUBCATCHMENT DATAFRAME\n",
    "# Sometimes it is necessary to put the maximum amount of iterations\n",
    "# remember: the first one is inclusive, whereas the last one is exclusive\n",
    "sc_name_df['clsc_sdat'] = output_folder + 'clsc_' + sc_name_df.subcatchment.str[3:]"
   ]
  },
  {
   "cell_type": "code",
   "execution_count": 12,
   "id": "36a33752",
   "metadata": {},
   "outputs": [
    {
     "data": {
      "text/html": [
       "<div>\n",
       "<style scoped>\n",
       "    .dataframe tbody tr th:only-of-type {\n",
       "        vertical-align: middle;\n",
       "    }\n",
       "\n",
       "    .dataframe tbody tr th {\n",
       "        vertical-align: top;\n",
       "    }\n",
       "\n",
       "    .dataframe thead th {\n",
       "        text-align: right;\n",
       "    }\n",
       "</style>\n",
       "<table border=\"1\" class=\"dataframe\">\n",
       "  <thead>\n",
       "    <tr style=\"text-align: right;\">\n",
       "      <th></th>\n",
       "      <th>subcatchment</th>\n",
       "      <th>area</th>\n",
       "      <th>clsc_sdat</th>\n",
       "    </tr>\n",
       "  </thead>\n",
       "  <tbody>\n",
       "    <tr>\n",
       "      <th>0</th>\n",
       "      <td>sc_0001</td>\n",
       "      <td>1</td>\n",
       "      <td>C:/Users/HOLGER/Downloads/SharedFiles_ProfJame...</td>\n",
       "    </tr>\n",
       "    <tr>\n",
       "      <th>1</th>\n",
       "      <td>sc_0002</td>\n",
       "      <td>2</td>\n",
       "      <td>C:/Users/HOLGER/Downloads/SharedFiles_ProfJame...</td>\n",
       "    </tr>\n",
       "    <tr>\n",
       "      <th>2</th>\n",
       "      <td>sc_0003</td>\n",
       "      <td>3</td>\n",
       "      <td>C:/Users/HOLGER/Downloads/SharedFiles_ProfJame...</td>\n",
       "    </tr>\n",
       "    <tr>\n",
       "      <th>3</th>\n",
       "      <td>sc_0004</td>\n",
       "      <td>4</td>\n",
       "      <td>C:/Users/HOLGER/Downloads/SharedFiles_ProfJame...</td>\n",
       "    </tr>\n",
       "    <tr>\n",
       "      <th>4</th>\n",
       "      <td>sc_0005</td>\n",
       "      <td>5</td>\n",
       "      <td>C:/Users/HOLGER/Downloads/SharedFiles_ProfJame...</td>\n",
       "    </tr>\n",
       "  </tbody>\n",
       "</table>\n",
       "</div>"
      ],
      "text/plain": [
       "  subcatchment  area                                          clsc_sdat\n",
       "0      sc_0001     1  C:/Users/HOLGER/Downloads/SharedFiles_ProfJame...\n",
       "1      sc_0002     2  C:/Users/HOLGER/Downloads/SharedFiles_ProfJame...\n",
       "2      sc_0003     3  C:/Users/HOLGER/Downloads/SharedFiles_ProfJame...\n",
       "3      sc_0004     4  C:/Users/HOLGER/Downloads/SharedFiles_ProfJame...\n",
       "4      sc_0005     5  C:/Users/HOLGER/Downloads/SharedFiles_ProfJame..."
      ]
     },
     "execution_count": 12,
     "metadata": {},
     "output_type": "execute_result"
    }
   ],
   "source": [
    "sc_name_df.head()"
   ]
  },
  {
   "cell_type": "code",
   "execution_count": 13,
   "id": "cb4df1b5",
   "metadata": {},
   "outputs": [
    {
     "data": {
      "text/plain": [
       "'C:/Users/HOLGER/Downloads/SharedFiles_ProfJames/_Spline_Surface/clsc_sdat/clsc_0001'"
      ]
     },
     "execution_count": 13,
     "metadata": {},
     "output_type": "execute_result"
    }
   ],
   "source": [
    "sc_name_df.iloc[0,2]"
   ]
  },
  {
   "cell_type": "code",
   "execution_count": 14,
   "id": "340b558d",
   "metadata": {},
   "outputs": [],
   "source": [
    "#%% SET SUBCATCHMENT POLYGON AS A MASK\n",
    "mask_prefix_sc_pol_shp_filename = 'sc_'\n",
    "location_mask_sc_pol_shp_folder = 'C:/Users/HOLGER/Downloads/SharedFiles_ProfJames/_Spline_Surface/mask_sc_polygon/'\n",
    "location_mask_sc_pol_shp_file = '{}{}'.format(location_mask_sc_pol_shp_folder,mask_prefix_sc_pol_shp_filename)\n",
    "sc_name_df['mask_shp'] = location_mask_sc_pol_shp_file + sc_name_df.subcatchment.str[3:] + '.shp'"
   ]
  },
  {
   "cell_type": "code",
   "execution_count": 15,
   "id": "c708c9d7",
   "metadata": {},
   "outputs": [
    {
     "data": {
      "text/html": [
       "<div>\n",
       "<style scoped>\n",
       "    .dataframe tbody tr th:only-of-type {\n",
       "        vertical-align: middle;\n",
       "    }\n",
       "\n",
       "    .dataframe tbody tr th {\n",
       "        vertical-align: top;\n",
       "    }\n",
       "\n",
       "    .dataframe thead th {\n",
       "        text-align: right;\n",
       "    }\n",
       "</style>\n",
       "<table border=\"1\" class=\"dataframe\">\n",
       "  <thead>\n",
       "    <tr style=\"text-align: right;\">\n",
       "      <th></th>\n",
       "      <th>subcatchment</th>\n",
       "      <th>area</th>\n",
       "      <th>clsc_sdat</th>\n",
       "      <th>mask_shp</th>\n",
       "    </tr>\n",
       "  </thead>\n",
       "  <tbody>\n",
       "    <tr>\n",
       "      <th>0</th>\n",
       "      <td>sc_0001</td>\n",
       "      <td>1</td>\n",
       "      <td>C:/Users/HOLGER/Downloads/SharedFiles_ProfJame...</td>\n",
       "      <td>C:/Users/HOLGER/Downloads/SharedFiles_ProfJame...</td>\n",
       "    </tr>\n",
       "    <tr>\n",
       "      <th>1</th>\n",
       "      <td>sc_0002</td>\n",
       "      <td>2</td>\n",
       "      <td>C:/Users/HOLGER/Downloads/SharedFiles_ProfJame...</td>\n",
       "      <td>C:/Users/HOLGER/Downloads/SharedFiles_ProfJame...</td>\n",
       "    </tr>\n",
       "    <tr>\n",
       "      <th>2</th>\n",
       "      <td>sc_0003</td>\n",
       "      <td>3</td>\n",
       "      <td>C:/Users/HOLGER/Downloads/SharedFiles_ProfJame...</td>\n",
       "      <td>C:/Users/HOLGER/Downloads/SharedFiles_ProfJame...</td>\n",
       "    </tr>\n",
       "    <tr>\n",
       "      <th>3</th>\n",
       "      <td>sc_0004</td>\n",
       "      <td>4</td>\n",
       "      <td>C:/Users/HOLGER/Downloads/SharedFiles_ProfJame...</td>\n",
       "      <td>C:/Users/HOLGER/Downloads/SharedFiles_ProfJame...</td>\n",
       "    </tr>\n",
       "    <tr>\n",
       "      <th>4</th>\n",
       "      <td>sc_0005</td>\n",
       "      <td>5</td>\n",
       "      <td>C:/Users/HOLGER/Downloads/SharedFiles_ProfJame...</td>\n",
       "      <td>C:/Users/HOLGER/Downloads/SharedFiles_ProfJame...</td>\n",
       "    </tr>\n",
       "  </tbody>\n",
       "</table>\n",
       "</div>"
      ],
      "text/plain": [
       "  subcatchment  area                                          clsc_sdat  \\\n",
       "0      sc_0001     1  C:/Users/HOLGER/Downloads/SharedFiles_ProfJame...   \n",
       "1      sc_0002     2  C:/Users/HOLGER/Downloads/SharedFiles_ProfJame...   \n",
       "2      sc_0003     3  C:/Users/HOLGER/Downloads/SharedFiles_ProfJame...   \n",
       "3      sc_0004     4  C:/Users/HOLGER/Downloads/SharedFiles_ProfJame...   \n",
       "4      sc_0005     5  C:/Users/HOLGER/Downloads/SharedFiles_ProfJame...   \n",
       "\n",
       "                                            mask_shp  \n",
       "0  C:/Users/HOLGER/Downloads/SharedFiles_ProfJame...  \n",
       "1  C:/Users/HOLGER/Downloads/SharedFiles_ProfJame...  \n",
       "2  C:/Users/HOLGER/Downloads/SharedFiles_ProfJame...  \n",
       "3  C:/Users/HOLGER/Downloads/SharedFiles_ProfJame...  \n",
       "4  C:/Users/HOLGER/Downloads/SharedFiles_ProfJame...  "
      ]
     },
     "execution_count": 15,
     "metadata": {},
     "output_type": "execute_result"
    }
   ],
   "source": [
    "sc_name_df.head()"
   ]
  },
  {
   "cell_type": "code",
   "execution_count": 16,
   "id": "89e11f9a",
   "metadata": {},
   "outputs": [
    {
     "data": {
      "text/plain": [
       "'sc_0001'"
      ]
     },
     "execution_count": 16,
     "metadata": {},
     "output_type": "execute_result"
    }
   ],
   "source": [
    "sc_name_df.iloc[0,0]"
   ]
  },
  {
   "cell_type": "code",
   "execution_count": 17,
   "id": "f5d866f9",
   "metadata": {},
   "outputs": [
    {
     "data": {
      "text/plain": [
       "1"
      ]
     },
     "execution_count": 17,
     "metadata": {},
     "output_type": "execute_result"
    }
   ],
   "source": [
    "sc_name_df.iloc[0,1]"
   ]
  },
  {
   "cell_type": "code",
   "execution_count": 18,
   "id": "a92cb055",
   "metadata": {},
   "outputs": [
    {
     "data": {
      "text/plain": [
       "'C:/Users/HOLGER/Downloads/SharedFiles_ProfJames/_Spline_Surface/clsc_sdat/clsc_0001'"
      ]
     },
     "execution_count": 18,
     "metadata": {},
     "output_type": "execute_result"
    }
   ],
   "source": [
    "sc_name_df.iloc[0,2]"
   ]
  },
  {
   "cell_type": "code",
   "execution_count": 19,
   "id": "da4053e3",
   "metadata": {},
   "outputs": [
    {
     "data": {
      "text/plain": [
       "'C:/Users/HOLGER/Downloads/SharedFiles_ProfJames/_Spline_Surface/mask_sc_polygon/sc_0001.shp'"
      ]
     },
     "execution_count": 19,
     "metadata": {},
     "output_type": "execute_result"
    }
   ],
   "source": [
    "sc_name_df.iloc[0,3]"
   ]
  },
  {
   "cell_type": "code",
   "execution_count": null,
   "id": "cad94426",
   "metadata": {},
   "outputs": [],
   "source": []
  },
  {
   "cell_type": "code",
   "execution_count": 20,
   "id": "1797af9a",
   "metadata": {},
   "outputs": [],
   "source": [
    "#%% START TIME OF THE PROCESS\n",
    "starting_time = dt.datetime.now()"
   ]
  },
  {
   "cell_type": "code",
   "execution_count": null,
   "id": "2b0dbe13",
   "metadata": {},
   "outputs": [],
   "source": [
    "#%% FUNCTION: Clip Raster by Mask Layer (CRBML)\n",
    "def get_clip_subca_surface_2(arg_sc_output_clsc_sdat_file, arg_sc_input_mask_shp_file, arg_ts_input_clspl_sdat_file, arg_ts_output_clsc_sdat_file):\n",
    "    # np.vectorize(get_clip_subca_surface_2)(sc_name_df.clsc_sdat, sc_name_df.mask_shp)\n",
    "\n",
    "    # CRBML via QGIS processing\n",
    "    exe_clp_sc = processing.run(\"gdal:cliprasterbymasklayer\",\\\n",
    "        {'INPUT':arg_ts_input_clspl_sdat_file,\\\n",
    "        'MASK': arg_sc_input_mask_shp_file,\\\n",
    "        'SOURCE_CRS':None,\\\n",
    "        'TARGET_CRS':None,\\\n",
    "        'NODATA':None,\\\n",
    "        'ALPHA_BAND':False,\\\n",
    "        'CROP_TO_CUTLINE':True,\\\n",
    "        'KEEP_RESOLUTION':False,\\\n",
    "        'SET_RESOLUTION':False,\\\n",
    "        'X_RESOLUTION':None,\\\n",
    "        'Y_RESOLUTION':None,\\\n",
    "        'MULTITHREADING':False,\\\n",
    "        'OPTIONS':'',\\\n",
    "        'DATA_TYPE':0,\\\n",
    "        'EXTRA':'',\\\n",
    "        'OUTPUT':arg_sc_output_clsc_sdat_file + arg_ts_output_clsc_sdat_file})"
   ]
  },
  {
   "cell_type": "code",
   "execution_count": 7,
   "id": "732b906e",
   "metadata": {},
   "outputs": [],
   "source": [
    "#%% FUNCTION 1: Clip Raster by Mask Layer (CRBML)\n",
    "def get_clip_subca_surface_1(arg_ts_input_clspl_sdat_file, arg_ts_output_clsc_sdat_file):\n",
    "    # np.vectorize(get_clip_subca_surface)(ts_name_df.clspl_sdat, ts_name_df.clsc_sdat)\n",
    "    \n",
    "    # EXECUTE FUNCTION 2\n",
    "    np.vectorize(get_clip_subca_surface_2)(sc_name_df.clsc_sdat, sc_name_df.mask_shp, arg_ts_input_clspl_sdat_file, arg_ts_output_clsc_sdat_file)"
   ]
  },
  {
   "cell_type": "code",
   "execution_count": null,
   "id": "3f83d28a",
   "metadata": {},
   "outputs": [],
   "source": [
    "#%% EXECUTE FUNCTION 1\n",
    "np.vectorize(get_clip_subca_surface_1)(ts_name_df.clspl_sdat, ts_name_df.clsc_sdat)"
   ]
  },
  {
   "cell_type": "code",
   "execution_count": null,
   "id": "06a40523",
   "metadata": {},
   "outputs": [],
   "source": [
    "#%% END TIME OF THE PROCESS\n",
    "ending_time = dt.datetime.now()\n",
    "total_time = ending_time - starting_time\n",
    "print('Done! in {}'.format(total_time))"
   ]
  },
  {
   "cell_type": "code",
   "execution_count": null,
   "id": "3a5764f4",
   "metadata": {},
   "outputs": [],
   "source": []
  },
  {
   "cell_type": "code",
   "execution_count": null,
   "id": "33d43adc",
   "metadata": {},
   "outputs": [],
   "source": []
  },
  {
   "cell_type": "code",
   "execution_count": null,
   "id": "939981a8",
   "metadata": {},
   "outputs": [],
   "source": []
  },
  {
   "cell_type": "code",
   "execution_count": null,
   "id": "3fcb6566",
   "metadata": {},
   "outputs": [],
   "source": []
  },
  {
   "cell_type": "code",
   "execution_count": null,
   "id": "bd11446a",
   "metadata": {},
   "outputs": [],
   "source": []
  },
  {
   "cell_type": "code",
   "execution_count": null,
   "id": "cb6e5887",
   "metadata": {},
   "outputs": [],
   "source": []
  },
  {
   "cell_type": "code",
   "execution_count": null,
   "id": "c74a53f8",
   "metadata": {},
   "outputs": [],
   "source": []
  },
  {
   "cell_type": "code",
   "execution_count": null,
   "id": "5aca7b4d",
   "metadata": {},
   "outputs": [],
   "source": []
  },
  {
   "cell_type": "code",
   "execution_count": null,
   "id": "80075df0",
   "metadata": {},
   "outputs": [],
   "source": []
  },
  {
   "cell_type": "code",
   "execution_count": null,
   "id": "f9600e99",
   "metadata": {},
   "outputs": [],
   "source": []
  },
  {
   "cell_type": "code",
   "execution_count": 28,
   "id": "cdb19f02",
   "metadata": {},
   "outputs": [],
   "source": [
    "ts = pd.read_csv('C:/Users/HOLGER/Downloads/SharedFiles_ProfJames/_Spline_Surface/_test_timestamp2.csv')\n",
    "sc = pd.read_csv('C:/Users/HOLGER/Downloads/SharedFiles_ProfJames/_Spline_Surface/_test_subcatchments.csv')"
   ]
  },
  {
   "cell_type": "code",
   "execution_count": 29,
   "id": "d7083915",
   "metadata": {},
   "outputs": [
    {
     "data": {
      "text/html": [
       "<div>\n",
       "<style scoped>\n",
       "    .dataframe tbody tr th:only-of-type {\n",
       "        vertical-align: middle;\n",
       "    }\n",
       "\n",
       "    .dataframe tbody tr th {\n",
       "        vertical-align: top;\n",
       "    }\n",
       "\n",
       "    .dataframe thead th {\n",
       "        text-align: right;\n",
       "    }\n",
       "</style>\n",
       "<table border=\"1\" class=\"dataframe\">\n",
       "  <thead>\n",
       "    <tr style=\"text-align: right;\">\n",
       "      <th></th>\n",
       "      <th>timestamp</th>\n",
       "    </tr>\n",
       "  </thead>\n",
       "  <tbody>\n",
       "    <tr>\n",
       "      <th>0</th>\n",
       "      <td>Precipitation_30pts_1mm_28356</td>\n",
       "    </tr>\n",
       "    <tr>\n",
       "      <th>1</th>\n",
       "      <td>Precipitation_30pts_1mm_28357</td>\n",
       "    </tr>\n",
       "    <tr>\n",
       "      <th>2</th>\n",
       "      <td>Precipitation_30pts_1mm_28358</td>\n",
       "    </tr>\n",
       "    <tr>\n",
       "      <th>3</th>\n",
       "      <td>Precipitation_30pts_1mm_28359</td>\n",
       "    </tr>\n",
       "    <tr>\n",
       "      <th>4</th>\n",
       "      <td>Precipitation_30pts_1mm_28360</td>\n",
       "    </tr>\n",
       "  </tbody>\n",
       "</table>\n",
       "</div>"
      ],
      "text/plain": [
       "                       timestamp\n",
       "0  Precipitation_30pts_1mm_28356\n",
       "1  Precipitation_30pts_1mm_28357\n",
       "2  Precipitation_30pts_1mm_28358\n",
       "3  Precipitation_30pts_1mm_28359\n",
       "4  Precipitation_30pts_1mm_28360"
      ]
     },
     "execution_count": 29,
     "metadata": {},
     "output_type": "execute_result"
    }
   ],
   "source": [
    "ts.head()"
   ]
  },
  {
   "cell_type": "code",
   "execution_count": 30,
   "id": "8de61860",
   "metadata": {},
   "outputs": [
    {
     "data": {
      "text/html": [
       "<div>\n",
       "<style scoped>\n",
       "    .dataframe tbody tr th:only-of-type {\n",
       "        vertical-align: middle;\n",
       "    }\n",
       "\n",
       "    .dataframe tbody tr th {\n",
       "        vertical-align: top;\n",
       "    }\n",
       "\n",
       "    .dataframe thead th {\n",
       "        text-align: right;\n",
       "    }\n",
       "</style>\n",
       "<table border=\"1\" class=\"dataframe\">\n",
       "  <thead>\n",
       "    <tr style=\"text-align: right;\">\n",
       "      <th></th>\n",
       "      <th>subcatchment</th>\n",
       "      <th>area</th>\n",
       "    </tr>\n",
       "  </thead>\n",
       "  <tbody>\n",
       "    <tr>\n",
       "      <th>0</th>\n",
       "      <td>sc_0001</td>\n",
       "      <td>1</td>\n",
       "    </tr>\n",
       "    <tr>\n",
       "      <th>1</th>\n",
       "      <td>sc_0002</td>\n",
       "      <td>2</td>\n",
       "    </tr>\n",
       "    <tr>\n",
       "      <th>2</th>\n",
       "      <td>sc_0003</td>\n",
       "      <td>3</td>\n",
       "    </tr>\n",
       "    <tr>\n",
       "      <th>3</th>\n",
       "      <td>sc_0004</td>\n",
       "      <td>4</td>\n",
       "    </tr>\n",
       "    <tr>\n",
       "      <th>4</th>\n",
       "      <td>sc_0005</td>\n",
       "      <td>5</td>\n",
       "    </tr>\n",
       "  </tbody>\n",
       "</table>\n",
       "</div>"
      ],
      "text/plain": [
       "  subcatchment  area\n",
       "0      sc_0001     1\n",
       "1      sc_0002     2\n",
       "2      sc_0003     3\n",
       "3      sc_0004     4\n",
       "4      sc_0005     5"
      ]
     },
     "execution_count": 30,
     "metadata": {},
     "output_type": "execute_result"
    }
   ],
   "source": [
    "sc.head()"
   ]
  },
  {
   "cell_type": "code",
   "execution_count": 38,
   "id": "509cd9dd",
   "metadata": {},
   "outputs": [],
   "source": [
    "def func1(id_arg_ts):\n",
    "    tss = id_arg_ts\n",
    "    globals()[tss] = id_arg_ts + '_' + sc"
   ]
  },
  {
   "cell_type": "code",
   "execution_count": 39,
   "id": "fcf1bbed",
   "metadata": {},
   "outputs": [
    {
     "ename": "UFuncTypeError",
     "evalue": "ufunc 'add' did not contain a loop with signature matching types (dtype('<U30'), dtype('int64')) -> None",
     "output_type": "error",
     "traceback": [
      "\u001b[1;31m---------------------------------------------------------------------------\u001b[0m",
      "\u001b[1;31mUFuncTypeError\u001b[0m                            Traceback (most recent call last)",
      "Cell \u001b[1;32mIn [39], line 1\u001b[0m\n\u001b[1;32m----> 1\u001b[0m wq \u001b[38;5;241m=\u001b[39m np\u001b[38;5;241m.\u001b[39mvectorize(func1)(ts\u001b[38;5;241m.\u001b[39mtimestamp)\n",
      "File \u001b[1;32mc:\\Users\\HOLGER\\.conda\\envs\\qgis_env\\lib\\site-packages\\numpy\\lib\\function_base.py:2328\u001b[0m, in \u001b[0;36mvectorize.__call__\u001b[1;34m(self, *args, **kwargs)\u001b[0m\n\u001b[0;32m   2325\u001b[0m     vargs \u001b[39m=\u001b[39m [args[_i] \u001b[39mfor\u001b[39;00m _i \u001b[39min\u001b[39;00m inds]\n\u001b[0;32m   2326\u001b[0m     vargs\u001b[39m.\u001b[39mextend([kwargs[_n] \u001b[39mfor\u001b[39;00m _n \u001b[39min\u001b[39;00m names])\n\u001b[1;32m-> 2328\u001b[0m \u001b[39mreturn\u001b[39;00m \u001b[39mself\u001b[39;49m\u001b[39m.\u001b[39;49m_vectorize_call(func\u001b[39m=\u001b[39;49mfunc, args\u001b[39m=\u001b[39;49mvargs)\n",
      "File \u001b[1;32mc:\\Users\\HOLGER\\.conda\\envs\\qgis_env\\lib\\site-packages\\numpy\\lib\\function_base.py:2406\u001b[0m, in \u001b[0;36mvectorize._vectorize_call\u001b[1;34m(self, func, args)\u001b[0m\n\u001b[0;32m   2404\u001b[0m     res \u001b[39m=\u001b[39m func()\n\u001b[0;32m   2405\u001b[0m \u001b[39melse\u001b[39;00m:\n\u001b[1;32m-> 2406\u001b[0m     ufunc, otypes \u001b[39m=\u001b[39m \u001b[39mself\u001b[39;49m\u001b[39m.\u001b[39;49m_get_ufunc_and_otypes(func\u001b[39m=\u001b[39;49mfunc, args\u001b[39m=\u001b[39;49margs)\n\u001b[0;32m   2408\u001b[0m     \u001b[39m# Convert args to object arrays first\u001b[39;00m\n\u001b[0;32m   2409\u001b[0m     inputs \u001b[39m=\u001b[39m [asanyarray(a, dtype\u001b[39m=\u001b[39m\u001b[39mobject\u001b[39m) \u001b[39mfor\u001b[39;00m a \u001b[39min\u001b[39;00m args]\n",
      "File \u001b[1;32mc:\\Users\\HOLGER\\.conda\\envs\\qgis_env\\lib\\site-packages\\numpy\\lib\\function_base.py:2366\u001b[0m, in \u001b[0;36mvectorize._get_ufunc_and_otypes\u001b[1;34m(self, func, args)\u001b[0m\n\u001b[0;32m   2362\u001b[0m     \u001b[39mraise\u001b[39;00m \u001b[39mValueError\u001b[39;00m(\u001b[39m'\u001b[39m\u001b[39mcannot call `vectorize` on size 0 inputs \u001b[39m\u001b[39m'\u001b[39m\n\u001b[0;32m   2363\u001b[0m                      \u001b[39m'\u001b[39m\u001b[39munless `otypes` is set\u001b[39m\u001b[39m'\u001b[39m)\n\u001b[0;32m   2365\u001b[0m inputs \u001b[39m=\u001b[39m [arg\u001b[39m.\u001b[39mflat[\u001b[39m0\u001b[39m] \u001b[39mfor\u001b[39;00m arg \u001b[39min\u001b[39;00m args]\n\u001b[1;32m-> 2366\u001b[0m outputs \u001b[39m=\u001b[39m func(\u001b[39m*\u001b[39;49minputs)\n\u001b[0;32m   2368\u001b[0m \u001b[39m# Performance note: profiling indicates that -- for simple\u001b[39;00m\n\u001b[0;32m   2369\u001b[0m \u001b[39m# functions at least -- this wrapping can almost double the\u001b[39;00m\n\u001b[0;32m   2370\u001b[0m \u001b[39m# execution time.\u001b[39;00m\n\u001b[0;32m   2371\u001b[0m \u001b[39m# Hence we make it optional.\u001b[39;00m\n\u001b[0;32m   2372\u001b[0m \u001b[39mif\u001b[39;00m \u001b[39mself\u001b[39m\u001b[39m.\u001b[39mcache:\n",
      "Cell \u001b[1;32mIn [38], line 3\u001b[0m, in \u001b[0;36mfunc1\u001b[1;34m(id_arg_ts)\u001b[0m\n\u001b[0;32m      1\u001b[0m \u001b[38;5;28;01mdef\u001b[39;00m \u001b[38;5;21mfunc1\u001b[39m(id_arg_ts):\n\u001b[0;32m      2\u001b[0m     tss \u001b[38;5;241m=\u001b[39m id_arg_ts\n\u001b[1;32m----> 3\u001b[0m     \u001b[38;5;28mglobals\u001b[39m()[tss] \u001b[38;5;241m=\u001b[39m \u001b[43mid_arg_ts\u001b[49m\u001b[43m \u001b[49m\u001b[38;5;241;43m+\u001b[39;49m\u001b[43m \u001b[49m\u001b[38;5;124;43m'\u001b[39;49m\u001b[38;5;124;43m_\u001b[39;49m\u001b[38;5;124;43m'\u001b[39;49m\u001b[43m \u001b[49m\u001b[38;5;241;43m+\u001b[39;49m\u001b[43m \u001b[49m\u001b[43msc\u001b[49m\n",
      "File \u001b[1;32mc:\\Users\\HOLGER\\.conda\\envs\\qgis_env\\lib\\site-packages\\pandas\\core\\ops\\common.py:72\u001b[0m, in \u001b[0;36m_unpack_zerodim_and_defer.<locals>.new_method\u001b[1;34m(self, other)\u001b[0m\n\u001b[0;32m     68\u001b[0m             \u001b[39mreturn\u001b[39;00m \u001b[39mNotImplemented\u001b[39m\n\u001b[0;32m     70\u001b[0m other \u001b[39m=\u001b[39m item_from_zerodim(other)\n\u001b[1;32m---> 72\u001b[0m \u001b[39mreturn\u001b[39;00m method(\u001b[39mself\u001b[39;49m, other)\n",
      "File \u001b[1;32mc:\\Users\\HOLGER\\.conda\\envs\\qgis_env\\lib\\site-packages\\pandas\\core\\arraylike.py:107\u001b[0m, in \u001b[0;36mOpsMixin.__radd__\u001b[1;34m(self, other)\u001b[0m\n\u001b[0;32m    105\u001b[0m \u001b[39m@unpack_zerodim_and_defer\u001b[39m(\u001b[39m\"\u001b[39m\u001b[39m__radd__\u001b[39m\u001b[39m\"\u001b[39m)\n\u001b[0;32m    106\u001b[0m \u001b[39mdef\u001b[39;00m \u001b[39m__radd__\u001b[39m(\u001b[39mself\u001b[39m, other):\n\u001b[1;32m--> 107\u001b[0m     \u001b[39mreturn\u001b[39;00m \u001b[39mself\u001b[39;49m\u001b[39m.\u001b[39;49m_arith_method(other, roperator\u001b[39m.\u001b[39;49mradd)\n",
      "File \u001b[1;32mc:\\Users\\HOLGER\\.conda\\envs\\qgis_env\\lib\\site-packages\\pandas\\core\\frame.py:7586\u001b[0m, in \u001b[0;36mDataFrame._arith_method\u001b[1;34m(self, other, op)\u001b[0m\n\u001b[0;32m   7582\u001b[0m other \u001b[39m=\u001b[39m ops\u001b[39m.\u001b[39mmaybe_prepare_scalar_for_op(other, (\u001b[39mself\u001b[39m\u001b[39m.\u001b[39mshape[axis],))\n\u001b[0;32m   7584\u001b[0m \u001b[39mself\u001b[39m, other \u001b[39m=\u001b[39m ops\u001b[39m.\u001b[39malign_method_FRAME(\u001b[39mself\u001b[39m, other, axis, flex\u001b[39m=\u001b[39m\u001b[39mTrue\u001b[39;00m, level\u001b[39m=\u001b[39m\u001b[39mNone\u001b[39;00m)\n\u001b[1;32m-> 7586\u001b[0m new_data \u001b[39m=\u001b[39m \u001b[39mself\u001b[39;49m\u001b[39m.\u001b[39;49m_dispatch_frame_op(other, op, axis\u001b[39m=\u001b[39;49maxis)\n\u001b[0;32m   7587\u001b[0m \u001b[39mreturn\u001b[39;00m \u001b[39mself\u001b[39m\u001b[39m.\u001b[39m_construct_result(new_data)\n",
      "File \u001b[1;32mc:\\Users\\HOLGER\\.conda\\envs\\qgis_env\\lib\\site-packages\\pandas\\core\\frame.py:7613\u001b[0m, in \u001b[0;36mDataFrame._dispatch_frame_op\u001b[1;34m(self, right, func, axis)\u001b[0m\n\u001b[0;32m   7610\u001b[0m \u001b[39mif\u001b[39;00m \u001b[39mnot\u001b[39;00m is_list_like(right):\n\u001b[0;32m   7611\u001b[0m     \u001b[39m# i.e. scalar, faster than checking np.ndim(right) == 0\u001b[39;00m\n\u001b[0;32m   7612\u001b[0m     \u001b[39mwith\u001b[39;00m np\u001b[39m.\u001b[39merrstate(\u001b[39mall\u001b[39m\u001b[39m=\u001b[39m\u001b[39m\"\u001b[39m\u001b[39mignore\u001b[39m\u001b[39m\"\u001b[39m):\n\u001b[1;32m-> 7613\u001b[0m         bm \u001b[39m=\u001b[39m \u001b[39mself\u001b[39;49m\u001b[39m.\u001b[39;49m_mgr\u001b[39m.\u001b[39;49mapply(array_op, right\u001b[39m=\u001b[39;49mright)\n\u001b[0;32m   7614\u001b[0m     \u001b[39mreturn\u001b[39;00m \u001b[39mself\u001b[39m\u001b[39m.\u001b[39m_constructor(bm)\n\u001b[0;32m   7616\u001b[0m \u001b[39melif\u001b[39;00m \u001b[39misinstance\u001b[39m(right, DataFrame):\n",
      "File \u001b[1;32mc:\\Users\\HOLGER\\.conda\\envs\\qgis_env\\lib\\site-packages\\pandas\\core\\internals\\managers.py:346\u001b[0m, in \u001b[0;36mBaseBlockManager.apply\u001b[1;34m(self, f, align_keys, ignore_failures, **kwargs)\u001b[0m\n\u001b[0;32m    344\u001b[0m \u001b[39mtry\u001b[39;00m:\n\u001b[0;32m    345\u001b[0m     \u001b[39mif\u001b[39;00m callable(f):\n\u001b[1;32m--> 346\u001b[0m         applied \u001b[39m=\u001b[39m b\u001b[39m.\u001b[39mapply(f, \u001b[39m*\u001b[39m\u001b[39m*\u001b[39mkwargs)\n\u001b[0;32m    347\u001b[0m     \u001b[39melse\u001b[39;00m:\n\u001b[0;32m    348\u001b[0m         applied \u001b[39m=\u001b[39m \u001b[39mgetattr\u001b[39m(b, f)(\u001b[39m*\u001b[39m\u001b[39m*\u001b[39mkwargs)\n",
      "File \u001b[1;32mc:\\Users\\HOLGER\\.conda\\envs\\qgis_env\\lib\\site-packages\\pandas\\core\\internals\\blocks.py:352\u001b[0m, in \u001b[0;36mBlock.apply\u001b[1;34m(self, func, **kwargs)\u001b[0m\n\u001b[0;32m    346\u001b[0m \u001b[39m@final\u001b[39m\n\u001b[0;32m    347\u001b[0m \u001b[39mdef\u001b[39;00m \u001b[39mapply\u001b[39m(\u001b[39mself\u001b[39m, func, \u001b[39m*\u001b[39m\u001b[39m*\u001b[39mkwargs) \u001b[39m-\u001b[39m\u001b[39m>\u001b[39m \u001b[39mlist\u001b[39m[Block]:\n\u001b[0;32m    348\u001b[0m     \u001b[39m\"\"\"\u001b[39;00m\n\u001b[0;32m    349\u001b[0m \u001b[39m    apply the function to my values; return a block if we are not\u001b[39;00m\n\u001b[0;32m    350\u001b[0m \u001b[39m    one\u001b[39;00m\n\u001b[0;32m    351\u001b[0m \u001b[39m    \"\"\"\u001b[39;00m\n\u001b[1;32m--> 352\u001b[0m     result \u001b[39m=\u001b[39m func(\u001b[39mself\u001b[39m\u001b[39m.\u001b[39mvalues, \u001b[39m*\u001b[39m\u001b[39m*\u001b[39mkwargs)\n\u001b[0;32m    354\u001b[0m     \u001b[39mreturn\u001b[39;00m \u001b[39mself\u001b[39m\u001b[39m.\u001b[39m_split_op_result(result)\n",
      "File \u001b[1;32mc:\\Users\\HOLGER\\.conda\\envs\\qgis_env\\lib\\site-packages\\pandas\\core\\ops\\array_ops.py:226\u001b[0m, in \u001b[0;36marithmetic_op\u001b[1;34m(left, right, op)\u001b[0m\n\u001b[0;32m    222\u001b[0m     _bool_arith_check(op, left, right)\n\u001b[0;32m    224\u001b[0m     \u001b[39m# error: Argument 1 to \"_na_arithmetic_op\" has incompatible type\u001b[39;00m\n\u001b[0;32m    225\u001b[0m     \u001b[39m# \"Union[ExtensionArray, ndarray[Any, Any]]\"; expected \"ndarray[Any, Any]\"\u001b[39;00m\n\u001b[1;32m--> 226\u001b[0m     res_values \u001b[39m=\u001b[39m _na_arithmetic_op(left, right, op)  \u001b[39m# type: ignore[arg-type]\u001b[39;00m\n\u001b[0;32m    228\u001b[0m \u001b[39mreturn\u001b[39;00m res_values\n",
      "File \u001b[1;32mc:\\Users\\HOLGER\\.conda\\envs\\qgis_env\\lib\\site-packages\\pandas\\core\\ops\\array_ops.py:165\u001b[0m, in \u001b[0;36m_na_arithmetic_op\u001b[1;34m(left, right, op, is_cmp)\u001b[0m\n\u001b[0;32m    162\u001b[0m     func \u001b[39m=\u001b[39m partial(expressions\u001b[39m.\u001b[39mevaluate, op)\n\u001b[0;32m    164\u001b[0m \u001b[39mtry\u001b[39;00m:\n\u001b[1;32m--> 165\u001b[0m     result \u001b[39m=\u001b[39m func(left, right)\n\u001b[0;32m    166\u001b[0m \u001b[39mexcept\u001b[39;00m \u001b[39mTypeError\u001b[39;00m:\n\u001b[0;32m    167\u001b[0m     \u001b[39mif\u001b[39;00m \u001b[39mnot\u001b[39;00m is_cmp \u001b[39mand\u001b[39;00m (is_object_dtype(left\u001b[39m.\u001b[39mdtype) \u001b[39mor\u001b[39;00m is_object_dtype(right)):\n\u001b[0;32m    168\u001b[0m         \u001b[39m# For object dtype, fallback to a masked operation (only operating\u001b[39;00m\n\u001b[0;32m    169\u001b[0m         \u001b[39m#  on the non-missing values)\u001b[39;00m\n\u001b[0;32m    170\u001b[0m         \u001b[39m# Don't do this for comparisons, as that will handle complex numbers\u001b[39;00m\n\u001b[0;32m    171\u001b[0m         \u001b[39m#  incorrectly, see GH#32047\u001b[39;00m\n",
      "File \u001b[1;32mc:\\Users\\HOLGER\\.conda\\envs\\qgis_env\\lib\\site-packages\\pandas\\core\\roperator.py:11\u001b[0m, in \u001b[0;36mradd\u001b[1;34m(left, right)\u001b[0m\n\u001b[0;32m     10\u001b[0m \u001b[39mdef\u001b[39;00m \u001b[39mradd\u001b[39m(left, right):\n\u001b[1;32m---> 11\u001b[0m     \u001b[39mreturn\u001b[39;00m right \u001b[39m+\u001b[39;49m left\n",
      "\u001b[1;31mUFuncTypeError\u001b[0m: ufunc 'add' did not contain a loop with signature matching types (dtype('<U30'), dtype('int64')) -> None"
     ]
    }
   ],
   "source": [
    "wq = np.vectorize(func1)(ts.timestamp)"
   ]
  },
  {
   "cell_type": "code",
   "execution_count": null,
   "id": "b442cb0d",
   "metadata": {},
   "outputs": [],
   "source": []
  },
  {
   "cell_type": "code",
   "execution_count": 34,
   "id": "a388ee82",
   "metadata": {},
   "outputs": [],
   "source": [
    "def func2(id_arg_sc):\n",
    "    scc = id_arg_sc\n",
    "    globals()[scc] = id_arg_sc + '_' + ts"
   ]
  },
  {
   "cell_type": "code",
   "execution_count": 35,
   "id": "82917c3b",
   "metadata": {},
   "outputs": [],
   "source": [
    "re = np.vectorize(func2)(sc.subcatchment)"
   ]
  },
  {
   "cell_type": "code",
   "execution_count": 36,
   "id": "9161fa15",
   "metadata": {},
   "outputs": [
    {
     "data": {
      "text/html": [
       "<div>\n",
       "<style scoped>\n",
       "    .dataframe tbody tr th:only-of-type {\n",
       "        vertical-align: middle;\n",
       "    }\n",
       "\n",
       "    .dataframe tbody tr th {\n",
       "        vertical-align: top;\n",
       "    }\n",
       "\n",
       "    .dataframe thead th {\n",
       "        text-align: right;\n",
       "    }\n",
       "</style>\n",
       "<table border=\"1\" class=\"dataframe\">\n",
       "  <thead>\n",
       "    <tr style=\"text-align: right;\">\n",
       "      <th></th>\n",
       "      <th>timestamp</th>\n",
       "    </tr>\n",
       "  </thead>\n",
       "  <tbody>\n",
       "    <tr>\n",
       "      <th>0</th>\n",
       "      <td>sc_0001_Precipitation_30pts_1mm_28356</td>\n",
       "    </tr>\n",
       "    <tr>\n",
       "      <th>1</th>\n",
       "      <td>sc_0001_Precipitation_30pts_1mm_28357</td>\n",
       "    </tr>\n",
       "    <tr>\n",
       "      <th>2</th>\n",
       "      <td>sc_0001_Precipitation_30pts_1mm_28358</td>\n",
       "    </tr>\n",
       "    <tr>\n",
       "      <th>3</th>\n",
       "      <td>sc_0001_Precipitation_30pts_1mm_28359</td>\n",
       "    </tr>\n",
       "    <tr>\n",
       "      <th>4</th>\n",
       "      <td>sc_0001_Precipitation_30pts_1mm_28360</td>\n",
       "    </tr>\n",
       "  </tbody>\n",
       "</table>\n",
       "</div>"
      ],
      "text/plain": [
       "                               timestamp\n",
       "0  sc_0001_Precipitation_30pts_1mm_28356\n",
       "1  sc_0001_Precipitation_30pts_1mm_28357\n",
       "2  sc_0001_Precipitation_30pts_1mm_28358\n",
       "3  sc_0001_Precipitation_30pts_1mm_28359\n",
       "4  sc_0001_Precipitation_30pts_1mm_28360"
      ]
     },
     "execution_count": 36,
     "metadata": {},
     "output_type": "execute_result"
    }
   ],
   "source": [
    "sc_0001.head()"
   ]
  },
  {
   "cell_type": "code",
   "execution_count": 37,
   "id": "b89aa6e5",
   "metadata": {},
   "outputs": [
    {
     "data": {
      "text/html": [
       "<div>\n",
       "<style scoped>\n",
       "    .dataframe tbody tr th:only-of-type {\n",
       "        vertical-align: middle;\n",
       "    }\n",
       "\n",
       "    .dataframe tbody tr th {\n",
       "        vertical-align: top;\n",
       "    }\n",
       "\n",
       "    .dataframe thead th {\n",
       "        text-align: right;\n",
       "    }\n",
       "</style>\n",
       "<table border=\"1\" class=\"dataframe\">\n",
       "  <thead>\n",
       "    <tr style=\"text-align: right;\">\n",
       "      <th></th>\n",
       "      <th>timestamp</th>\n",
       "    </tr>\n",
       "  </thead>\n",
       "  <tbody>\n",
       "    <tr>\n",
       "      <th>0</th>\n",
       "      <td>sc_0002_Precipitation_30pts_1mm_28356</td>\n",
       "    </tr>\n",
       "    <tr>\n",
       "      <th>1</th>\n",
       "      <td>sc_0002_Precipitation_30pts_1mm_28357</td>\n",
       "    </tr>\n",
       "    <tr>\n",
       "      <th>2</th>\n",
       "      <td>sc_0002_Precipitation_30pts_1mm_28358</td>\n",
       "    </tr>\n",
       "    <tr>\n",
       "      <th>3</th>\n",
       "      <td>sc_0002_Precipitation_30pts_1mm_28359</td>\n",
       "    </tr>\n",
       "    <tr>\n",
       "      <th>4</th>\n",
       "      <td>sc_0002_Precipitation_30pts_1mm_28360</td>\n",
       "    </tr>\n",
       "  </tbody>\n",
       "</table>\n",
       "</div>"
      ],
      "text/plain": [
       "                               timestamp\n",
       "0  sc_0002_Precipitation_30pts_1mm_28356\n",
       "1  sc_0002_Precipitation_30pts_1mm_28357\n",
       "2  sc_0002_Precipitation_30pts_1mm_28358\n",
       "3  sc_0002_Precipitation_30pts_1mm_28359\n",
       "4  sc_0002_Precipitation_30pts_1mm_28360"
      ]
     },
     "execution_count": 37,
     "metadata": {},
     "output_type": "execute_result"
    }
   ],
   "source": [
    "sc_0002.head()"
   ]
  },
  {
   "cell_type": "code",
   "execution_count": null,
   "id": "67e4be79",
   "metadata": {},
   "outputs": [],
   "source": []
  }
 ],
 "metadata": {
  "kernelspec": {
   "display_name": "qgis_env",
   "language": "python",
   "name": "qgis_env"
  },
  "language_info": {
   "codemirror_mode": {
    "name": "ipython",
    "version": 3
   },
   "file_extension": ".py",
   "mimetype": "text/x-python",
   "name": "python",
   "nbconvert_exporter": "python",
   "pygments_lexer": "ipython3",
   "version": "3.9.5"
  }
 },
 "nbformat": 4,
 "nbformat_minor": 5
}
