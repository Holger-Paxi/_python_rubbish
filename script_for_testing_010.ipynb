{
 "cells": [
  {
   "cell_type": "code",
   "execution_count": 110,
   "id": "ec7c9c60",
   "metadata": {},
   "outputs": [],
   "source": [
    "#%% MODULES\n",
    "\n",
    "import pandas as pd\n",
    "import processing\n",
    "import numpy as np\n",
    "import geopandas as gpd\n",
    "import datetime as dt\n",
    "# import csv\n",
    "from csv import DictWriter"
   ]
  },
  {
   "cell_type": "code",
   "execution_count": 111,
   "id": "11544814",
   "metadata": {},
   "outputs": [],
   "source": [
    "#%% INPUT TIMESTAMPS (ts) THROUGH CSV FILES\n",
    "# IMPORTANT: the csv file must have a title and be limited to one column\n",
    "ts_csv_filename = '_test_timestamp2.csv'\n",
    "location_ts_csv_folder = 'C:/Users/HOLGER/Downloads/SharedFiles_ProfJames/_Spline_Surface/'\n",
    "location_ts_csv_file = '{}{}'.format(location_ts_csv_folder,ts_csv_filename)\n",
    "ts_name_df = pd.read_csv(location_ts_csv_file)"
   ]
  },
  {
   "cell_type": "code",
   "execution_count": 112,
   "id": "e5ae8e6d",
   "metadata": {},
   "outputs": [],
   "source": [
    "#%% INPUT SUBCATCHMENTS (sc) THROUGH CSV FILE\n",
    "sc_csv_filename = '_test_subcatchments.csv'\n",
    "location_sc_csv_folder = 'C:/Users/HOLGER/Downloads/SharedFiles_ProfJames/_Spline_Surface/'\n",
    "location_sc_csv_file = '{}{}'.format(location_sc_csv_folder,sc_csv_filename)\n",
    "sc_name_df = pd.read_csv(location_sc_csv_file)"
   ]
  },
  {
   "cell_type": "code",
   "execution_count": 113,
   "id": "8a693087",
   "metadata": {},
   "outputs": [],
   "source": [
    "#%% INPUT AND OUTPUT FOLDER\n",
    "input_folder = 'C:/Users/HOLGER/Downloads/SharedFiles_ProfJames/_Spline_Surface/prec_csv/'\n",
    "output_folder = 'C:/Users/HOLGER/Downloads/SharedFiles_ProfJames/_Spline_Surface/prec_sc_csv/'"
   ]
  },
  {
   "cell_type": "code",
   "execution_count": 114,
   "id": "41340542",
   "metadata": {},
   "outputs": [],
   "source": [
    "#%% SET NUMBER OF ITERATIONS\n",
    "# Sometimes it is necessary to put the maximum amount of iterations\n",
    "# remember: the first one is inclusive, whereas the last one is exclusive\n",
    "# first index: input index [n = 0] = dataframe index [n + 1 = 1]\n",
    "# last index: input index [n] = dataframe index [n + 1] \n",
    "initial_index = 0\n",
    "final_index = 0\n",
    "\n",
    "ts_name_df = ts_name_df.iloc[initial_index, :] if initial_index == final_index else ts_name_df.iloc[initial_index: final_index, :]\n",
    "ts_name_df = ts_name_df if type(ts_name_df) == type(pd.DataFrame()) else ts_name_df.to_frame().T\n",
    "ts_name_df['prec_csv'] = '_' + ts_name_df.timestamp.str[3:] + '.csv'"
   ]
  },
  {
   "cell_type": "code",
   "execution_count": 115,
   "id": "28f47322",
   "metadata": {},
   "outputs": [
    {
     "data": {
      "text/html": [
       "<div>\n",
       "<style scoped>\n",
       "    .dataframe tbody tr th:only-of-type {\n",
       "        vertical-align: middle;\n",
       "    }\n",
       "\n",
       "    .dataframe tbody tr th {\n",
       "        vertical-align: top;\n",
       "    }\n",
       "\n",
       "    .dataframe thead th {\n",
       "        text-align: right;\n",
       "    }\n",
       "</style>\n",
       "<table border=\"1\" class=\"dataframe\">\n",
       "  <thead>\n",
       "    <tr style=\"text-align: right;\">\n",
       "      <th></th>\n",
       "      <th>timestamp</th>\n",
       "      <th>prec_csv</th>\n",
       "    </tr>\n",
       "  </thead>\n",
       "  <tbody>\n",
       "    <tr>\n",
       "      <th>0</th>\n",
       "      <td>Precipitation_30pts_1mm_28356</td>\n",
       "      <td>_cipitation_30pts_1mm_28356.csv</td>\n",
       "    </tr>\n",
       "  </tbody>\n",
       "</table>\n",
       "</div>"
      ],
      "text/plain": [
       "                       timestamp                         prec_csv\n",
       "0  Precipitation_30pts_1mm_28356  _cipitation_30pts_1mm_28356.csv"
      ]
     },
     "execution_count": 115,
     "metadata": {},
     "output_type": "execute_result"
    }
   ],
   "source": [
    "ts_name_df"
   ]
  },
  {
   "cell_type": "code",
   "execution_count": 116,
   "id": "10c04b43",
   "metadata": {},
   "outputs": [
    {
     "data": {
      "text/plain": [
       "'_cipitation_30pts_1mm_28356.csv'"
      ]
     },
     "execution_count": 116,
     "metadata": {},
     "output_type": "execute_result"
    }
   ],
   "source": [
    "ts_name_df.iloc[0,1]"
   ]
  },
  {
   "cell_type": "code",
   "execution_count": 117,
   "id": "da9d10fd",
   "metadata": {},
   "outputs": [],
   "source": [
    "#%% SET SUBCATCHMENT DATAFRAME\n",
    "# Sometimes it is necessary to put the maximum amount of iterations\n",
    "# remember: the first one is inclusive, whereas the last one is exclusive\n",
    "sc_name_df['prec_csv'] = input_folder + 'prec_' + sc_name_df.subcatchment.str[3:]\n",
    "sc_name_df['prec_sc_csv'] = output_folder + 'prec_sc_' + sc_name_df.subcatchment.str[3:] + '.csv'"
   ]
  },
  {
   "cell_type": "code",
   "execution_count": 118,
   "id": "0d4d2418",
   "metadata": {},
   "outputs": [
    {
     "data": {
      "text/html": [
       "<div>\n",
       "<style scoped>\n",
       "    .dataframe tbody tr th:only-of-type {\n",
       "        vertical-align: middle;\n",
       "    }\n",
       "\n",
       "    .dataframe tbody tr th {\n",
       "        vertical-align: top;\n",
       "    }\n",
       "\n",
       "    .dataframe thead th {\n",
       "        text-align: right;\n",
       "    }\n",
       "</style>\n",
       "<table border=\"1\" class=\"dataframe\">\n",
       "  <thead>\n",
       "    <tr style=\"text-align: right;\">\n",
       "      <th></th>\n",
       "      <th>subcatchment</th>\n",
       "      <th>area</th>\n",
       "      <th>prec_csv</th>\n",
       "      <th>prec_sc_csv</th>\n",
       "    </tr>\n",
       "  </thead>\n",
       "  <tbody>\n",
       "    <tr>\n",
       "      <th>0</th>\n",
       "      <td>sc_0001</td>\n",
       "      <td>2983</td>\n",
       "      <td>C:/Users/HOLGER/Downloads/SharedFiles_ProfJame...</td>\n",
       "      <td>C:/Users/HOLGER/Downloads/SharedFiles_ProfJame...</td>\n",
       "    </tr>\n",
       "    <tr>\n",
       "      <th>1</th>\n",
       "      <td>sc_0002</td>\n",
       "      <td>13626</td>\n",
       "      <td>C:/Users/HOLGER/Downloads/SharedFiles_ProfJame...</td>\n",
       "      <td>C:/Users/HOLGER/Downloads/SharedFiles_ProfJame...</td>\n",
       "    </tr>\n",
       "    <tr>\n",
       "      <th>2</th>\n",
       "      <td>sc_0003</td>\n",
       "      <td>8328</td>\n",
       "      <td>C:/Users/HOLGER/Downloads/SharedFiles_ProfJame...</td>\n",
       "      <td>C:/Users/HOLGER/Downloads/SharedFiles_ProfJame...</td>\n",
       "    </tr>\n",
       "    <tr>\n",
       "      <th>3</th>\n",
       "      <td>sc_0004</td>\n",
       "      <td>5442</td>\n",
       "      <td>C:/Users/HOLGER/Downloads/SharedFiles_ProfJame...</td>\n",
       "      <td>C:/Users/HOLGER/Downloads/SharedFiles_ProfJame...</td>\n",
       "    </tr>\n",
       "    <tr>\n",
       "      <th>4</th>\n",
       "      <td>sc_0005</td>\n",
       "      <td>1685</td>\n",
       "      <td>C:/Users/HOLGER/Downloads/SharedFiles_ProfJame...</td>\n",
       "      <td>C:/Users/HOLGER/Downloads/SharedFiles_ProfJame...</td>\n",
       "    </tr>\n",
       "  </tbody>\n",
       "</table>\n",
       "</div>"
      ],
      "text/plain": [
       "  subcatchment   area                                           prec_csv  \\\n",
       "0      sc_0001   2983  C:/Users/HOLGER/Downloads/SharedFiles_ProfJame...   \n",
       "1      sc_0002  13626  C:/Users/HOLGER/Downloads/SharedFiles_ProfJame...   \n",
       "2      sc_0003   8328  C:/Users/HOLGER/Downloads/SharedFiles_ProfJame...   \n",
       "3      sc_0004   5442  C:/Users/HOLGER/Downloads/SharedFiles_ProfJame...   \n",
       "4      sc_0005   1685  C:/Users/HOLGER/Downloads/SharedFiles_ProfJame...   \n",
       "\n",
       "                                         prec_sc_csv  \n",
       "0  C:/Users/HOLGER/Downloads/SharedFiles_ProfJame...  \n",
       "1  C:/Users/HOLGER/Downloads/SharedFiles_ProfJame...  \n",
       "2  C:/Users/HOLGER/Downloads/SharedFiles_ProfJame...  \n",
       "3  C:/Users/HOLGER/Downloads/SharedFiles_ProfJame...  \n",
       "4  C:/Users/HOLGER/Downloads/SharedFiles_ProfJame...  "
      ]
     },
     "execution_count": 118,
     "metadata": {},
     "output_type": "execute_result"
    }
   ],
   "source": [
    "sc_name_df.head()"
   ]
  },
  {
   "cell_type": "code",
   "execution_count": 119,
   "id": "3ae803c6",
   "metadata": {},
   "outputs": [
    {
     "name": "stdout",
     "output_type": "stream",
     "text": [
      "C:/Users/HOLGER/Downloads/SharedFiles_ProfJames/_Spline_Surface/prec_csv/prec_0001\n",
      "C:/Users/HOLGER/Downloads/SharedFiles_ProfJames/_Spline_Surface/prec_sc_csv/prec_sc_0001.csv\n"
     ]
    }
   ],
   "source": [
    "print(sc_name_df.iloc[0,2], sc_name_df.iloc[0,3], sep='\\n')"
   ]
  },
  {
   "cell_type": "code",
   "execution_count": null,
   "id": "2b0eb0ed",
   "metadata": {},
   "outputs": [],
   "source": []
  },
  {
   "cell_type": "code",
   "execution_count": 120,
   "id": "3589c51c",
   "metadata": {},
   "outputs": [],
   "source": [
    "#%% START TIME OF THE PROCESS\n",
    "starting_time = dt.datetime.now()"
   ]
  },
  {
   "cell_type": "code",
   "execution_count": 121,
   "id": "ba3b6ece",
   "metadata": {},
   "outputs": [],
   "source": [
    "#%% FUNCTION 2: calculating precipitation depth (pd) from attribute table sdat file\n",
    "def get_prec_sc_subca_surface_2(arg_sc_input_prec_csv_file, arg_sc_output_prec_sc_csv_file, arg_ts_input_prec_csv_file):\n",
    "    # sc_name_df.apply(lambda x: get_prec_sc_subca_surface_2(x.prec_csv, x.prec_sc_csv, arg_ts_input_prec_csv_file), axis=1)\n",
    "    \n",
    "    field_names = ['PRECIPITATION_DEPTH', 'VOLUME', 'AREA']\n",
    "    first_feature_record = pd.read_csv(arg_sc_input_prec_csv_file + arg_ts_input_prec_csv_file, names=field_names).loc[0].to_dict()\n",
    "\n",
    "    with open(arg_sc_output_prec_sc_csv_file, 'a+', newline='') as csv_file:\n",
    "        record_writer = DictWriter(csv_file, fieldnames=field_names)\n",
    "        record_writer.writerow(first_feature_record)"
   ]
  },
  {
   "cell_type": "code",
   "execution_count": 122,
   "id": "0dad3c5a",
   "metadata": {},
   "outputs": [],
   "source": [
    "#%% FUNCTION 1: Clip Raster by Mask Layer (CRBML)\n",
    "def get_prec_sc_subca_surface_1(arg_ts_input_prec_csv_file):\n",
    "    # np.vectorize(get_prec_subca_surface_1)(ts_name_df.prec_csv)\n",
    "\n",
    "    # EXECUTE FUNCTION 2\n",
    "    sc_name_df.apply(lambda x: get_prec_sc_subca_surface_2(x.prec_csv, x.prec_sc_csv, arg_ts_input_prec_csv_file), axis=1)\n",
    "    # np.vectorize(get_vol_subca_surface_2)(sc_name_df.clsc_sdat, sc_name_df.vosc_dbf, arg_ts_input_clsc_sdat_file, arg_ts_output_vosc_dbf_file)"
   ]
  },
  {
   "cell_type": "code",
   "execution_count": 123,
   "id": "d0b0241c",
   "metadata": {},
   "outputs": [
    {
     "data": {
      "text/plain": [
       "array([None], dtype=object)"
      ]
     },
     "execution_count": 123,
     "metadata": {},
     "output_type": "execute_result"
    }
   ],
   "source": [
    "# %% EXECUTE FUNCTION 1\n",
    "np.vectorize(get_prec_sc_subca_surface_1)(ts_name_df.prec_csv)"
   ]
  },
  {
   "cell_type": "code",
   "execution_count": 124,
   "id": "3232cecf",
   "metadata": {},
   "outputs": [
    {
     "name": "stdout",
     "output_type": "stream",
     "text": [
      "Done! in 0:00:07.035712\n"
     ]
    }
   ],
   "source": [
    "#%% END TIME OF THE PROCESS\n",
    "ending_time = dt.datetime.now()\n",
    "total_time = ending_time - starting_time\n",
    "print('Done! in {}'.format(total_time))"
   ]
  },
  {
   "cell_type": "code",
   "execution_count": null,
   "id": "c1646c0d",
   "metadata": {},
   "outputs": [],
   "source": []
  },
  {
   "cell_type": "code",
   "execution_count": null,
   "id": "983a9d2a",
   "metadata": {},
   "outputs": [],
   "source": []
  },
  {
   "cell_type": "code",
   "execution_count": null,
   "id": "0aa98249",
   "metadata": {},
   "outputs": [],
   "source": []
  },
  {
   "cell_type": "code",
   "execution_count": null,
   "id": "0282addf",
   "metadata": {},
   "outputs": [],
   "source": []
  },
  {
   "cell_type": "code",
   "execution_count": null,
   "id": "d741f81e",
   "metadata": {},
   "outputs": [],
   "source": []
  },
  {
   "cell_type": "code",
   "execution_count": null,
   "id": "1eb916bc",
   "metadata": {},
   "outputs": [],
   "source": []
  },
  {
   "cell_type": "code",
   "execution_count": 339,
   "id": "96e42df1",
   "metadata": {},
   "outputs": [
    {
     "data": {
      "text/plain": [
       "0    _cipitation_30pts_1mm_28356.dbf\n",
       "Name: vosc_dbf, dtype: object"
      ]
     },
     "execution_count": 339,
     "metadata": {},
     "output_type": "execute_result"
    }
   ],
   "source": [
    "ts_name_df.vosc_dbf"
   ]
  },
  {
   "cell_type": "code",
   "execution_count": 340,
   "id": "c3e014e8",
   "metadata": {},
   "outputs": [
    {
     "data": {
      "text/plain": [
       "0    _cipitation_30pts_1mm_28356.csv\n",
       "Name: prec_csv, dtype: object"
      ]
     },
     "execution_count": 340,
     "metadata": {},
     "output_type": "execute_result"
    }
   ],
   "source": [
    "ts_name_df.prec_csv"
   ]
  },
  {
   "cell_type": "code",
   "execution_count": 341,
   "id": "3fa3ae0d",
   "metadata": {},
   "outputs": [
    {
     "data": {
      "text/plain": [
       "0       C:/Users/HOLGER/Downloads/SharedFiles_ProfJame...\n",
       "1       C:/Users/HOLGER/Downloads/SharedFiles_ProfJame...\n",
       "2       C:/Users/HOLGER/Downloads/SharedFiles_ProfJame...\n",
       "3       C:/Users/HOLGER/Downloads/SharedFiles_ProfJame...\n",
       "4       C:/Users/HOLGER/Downloads/SharedFiles_ProfJame...\n",
       "                              ...                        \n",
       "1529    C:/Users/HOLGER/Downloads/SharedFiles_ProfJame...\n",
       "1530    C:/Users/HOLGER/Downloads/SharedFiles_ProfJame...\n",
       "1531    C:/Users/HOLGER/Downloads/SharedFiles_ProfJame...\n",
       "1532    C:/Users/HOLGER/Downloads/SharedFiles_ProfJame...\n",
       "1533    C:/Users/HOLGER/Downloads/SharedFiles_ProfJame...\n",
       "Name: vosc_dbf, Length: 1534, dtype: object"
      ]
     },
     "execution_count": 341,
     "metadata": {},
     "output_type": "execute_result"
    }
   ],
   "source": [
    "sc_name_df.vosc_dbf"
   ]
  },
  {
   "cell_type": "code",
   "execution_count": 342,
   "id": "93704a5e",
   "metadata": {},
   "outputs": [
    {
     "data": {
      "text/plain": [
       "0       C:/Users/HOLGER/Downloads/SharedFiles_ProfJame...\n",
       "1       C:/Users/HOLGER/Downloads/SharedFiles_ProfJame...\n",
       "2       C:/Users/HOLGER/Downloads/SharedFiles_ProfJame...\n",
       "3       C:/Users/HOLGER/Downloads/SharedFiles_ProfJame...\n",
       "4       C:/Users/HOLGER/Downloads/SharedFiles_ProfJame...\n",
       "                              ...                        \n",
       "1529    C:/Users/HOLGER/Downloads/SharedFiles_ProfJame...\n",
       "1530    C:/Users/HOLGER/Downloads/SharedFiles_ProfJame...\n",
       "1531    C:/Users/HOLGER/Downloads/SharedFiles_ProfJame...\n",
       "1532    C:/Users/HOLGER/Downloads/SharedFiles_ProfJame...\n",
       "1533    C:/Users/HOLGER/Downloads/SharedFiles_ProfJame...\n",
       "Name: prec_csv, Length: 1534, dtype: object"
      ]
     },
     "execution_count": 342,
     "metadata": {},
     "output_type": "execute_result"
    }
   ],
   "source": [
    "sc_name_df.prec_csv"
   ]
  },
  {
   "cell_type": "code",
   "execution_count": null,
   "id": "5f5bc984",
   "metadata": {},
   "outputs": [],
   "source": []
  },
  {
   "cell_type": "code",
   "execution_count": 320,
   "id": "cafd1eaa",
   "metadata": {},
   "outputs": [
    {
     "data": {
      "text/html": [
       "<div>\n",
       "<style scoped>\n",
       "    .dataframe tbody tr th:only-of-type {\n",
       "        vertical-align: middle;\n",
       "    }\n",
       "\n",
       "    .dataframe tbody tr th {\n",
       "        vertical-align: top;\n",
       "    }\n",
       "\n",
       "    .dataframe thead th {\n",
       "        text-align: right;\n",
       "    }\n",
       "</style>\n",
       "<table border=\"1\" class=\"dataframe\">\n",
       "  <thead>\n",
       "    <tr style=\"text-align: right;\">\n",
       "      <th></th>\n",
       "      <th>timestamp</th>\n",
       "      <th>clsc_sdat</th>\n",
       "      <th>vosc_dbf</th>\n",
       "    </tr>\n",
       "  </thead>\n",
       "  <tbody>\n",
       "    <tr>\n",
       "      <th>0</th>\n",
       "      <td>Precipitation_30pts_1mm_28356</td>\n",
       "      <td>_cipitation_30pts_1mm_28356.sdat</td>\n",
       "      <td>_cipitation_30pts_1mm_28356.shp</td>\n",
       "    </tr>\n",
       "  </tbody>\n",
       "</table>\n",
       "</div>"
      ],
      "text/plain": [
       "                       timestamp                         clsc_sdat  \\\n",
       "0  Precipitation_30pts_1mm_28356  _cipitation_30pts_1mm_28356.sdat   \n",
       "\n",
       "                          vosc_dbf  \n",
       "0  _cipitation_30pts_1mm_28356.shp  "
      ]
     },
     "execution_count": 320,
     "metadata": {},
     "output_type": "execute_result"
    }
   ],
   "source": [
    "ts_name_df"
   ]
  },
  {
   "cell_type": "code",
   "execution_count": 321,
   "id": "c1b062f2",
   "metadata": {},
   "outputs": [
    {
     "data": {
      "text/html": [
       "<div>\n",
       "<style scoped>\n",
       "    .dataframe tbody tr th:only-of-type {\n",
       "        vertical-align: middle;\n",
       "    }\n",
       "\n",
       "    .dataframe tbody tr th {\n",
       "        vertical-align: top;\n",
       "    }\n",
       "\n",
       "    .dataframe thead th {\n",
       "        text-align: right;\n",
       "    }\n",
       "</style>\n",
       "<table border=\"1\" class=\"dataframe\">\n",
       "  <thead>\n",
       "    <tr style=\"text-align: right;\">\n",
       "      <th></th>\n",
       "      <th>subcatchment</th>\n",
       "      <th>area</th>\n",
       "      <th>clsc_sdat</th>\n",
       "      <th>vosc_dbf</th>\n",
       "    </tr>\n",
       "  </thead>\n",
       "  <tbody>\n",
       "    <tr>\n",
       "      <th>0</th>\n",
       "      <td>sc_0001</td>\n",
       "      <td>1</td>\n",
       "      <td>C:/Users/HOLGER/Downloads/SharedFiles_ProfJame...</td>\n",
       "      <td>C:/Users/HOLGER/Downloads/SharedFiles_ProfJame...</td>\n",
       "    </tr>\n",
       "    <tr>\n",
       "      <th>1</th>\n",
       "      <td>sc_0002</td>\n",
       "      <td>2</td>\n",
       "      <td>C:/Users/HOLGER/Downloads/SharedFiles_ProfJame...</td>\n",
       "      <td>C:/Users/HOLGER/Downloads/SharedFiles_ProfJame...</td>\n",
       "    </tr>\n",
       "    <tr>\n",
       "      <th>2</th>\n",
       "      <td>sc_0003</td>\n",
       "      <td>3</td>\n",
       "      <td>C:/Users/HOLGER/Downloads/SharedFiles_ProfJame...</td>\n",
       "      <td>C:/Users/HOLGER/Downloads/SharedFiles_ProfJame...</td>\n",
       "    </tr>\n",
       "    <tr>\n",
       "      <th>3</th>\n",
       "      <td>sc_0004</td>\n",
       "      <td>4</td>\n",
       "      <td>C:/Users/HOLGER/Downloads/SharedFiles_ProfJame...</td>\n",
       "      <td>C:/Users/HOLGER/Downloads/SharedFiles_ProfJame...</td>\n",
       "    </tr>\n",
       "    <tr>\n",
       "      <th>4</th>\n",
       "      <td>sc_0005</td>\n",
       "      <td>5</td>\n",
       "      <td>C:/Users/HOLGER/Downloads/SharedFiles_ProfJame...</td>\n",
       "      <td>C:/Users/HOLGER/Downloads/SharedFiles_ProfJame...</td>\n",
       "    </tr>\n",
       "    <tr>\n",
       "      <th>...</th>\n",
       "      <td>...</td>\n",
       "      <td>...</td>\n",
       "      <td>...</td>\n",
       "      <td>...</td>\n",
       "    </tr>\n",
       "    <tr>\n",
       "      <th>1529</th>\n",
       "      <td>sc_1530</td>\n",
       "      <td>1530</td>\n",
       "      <td>C:/Users/HOLGER/Downloads/SharedFiles_ProfJame...</td>\n",
       "      <td>C:/Users/HOLGER/Downloads/SharedFiles_ProfJame...</td>\n",
       "    </tr>\n",
       "    <tr>\n",
       "      <th>1530</th>\n",
       "      <td>sc_1531</td>\n",
       "      <td>1531</td>\n",
       "      <td>C:/Users/HOLGER/Downloads/SharedFiles_ProfJame...</td>\n",
       "      <td>C:/Users/HOLGER/Downloads/SharedFiles_ProfJame...</td>\n",
       "    </tr>\n",
       "    <tr>\n",
       "      <th>1531</th>\n",
       "      <td>sc_1532</td>\n",
       "      <td>1532</td>\n",
       "      <td>C:/Users/HOLGER/Downloads/SharedFiles_ProfJame...</td>\n",
       "      <td>C:/Users/HOLGER/Downloads/SharedFiles_ProfJame...</td>\n",
       "    </tr>\n",
       "    <tr>\n",
       "      <th>1532</th>\n",
       "      <td>sc_1533</td>\n",
       "      <td>1533</td>\n",
       "      <td>C:/Users/HOLGER/Downloads/SharedFiles_ProfJame...</td>\n",
       "      <td>C:/Users/HOLGER/Downloads/SharedFiles_ProfJame...</td>\n",
       "    </tr>\n",
       "    <tr>\n",
       "      <th>1533</th>\n",
       "      <td>sc_1534</td>\n",
       "      <td>1534</td>\n",
       "      <td>C:/Users/HOLGER/Downloads/SharedFiles_ProfJame...</td>\n",
       "      <td>C:/Users/HOLGER/Downloads/SharedFiles_ProfJame...</td>\n",
       "    </tr>\n",
       "  </tbody>\n",
       "</table>\n",
       "<p>1534 rows × 4 columns</p>\n",
       "</div>"
      ],
      "text/plain": [
       "     subcatchment  area                                          clsc_sdat  \\\n",
       "0         sc_0001     1  C:/Users/HOLGER/Downloads/SharedFiles_ProfJame...   \n",
       "1         sc_0002     2  C:/Users/HOLGER/Downloads/SharedFiles_ProfJame...   \n",
       "2         sc_0003     3  C:/Users/HOLGER/Downloads/SharedFiles_ProfJame...   \n",
       "3         sc_0004     4  C:/Users/HOLGER/Downloads/SharedFiles_ProfJame...   \n",
       "4         sc_0005     5  C:/Users/HOLGER/Downloads/SharedFiles_ProfJame...   \n",
       "...           ...   ...                                                ...   \n",
       "1529      sc_1530  1530  C:/Users/HOLGER/Downloads/SharedFiles_ProfJame...   \n",
       "1530      sc_1531  1531  C:/Users/HOLGER/Downloads/SharedFiles_ProfJame...   \n",
       "1531      sc_1532  1532  C:/Users/HOLGER/Downloads/SharedFiles_ProfJame...   \n",
       "1532      sc_1533  1533  C:/Users/HOLGER/Downloads/SharedFiles_ProfJame...   \n",
       "1533      sc_1534  1534  C:/Users/HOLGER/Downloads/SharedFiles_ProfJame...   \n",
       "\n",
       "                                               vosc_dbf  \n",
       "0     C:/Users/HOLGER/Downloads/SharedFiles_ProfJame...  \n",
       "1     C:/Users/HOLGER/Downloads/SharedFiles_ProfJame...  \n",
       "2     C:/Users/HOLGER/Downloads/SharedFiles_ProfJame...  \n",
       "3     C:/Users/HOLGER/Downloads/SharedFiles_ProfJame...  \n",
       "4     C:/Users/HOLGER/Downloads/SharedFiles_ProfJame...  \n",
       "...                                                 ...  \n",
       "1529  C:/Users/HOLGER/Downloads/SharedFiles_ProfJame...  \n",
       "1530  C:/Users/HOLGER/Downloads/SharedFiles_ProfJame...  \n",
       "1531  C:/Users/HOLGER/Downloads/SharedFiles_ProfJame...  \n",
       "1532  C:/Users/HOLGER/Downloads/SharedFiles_ProfJame...  \n",
       "1533  C:/Users/HOLGER/Downloads/SharedFiles_ProfJame...  \n",
       "\n",
       "[1534 rows x 4 columns]"
      ]
     },
     "execution_count": 321,
     "metadata": {},
     "output_type": "execute_result"
    }
   ],
   "source": [
    "sc_name_df"
   ]
  },
  {
   "cell_type": "code",
   "execution_count": null,
   "id": "dab43f61",
   "metadata": {},
   "outputs": [],
   "source": []
  },
  {
   "cell_type": "code",
   "execution_count": null,
   "id": "a8bbcf06",
   "metadata": {},
   "outputs": [],
   "source": []
  },
  {
   "cell_type": "code",
   "execution_count": 258,
   "id": "ccfe5c5a",
   "metadata": {},
   "outputs": [
    {
     "data": {
      "text/html": [
       "<div>\n",
       "<style scoped>\n",
       "    .dataframe tbody tr th:only-of-type {\n",
       "        vertical-align: middle;\n",
       "    }\n",
       "\n",
       "    .dataframe tbody tr th {\n",
       "        vertical-align: top;\n",
       "    }\n",
       "\n",
       "    .dataframe thead th {\n",
       "        text-align: right;\n",
       "    }\n",
       "</style>\n",
       "<table border=\"1\" class=\"dataframe\">\n",
       "  <thead>\n",
       "    <tr style=\"text-align: right;\">\n",
       "      <th></th>\n",
       "      <th>timestamp</th>\n",
       "      <th>clspl_sdat</th>\n",
       "      <th>clsc_sdat</th>\n",
       "    </tr>\n",
       "  </thead>\n",
       "  <tbody>\n",
       "    <tr>\n",
       "      <th>0</th>\n",
       "      <td>Precipitation_30pts_1mm_28356</td>\n",
       "      <td>C:/Users/HOLGER/Downloads/SharedFiles_ProfJame...</td>\n",
       "      <td>_cipitation_30pts_1mm_28356.sdat</td>\n",
       "    </tr>\n",
       "    <tr>\n",
       "      <th>1</th>\n",
       "      <td>Precipitation_30pts_1mm_28357</td>\n",
       "      <td>C:/Users/HOLGER/Downloads/SharedFiles_ProfJame...</td>\n",
       "      <td>_cipitation_30pts_1mm_28357.sdat</td>\n",
       "    </tr>\n",
       "    <tr>\n",
       "      <th>2</th>\n",
       "      <td>Precipitation_30pts_1mm_28358</td>\n",
       "      <td>C:/Users/HOLGER/Downloads/SharedFiles_ProfJame...</td>\n",
       "      <td>_cipitation_30pts_1mm_28358.sdat</td>\n",
       "    </tr>\n",
       "    <tr>\n",
       "      <th>3</th>\n",
       "      <td>Precipitation_30pts_1mm_28359</td>\n",
       "      <td>C:/Users/HOLGER/Downloads/SharedFiles_ProfJame...</td>\n",
       "      <td>_cipitation_30pts_1mm_28359.sdat</td>\n",
       "    </tr>\n",
       "    <tr>\n",
       "      <th>4</th>\n",
       "      <td>Precipitation_30pts_1mm_28360</td>\n",
       "      <td>C:/Users/HOLGER/Downloads/SharedFiles_ProfJame...</td>\n",
       "      <td>_cipitation_30pts_1mm_28360.sdat</td>\n",
       "    </tr>\n",
       "  </tbody>\n",
       "</table>\n",
       "</div>"
      ],
      "text/plain": [
       "                       timestamp  \\\n",
       "0  Precipitation_30pts_1mm_28356   \n",
       "1  Precipitation_30pts_1mm_28357   \n",
       "2  Precipitation_30pts_1mm_28358   \n",
       "3  Precipitation_30pts_1mm_28359   \n",
       "4  Precipitation_30pts_1mm_28360   \n",
       "\n",
       "                                          clspl_sdat  \\\n",
       "0  C:/Users/HOLGER/Downloads/SharedFiles_ProfJame...   \n",
       "1  C:/Users/HOLGER/Downloads/SharedFiles_ProfJame...   \n",
       "2  C:/Users/HOLGER/Downloads/SharedFiles_ProfJame...   \n",
       "3  C:/Users/HOLGER/Downloads/SharedFiles_ProfJame...   \n",
       "4  C:/Users/HOLGER/Downloads/SharedFiles_ProfJame...   \n",
       "\n",
       "                          clsc_sdat  \n",
       "0  _cipitation_30pts_1mm_28356.sdat  \n",
       "1  _cipitation_30pts_1mm_28357.sdat  \n",
       "2  _cipitation_30pts_1mm_28358.sdat  \n",
       "3  _cipitation_30pts_1mm_28359.sdat  \n",
       "4  _cipitation_30pts_1mm_28360.sdat  "
      ]
     },
     "execution_count": 258,
     "metadata": {},
     "output_type": "execute_result"
    }
   ],
   "source": [
    "ts_name_df.head()"
   ]
  },
  {
   "cell_type": "code",
   "execution_count": 260,
   "id": "c5966548",
   "metadata": {},
   "outputs": [
    {
     "data": {
      "text/html": [
       "<div>\n",
       "<style scoped>\n",
       "    .dataframe tbody tr th:only-of-type {\n",
       "        vertical-align: middle;\n",
       "    }\n",
       "\n",
       "    .dataframe tbody tr th {\n",
       "        vertical-align: top;\n",
       "    }\n",
       "\n",
       "    .dataframe thead th {\n",
       "        text-align: right;\n",
       "    }\n",
       "</style>\n",
       "<table border=\"1\" class=\"dataframe\">\n",
       "  <thead>\n",
       "    <tr style=\"text-align: right;\">\n",
       "      <th></th>\n",
       "      <th>subcatchment</th>\n",
       "      <th>area</th>\n",
       "      <th>clsc_sdat</th>\n",
       "      <th>mask_shp</th>\n",
       "    </tr>\n",
       "  </thead>\n",
       "  <tbody>\n",
       "    <tr>\n",
       "      <th>0</th>\n",
       "      <td>sc_0001</td>\n",
       "      <td>1</td>\n",
       "      <td>C:/Users/HOLGER/Downloads/SharedFiles_ProfJame...</td>\n",
       "      <td>C:/Users/HOLGER/Downloads/SharedFiles_ProfJame...</td>\n",
       "    </tr>\n",
       "    <tr>\n",
       "      <th>1</th>\n",
       "      <td>sc_0002</td>\n",
       "      <td>2</td>\n",
       "      <td>C:/Users/HOLGER/Downloads/SharedFiles_ProfJame...</td>\n",
       "      <td>C:/Users/HOLGER/Downloads/SharedFiles_ProfJame...</td>\n",
       "    </tr>\n",
       "    <tr>\n",
       "      <th>2</th>\n",
       "      <td>sc_0003</td>\n",
       "      <td>3</td>\n",
       "      <td>C:/Users/HOLGER/Downloads/SharedFiles_ProfJame...</td>\n",
       "      <td>C:/Users/HOLGER/Downloads/SharedFiles_ProfJame...</td>\n",
       "    </tr>\n",
       "    <tr>\n",
       "      <th>3</th>\n",
       "      <td>sc_0004</td>\n",
       "      <td>4</td>\n",
       "      <td>C:/Users/HOLGER/Downloads/SharedFiles_ProfJame...</td>\n",
       "      <td>C:/Users/HOLGER/Downloads/SharedFiles_ProfJame...</td>\n",
       "    </tr>\n",
       "    <tr>\n",
       "      <th>4</th>\n",
       "      <td>sc_0005</td>\n",
       "      <td>5</td>\n",
       "      <td>C:/Users/HOLGER/Downloads/SharedFiles_ProfJame...</td>\n",
       "      <td>C:/Users/HOLGER/Downloads/SharedFiles_ProfJame...</td>\n",
       "    </tr>\n",
       "  </tbody>\n",
       "</table>\n",
       "</div>"
      ],
      "text/plain": [
       "  subcatchment  area                                          clsc_sdat  \\\n",
       "0      sc_0001     1  C:/Users/HOLGER/Downloads/SharedFiles_ProfJame...   \n",
       "1      sc_0002     2  C:/Users/HOLGER/Downloads/SharedFiles_ProfJame...   \n",
       "2      sc_0003     3  C:/Users/HOLGER/Downloads/SharedFiles_ProfJame...   \n",
       "3      sc_0004     4  C:/Users/HOLGER/Downloads/SharedFiles_ProfJame...   \n",
       "4      sc_0005     5  C:/Users/HOLGER/Downloads/SharedFiles_ProfJame...   \n",
       "\n",
       "                                            mask_shp  \n",
       "0  C:/Users/HOLGER/Downloads/SharedFiles_ProfJame...  \n",
       "1  C:/Users/HOLGER/Downloads/SharedFiles_ProfJame...  \n",
       "2  C:/Users/HOLGER/Downloads/SharedFiles_ProfJame...  \n",
       "3  C:/Users/HOLGER/Downloads/SharedFiles_ProfJame...  \n",
       "4  C:/Users/HOLGER/Downloads/SharedFiles_ProfJame...  "
      ]
     },
     "execution_count": 260,
     "metadata": {},
     "output_type": "execute_result"
    }
   ],
   "source": [
    "sc_name_df.head()"
   ]
  },
  {
   "cell_type": "code",
   "execution_count": null,
   "id": "8b5119e1",
   "metadata": {},
   "outputs": [],
   "source": []
  },
  {
   "cell_type": "code",
   "execution_count": 218,
   "id": "9d9b11ff",
   "metadata": {},
   "outputs": [
    {
     "data": {
      "text/plain": [
       "<PandasArray>\n",
       "['C:/Users/HOLGER/Downloads/SharedFiles_ProfJames/_Spline_Surface/clspl_sdat/clspl_cipitation_30pts_1mm_28356.sdat',\n",
       " 'C:/Users/HOLGER/Downloads/SharedFiles_ProfJames/_Spline_Surface/clspl_sdat/clspl_cipitation_30pts_1mm_28357.sdat',\n",
       " 'C:/Users/HOLGER/Downloads/SharedFiles_ProfJames/_Spline_Surface/clspl_sdat/clspl_cipitation_30pts_1mm_28358.sdat',\n",
       " 'C:/Users/HOLGER/Downloads/SharedFiles_ProfJames/_Spline_Surface/clspl_sdat/clspl_cipitation_30pts_1mm_28359.sdat',\n",
       " 'C:/Users/HOLGER/Downloads/SharedFiles_ProfJames/_Spline_Surface/clspl_sdat/clspl_cipitation_30pts_1mm_28360.sdat']\n",
       "Length: 5, dtype: object"
      ]
     },
     "execution_count": 218,
     "metadata": {},
     "output_type": "execute_result"
    }
   ],
   "source": [
    "ts_name_df_clspl_sdat = ts_name_df.clspl_sdat.array\n",
    "ts_name_df_clspl_sdat"
   ]
  },
  {
   "cell_type": "code",
   "execution_count": 219,
   "id": "ea757d70",
   "metadata": {},
   "outputs": [
    {
     "data": {
      "text/plain": [
       "'C:/Users/HOLGER/Downloads/SharedFiles_ProfJames/_Spline_Surface/clspl_sdat/clspl_cipitation_30pts_1mm_28356.sdat'"
      ]
     },
     "execution_count": 219,
     "metadata": {},
     "output_type": "execute_result"
    }
   ],
   "source": [
    "ts_name_df_clspl_sdat[0]"
   ]
  },
  {
   "cell_type": "code",
   "execution_count": 220,
   "id": "db7259b4",
   "metadata": {},
   "outputs": [
    {
     "data": {
      "text/plain": [
       "<PandasArray>\n",
       "['_cipitation_30pts_1mm_28356.sdat', '_cipitation_30pts_1mm_28357.sdat',\n",
       " '_cipitation_30pts_1mm_28358.sdat', '_cipitation_30pts_1mm_28359.sdat',\n",
       " '_cipitation_30pts_1mm_28360.sdat']\n",
       "Length: 5, dtype: object"
      ]
     },
     "execution_count": 220,
     "metadata": {},
     "output_type": "execute_result"
    }
   ],
   "source": [
    "ts_name_df_clsc_sdat = ts_name_df.clsc_sdat.array\n",
    "ts_name_df_clsc_sdat"
   ]
  },
  {
   "cell_type": "code",
   "execution_count": 221,
   "id": "ea80d184",
   "metadata": {},
   "outputs": [
    {
     "data": {
      "text/plain": [
       "'_cipitation_30pts_1mm_28356.sdat'"
      ]
     },
     "execution_count": 221,
     "metadata": {},
     "output_type": "execute_result"
    }
   ],
   "source": [
    "ts_name_df_clsc_sdat[0]"
   ]
  },
  {
   "cell_type": "code",
   "execution_count": 222,
   "id": "62eae87b",
   "metadata": {},
   "outputs": [
    {
     "data": {
      "text/plain": [
       "<PandasArray>\n",
       "['C:/Users/HOLGER/Downloads/SharedFiles_ProfJames/_Spline_Surface/clsc_sdat/clsc_0001',\n",
       " 'C:/Users/HOLGER/Downloads/SharedFiles_ProfJames/_Spline_Surface/clsc_sdat/clsc_0002',\n",
       " 'C:/Users/HOLGER/Downloads/SharedFiles_ProfJames/_Spline_Surface/clsc_sdat/clsc_0003',\n",
       " 'C:/Users/HOLGER/Downloads/SharedFiles_ProfJames/_Spline_Surface/clsc_sdat/clsc_0004',\n",
       " 'C:/Users/HOLGER/Downloads/SharedFiles_ProfJames/_Spline_Surface/clsc_sdat/clsc_0005',\n",
       " 'C:/Users/HOLGER/Downloads/SharedFiles_ProfJames/_Spline_Surface/clsc_sdat/clsc_0006',\n",
       " 'C:/Users/HOLGER/Downloads/SharedFiles_ProfJames/_Spline_Surface/clsc_sdat/clsc_0007',\n",
       " 'C:/Users/HOLGER/Downloads/SharedFiles_ProfJames/_Spline_Surface/clsc_sdat/clsc_0008',\n",
       " 'C:/Users/HOLGER/Downloads/SharedFiles_ProfJames/_Spline_Surface/clsc_sdat/clsc_0009',\n",
       " 'C:/Users/HOLGER/Downloads/SharedFiles_ProfJames/_Spline_Surface/clsc_sdat/clsc_0010',\n",
       " ...\n",
       " 'C:/Users/HOLGER/Downloads/SharedFiles_ProfJames/_Spline_Surface/clsc_sdat/clsc_1525',\n",
       " 'C:/Users/HOLGER/Downloads/SharedFiles_ProfJames/_Spline_Surface/clsc_sdat/clsc_1526',\n",
       " 'C:/Users/HOLGER/Downloads/SharedFiles_ProfJames/_Spline_Surface/clsc_sdat/clsc_1527',\n",
       " 'C:/Users/HOLGER/Downloads/SharedFiles_ProfJames/_Spline_Surface/clsc_sdat/clsc_1528',\n",
       " 'C:/Users/HOLGER/Downloads/SharedFiles_ProfJames/_Spline_Surface/clsc_sdat/clsc_1529',\n",
       " 'C:/Users/HOLGER/Downloads/SharedFiles_ProfJames/_Spline_Surface/clsc_sdat/clsc_1530',\n",
       " 'C:/Users/HOLGER/Downloads/SharedFiles_ProfJames/_Spline_Surface/clsc_sdat/clsc_1531',\n",
       " 'C:/Users/HOLGER/Downloads/SharedFiles_ProfJames/_Spline_Surface/clsc_sdat/clsc_1532',\n",
       " 'C:/Users/HOLGER/Downloads/SharedFiles_ProfJames/_Spline_Surface/clsc_sdat/clsc_1533',\n",
       " 'C:/Users/HOLGER/Downloads/SharedFiles_ProfJames/_Spline_Surface/clsc_sdat/clsc_1534']\n",
       "Length: 1534, dtype: object"
      ]
     },
     "execution_count": 222,
     "metadata": {},
     "output_type": "execute_result"
    }
   ],
   "source": [
    "sc_name_df_clsc_sdat = sc_name_df.clsc_sdat.array\n",
    "sc_name_df_clsc_sdat"
   ]
  },
  {
   "cell_type": "code",
   "execution_count": 223,
   "id": "f08c88c8",
   "metadata": {},
   "outputs": [
    {
     "data": {
      "text/plain": [
       "'C:/Users/HOLGER/Downloads/SharedFiles_ProfJames/_Spline_Surface/clsc_sdat/clsc_0001'"
      ]
     },
     "execution_count": 223,
     "metadata": {},
     "output_type": "execute_result"
    }
   ],
   "source": [
    "sc_name_df_clsc_sdat[0]"
   ]
  },
  {
   "cell_type": "code",
   "execution_count": 224,
   "id": "cee71807",
   "metadata": {},
   "outputs": [
    {
     "data": {
      "text/plain": [
       "<PandasArray>\n",
       "['C:/Users/HOLGER/Downloads/SharedFiles_ProfJames/_Spline_Surface/mask_sc_polygon/sc_0001.shp',\n",
       " 'C:/Users/HOLGER/Downloads/SharedFiles_ProfJames/_Spline_Surface/mask_sc_polygon/sc_0002.shp',\n",
       " 'C:/Users/HOLGER/Downloads/SharedFiles_ProfJames/_Spline_Surface/mask_sc_polygon/sc_0003.shp',\n",
       " 'C:/Users/HOLGER/Downloads/SharedFiles_ProfJames/_Spline_Surface/mask_sc_polygon/sc_0004.shp',\n",
       " 'C:/Users/HOLGER/Downloads/SharedFiles_ProfJames/_Spline_Surface/mask_sc_polygon/sc_0005.shp',\n",
       " 'C:/Users/HOLGER/Downloads/SharedFiles_ProfJames/_Spline_Surface/mask_sc_polygon/sc_0006.shp',\n",
       " 'C:/Users/HOLGER/Downloads/SharedFiles_ProfJames/_Spline_Surface/mask_sc_polygon/sc_0007.shp',\n",
       " 'C:/Users/HOLGER/Downloads/SharedFiles_ProfJames/_Spline_Surface/mask_sc_polygon/sc_0008.shp',\n",
       " 'C:/Users/HOLGER/Downloads/SharedFiles_ProfJames/_Spline_Surface/mask_sc_polygon/sc_0009.shp',\n",
       " 'C:/Users/HOLGER/Downloads/SharedFiles_ProfJames/_Spline_Surface/mask_sc_polygon/sc_0010.shp',\n",
       " ...\n",
       " 'C:/Users/HOLGER/Downloads/SharedFiles_ProfJames/_Spline_Surface/mask_sc_polygon/sc_1525.shp',\n",
       " 'C:/Users/HOLGER/Downloads/SharedFiles_ProfJames/_Spline_Surface/mask_sc_polygon/sc_1526.shp',\n",
       " 'C:/Users/HOLGER/Downloads/SharedFiles_ProfJames/_Spline_Surface/mask_sc_polygon/sc_1527.shp',\n",
       " 'C:/Users/HOLGER/Downloads/SharedFiles_ProfJames/_Spline_Surface/mask_sc_polygon/sc_1528.shp',\n",
       " 'C:/Users/HOLGER/Downloads/SharedFiles_ProfJames/_Spline_Surface/mask_sc_polygon/sc_1529.shp',\n",
       " 'C:/Users/HOLGER/Downloads/SharedFiles_ProfJames/_Spline_Surface/mask_sc_polygon/sc_1530.shp',\n",
       " 'C:/Users/HOLGER/Downloads/SharedFiles_ProfJames/_Spline_Surface/mask_sc_polygon/sc_1531.shp',\n",
       " 'C:/Users/HOLGER/Downloads/SharedFiles_ProfJames/_Spline_Surface/mask_sc_polygon/sc_1532.shp',\n",
       " 'C:/Users/HOLGER/Downloads/SharedFiles_ProfJames/_Spline_Surface/mask_sc_polygon/sc_1533.shp',\n",
       " 'C:/Users/HOLGER/Downloads/SharedFiles_ProfJames/_Spline_Surface/mask_sc_polygon/sc_1534.shp']\n",
       "Length: 1534, dtype: object"
      ]
     },
     "execution_count": 224,
     "metadata": {},
     "output_type": "execute_result"
    }
   ],
   "source": [
    "sc_name_df_mask_shp = sc_name_df.mask_shp.array\n",
    "sc_name_df_mask_shp"
   ]
  },
  {
   "cell_type": "code",
   "execution_count": 225,
   "id": "e74784bd",
   "metadata": {},
   "outputs": [
    {
     "data": {
      "text/plain": [
       "'C:/Users/HOLGER/Downloads/SharedFiles_ProfJames/_Spline_Surface/mask_sc_polygon/sc_0001.shp'"
      ]
     },
     "execution_count": 225,
     "metadata": {},
     "output_type": "execute_result"
    }
   ],
   "source": [
    "sc_name_df_mask_shp[0]"
   ]
  },
  {
   "cell_type": "code",
   "execution_count": null,
   "id": "7d505b28",
   "metadata": {},
   "outputs": [],
   "source": []
  },
  {
   "cell_type": "code",
   "execution_count": 226,
   "id": "f62357e7",
   "metadata": {},
   "outputs": [
    {
     "data": {
      "text/plain": [
       "<PandasArray>\n",
       "['C:/Users/HOLGER/Downloads/SharedFiles_ProfJames/_Spline_Surface/clsc_sdat/clsc_0001',\n",
       " 'C:/Users/HOLGER/Downloads/SharedFiles_ProfJames/_Spline_Surface/clsc_sdat/clsc_0002',\n",
       " 'C:/Users/HOLGER/Downloads/SharedFiles_ProfJames/_Spline_Surface/clsc_sdat/clsc_0003',\n",
       " 'C:/Users/HOLGER/Downloads/SharedFiles_ProfJames/_Spline_Surface/clsc_sdat/clsc_0004',\n",
       " 'C:/Users/HOLGER/Downloads/SharedFiles_ProfJames/_Spline_Surface/clsc_sdat/clsc_0005',\n",
       " 'C:/Users/HOLGER/Downloads/SharedFiles_ProfJames/_Spline_Surface/clsc_sdat/clsc_0006',\n",
       " 'C:/Users/HOLGER/Downloads/SharedFiles_ProfJames/_Spline_Surface/clsc_sdat/clsc_0007',\n",
       " 'C:/Users/HOLGER/Downloads/SharedFiles_ProfJames/_Spline_Surface/clsc_sdat/clsc_0008',\n",
       " 'C:/Users/HOLGER/Downloads/SharedFiles_ProfJames/_Spline_Surface/clsc_sdat/clsc_0009',\n",
       " 'C:/Users/HOLGER/Downloads/SharedFiles_ProfJames/_Spline_Surface/clsc_sdat/clsc_0010',\n",
       " ...\n",
       " 'C:/Users/HOLGER/Downloads/SharedFiles_ProfJames/_Spline_Surface/clsc_sdat/clsc_1525',\n",
       " 'C:/Users/HOLGER/Downloads/SharedFiles_ProfJames/_Spline_Surface/clsc_sdat/clsc_1526',\n",
       " 'C:/Users/HOLGER/Downloads/SharedFiles_ProfJames/_Spline_Surface/clsc_sdat/clsc_1527',\n",
       " 'C:/Users/HOLGER/Downloads/SharedFiles_ProfJames/_Spline_Surface/clsc_sdat/clsc_1528',\n",
       " 'C:/Users/HOLGER/Downloads/SharedFiles_ProfJames/_Spline_Surface/clsc_sdat/clsc_1529',\n",
       " 'C:/Users/HOLGER/Downloads/SharedFiles_ProfJames/_Spline_Surface/clsc_sdat/clsc_1530',\n",
       " 'C:/Users/HOLGER/Downloads/SharedFiles_ProfJames/_Spline_Surface/clsc_sdat/clsc_1531',\n",
       " 'C:/Users/HOLGER/Downloads/SharedFiles_ProfJames/_Spline_Surface/clsc_sdat/clsc_1532',\n",
       " 'C:/Users/HOLGER/Downloads/SharedFiles_ProfJames/_Spline_Surface/clsc_sdat/clsc_1533',\n",
       " 'C:/Users/HOLGER/Downloads/SharedFiles_ProfJames/_Spline_Surface/clsc_sdat/clsc_1534']\n",
       "Length: 1534, dtype: object"
      ]
     },
     "execution_count": 226,
     "metadata": {},
     "output_type": "execute_result"
    }
   ],
   "source": [
    "sc_name_df_clsc_sdat"
   ]
  },
  {
   "cell_type": "code",
   "execution_count": 227,
   "id": "0b5921a8",
   "metadata": {},
   "outputs": [
    {
     "data": {
      "text/plain": [
       "<PandasArray>\n",
       "['C:/Users/HOLGER/Downloads/SharedFiles_ProfJames/_Spline_Surface/clsc_sdat/clsc_0001',\n",
       " 'C:/Users/HOLGER/Downloads/SharedFiles_ProfJames/_Spline_Surface/clsc_sdat/clsc_0002',\n",
       " 'C:/Users/HOLGER/Downloads/SharedFiles_ProfJames/_Spline_Surface/clsc_sdat/clsc_0003',\n",
       " 'C:/Users/HOLGER/Downloads/SharedFiles_ProfJames/_Spline_Surface/clsc_sdat/clsc_0004',\n",
       " 'C:/Users/HOLGER/Downloads/SharedFiles_ProfJames/_Spline_Surface/clsc_sdat/clsc_0005',\n",
       " 'C:/Users/HOLGER/Downloads/SharedFiles_ProfJames/_Spline_Surface/clsc_sdat/clsc_0006',\n",
       " 'C:/Users/HOLGER/Downloads/SharedFiles_ProfJames/_Spline_Surface/clsc_sdat/clsc_0007',\n",
       " 'C:/Users/HOLGER/Downloads/SharedFiles_ProfJames/_Spline_Surface/clsc_sdat/clsc_0008',\n",
       " 'C:/Users/HOLGER/Downloads/SharedFiles_ProfJames/_Spline_Surface/clsc_sdat/clsc_0009',\n",
       " 'C:/Users/HOLGER/Downloads/SharedFiles_ProfJames/_Spline_Surface/clsc_sdat/clsc_0010',\n",
       " ...\n",
       " 'C:/Users/HOLGER/Downloads/SharedFiles_ProfJames/_Spline_Surface/clsc_sdat/clsc_1525',\n",
       " 'C:/Users/HOLGER/Downloads/SharedFiles_ProfJames/_Spline_Surface/clsc_sdat/clsc_1526',\n",
       " 'C:/Users/HOLGER/Downloads/SharedFiles_ProfJames/_Spline_Surface/clsc_sdat/clsc_1527',\n",
       " 'C:/Users/HOLGER/Downloads/SharedFiles_ProfJames/_Spline_Surface/clsc_sdat/clsc_1528',\n",
       " 'C:/Users/HOLGER/Downloads/SharedFiles_ProfJames/_Spline_Surface/clsc_sdat/clsc_1529',\n",
       " 'C:/Users/HOLGER/Downloads/SharedFiles_ProfJames/_Spline_Surface/clsc_sdat/clsc_1530',\n",
       " 'C:/Users/HOLGER/Downloads/SharedFiles_ProfJames/_Spline_Surface/clsc_sdat/clsc_1531',\n",
       " 'C:/Users/HOLGER/Downloads/SharedFiles_ProfJames/_Spline_Surface/clsc_sdat/clsc_1532',\n",
       " 'C:/Users/HOLGER/Downloads/SharedFiles_ProfJames/_Spline_Surface/clsc_sdat/clsc_1533',\n",
       " 'C:/Users/HOLGER/Downloads/SharedFiles_ProfJames/_Spline_Surface/clsc_sdat/clsc_1534']\n",
       "Length: 1534, dtype: object"
      ]
     },
     "execution_count": 227,
     "metadata": {},
     "output_type": "execute_result"
    }
   ],
   "source": [
    "# ts_name_df_clsc_sdat[:, np.newaxis]# + \n",
    "np.transpose(sc_name_df_clsc_sdat)"
   ]
  },
  {
   "cell_type": "code",
   "execution_count": null,
   "id": "0126ebf8",
   "metadata": {},
   "outputs": [],
   "source": []
  },
  {
   "cell_type": "code",
   "execution_count": null,
   "id": "bf5bba6b",
   "metadata": {},
   "outputs": [],
   "source": []
  },
  {
   "cell_type": "code",
   "execution_count": 228,
   "id": "18b9019e",
   "metadata": {},
   "outputs": [
    {
     "data": {
      "text/plain": [
       "<PandasArray>\n",
       "['_cipitation_30pts_1mm_28356.sdat', '_cipitation_30pts_1mm_28357.sdat',\n",
       " '_cipitation_30pts_1mm_28358.sdat', '_cipitation_30pts_1mm_28359.sdat',\n",
       " '_cipitation_30pts_1mm_28360.sdat']\n",
       "Length: 5, dtype: object"
      ]
     },
     "execution_count": 228,
     "metadata": {},
     "output_type": "execute_result"
    }
   ],
   "source": [
    "ts_name_df_clsc_sdat "
   ]
  },
  {
   "cell_type": "code",
   "execution_count": 229,
   "id": "25c895d5",
   "metadata": {},
   "outputs": [
    {
     "data": {
      "text/plain": [
       "pandas.core.arrays.numpy_.PandasArray"
      ]
     },
     "execution_count": 229,
     "metadata": {},
     "output_type": "execute_result"
    }
   ],
   "source": [
    "type(ts_name_df_clsc_sdat)"
   ]
  },
  {
   "cell_type": "code",
   "execution_count": 231,
   "id": "4c5c5270",
   "metadata": {},
   "outputs": [
    {
     "data": {
      "text/plain": [
       "<PandasArray>\n",
       "[\n",
       "['C:/Users/HOLGER/Downloads/SharedFiles_ProfJames/_Spline_Surface/clsc_sdat/clsc_0001_cipitation_30pts_1mm_28356.sdat',\n",
       " 'C:/Users/HOLGER/Downloads/SharedFiles_ProfJames/_Spline_Surface/clsc_sdat/clsc_0002_cipitation_30pts_1mm_28356.sdat',\n",
       " 'C:/Users/HOLGER/Downloads/SharedFiles_ProfJames/_Spline_Surface/clsc_sdat/clsc_0003_cipitation_30pts_1mm_28356.sdat',\n",
       " 'C:/Users/HOLGER/Downloads/SharedFiles_ProfJames/_Spline_Surface/clsc_sdat/clsc_0004_cipitation_30pts_1mm_28356.sdat',\n",
       " 'C:/Users/HOLGER/Downloads/SharedFiles_ProfJames/_Spline_Surface/clsc_sdat/clsc_0005_cipitation_30pts_1mm_28356.sdat',\n",
       " 'C:/Users/HOLGER/Downloads/SharedFiles_ProfJames/_Spline_Surface/clsc_sdat/clsc_0006_cipitation_30pts_1mm_28356.sdat',\n",
       " 'C:/Users/HOLGER/Downloads/SharedFiles_ProfJames/_Spline_Surface/clsc_sdat/clsc_0007_cipitation_30pts_1mm_28356.sdat',\n",
       " 'C:/Users/HOLGER/Downloads/SharedFiles_ProfJames/_Spline_Surface/clsc_sdat/clsc_0008_cipitation_30pts_1mm_28356.sdat',\n",
       " 'C:/Users/HOLGER/Downloads/SharedFiles_ProfJames/_Spline_Surface/clsc_sdat/clsc_0009_cipitation_30pts_1mm_28356.sdat',\n",
       " 'C:/Users/HOLGER/Downloads/SharedFiles_ProfJames/_Spline_Surface/clsc_sdat/clsc_0010_cipitation_30pts_1mm_28356.sdat',\n",
       " ...\n",
       " 'C:/Users/HOLGER/Downloads/SharedFiles_ProfJames/_Spline_Surface/clsc_sdat/clsc_1525_cipitation_30pts_1mm_28356.sdat',\n",
       " 'C:/Users/HOLGER/Downloads/SharedFiles_ProfJames/_Spline_Surface/clsc_sdat/clsc_1526_cipitation_30pts_1mm_28356.sdat',\n",
       " 'C:/Users/HOLGER/Downloads/SharedFiles_ProfJames/_Spline_Surface/clsc_sdat/clsc_1527_cipitation_30pts_1mm_28356.sdat',\n",
       " 'C:/Users/HOLGER/Downloads/SharedFiles_ProfJames/_Spline_Surface/clsc_sdat/clsc_1528_cipitation_30pts_1mm_28356.sdat',\n",
       " 'C:/Users/HOLGER/Downloads/SharedFiles_ProfJames/_Spline_Surface/clsc_sdat/clsc_1529_cipitation_30pts_1mm_28356.sdat',\n",
       " 'C:/Users/HOLGER/Downloads/SharedFiles_ProfJames/_Spline_Surface/clsc_sdat/clsc_1530_cipitation_30pts_1mm_28356.sdat',\n",
       " 'C:/Users/HOLGER/Downloads/SharedFiles_ProfJames/_Spline_Surface/clsc_sdat/clsc_1531_cipitation_30pts_1mm_28356.sdat',\n",
       " 'C:/Users/HOLGER/Downloads/SharedFiles_ProfJames/_Spline_Surface/clsc_sdat/clsc_1532_cipitation_30pts_1mm_28356.sdat',\n",
       " 'C:/Users/HOLGER/Downloads/SharedFiles_ProfJames/_Spline_Surface/clsc_sdat/clsc_1533_cipitation_30pts_1mm_28356.sdat',\n",
       " 'C:/Users/HOLGER/Downloads/SharedFiles_ProfJames/_Spline_Surface/clsc_sdat/clsc_1534_cipitation_30pts_1mm_28356.sdat'],\n",
       "['C:/Users/HOLGER/Downloads/SharedFiles_ProfJames/_Spline_Surface/clsc_sdat/clsc_0001_cipitation_30pts_1mm_28357.sdat',\n",
       " 'C:/Users/HOLGER/Downloads/SharedFiles_ProfJames/_Spline_Surface/clsc_sdat/clsc_0002_cipitation_30pts_1mm_28357.sdat',\n",
       " 'C:/Users/HOLGER/Downloads/SharedFiles_ProfJames/_Spline_Surface/clsc_sdat/clsc_0003_cipitation_30pts_1mm_28357.sdat',\n",
       " 'C:/Users/HOLGER/Downloads/SharedFiles_ProfJames/_Spline_Surface/clsc_sdat/clsc_0004_cipitation_30pts_1mm_28357.sdat',\n",
       " 'C:/Users/HOLGER/Downloads/SharedFiles_ProfJames/_Spline_Surface/clsc_sdat/clsc_0005_cipitation_30pts_1mm_28357.sdat',\n",
       " 'C:/Users/HOLGER/Downloads/SharedFiles_ProfJames/_Spline_Surface/clsc_sdat/clsc_0006_cipitation_30pts_1mm_28357.sdat',\n",
       " 'C:/Users/HOLGER/Downloads/SharedFiles_ProfJames/_Spline_Surface/clsc_sdat/clsc_0007_cipitation_30pts_1mm_28357.sdat',\n",
       " 'C:/Users/HOLGER/Downloads/SharedFiles_ProfJames/_Spline_Surface/clsc_sdat/clsc_0008_cipitation_30pts_1mm_28357.sdat',\n",
       " 'C:/Users/HOLGER/Downloads/SharedFiles_ProfJames/_Spline_Surface/clsc_sdat/clsc_0009_cipitation_30pts_1mm_28357.sdat',\n",
       " 'C:/Users/HOLGER/Downloads/SharedFiles_ProfJames/_Spline_Surface/clsc_sdat/clsc_0010_cipitation_30pts_1mm_28357.sdat',\n",
       " ...\n",
       " 'C:/Users/HOLGER/Downloads/SharedFiles_ProfJames/_Spline_Surface/clsc_sdat/clsc_1525_cipitation_30pts_1mm_28357.sdat',\n",
       " 'C:/Users/HOLGER/Downloads/SharedFiles_ProfJames/_Spline_Surface/clsc_sdat/clsc_1526_cipitation_30pts_1mm_28357.sdat',\n",
       " 'C:/Users/HOLGER/Downloads/SharedFiles_ProfJames/_Spline_Surface/clsc_sdat/clsc_1527_cipitation_30pts_1mm_28357.sdat',\n",
       " 'C:/Users/HOLGER/Downloads/SharedFiles_ProfJames/_Spline_Surface/clsc_sdat/clsc_1528_cipitation_30pts_1mm_28357.sdat',\n",
       " 'C:/Users/HOLGER/Downloads/SharedFiles_ProfJames/_Spline_Surface/clsc_sdat/clsc_1529_cipitation_30pts_1mm_28357.sdat',\n",
       " 'C:/Users/HOLGER/Downloads/SharedFiles_ProfJames/_Spline_Surface/clsc_sdat/clsc_1530_cipitation_30pts_1mm_28357.sdat',\n",
       " 'C:/Users/HOLGER/Downloads/SharedFiles_ProfJames/_Spline_Surface/clsc_sdat/clsc_1531_cipitation_30pts_1mm_28357.sdat',\n",
       " 'C:/Users/HOLGER/Downloads/SharedFiles_ProfJames/_Spline_Surface/clsc_sdat/clsc_1532_cipitation_30pts_1mm_28357.sdat',\n",
       " 'C:/Users/HOLGER/Downloads/SharedFiles_ProfJames/_Spline_Surface/clsc_sdat/clsc_1533_cipitation_30pts_1mm_28357.sdat',\n",
       " 'C:/Users/HOLGER/Downloads/SharedFiles_ProfJames/_Spline_Surface/clsc_sdat/clsc_1534_cipitation_30pts_1mm_28357.sdat'],\n",
       "['C:/Users/HOLGER/Downloads/SharedFiles_ProfJames/_Spline_Surface/clsc_sdat/clsc_0001_cipitation_30pts_1mm_28358.sdat',\n",
       " 'C:/Users/HOLGER/Downloads/SharedFiles_ProfJames/_Spline_Surface/clsc_sdat/clsc_0002_cipitation_30pts_1mm_28358.sdat',\n",
       " 'C:/Users/HOLGER/Downloads/SharedFiles_ProfJames/_Spline_Surface/clsc_sdat/clsc_0003_cipitation_30pts_1mm_28358.sdat',\n",
       " 'C:/Users/HOLGER/Downloads/SharedFiles_ProfJames/_Spline_Surface/clsc_sdat/clsc_0004_cipitation_30pts_1mm_28358.sdat',\n",
       " 'C:/Users/HOLGER/Downloads/SharedFiles_ProfJames/_Spline_Surface/clsc_sdat/clsc_0005_cipitation_30pts_1mm_28358.sdat',\n",
       " 'C:/Users/HOLGER/Downloads/SharedFiles_ProfJames/_Spline_Surface/clsc_sdat/clsc_0006_cipitation_30pts_1mm_28358.sdat',\n",
       " 'C:/Users/HOLGER/Downloads/SharedFiles_ProfJames/_Spline_Surface/clsc_sdat/clsc_0007_cipitation_30pts_1mm_28358.sdat',\n",
       " 'C:/Users/HOLGER/Downloads/SharedFiles_ProfJames/_Spline_Surface/clsc_sdat/clsc_0008_cipitation_30pts_1mm_28358.sdat',\n",
       " 'C:/Users/HOLGER/Downloads/SharedFiles_ProfJames/_Spline_Surface/clsc_sdat/clsc_0009_cipitation_30pts_1mm_28358.sdat',\n",
       " 'C:/Users/HOLGER/Downloads/SharedFiles_ProfJames/_Spline_Surface/clsc_sdat/clsc_0010_cipitation_30pts_1mm_28358.sdat',\n",
       " ...\n",
       " 'C:/Users/HOLGER/Downloads/SharedFiles_ProfJames/_Spline_Surface/clsc_sdat/clsc_1525_cipitation_30pts_1mm_28358.sdat',\n",
       " 'C:/Users/HOLGER/Downloads/SharedFiles_ProfJames/_Spline_Surface/clsc_sdat/clsc_1526_cipitation_30pts_1mm_28358.sdat',\n",
       " 'C:/Users/HOLGER/Downloads/SharedFiles_ProfJames/_Spline_Surface/clsc_sdat/clsc_1527_cipitation_30pts_1mm_28358.sdat',\n",
       " 'C:/Users/HOLGER/Downloads/SharedFiles_ProfJames/_Spline_Surface/clsc_sdat/clsc_1528_cipitation_30pts_1mm_28358.sdat',\n",
       " 'C:/Users/HOLGER/Downloads/SharedFiles_ProfJames/_Spline_Surface/clsc_sdat/clsc_1529_cipitation_30pts_1mm_28358.sdat',\n",
       " 'C:/Users/HOLGER/Downloads/SharedFiles_ProfJames/_Spline_Surface/clsc_sdat/clsc_1530_cipitation_30pts_1mm_28358.sdat',\n",
       " 'C:/Users/HOLGER/Downloads/SharedFiles_ProfJames/_Spline_Surface/clsc_sdat/clsc_1531_cipitation_30pts_1mm_28358.sdat',\n",
       " 'C:/Users/HOLGER/Downloads/SharedFiles_ProfJames/_Spline_Surface/clsc_sdat/clsc_1532_cipitation_30pts_1mm_28358.sdat',\n",
       " 'C:/Users/HOLGER/Downloads/SharedFiles_ProfJames/_Spline_Surface/clsc_sdat/clsc_1533_cipitation_30pts_1mm_28358.sdat',\n",
       " 'C:/Users/HOLGER/Downloads/SharedFiles_ProfJames/_Spline_Surface/clsc_sdat/clsc_1534_cipitation_30pts_1mm_28358.sdat'],\n",
       "['C:/Users/HOLGER/Downloads/SharedFiles_ProfJames/_Spline_Surface/clsc_sdat/clsc_0001_cipitation_30pts_1mm_28359.sdat',\n",
       " 'C:/Users/HOLGER/Downloads/SharedFiles_ProfJames/_Spline_Surface/clsc_sdat/clsc_0002_cipitation_30pts_1mm_28359.sdat',\n",
       " 'C:/Users/HOLGER/Downloads/SharedFiles_ProfJames/_Spline_Surface/clsc_sdat/clsc_0003_cipitation_30pts_1mm_28359.sdat',\n",
       " 'C:/Users/HOLGER/Downloads/SharedFiles_ProfJames/_Spline_Surface/clsc_sdat/clsc_0004_cipitation_30pts_1mm_28359.sdat',\n",
       " 'C:/Users/HOLGER/Downloads/SharedFiles_ProfJames/_Spline_Surface/clsc_sdat/clsc_0005_cipitation_30pts_1mm_28359.sdat',\n",
       " 'C:/Users/HOLGER/Downloads/SharedFiles_ProfJames/_Spline_Surface/clsc_sdat/clsc_0006_cipitation_30pts_1mm_28359.sdat',\n",
       " 'C:/Users/HOLGER/Downloads/SharedFiles_ProfJames/_Spline_Surface/clsc_sdat/clsc_0007_cipitation_30pts_1mm_28359.sdat',\n",
       " 'C:/Users/HOLGER/Downloads/SharedFiles_ProfJames/_Spline_Surface/clsc_sdat/clsc_0008_cipitation_30pts_1mm_28359.sdat',\n",
       " 'C:/Users/HOLGER/Downloads/SharedFiles_ProfJames/_Spline_Surface/clsc_sdat/clsc_0009_cipitation_30pts_1mm_28359.sdat',\n",
       " 'C:/Users/HOLGER/Downloads/SharedFiles_ProfJames/_Spline_Surface/clsc_sdat/clsc_0010_cipitation_30pts_1mm_28359.sdat',\n",
       " ...\n",
       " 'C:/Users/HOLGER/Downloads/SharedFiles_ProfJames/_Spline_Surface/clsc_sdat/clsc_1525_cipitation_30pts_1mm_28359.sdat',\n",
       " 'C:/Users/HOLGER/Downloads/SharedFiles_ProfJames/_Spline_Surface/clsc_sdat/clsc_1526_cipitation_30pts_1mm_28359.sdat',\n",
       " 'C:/Users/HOLGER/Downloads/SharedFiles_ProfJames/_Spline_Surface/clsc_sdat/clsc_1527_cipitation_30pts_1mm_28359.sdat',\n",
       " 'C:/Users/HOLGER/Downloads/SharedFiles_ProfJames/_Spline_Surface/clsc_sdat/clsc_1528_cipitation_30pts_1mm_28359.sdat',\n",
       " 'C:/Users/HOLGER/Downloads/SharedFiles_ProfJames/_Spline_Surface/clsc_sdat/clsc_1529_cipitation_30pts_1mm_28359.sdat',\n",
       " 'C:/Users/HOLGER/Downloads/SharedFiles_ProfJames/_Spline_Surface/clsc_sdat/clsc_1530_cipitation_30pts_1mm_28359.sdat',\n",
       " 'C:/Users/HOLGER/Downloads/SharedFiles_ProfJames/_Spline_Surface/clsc_sdat/clsc_1531_cipitation_30pts_1mm_28359.sdat',\n",
       " 'C:/Users/HOLGER/Downloads/SharedFiles_ProfJames/_Spline_Surface/clsc_sdat/clsc_1532_cipitation_30pts_1mm_28359.sdat',\n",
       " 'C:/Users/HOLGER/Downloads/SharedFiles_ProfJames/_Spline_Surface/clsc_sdat/clsc_1533_cipitation_30pts_1mm_28359.sdat',\n",
       " 'C:/Users/HOLGER/Downloads/SharedFiles_ProfJames/_Spline_Surface/clsc_sdat/clsc_1534_cipitation_30pts_1mm_28359.sdat'],\n",
       "['C:/Users/HOLGER/Downloads/SharedFiles_ProfJames/_Spline_Surface/clsc_sdat/clsc_0001_cipitation_30pts_1mm_28360.sdat',\n",
       " 'C:/Users/HOLGER/Downloads/SharedFiles_ProfJames/_Spline_Surface/clsc_sdat/clsc_0002_cipitation_30pts_1mm_28360.sdat',\n",
       " 'C:/Users/HOLGER/Downloads/SharedFiles_ProfJames/_Spline_Surface/clsc_sdat/clsc_0003_cipitation_30pts_1mm_28360.sdat',\n",
       " 'C:/Users/HOLGER/Downloads/SharedFiles_ProfJames/_Spline_Surface/clsc_sdat/clsc_0004_cipitation_30pts_1mm_28360.sdat',\n",
       " 'C:/Users/HOLGER/Downloads/SharedFiles_ProfJames/_Spline_Surface/clsc_sdat/clsc_0005_cipitation_30pts_1mm_28360.sdat',\n",
       " 'C:/Users/HOLGER/Downloads/SharedFiles_ProfJames/_Spline_Surface/clsc_sdat/clsc_0006_cipitation_30pts_1mm_28360.sdat',\n",
       " 'C:/Users/HOLGER/Downloads/SharedFiles_ProfJames/_Spline_Surface/clsc_sdat/clsc_0007_cipitation_30pts_1mm_28360.sdat',\n",
       " 'C:/Users/HOLGER/Downloads/SharedFiles_ProfJames/_Spline_Surface/clsc_sdat/clsc_0008_cipitation_30pts_1mm_28360.sdat',\n",
       " 'C:/Users/HOLGER/Downloads/SharedFiles_ProfJames/_Spline_Surface/clsc_sdat/clsc_0009_cipitation_30pts_1mm_28360.sdat',\n",
       " 'C:/Users/HOLGER/Downloads/SharedFiles_ProfJames/_Spline_Surface/clsc_sdat/clsc_0010_cipitation_30pts_1mm_28360.sdat',\n",
       " ...\n",
       " 'C:/Users/HOLGER/Downloads/SharedFiles_ProfJames/_Spline_Surface/clsc_sdat/clsc_1525_cipitation_30pts_1mm_28360.sdat',\n",
       " 'C:/Users/HOLGER/Downloads/SharedFiles_ProfJames/_Spline_Surface/clsc_sdat/clsc_1526_cipitation_30pts_1mm_28360.sdat',\n",
       " 'C:/Users/HOLGER/Downloads/SharedFiles_ProfJames/_Spline_Surface/clsc_sdat/clsc_1527_cipitation_30pts_1mm_28360.sdat',\n",
       " 'C:/Users/HOLGER/Downloads/SharedFiles_ProfJames/_Spline_Surface/clsc_sdat/clsc_1528_cipitation_30pts_1mm_28360.sdat',\n",
       " 'C:/Users/HOLGER/Downloads/SharedFiles_ProfJames/_Spline_Surface/clsc_sdat/clsc_1529_cipitation_30pts_1mm_28360.sdat',\n",
       " 'C:/Users/HOLGER/Downloads/SharedFiles_ProfJames/_Spline_Surface/clsc_sdat/clsc_1530_cipitation_30pts_1mm_28360.sdat',\n",
       " 'C:/Users/HOLGER/Downloads/SharedFiles_ProfJames/_Spline_Surface/clsc_sdat/clsc_1531_cipitation_30pts_1mm_28360.sdat',\n",
       " 'C:/Users/HOLGER/Downloads/SharedFiles_ProfJames/_Spline_Surface/clsc_sdat/clsc_1532_cipitation_30pts_1mm_28360.sdat',\n",
       " 'C:/Users/HOLGER/Downloads/SharedFiles_ProfJames/_Spline_Surface/clsc_sdat/clsc_1533_cipitation_30pts_1mm_28360.sdat',\n",
       " 'C:/Users/HOLGER/Downloads/SharedFiles_ProfJames/_Spline_Surface/clsc_sdat/clsc_1534_cipitation_30pts_1mm_28360.sdat']\n",
       "]\n",
       "Shape: (5, 1534), dtype: object"
      ]
     },
     "execution_count": 231,
     "metadata": {},
     "output_type": "execute_result"
    }
   ],
   "source": [
    "name_df_clsc_sdat = sc_name_df_clsc_sdat + ts_name_df_clsc_sdat[:, np.newaxis]\n",
    "name_df_clsc_sdat"
   ]
  },
  {
   "cell_type": "code",
   "execution_count": 234,
   "id": "47851de5",
   "metadata": {},
   "outputs": [
    {
     "data": {
      "text/plain": [
       "'C:/Users/HOLGER/Downloads/SharedFiles_ProfJames/_Spline_Surface/clsc_sdat/clsc_0001_cipitation_30pts_1mm_28356.sdat'"
      ]
     },
     "execution_count": 234,
     "metadata": {},
     "output_type": "execute_result"
    }
   ],
   "source": [
    "name_df_clsc_sdat[0,0]"
   ]
  },
  {
   "cell_type": "code",
   "execution_count": 237,
   "id": "54daab84",
   "metadata": {},
   "outputs": [
    {
     "data": {
      "text/plain": [
       "'C:/Users/HOLGER/Downloads/SharedFiles_ProfJames/_Spline_Surface/clsc_sdat/clsc_0002_cipitation_30pts_1mm_28356.sdat'"
      ]
     },
     "execution_count": 237,
     "metadata": {},
     "output_type": "execute_result"
    }
   ],
   "source": [
    "name_df_clsc_sdat[0,1]"
   ]
  },
  {
   "cell_type": "code",
   "execution_count": null,
   "id": "d9cabc85",
   "metadata": {},
   "outputs": [],
   "source": []
  },
  {
   "cell_type": "code",
   "execution_count": null,
   "id": "57b950f2",
   "metadata": {},
   "outputs": [],
   "source": []
  },
  {
   "cell_type": "code",
   "execution_count": 240,
   "id": "599d1d5c",
   "metadata": {},
   "outputs": [],
   "source": [
    "def myfunc(a, b):\n",
    "    \"Return a-b if a>b, otherwise return a+b\"\n",
    "    if a > b:\n",
    "        return a - b\n",
    "    else:\n",
    "        return a + b"
   ]
  },
  {
   "cell_type": "code",
   "execution_count": 243,
   "id": "f610f32d",
   "metadata": {},
   "outputs": [],
   "source": [
    "vfunc = np.vectorize(myfunc)"
   ]
  },
  {
   "cell_type": "code",
   "execution_count": 245,
   "id": "7d48125c",
   "metadata": {},
   "outputs": [
    {
     "data": {
      "text/plain": [
       "array([3, 4, 1, 2])"
      ]
     },
     "execution_count": 245,
     "metadata": {},
     "output_type": "execute_result"
    }
   ],
   "source": [
    "vfunc([1, 2, 3, 4], 2)"
   ]
  },
  {
   "cell_type": "code",
   "execution_count": null,
   "id": "447131d4",
   "metadata": {},
   "outputs": [],
   "source": []
  }
 ],
 "metadata": {
  "kernelspec": {
   "display_name": "qgis_env",
   "language": "python",
   "name": "qgis_env"
  },
  "language_info": {
   "codemirror_mode": {
    "name": "ipython",
    "version": 3
   },
   "file_extension": ".py",
   "mimetype": "text/x-python",
   "name": "python",
   "nbconvert_exporter": "python",
   "pygments_lexer": "ipython3",
   "version": "3.9.5"
  }
 },
 "nbformat": 4,
 "nbformat_minor": 5
}
