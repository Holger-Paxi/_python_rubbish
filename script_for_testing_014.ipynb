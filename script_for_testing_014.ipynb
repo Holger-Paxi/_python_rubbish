{
 "cells": [
  {
   "cell_type": "code",
   "execution_count": 409,
   "metadata": {},
   "outputs": [],
   "source": [
    "#%% MODULES\n",
    "import pandas as pd\n",
    "import processing\n",
    "import numpy as np\n",
    "import geopandas as gpd\n",
    "import datetime as dt\n",
    "from csv import DictWriter"
   ]
  },
  {
   "cell_type": "code",
   "execution_count": 410,
   "metadata": {},
   "outputs": [],
   "source": [
    "#%% Machine\n",
    "container = '_SP_m_test'"
   ]
  },
  {
   "cell_type": "code",
   "execution_count": 411,
   "metadata": {},
   "outputs": [
    {
     "data": {
      "text/plain": [
       "'_SP_m_test'"
      ]
     },
     "execution_count": 411,
     "metadata": {},
     "output_type": "execute_result"
    }
   ],
   "source": [
    "container"
   ]
  },
  {
   "cell_type": "code",
   "execution_count": 412,
   "metadata": {},
   "outputs": [],
   "source": [
    "#%% SET NUMBER OF ITERATIONS\n",
    "# remember: the first one is inclusive, whereas the last one is exclusive\n",
    "# first index: input index [n = 0] = dataframe index [n + 1 = 1]\n",
    "# last index: input index [n] = dataframe index [n + 1] \n",
    "initial_index = 10\n",
    "final_index = 20"
   ]
  },
  {
   "cell_type": "code",
   "execution_count": 413,
   "metadata": {},
   "outputs": [
    {
     "name": "stdout",
     "output_type": "stream",
     "text": [
      "10\n",
      "20\n"
     ]
    }
   ],
   "source": [
    "print(initial_index, final_index, sep='\\n')"
   ]
  },
  {
   "cell_type": "code",
   "execution_count": 414,
   "metadata": {},
   "outputs": [
    {
     "data": {
      "text/plain": [
       "'/home/hpaxialv/Data/'"
      ]
     },
     "execution_count": 414,
     "metadata": {},
     "output_type": "execute_result"
    }
   ],
   "source": [
    "'/home/hpaxialv/Data/_global/'\n",
    "'/home/hpaxialv/Data/'"
   ]
  },
  {
   "cell_type": "code",
   "execution_count": 415,
   "metadata": {},
   "outputs": [],
   "source": [
    "#%% INPUT AND OUTPUT FOLDER\n",
    "root_child_directory = 'C:/Users/HOLGER/Downloads/SharedFiles_ProfJames/_Spline_Surface/_global/'\n",
    "root_parent_directory = 'C:/Users/HOLGER/Downloads/SharedFiles_ProfJames/_Spline_Surface/'"
   ]
  },
  {
   "cell_type": "code",
   "execution_count": 416,
   "metadata": {},
   "outputs": [],
   "source": [
    "#%% INPUT TIMESTAMPS (ts) THROUGH CSV FILES\n",
    "# IMPORTANT: the csv file must have a title and be limited to one column\n",
    "ts_csv_filename = '_SHP_Filename.csv'\n",
    "location_ts_csv_folder = root_parent_directory + container + '/'\n",
    "location_ts_csv_file = location_ts_csv_folder + ts_csv_filename\n",
    "# location_ts_csv_file = '{}{}'.format(location_ts_csv_folder,ts_csv_filename)\n",
    "ts_name_df = pd.read_csv(location_ts_csv_file)"
   ]
  },
  {
   "cell_type": "code",
   "execution_count": 417,
   "metadata": {},
   "outputs": [
    {
     "data": {
      "text/html": [
       "<div>\n",
       "<style scoped>\n",
       "    .dataframe tbody tr th:only-of-type {\n",
       "        vertical-align: middle;\n",
       "    }\n",
       "\n",
       "    .dataframe tbody tr th {\n",
       "        vertical-align: top;\n",
       "    }\n",
       "\n",
       "    .dataframe thead th {\n",
       "        text-align: right;\n",
       "    }\n",
       "</style>\n",
       "<table border=\"1\" class=\"dataframe\">\n",
       "  <thead>\n",
       "    <tr style=\"text-align: right;\">\n",
       "      <th></th>\n",
       "      <th>timestamp</th>\n",
       "    </tr>\n",
       "  </thead>\n",
       "  <tbody>\n",
       "    <tr>\n",
       "      <th>0</th>\n",
       "      <td>ts_199809090740</td>\n",
       "    </tr>\n",
       "    <tr>\n",
       "      <th>1</th>\n",
       "      <td>ts_199809090745</td>\n",
       "    </tr>\n",
       "    <tr>\n",
       "      <th>2</th>\n",
       "      <td>ts_199809090750</td>\n",
       "    </tr>\n",
       "    <tr>\n",
       "      <th>3</th>\n",
       "      <td>ts_199809090755</td>\n",
       "    </tr>\n",
       "    <tr>\n",
       "      <th>4</th>\n",
       "      <td>ts_199809090800</td>\n",
       "    </tr>\n",
       "  </tbody>\n",
       "</table>\n",
       "</div>"
      ],
      "text/plain": [
       "         timestamp\n",
       "0  ts_199809090740\n",
       "1  ts_199809090745\n",
       "2  ts_199809090750\n",
       "3  ts_199809090755\n",
       "4  ts_199809090800"
      ]
     },
     "execution_count": 417,
     "metadata": {},
     "output_type": "execute_result"
    }
   ],
   "source": [
    "ts_name_df.head()"
   ]
  },
  {
   "cell_type": "code",
   "execution_count": 418,
   "metadata": {},
   "outputs": [],
   "source": [
    "#%% INPUT AND OUTPUT FOLDER\n",
    "point_shp_folder = root_child_directory + 'point_shp/'\n",
    "results_folder = root_parent_directory + container + '/_results/'"
   ]
  },
  {
   "cell_type": "code",
   "execution_count": 419,
   "metadata": {},
   "outputs": [
    {
     "name": "stdout",
     "output_type": "stream",
     "text": [
      "C:/Users/HOLGER/Downloads/SharedFiles_ProfJames/_Spline_Surface/_global/point_shp/\n",
      "C:/Users/HOLGER/Downloads/SharedFiles_ProfJames/_Spline_Surface/_SP_m_test/_results/\n"
     ]
    }
   ],
   "source": [
    "print(point_shp_folder, results_folder, sep='\\n')"
   ]
  },
  {
   "cell_type": "code",
   "execution_count": 420,
   "metadata": {},
   "outputs": [],
   "source": [
    "#%% DATAFRAME FOR ITERATIONS\n",
    "# Sometimes it is necessary to put the maximum amount of iterations\n",
    "# remember: the first one is inclusive, whereas the last one is exclusive\n",
    "# first index: input index [n = 0] = dataframe index [n + 1 = 1]\n",
    "# last index: input index [n] = dataframe index [n + 1] \n",
    "ts_name_df = ts_name_df.iloc[initial_index, :] if initial_index == final_index else ts_name_df.iloc[initial_index: final_index, :]\n",
    "ts_name_df = ts_name_df if type(ts_name_df) == type(pd.DataFrame()) else ts_name_df.to_frame().T\n",
    "\n",
    "# date and time\n",
    "# ts_name_df['date_time'] = pd.to_datetime(ts_name_df.timestamp.str[3:], format='%Y%m%d%H%M')\n",
    "\n",
    "# file\n",
    "ts_name_df['file_point_shp'] = point_shp_folder + ts_name_df.timestamp + '.shp'\n",
    "ts_name_df['file_spl_sdat'] = results_folder + 'spl_' + ts_name_df.timestamp.str[3:] + '.sdat'\n",
    "# sufix\n",
    "ts_name_df['suf_clsc_sdat'] = '_'+ ts_name_df.timestamp.str[3:] + '.sdat'\n",
    "ts_name_df['suf_vosc_shp'] = '_' + ts_name_df.timestamp.str[3:] + '.shp'\n",
    "ts_name_df['suf_vosc_dbf'] = '_' + ts_name_df.timestamp.str[3:] + '.dbf'\n",
    "# ts_name_df['prec_csv'] = '_' + ts_name_df.timestamp.str[3:] + '.csv'\n",
    "\n",
    "# by product file\n",
    "# ts_name_df['file_spl_sdat_aux_xml'] = results_folder + 'spl_' + ts_name_df.timestamp.str[3:] + '.sdat.aux.xml'\n",
    "# ts_name_df['file_spl_mgrd'] = results_folder + 'spl_' + ts_name_df.timestamp.str[3:] + '.mgrd'\n",
    "# ts_name_df['file_spl_prj'] = results_folder + 'spl_' + ts_name_df.timestamp.str[3:] + '.prj'\n",
    "# ts_name_df['file_spl_sgrd'] = results_folder + 'spl_' + ts_name_df.timestamp.str[3:] + '.sgrd'"
   ]
  },
  {
   "cell_type": "code",
   "execution_count": 421,
   "metadata": {},
   "outputs": [
    {
     "name": "stdout",
     "output_type": "stream",
     "text": [
      "C:/Users/HOLGER/Downloads/SharedFiles_ProfJames/_Spline_Surface/_global/point_shp/ts_199809090830.shp\n",
      "C:/Users/HOLGER/Downloads/SharedFiles_ProfJames/_Spline_Surface/_SP_m_test/_results/spl_199809090830.sdat\n",
      "_199809090830.sdat\n",
      "_199809090830.shp\n",
      "_199809090830.dbf\n"
     ]
    }
   ],
   "source": [
    "print(\n",
    "    # ts_name_df.date_time[10],\n",
    "    ts_name_df.file_point_shp[10],\n",
    "    ts_name_df.file_spl_sdat[10],\n",
    "    ts_name_df.suf_clsc_sdat[10],\n",
    "    ts_name_df.suf_vosc_shp[10],\n",
    "    ts_name_df.suf_vosc_dbf[10],\n",
    "    # ts_name_df.file_spl_sdat_aux_xml[10],\n",
    "    # ts_name_df.file_spl_mgrd[10],\n",
    "    # ts_name_df.file_spl_prj[10],\n",
    "    # ts_name_df.file_spl_sgrd[10],\n",
    "    sep='\\n'\n",
    ")"
   ]
  },
  {
   "cell_type": "code",
   "execution_count": 422,
   "metadata": {},
   "outputs": [
    {
     "data": {
      "text/html": [
       "<div>\n",
       "<style scoped>\n",
       "    .dataframe tbody tr th:only-of-type {\n",
       "        vertical-align: middle;\n",
       "    }\n",
       "\n",
       "    .dataframe tbody tr th {\n",
       "        vertical-align: top;\n",
       "    }\n",
       "\n",
       "    .dataframe thead th {\n",
       "        text-align: right;\n",
       "    }\n",
       "</style>\n",
       "<table border=\"1\" class=\"dataframe\">\n",
       "  <thead>\n",
       "    <tr style=\"text-align: right;\">\n",
       "      <th></th>\n",
       "      <th>timestamp</th>\n",
       "      <th>file_point_shp</th>\n",
       "      <th>file_spl_sdat</th>\n",
       "      <th>suf_clsc_sdat</th>\n",
       "      <th>suf_vosc_shp</th>\n",
       "      <th>suf_vosc_dbf</th>\n",
       "    </tr>\n",
       "  </thead>\n",
       "  <tbody>\n",
       "    <tr>\n",
       "      <th>10</th>\n",
       "      <td>ts_199809090830</td>\n",
       "      <td>C:/Users/HOLGER/Downloads/SharedFiles_ProfJame...</td>\n",
       "      <td>C:/Users/HOLGER/Downloads/SharedFiles_ProfJame...</td>\n",
       "      <td>_199809090830.sdat</td>\n",
       "      <td>_199809090830.shp</td>\n",
       "      <td>_199809090830.dbf</td>\n",
       "    </tr>\n",
       "    <tr>\n",
       "      <th>11</th>\n",
       "      <td>ts_199809090835</td>\n",
       "      <td>C:/Users/HOLGER/Downloads/SharedFiles_ProfJame...</td>\n",
       "      <td>C:/Users/HOLGER/Downloads/SharedFiles_ProfJame...</td>\n",
       "      <td>_199809090835.sdat</td>\n",
       "      <td>_199809090835.shp</td>\n",
       "      <td>_199809090835.dbf</td>\n",
       "    </tr>\n",
       "    <tr>\n",
       "      <th>12</th>\n",
       "      <td>ts_199809090840</td>\n",
       "      <td>C:/Users/HOLGER/Downloads/SharedFiles_ProfJame...</td>\n",
       "      <td>C:/Users/HOLGER/Downloads/SharedFiles_ProfJame...</td>\n",
       "      <td>_199809090840.sdat</td>\n",
       "      <td>_199809090840.shp</td>\n",
       "      <td>_199809090840.dbf</td>\n",
       "    </tr>\n",
       "    <tr>\n",
       "      <th>13</th>\n",
       "      <td>ts_199809090845</td>\n",
       "      <td>C:/Users/HOLGER/Downloads/SharedFiles_ProfJame...</td>\n",
       "      <td>C:/Users/HOLGER/Downloads/SharedFiles_ProfJame...</td>\n",
       "      <td>_199809090845.sdat</td>\n",
       "      <td>_199809090845.shp</td>\n",
       "      <td>_199809090845.dbf</td>\n",
       "    </tr>\n",
       "    <tr>\n",
       "      <th>14</th>\n",
       "      <td>ts_199809090850</td>\n",
       "      <td>C:/Users/HOLGER/Downloads/SharedFiles_ProfJame...</td>\n",
       "      <td>C:/Users/HOLGER/Downloads/SharedFiles_ProfJame...</td>\n",
       "      <td>_199809090850.sdat</td>\n",
       "      <td>_199809090850.shp</td>\n",
       "      <td>_199809090850.dbf</td>\n",
       "    </tr>\n",
       "    <tr>\n",
       "      <th>15</th>\n",
       "      <td>ts_199809090855</td>\n",
       "      <td>C:/Users/HOLGER/Downloads/SharedFiles_ProfJame...</td>\n",
       "      <td>C:/Users/HOLGER/Downloads/SharedFiles_ProfJame...</td>\n",
       "      <td>_199809090855.sdat</td>\n",
       "      <td>_199809090855.shp</td>\n",
       "      <td>_199809090855.dbf</td>\n",
       "    </tr>\n",
       "    <tr>\n",
       "      <th>16</th>\n",
       "      <td>ts_199809090900</td>\n",
       "      <td>C:/Users/HOLGER/Downloads/SharedFiles_ProfJame...</td>\n",
       "      <td>C:/Users/HOLGER/Downloads/SharedFiles_ProfJame...</td>\n",
       "      <td>_199809090900.sdat</td>\n",
       "      <td>_199809090900.shp</td>\n",
       "      <td>_199809090900.dbf</td>\n",
       "    </tr>\n",
       "    <tr>\n",
       "      <th>17</th>\n",
       "      <td>ts_199809091225</td>\n",
       "      <td>C:/Users/HOLGER/Downloads/SharedFiles_ProfJame...</td>\n",
       "      <td>C:/Users/HOLGER/Downloads/SharedFiles_ProfJame...</td>\n",
       "      <td>_199809091225.sdat</td>\n",
       "      <td>_199809091225.shp</td>\n",
       "      <td>_199809091225.dbf</td>\n",
       "    </tr>\n",
       "    <tr>\n",
       "      <th>18</th>\n",
       "      <td>ts_199809091230</td>\n",
       "      <td>C:/Users/HOLGER/Downloads/SharedFiles_ProfJame...</td>\n",
       "      <td>C:/Users/HOLGER/Downloads/SharedFiles_ProfJame...</td>\n",
       "      <td>_199809091230.sdat</td>\n",
       "      <td>_199809091230.shp</td>\n",
       "      <td>_199809091230.dbf</td>\n",
       "    </tr>\n",
       "    <tr>\n",
       "      <th>19</th>\n",
       "      <td>ts_199809091235</td>\n",
       "      <td>C:/Users/HOLGER/Downloads/SharedFiles_ProfJame...</td>\n",
       "      <td>C:/Users/HOLGER/Downloads/SharedFiles_ProfJame...</td>\n",
       "      <td>_199809091235.sdat</td>\n",
       "      <td>_199809091235.shp</td>\n",
       "      <td>_199809091235.dbf</td>\n",
       "    </tr>\n",
       "  </tbody>\n",
       "</table>\n",
       "</div>"
      ],
      "text/plain": [
       "          timestamp                                     file_point_shp  \\\n",
       "10  ts_199809090830  C:/Users/HOLGER/Downloads/SharedFiles_ProfJame...   \n",
       "11  ts_199809090835  C:/Users/HOLGER/Downloads/SharedFiles_ProfJame...   \n",
       "12  ts_199809090840  C:/Users/HOLGER/Downloads/SharedFiles_ProfJame...   \n",
       "13  ts_199809090845  C:/Users/HOLGER/Downloads/SharedFiles_ProfJame...   \n",
       "14  ts_199809090850  C:/Users/HOLGER/Downloads/SharedFiles_ProfJame...   \n",
       "15  ts_199809090855  C:/Users/HOLGER/Downloads/SharedFiles_ProfJame...   \n",
       "16  ts_199809090900  C:/Users/HOLGER/Downloads/SharedFiles_ProfJame...   \n",
       "17  ts_199809091225  C:/Users/HOLGER/Downloads/SharedFiles_ProfJame...   \n",
       "18  ts_199809091230  C:/Users/HOLGER/Downloads/SharedFiles_ProfJame...   \n",
       "19  ts_199809091235  C:/Users/HOLGER/Downloads/SharedFiles_ProfJame...   \n",
       "\n",
       "                                        file_spl_sdat       suf_clsc_sdat  \\\n",
       "10  C:/Users/HOLGER/Downloads/SharedFiles_ProfJame...  _199809090830.sdat   \n",
       "11  C:/Users/HOLGER/Downloads/SharedFiles_ProfJame...  _199809090835.sdat   \n",
       "12  C:/Users/HOLGER/Downloads/SharedFiles_ProfJame...  _199809090840.sdat   \n",
       "13  C:/Users/HOLGER/Downloads/SharedFiles_ProfJame...  _199809090845.sdat   \n",
       "14  C:/Users/HOLGER/Downloads/SharedFiles_ProfJame...  _199809090850.sdat   \n",
       "15  C:/Users/HOLGER/Downloads/SharedFiles_ProfJame...  _199809090855.sdat   \n",
       "16  C:/Users/HOLGER/Downloads/SharedFiles_ProfJame...  _199809090900.sdat   \n",
       "17  C:/Users/HOLGER/Downloads/SharedFiles_ProfJame...  _199809091225.sdat   \n",
       "18  C:/Users/HOLGER/Downloads/SharedFiles_ProfJame...  _199809091230.sdat   \n",
       "19  C:/Users/HOLGER/Downloads/SharedFiles_ProfJame...  _199809091235.sdat   \n",
       "\n",
       "         suf_vosc_shp       suf_vosc_dbf  \n",
       "10  _199809090830.shp  _199809090830.dbf  \n",
       "11  _199809090835.shp  _199809090835.dbf  \n",
       "12  _199809090840.shp  _199809090840.dbf  \n",
       "13  _199809090845.shp  _199809090845.dbf  \n",
       "14  _199809090850.shp  _199809090850.dbf  \n",
       "15  _199809090855.shp  _199809090855.dbf  \n",
       "16  _199809090900.shp  _199809090900.dbf  \n",
       "17  _199809091225.shp  _199809091225.dbf  \n",
       "18  _199809091230.shp  _199809091230.dbf  \n",
       "19  _199809091235.shp  _199809091235.dbf  "
      ]
     },
     "execution_count": 422,
     "metadata": {},
     "output_type": "execute_result"
    }
   ],
   "source": [
    "ts_name_df"
   ]
  },
  {
   "cell_type": "code",
   "execution_count": 423,
   "metadata": {},
   "outputs": [],
   "source": [
    "#%% INPUT SUBCATCHMENTS (sc) THROUGH CSV FILE\n",
    "sc_csv_filename = '_CSV_subcatchment.csv'\n",
    "location_sc_csv_folder = root_parent_directory + container + '/'\n",
    "location_sc_csv_file = location_sc_csv_folder + sc_csv_filename\n",
    "# location_sc_csv_file = '{}{}'.format(location_sc_csv_folder,sc_csv_filename)\n",
    "sc_name_df = pd.read_csv(location_sc_csv_file)"
   ]
  },
  {
   "cell_type": "code",
   "execution_count": 424,
   "metadata": {},
   "outputs": [
    {
     "data": {
      "text/html": [
       "<div>\n",
       "<style scoped>\n",
       "    .dataframe tbody tr th:only-of-type {\n",
       "        vertical-align: middle;\n",
       "    }\n",
       "\n",
       "    .dataframe tbody tr th {\n",
       "        vertical-align: top;\n",
       "    }\n",
       "\n",
       "    .dataframe thead th {\n",
       "        text-align: right;\n",
       "    }\n",
       "</style>\n",
       "<table border=\"1\" class=\"dataframe\">\n",
       "  <thead>\n",
       "    <tr style=\"text-align: right;\">\n",
       "      <th></th>\n",
       "      <th>subcatchment</th>\n",
       "      <th>area</th>\n",
       "    </tr>\n",
       "  </thead>\n",
       "  <tbody>\n",
       "    <tr>\n",
       "      <th>0</th>\n",
       "      <td>sc_0001</td>\n",
       "      <td>2983</td>\n",
       "    </tr>\n",
       "    <tr>\n",
       "      <th>1</th>\n",
       "      <td>sc_0002</td>\n",
       "      <td>13626</td>\n",
       "    </tr>\n",
       "    <tr>\n",
       "      <th>2</th>\n",
       "      <td>sc_0003</td>\n",
       "      <td>8328</td>\n",
       "    </tr>\n",
       "    <tr>\n",
       "      <th>3</th>\n",
       "      <td>sc_0004</td>\n",
       "      <td>5442</td>\n",
       "    </tr>\n",
       "    <tr>\n",
       "      <th>4</th>\n",
       "      <td>sc_0005</td>\n",
       "      <td>1685</td>\n",
       "    </tr>\n",
       "  </tbody>\n",
       "</table>\n",
       "</div>"
      ],
      "text/plain": [
       "  subcatchment   area\n",
       "0      sc_0001   2983\n",
       "1      sc_0002  13626\n",
       "2      sc_0003   8328\n",
       "3      sc_0004   5442\n",
       "4      sc_0005   1685"
      ]
     },
     "execution_count": 424,
     "metadata": {},
     "output_type": "execute_result"
    }
   ],
   "source": [
    "sc_name_df.head()"
   ]
  },
  {
   "cell_type": "code",
   "execution_count": 425,
   "metadata": {},
   "outputs": [],
   "source": [
    "#%% SET SUBCATCHMENT POLYGON AS A MASK\n",
    "mask_prefix_sc_pol_shp_filename = 'sc_'\n",
    "location_mask_sc_pol_shp_folder = root_parent_directory + container + '/mask_sc_polygon/'\n",
    "location_mask_sc_pol_shp_file = location_mask_sc_pol_shp_folder + mask_prefix_sc_pol_shp_filename\n",
    "# location_mask_sc_pol_shp_file = '{}{}'.format(location_mask_sc_pol_shp_folder,mask_prefix_sc_pol_shp_filename)"
   ]
  },
  {
   "cell_type": "code",
   "execution_count": 426,
   "metadata": {},
   "outputs": [
    {
     "name": "stdout",
     "output_type": "stream",
     "text": [
      "C:/Users/HOLGER/Downloads/SharedFiles_ProfJames/_Spline_Surface/_SP_m_test/mask_sc_polygon/\n",
      "C:/Users/HOLGER/Downloads/SharedFiles_ProfJames/_Spline_Surface/_SP_m_test/mask_sc_polygon/sc_\n"
     ]
    }
   ],
   "source": [
    "print(location_mask_sc_pol_shp_folder, location_mask_sc_pol_shp_file, sep='\\n')"
   ]
  },
  {
   "cell_type": "code",
   "execution_count": 427,
   "metadata": {},
   "outputs": [],
   "source": [
    "#%% SET SUBCATCHMENT DATAFRAME\n",
    "# sub catchment\n",
    "# sc_name_df['ID'] = sc_name_df.subcatchment.str[3:]\n",
    "\n",
    "# file\n",
    "sc_name_df['file_mask_shp'] = location_mask_sc_pol_shp_file + sc_name_df.subcatchment.str[3:] + '.shp'\n",
    "\n",
    "# prefix\n",
    "sc_name_df['pre_clsc_sdat'] = results_folder + 'clsc_' + sc_name_df.subcatchment.str[3:]\n",
    "sc_name_df['pre_vosc_shp'] = results_folder + 'vosc_' + sc_name_df.subcatchment.str[3:]\n",
    "\n",
    "#file\n",
    "sc_name_df['file_prec_csv'] = results_folder + 'prec_' + sc_name_df.subcatchment.str[3:] + '.csv'"
   ]
  },
  {
   "cell_type": "code",
   "execution_count": 428,
   "metadata": {},
   "outputs": [
    {
     "name": "stdout",
     "output_type": "stream",
     "text": [
      "C:/Users/HOLGER/Downloads/SharedFiles_ProfJames/_Spline_Surface/_SP_m_test/mask_sc_polygon/sc_0011.shp\n",
      "C:/Users/HOLGER/Downloads/SharedFiles_ProfJames/_Spline_Surface/_SP_m_test/_results/clsc_0011\n",
      "C:/Users/HOLGER/Downloads/SharedFiles_ProfJames/_Spline_Surface/_SP_m_test/_results/vosc_0011\n",
      "C:/Users/HOLGER/Downloads/SharedFiles_ProfJames/_Spline_Surface/_SP_m_test/_results/prec_0011.csv\n"
     ]
    }
   ],
   "source": [
    "print(\n",
    "    # sc_name_df.ID[10],\n",
    "    sc_name_df.file_mask_shp[10],\n",
    "    sc_name_df.pre_clsc_sdat[10],\n",
    "    sc_name_df.pre_vosc_shp[10],\n",
    "    sc_name_df.file_prec_csv[10],\n",
    "    sep='\\n'\n",
    ")"
   ]
  },
  {
   "cell_type": "code",
   "execution_count": 429,
   "metadata": {},
   "outputs": [
    {
     "data": {
      "text/html": [
       "<div>\n",
       "<style scoped>\n",
       "    .dataframe tbody tr th:only-of-type {\n",
       "        vertical-align: middle;\n",
       "    }\n",
       "\n",
       "    .dataframe tbody tr th {\n",
       "        vertical-align: top;\n",
       "    }\n",
       "\n",
       "    .dataframe thead th {\n",
       "        text-align: right;\n",
       "    }\n",
       "</style>\n",
       "<table border=\"1\" class=\"dataframe\">\n",
       "  <thead>\n",
       "    <tr style=\"text-align: right;\">\n",
       "      <th></th>\n",
       "      <th>subcatchment</th>\n",
       "      <th>area</th>\n",
       "      <th>file_mask_shp</th>\n",
       "      <th>pre_clsc_sdat</th>\n",
       "      <th>pre_vosc_shp</th>\n",
       "      <th>file_prec_csv</th>\n",
       "    </tr>\n",
       "  </thead>\n",
       "  <tbody>\n",
       "    <tr>\n",
       "      <th>0</th>\n",
       "      <td>sc_0001</td>\n",
       "      <td>2983</td>\n",
       "      <td>C:/Users/HOLGER/Downloads/SharedFiles_ProfJame...</td>\n",
       "      <td>C:/Users/HOLGER/Downloads/SharedFiles_ProfJame...</td>\n",
       "      <td>C:/Users/HOLGER/Downloads/SharedFiles_ProfJame...</td>\n",
       "      <td>C:/Users/HOLGER/Downloads/SharedFiles_ProfJame...</td>\n",
       "    </tr>\n",
       "    <tr>\n",
       "      <th>1</th>\n",
       "      <td>sc_0002</td>\n",
       "      <td>13626</td>\n",
       "      <td>C:/Users/HOLGER/Downloads/SharedFiles_ProfJame...</td>\n",
       "      <td>C:/Users/HOLGER/Downloads/SharedFiles_ProfJame...</td>\n",
       "      <td>C:/Users/HOLGER/Downloads/SharedFiles_ProfJame...</td>\n",
       "      <td>C:/Users/HOLGER/Downloads/SharedFiles_ProfJame...</td>\n",
       "    </tr>\n",
       "    <tr>\n",
       "      <th>2</th>\n",
       "      <td>sc_0003</td>\n",
       "      <td>8328</td>\n",
       "      <td>C:/Users/HOLGER/Downloads/SharedFiles_ProfJame...</td>\n",
       "      <td>C:/Users/HOLGER/Downloads/SharedFiles_ProfJame...</td>\n",
       "      <td>C:/Users/HOLGER/Downloads/SharedFiles_ProfJame...</td>\n",
       "      <td>C:/Users/HOLGER/Downloads/SharedFiles_ProfJame...</td>\n",
       "    </tr>\n",
       "    <tr>\n",
       "      <th>3</th>\n",
       "      <td>sc_0004</td>\n",
       "      <td>5442</td>\n",
       "      <td>C:/Users/HOLGER/Downloads/SharedFiles_ProfJame...</td>\n",
       "      <td>C:/Users/HOLGER/Downloads/SharedFiles_ProfJame...</td>\n",
       "      <td>C:/Users/HOLGER/Downloads/SharedFiles_ProfJame...</td>\n",
       "      <td>C:/Users/HOLGER/Downloads/SharedFiles_ProfJame...</td>\n",
       "    </tr>\n",
       "    <tr>\n",
       "      <th>4</th>\n",
       "      <td>sc_0005</td>\n",
       "      <td>1685</td>\n",
       "      <td>C:/Users/HOLGER/Downloads/SharedFiles_ProfJame...</td>\n",
       "      <td>C:/Users/HOLGER/Downloads/SharedFiles_ProfJame...</td>\n",
       "      <td>C:/Users/HOLGER/Downloads/SharedFiles_ProfJame...</td>\n",
       "      <td>C:/Users/HOLGER/Downloads/SharedFiles_ProfJame...</td>\n",
       "    </tr>\n",
       "  </tbody>\n",
       "</table>\n",
       "</div>"
      ],
      "text/plain": [
       "  subcatchment   area                                      file_mask_shp  \\\n",
       "0      sc_0001   2983  C:/Users/HOLGER/Downloads/SharedFiles_ProfJame...   \n",
       "1      sc_0002  13626  C:/Users/HOLGER/Downloads/SharedFiles_ProfJame...   \n",
       "2      sc_0003   8328  C:/Users/HOLGER/Downloads/SharedFiles_ProfJame...   \n",
       "3      sc_0004   5442  C:/Users/HOLGER/Downloads/SharedFiles_ProfJame...   \n",
       "4      sc_0005   1685  C:/Users/HOLGER/Downloads/SharedFiles_ProfJame...   \n",
       "\n",
       "                                       pre_clsc_sdat  \\\n",
       "0  C:/Users/HOLGER/Downloads/SharedFiles_ProfJame...   \n",
       "1  C:/Users/HOLGER/Downloads/SharedFiles_ProfJame...   \n",
       "2  C:/Users/HOLGER/Downloads/SharedFiles_ProfJame...   \n",
       "3  C:/Users/HOLGER/Downloads/SharedFiles_ProfJame...   \n",
       "4  C:/Users/HOLGER/Downloads/SharedFiles_ProfJame...   \n",
       "\n",
       "                                        pre_vosc_shp  \\\n",
       "0  C:/Users/HOLGER/Downloads/SharedFiles_ProfJame...   \n",
       "1  C:/Users/HOLGER/Downloads/SharedFiles_ProfJame...   \n",
       "2  C:/Users/HOLGER/Downloads/SharedFiles_ProfJame...   \n",
       "3  C:/Users/HOLGER/Downloads/SharedFiles_ProfJame...   \n",
       "4  C:/Users/HOLGER/Downloads/SharedFiles_ProfJame...   \n",
       "\n",
       "                                       file_prec_csv  \n",
       "0  C:/Users/HOLGER/Downloads/SharedFiles_ProfJame...  \n",
       "1  C:/Users/HOLGER/Downloads/SharedFiles_ProfJame...  \n",
       "2  C:/Users/HOLGER/Downloads/SharedFiles_ProfJame...  \n",
       "3  C:/Users/HOLGER/Downloads/SharedFiles_ProfJame...  \n",
       "4  C:/Users/HOLGER/Downloads/SharedFiles_ProfJame...  "
      ]
     },
     "execution_count": 429,
     "metadata": {},
     "output_type": "execute_result"
    }
   ],
   "source": [
    "sc_name_df.head()"
   ]
  },
  {
   "cell_type": "code",
   "execution_count": 430,
   "metadata": {},
   "outputs": [
    {
     "name": "stdout",
     "output_type": "stream",
     "text": [
      "ts_199809090830\n"
     ]
    }
   ],
   "source": [
    "print(ts_name_df.timestamp.loc[initial_index])"
   ]
  },
  {
   "cell_type": "code",
   "execution_count": 437,
   "metadata": {},
   "outputs": [
    {
     "name": "stdout",
     "output_type": "stream",
     "text": [
      "starting ts_199809090830 at 2022-10-13 05:39:47.022377\n"
     ]
    }
   ],
   "source": [
    "#%% START TIME OF THE PROCESS\n",
    "starting_time = dt.datetime.now()\n",
    "print('starting {} at {}'.format(ts_name_df.timestamp.loc[initial_index], starting_time))\n",
    "\n",
    "with open(root_parent_directory + container + '/' + container + '.csv', 'a+', newline='') as tracking_csv_file:\n",
    "    tracking_record_writer = DictWriter(tracking_csv_file, fieldnames=['id_total', 'id_ts'])\n",
    "    tracking_record_writer.writerow({'id_total': 'starting {} at {}'.format(ts_name_df.timestamp.loc[initial_index], starting_time)})"
   ]
  },
  {
   "cell_type": "code",
   "execution_count": 438,
   "metadata": {},
   "outputs": [],
   "source": []
  },
  {
   "cell_type": "code",
   "execution_count": null,
   "metadata": {},
   "outputs": [],
   "source": [
    "#%% FUNCTION 2\n",
    "def function_2_sc(\n",
    "    arg_ts_name_df_file_spl_sdat,\n",
    "    arg_sc_name_df_file_mask_shp,\n",
    "    arg_sc_name_df_pre_clsc_sdat,\n",
    "    arg_ts_name_df_suf_clsc_sdat,\n",
    "    arg_sc_name_df_pre_vosc_shp,\n",
    "    arg_ts_name_df_suf_vosc_shp,\n",
    "    arg_ts_name_df_suf_vosc_dbf,\n",
    "    arg_sc_name_df_area,\n",
    "    arg_sc_name_df_file_prec_csv,\n",
    "    arg_sc_name_df_subcatchment,\n",
    "    arg_ts_name_df_timestamp\n",
    "    ):\n",
    "\n",
    "    # CLIP SUBCATCHMENTS\n",
    "    # CRBML via QGIS processing\n",
    "    processing.run(\"gdal:cliprasterbymasklayer\",\\\n",
    "        {'INPUT':arg_ts_name_df_file_spl_sdat,\\\n",
    "        'MASK': arg_sc_name_df_file_mask_shp,\\\n",
    "        'SOURCE_CRS':None,\\\n",
    "        'TARGET_CRS':None,\\\n",
    "        'NODATA':None,\\\n",
    "        'ALPHA_BAND':False,\\\n",
    "        'CROP_TO_CUTLINE':True,\\\n",
    "        'KEEP_RESOLUTION':False,\\\n",
    "        'SET_RESOLUTION':False,\\\n",
    "        'X_RESOLUTION':None,\\\n",
    "        'Y_RESOLUTION':None,\\\n",
    "        'MULTITHREADING':False,\\\n",
    "        'OPTIONS':'',\\\n",
    "        'DATA_TYPE':0,\\\n",
    "        'EXTRA':'',\\\n",
    "        'OUTPUT':arg_sc_name_df_pre_clsc_sdat + arg_ts_name_df_suf_clsc_sdat})\n",
    "    \n",
    "    # GET VOLUME AND AREA\n",
    "    # raster surface volume via QGIS processing\n",
    "    processing.run(\"native:rastersurfacevolume\",\\\n",
    "        {'INPUT': arg_sc_name_df_pre_clsc_sdat + arg_ts_name_df_suf_clsc_sdat,\\\n",
    "        'BAND':1,\\\n",
    "        'LEVEL':0,\\\n",
    "        'METHOD':0,\\\n",
    "        # 'OUTPUT_HTML_FILE':'TEMPORARY_OUTPUT',\\\n",
    "        'OUTPUT_TABLE': arg_sc_name_df_pre_vosc_shp + arg_ts_name_df_suf_vosc_shp}) \n",
    "\n",
    "    # CALCULATE PRECIPITATION DEPTH\n",
    "    # calculating precipitation depth (pd) from attribute table sdat file\n",
    "    input_table_vosc_dbf_file = QgsVectorLayer(arg_sc_name_df_pre_vosc_shp + arg_ts_name_df_suf_vosc_dbf, '', 'ogr').getFeature(0)\n",
    "    vol_mm_x_m2 = input_table_vosc_dbf_file[0]\n",
    "    prec_depth_mm = vol_mm_x_m2 / arg_sc_name_df_area if arg_sc_name_df_area != 0 else 0\n",
    "\n",
    "    # GETTING PRECIPITATION DEPTHS CSV FILES\n",
    "    # Getting the precipitation depth (pd) for each subcatchment considering their volume and area\n",
    "    field_names = ['ID', 'TIMESTAMP', 'PRECIPITATION_DEPTH', 'VOLUME', 'AREA']\n",
    "    first_feature_record = {\n",
    "        'ID': arg_sc_name_df_subcatchment,\n",
    "        'TIMESTAMP': arg_ts_name_df_timestamp,\n",
    "        'PRECIPITATION_DEPTH': prec_depth_mm,\n",
    "        'VOLUME': vol_mm_x_m2,\n",
    "        'AREA': arg_sc_name_df_area}\n",
    "\n",
    "    with open(arg_sc_name_df_file_prec_csv, 'a+', newline='') as csv_file:\n",
    "        record_writer = DictWriter(csv_file, fieldnames=field_names)\n",
    "        record_writer.writerow(first_feature_record)\n",
    "\n",
    "    #%% END TIME OF THE PROCESS\n",
    "    ts_ending_time = dt.datetime.now()\n",
    "    print('timestamp {} completed at {}'.format(arg_ts_name_df_timestamp, ts_ending_time))\n",
    "\n",
    "    with open(root_parent_directory + container + '/' + container + '.csv', 'a+', newline='') as tracking_csv_file:\n",
    "        tracking_record_writer = DictWriter(tracking_csv_file, fieldnames=['id_total', 'id_ts'])\n",
    "        tracking_record_writer.writerow({'id_ts': 'timestamp {} completed at {}'.format(arg_ts_name_df_timestamp, ts_ending_time)})"
   ]
  },
  {
   "cell_type": "code",
   "execution_count": null,
   "metadata": {},
   "outputs": [],
   "source": [
    "#%% FUNCTION 1\n",
    "def function_1_ts(\n",
    "    arg_ts_name_df_file_point_shp, \n",
    "    arg_ts_name_df_file_spl_sdat, \n",
    "    arg_ts_name_df_suf_clsc_sdat,\n",
    "    arg_ts_name_df_suf_vosc_shp,\n",
    "    arg_ts_name_df_suf_vosc_dbf,\n",
    "    arg_ts_name_df_timestamp\n",
    "    ):\n",
    "\n",
    "    # PARAMETERS FOR THE THIN SPLINE SURFACE FUNCTION\n",
    "    x_min = 331480.0\n",
    "    x_max = 335660.0\n",
    "    y_min = 6244860.0\n",
    "    y_max = 6249400.0\n",
    "    crs_projection = '[EPSG:28356]'\n",
    "    cell_size = 1\n",
    "\n",
    "    # TPS via SAGA processing\n",
    "    processing.run(\"sagang:thinplatespline\",\\\n",
    "        {'SHAPES':arg_ts_name_df_file_point_shp,\\\n",
    "        'FIELD':'Depth',\\\n",
    "        'TARGET_USER_XMIN TARGET_USER_XMAX TARGET_USER_YMIN TARGET_USER_YMAX':'{},{},{},{} {}'.format(x_min, x_max, y_min, y_max, crs_projection),\\\n",
    "        'TARGET_USER_SIZE':cell_size,\\\n",
    "        'TARGET_OUT_GRID':arg_ts_name_df_file_spl_sdat,\\\n",
    "        'REGULARISATION':0.0001,\\\n",
    "        'SEARCH_RANGE':1,\\\n",
    "        'SEARCH_RADIUS':20000,\\\n",
    "        'SEARCH_POINTS_ALL':1,\\\n",
    "        'SEARCH_POINTS_MIN':16,\\\n",
    "        'SEARCH_POINTS_MAX':20,\\\n",
    "        'SEARCH_DIRECTION':0})\n",
    "\n",
    "    # EXECUTE FUNCTION 2\n",
    "    sc_name_df.apply(lambda arg: function_2_sc(\n",
    "        arg_ts_name_df_file_spl_sdat,\n",
    "        arg.file_mask_shp,\n",
    "        arg.pre_clsc_sdat,\n",
    "        arg_ts_name_df_suf_clsc_sdat,\n",
    "        arg.pre_vosc_shp,\n",
    "        arg_ts_name_df_suf_vosc_shp,\n",
    "        arg_ts_name_df_suf_vosc_dbf,\n",
    "        arg.area,\n",
    "        arg.file_prec_csv,\n",
    "        arg.subcatchment,\n",
    "        arg_ts_name_df_timestamp),\n",
    "        axis=1)"
   ]
  },
  {
   "cell_type": "code",
   "execution_count": null,
   "metadata": {},
   "outputs": [],
   "source": [
    "#%% EXECUTE FUNCTION 1\n",
    "ts_name_df.apply(lambda arg: function_1_ts(\n",
    "    arg.file_point_shp,\n",
    "    arg.file_spl_sdat,\n",
    "    arg.suf_clsc_sdat,\n",
    "    arg.suf_vosc_shp,\n",
    "    arg.suf_vosc_dbf,\n",
    "    arg.timestamp),\n",
    "    axis=1)"
   ]
  },
  {
   "cell_type": "code",
   "execution_count": 443,
   "metadata": {},
   "outputs": [
    {
     "name": "stdout",
     "output_type": "stream",
     "text": [
      "finishing ts_199809091235 at 2022-10-13 05:42:06.530402\n",
      "Done! in 0:02:19.508025\n"
     ]
    }
   ],
   "source": [
    "#%% END TIME OF THE PROCESS\n",
    "ending_time = dt.datetime.now()\n",
    "print('finishing {} at {}'.format(ts_name_df.timestamp.loc[final_index - 1], ending_time))\n",
    "total_time = ending_time - starting_time\n",
    "print('Done! in {}'.format(total_time))\n",
    "\n",
    "with open(root_parent_directory + container + '/' + container + '.csv', 'a+', newline='') as tracking_csv_file:\n",
    "    tracking_record_writer = DictWriter(tracking_csv_file, fieldnames=['id_total', 'id_ts'])\n",
    "    tracking_record_writer.writerow({'id_total': 'finishing {} at {}'.format(ts_name_df.timestamp.loc[final_index - 1], ending_time)})\n",
    "    tracking_record_writer.writerow({'id_total': 'Done! in {}'.format(total_time)})"
   ]
  },
  {
   "cell_type": "code",
   "execution_count": 444,
   "metadata": {},
   "outputs": [],
   "source": [
    "\n"
   ]
  },
  {
   "cell_type": "markdown",
   "metadata": {},
   "source": [
    "# apply - apply"
   ]
  },
  {
   "cell_type": "code",
   "execution_count": null,
   "metadata": {},
   "outputs": [],
   "source": [
    "#%% FUNCTION 1\n",
    "def function_1_ts(\n",
    "    arg_ts_name_df_file_point_shp, \n",
    "    arg_ts_name_df_file_spl_sdat, \n",
    "    arg_ts_name_df_suf_clsc_sdat,\n",
    "    arg_ts_name_df_suf_vosc_shp,\n",
    "    arg_ts_name_df_suf_vosc_dbf,\n",
    "    arg_ts_name_df_timestamp\n",
    "    ):\n",
    "\n",
    "    # PARAMETERS FOR THE THIN SPLINE SURFACE FUNCTION\n",
    "    x_min = 331480.0\n",
    "    x_max = 335660.0\n",
    "    y_min = 6244860.0\n",
    "    y_max = 6249400.0\n",
    "    crs_projection = '[EPSG:28356]'\n",
    "    cell_size = 1\n",
    "\n",
    "    # TPS via SAGA processing\n",
    "    processing.run(\"sagang:thinplatespline\",\\\n",
    "        {'SHAPES':arg_ts_name_df_file_point_shp,\\\n",
    "        'FIELD':'Depth',\\\n",
    "        'TARGET_USER_XMIN TARGET_USER_XMAX TARGET_USER_YMIN TARGET_USER_YMAX':'{},{},{},{} {}'.format(x_min, x_max, y_min, y_max, crs_projection),\\\n",
    "        'TARGET_USER_SIZE':cell_size,\\\n",
    "        'TARGET_OUT_GRID':arg_ts_name_df_file_spl_sdat,\\\n",
    "        'REGULARISATION':0.0001,\\\n",
    "        'SEARCH_RANGE':1,\\\n",
    "        'SEARCH_RADIUS':20000,\\\n",
    "        'SEARCH_POINTS_ALL':1,\\\n",
    "        'SEARCH_POINTS_MIN':16,\\\n",
    "        'SEARCH_POINTS_MAX':20,\\\n",
    "        'SEARCH_DIRECTION':0})\n",
    "\n",
    "    # EXECUTE FUNCTION 2\n",
    "    sc_name_df.apply(lambda arg: function_2_sc(\n",
    "        arg_ts_name_df_file_spl_sdat,\n",
    "        arg.file_mask_shp,\n",
    "        arg.pre_clsc_sdat,\n",
    "        arg_ts_name_df_suf_clsc_sdat,\n",
    "        arg.pre_vosc_shp,\n",
    "        arg_ts_name_df_suf_vosc_shp,\n",
    "        arg_ts_name_df_suf_vosc_dbf,\n",
    "        arg.area,\n",
    "        arg.file_prec_csv,\n",
    "        arg.subcatchment,\n",
    "        arg_ts_name_df_timestamp),\n",
    "        axis=1)"
   ]
  },
  {
   "cell_type": "code",
   "execution_count": null,
   "metadata": {},
   "outputs": [],
   "source": [
    "#%% EXECUTE FUNCTION 1\n",
    "np.vectorize(function_1_ts)(\n",
    "    ts_name_df.file_point_shp, \n",
    "    ts_name_df.file_spl_sdat, \n",
    "    ts_name_df.suf_clsc_sdat,\n",
    "    ts_name_df.suf_vosc_shp,\n",
    "    ts_name_df.suf_vosc_dbf,\n",
    "    ts_name_df.timestamp\n",
    "    )"
   ]
  },
  {
   "cell_type": "code",
   "execution_count": null,
   "metadata": {},
   "outputs": [],
   "source": []
  },
  {
   "cell_type": "markdown",
   "metadata": {},
   "source": [
    "# apply - vectorize"
   ]
  },
  {
   "cell_type": "code",
   "execution_count": null,
   "metadata": {},
   "outputs": [],
   "source": [
    "#%% FUNCTION 1\n",
    "def function_1_ts(\n",
    "    arg_ts_name_df_file_point_shp, \n",
    "    arg_ts_name_df_file_spl_sdat, \n",
    "    arg_ts_name_df_suf_clsc_sdat,\n",
    "    arg_ts_name_df_suf_vosc_shp,\n",
    "    arg_ts_name_df_suf_vosc_dbf,\n",
    "    arg_ts_name_df_timestamp\n",
    "    ):\n",
    "\n",
    "    # PARAMETERS FOR THE THIN SPLINE SURFACE FUNCTION\n",
    "    x_min = 331480.0\n",
    "    x_max = 335660.0\n",
    "    y_min = 6244860.0\n",
    "    y_max = 6249400.0\n",
    "    crs_projection = '[EPSG:28356]'\n",
    "    cell_size = 1\n",
    "\n",
    "    # TPS via SAGA processing\n",
    "    processing.run(\"sagang:thinplatespline\",\\\n",
    "        {'SHAPES':arg_ts_name_df_file_point_shp,\\\n",
    "        'FIELD':'Depth',\\\n",
    "        'TARGET_USER_XMIN TARGET_USER_XMAX TARGET_USER_YMIN TARGET_USER_YMAX':'{},{},{},{} {}'.format(x_min, x_max, y_min, y_max, crs_projection),\\\n",
    "        'TARGET_USER_SIZE':cell_size,\\\n",
    "        'TARGET_OUT_GRID':arg_ts_name_df_file_spl_sdat,\\\n",
    "        'REGULARISATION':0.0001,\\\n",
    "        'SEARCH_RANGE':1,\\\n",
    "        'SEARCH_RADIUS':20000,\\\n",
    "        'SEARCH_POINTS_ALL':1,\\\n",
    "        'SEARCH_POINTS_MIN':16,\\\n",
    "        'SEARCH_POINTS_MAX':20,\\\n",
    "        'SEARCH_DIRECTION':0})\n",
    "\n",
    "    # EXECUTE FUNCTION 2\n",
    "    np.vectorize(function_2_sc)(\n",
    "        arg_ts_name_df_file_spl_sdat,\n",
    "        sc_name_df.file_mask_shp,\n",
    "        sc_name_df.pre_clsc_sdat,\n",
    "        arg_ts_name_df_suf_clsc_sdat,\n",
    "        sc_name_df.pre_vosc_shp,\n",
    "        arg_ts_name_df_suf_vosc_shp,\n",
    "        arg_ts_name_df_suf_vosc_dbf,\n",
    "        sc_name_df.area,\n",
    "        sc_name_df.file_prec_csv,\n",
    "        sc_name_df.subcatchment,\n",
    "        arg_ts_name_df_timestamp\n",
    "        )"
   ]
  },
  {
   "cell_type": "code",
   "execution_count": null,
   "metadata": {},
   "outputs": [],
   "source": [
    "#%% EXECUTE FUNCTION 1\n",
    "ts_name_df.apply(lambda arg: function_1_ts(\n",
    "    arg.file_point_shp,\n",
    "    arg.file_spl_sdat,\n",
    "    arg.suf_clsc_sdat,\n",
    "    arg.suf_vosc_shp,\n",
    "    arg.suf_vosc_dbf,\n",
    "    arg.timestamp),\n",
    "    axis=1)"
   ]
  },
  {
   "cell_type": "code",
   "execution_count": 400,
   "metadata": {},
   "outputs": [
    {
     "name": "stdout",
     "output_type": "stream",
     "text": [
      "finishing ts_199809091235 at 2022-10-13 02:42:47.759603\n",
      "Done! in 0:01:26.076998\n"
     ]
    }
   ],
   "source": []
  },
  {
   "cell_type": "code",
   "execution_count": 402,
   "metadata": {},
   "outputs": [
    {
     "data": {
      "text/html": [
       "<div>\n",
       "<style scoped>\n",
       "    .dataframe tbody tr th:only-of-type {\n",
       "        vertical-align: middle;\n",
       "    }\n",
       "\n",
       "    .dataframe tbody tr th {\n",
       "        vertical-align: top;\n",
       "    }\n",
       "\n",
       "    .dataframe thead th {\n",
       "        text-align: right;\n",
       "    }\n",
       "</style>\n",
       "<table border=\"1\" class=\"dataframe\">\n",
       "  <thead>\n",
       "    <tr style=\"text-align: right;\">\n",
       "      <th></th>\n",
       "      <th>timestamp</th>\n",
       "      <th>file_point_shp</th>\n",
       "      <th>file_spl_sdat</th>\n",
       "      <th>suf_clsc_sdat</th>\n",
       "      <th>suf_vosc_shp</th>\n",
       "      <th>suf_vosc_dbf</th>\n",
       "    </tr>\n",
       "  </thead>\n",
       "  <tbody>\n",
       "    <tr>\n",
       "      <th>10</th>\n",
       "      <td>ts_199809090830</td>\n",
       "      <td>C:/Users/HOLGER/Downloads/SharedFiles_ProfJame...</td>\n",
       "      <td>C:/Users/HOLGER/Downloads/SharedFiles_ProfJame...</td>\n",
       "      <td>_199809090830.sdat</td>\n",
       "      <td>_199809090830.shp</td>\n",
       "      <td>_199809090830.dbf</td>\n",
       "    </tr>\n",
       "    <tr>\n",
       "      <th>11</th>\n",
       "      <td>ts_199809090835</td>\n",
       "      <td>C:/Users/HOLGER/Downloads/SharedFiles_ProfJame...</td>\n",
       "      <td>C:/Users/HOLGER/Downloads/SharedFiles_ProfJame...</td>\n",
       "      <td>_199809090835.sdat</td>\n",
       "      <td>_199809090835.shp</td>\n",
       "      <td>_199809090835.dbf</td>\n",
       "    </tr>\n",
       "    <tr>\n",
       "      <th>12</th>\n",
       "      <td>ts_199809090840</td>\n",
       "      <td>C:/Users/HOLGER/Downloads/SharedFiles_ProfJame...</td>\n",
       "      <td>C:/Users/HOLGER/Downloads/SharedFiles_ProfJame...</td>\n",
       "      <td>_199809090840.sdat</td>\n",
       "      <td>_199809090840.shp</td>\n",
       "      <td>_199809090840.dbf</td>\n",
       "    </tr>\n",
       "    <tr>\n",
       "      <th>13</th>\n",
       "      <td>ts_199809090845</td>\n",
       "      <td>C:/Users/HOLGER/Downloads/SharedFiles_ProfJame...</td>\n",
       "      <td>C:/Users/HOLGER/Downloads/SharedFiles_ProfJame...</td>\n",
       "      <td>_199809090845.sdat</td>\n",
       "      <td>_199809090845.shp</td>\n",
       "      <td>_199809090845.dbf</td>\n",
       "    </tr>\n",
       "    <tr>\n",
       "      <th>14</th>\n",
       "      <td>ts_199809090850</td>\n",
       "      <td>C:/Users/HOLGER/Downloads/SharedFiles_ProfJame...</td>\n",
       "      <td>C:/Users/HOLGER/Downloads/SharedFiles_ProfJame...</td>\n",
       "      <td>_199809090850.sdat</td>\n",
       "      <td>_199809090850.shp</td>\n",
       "      <td>_199809090850.dbf</td>\n",
       "    </tr>\n",
       "    <tr>\n",
       "      <th>15</th>\n",
       "      <td>ts_199809090855</td>\n",
       "      <td>C:/Users/HOLGER/Downloads/SharedFiles_ProfJame...</td>\n",
       "      <td>C:/Users/HOLGER/Downloads/SharedFiles_ProfJame...</td>\n",
       "      <td>_199809090855.sdat</td>\n",
       "      <td>_199809090855.shp</td>\n",
       "      <td>_199809090855.dbf</td>\n",
       "    </tr>\n",
       "    <tr>\n",
       "      <th>16</th>\n",
       "      <td>ts_199809090900</td>\n",
       "      <td>C:/Users/HOLGER/Downloads/SharedFiles_ProfJame...</td>\n",
       "      <td>C:/Users/HOLGER/Downloads/SharedFiles_ProfJame...</td>\n",
       "      <td>_199809090900.sdat</td>\n",
       "      <td>_199809090900.shp</td>\n",
       "      <td>_199809090900.dbf</td>\n",
       "    </tr>\n",
       "    <tr>\n",
       "      <th>17</th>\n",
       "      <td>ts_199809091225</td>\n",
       "      <td>C:/Users/HOLGER/Downloads/SharedFiles_ProfJame...</td>\n",
       "      <td>C:/Users/HOLGER/Downloads/SharedFiles_ProfJame...</td>\n",
       "      <td>_199809091225.sdat</td>\n",
       "      <td>_199809091225.shp</td>\n",
       "      <td>_199809091225.dbf</td>\n",
       "    </tr>\n",
       "    <tr>\n",
       "      <th>18</th>\n",
       "      <td>ts_199809091230</td>\n",
       "      <td>C:/Users/HOLGER/Downloads/SharedFiles_ProfJame...</td>\n",
       "      <td>C:/Users/HOLGER/Downloads/SharedFiles_ProfJame...</td>\n",
       "      <td>_199809091230.sdat</td>\n",
       "      <td>_199809091230.shp</td>\n",
       "      <td>_199809091230.dbf</td>\n",
       "    </tr>\n",
       "    <tr>\n",
       "      <th>19</th>\n",
       "      <td>ts_199809091235</td>\n",
       "      <td>C:/Users/HOLGER/Downloads/SharedFiles_ProfJame...</td>\n",
       "      <td>C:/Users/HOLGER/Downloads/SharedFiles_ProfJame...</td>\n",
       "      <td>_199809091235.sdat</td>\n",
       "      <td>_199809091235.shp</td>\n",
       "      <td>_199809091235.dbf</td>\n",
       "    </tr>\n",
       "  </tbody>\n",
       "</table>\n",
       "</div>"
      ],
      "text/plain": [
       "          timestamp                                     file_point_shp  \\\n",
       "10  ts_199809090830  C:/Users/HOLGER/Downloads/SharedFiles_ProfJame...   \n",
       "11  ts_199809090835  C:/Users/HOLGER/Downloads/SharedFiles_ProfJame...   \n",
       "12  ts_199809090840  C:/Users/HOLGER/Downloads/SharedFiles_ProfJame...   \n",
       "13  ts_199809090845  C:/Users/HOLGER/Downloads/SharedFiles_ProfJame...   \n",
       "14  ts_199809090850  C:/Users/HOLGER/Downloads/SharedFiles_ProfJame...   \n",
       "15  ts_199809090855  C:/Users/HOLGER/Downloads/SharedFiles_ProfJame...   \n",
       "16  ts_199809090900  C:/Users/HOLGER/Downloads/SharedFiles_ProfJame...   \n",
       "17  ts_199809091225  C:/Users/HOLGER/Downloads/SharedFiles_ProfJame...   \n",
       "18  ts_199809091230  C:/Users/HOLGER/Downloads/SharedFiles_ProfJame...   \n",
       "19  ts_199809091235  C:/Users/HOLGER/Downloads/SharedFiles_ProfJame...   \n",
       "\n",
       "                                        file_spl_sdat       suf_clsc_sdat  \\\n",
       "10  C:/Users/HOLGER/Downloads/SharedFiles_ProfJame...  _199809090830.sdat   \n",
       "11  C:/Users/HOLGER/Downloads/SharedFiles_ProfJame...  _199809090835.sdat   \n",
       "12  C:/Users/HOLGER/Downloads/SharedFiles_ProfJame...  _199809090840.sdat   \n",
       "13  C:/Users/HOLGER/Downloads/SharedFiles_ProfJame...  _199809090845.sdat   \n",
       "14  C:/Users/HOLGER/Downloads/SharedFiles_ProfJame...  _199809090850.sdat   \n",
       "15  C:/Users/HOLGER/Downloads/SharedFiles_ProfJame...  _199809090855.sdat   \n",
       "16  C:/Users/HOLGER/Downloads/SharedFiles_ProfJame...  _199809090900.sdat   \n",
       "17  C:/Users/HOLGER/Downloads/SharedFiles_ProfJame...  _199809091225.sdat   \n",
       "18  C:/Users/HOLGER/Downloads/SharedFiles_ProfJame...  _199809091230.sdat   \n",
       "19  C:/Users/HOLGER/Downloads/SharedFiles_ProfJame...  _199809091235.sdat   \n",
       "\n",
       "         suf_vosc_shp       suf_vosc_dbf  \n",
       "10  _199809090830.shp  _199809090830.dbf  \n",
       "11  _199809090835.shp  _199809090835.dbf  \n",
       "12  _199809090840.shp  _199809090840.dbf  \n",
       "13  _199809090845.shp  _199809090845.dbf  \n",
       "14  _199809090850.shp  _199809090850.dbf  \n",
       "15  _199809090855.shp  _199809090855.dbf  \n",
       "16  _199809090900.shp  _199809090900.dbf  \n",
       "17  _199809091225.shp  _199809091225.dbf  \n",
       "18  _199809091230.shp  _199809091230.dbf  \n",
       "19  _199809091235.shp  _199809091235.dbf  "
      ]
     },
     "execution_count": 402,
     "metadata": {},
     "output_type": "execute_result"
    }
   ],
   "source": [
    "ts_name_df"
   ]
  },
  {
   "cell_type": "code",
   "execution_count": 405,
   "metadata": {},
   "outputs": [
    {
     "data": {
      "text/plain": [
       "10    C:/Users/HOLGER/Downloads/SharedFiles_ProfJame...\n",
       "11    C:/Users/HOLGER/Downloads/SharedFiles_ProfJame...\n",
       "12    C:/Users/HOLGER/Downloads/SharedFiles_ProfJame...\n",
       "13    C:/Users/HOLGER/Downloads/SharedFiles_ProfJame...\n",
       "14    C:/Users/HOLGER/Downloads/SharedFiles_ProfJame...\n",
       "15    C:/Users/HOLGER/Downloads/SharedFiles_ProfJame...\n",
       "16    C:/Users/HOLGER/Downloads/SharedFiles_ProfJame...\n",
       "17    C:/Users/HOLGER/Downloads/SharedFiles_ProfJame...\n",
       "18    C:/Users/HOLGER/Downloads/SharedFiles_ProfJame...\n",
       "19    C:/Users/HOLGER/Downloads/SharedFiles_ProfJame...\n",
       "Name: file_point_shp, dtype: object"
      ]
     },
     "execution_count": 405,
     "metadata": {},
     "output_type": "execute_result"
    }
   ],
   "source": [
    "ts_name_df.file_point_shp"
   ]
  },
  {
   "cell_type": "code",
   "execution_count": 408,
   "metadata": {},
   "outputs": [
    {
     "data": {
      "text/plain": [
       "'C:/Users/HOLGER/Downloads/SharedFiles_ProfJames/_Spline_Surface/_global/point_shp/ts_199809090830.shp'"
      ]
     },
     "execution_count": 408,
     "metadata": {},
     "output_type": "execute_result"
    }
   ],
   "source": [
    "ts_name_df.file_point_shp[10]"
   ]
  },
  {
   "cell_type": "code",
   "execution_count": 10,
   "metadata": {},
   "outputs": [
    {
     "data": {
      "text/plain": [
       "'hlhkjhlkj.shp'"
      ]
     },
     "execution_count": 10,
     "metadata": {},
     "output_type": "execute_result"
    }
   ],
   "source": [
    "asd = 'hlhkjhlkj.shp'\n",
    "asd"
   ]
  },
  {
   "cell_type": "code",
   "execution_count": 12,
   "metadata": {},
   "outputs": [
    {
     "data": {
      "text/plain": [
       "'hlhkjhlkj.dbf'"
      ]
     },
     "execution_count": 12,
     "metadata": {},
     "output_type": "execute_result"
    }
   ],
   "source": [
    "asd[:-4] + '.dbf'"
   ]
  },
  {
   "cell_type": "code",
   "execution_count": 4,
   "metadata": {},
   "outputs": [],
   "source": [
    "import os"
   ]
  },
  {
   "cell_type": "code",
   "execution_count": 18,
   "metadata": {},
   "outputs": [
    {
     "ename": "SyntaxError",
     "evalue": "(unicode error) 'unicodeescape' codec can't decode bytes in position 2-3: truncated \\UXXXXXXXX escape (2206538593.py, line 1)",
     "output_type": "error",
     "traceback": [
      "\u001b[1;36m  Cell \u001b[1;32mIn [18], line 1\u001b[1;36m\u001b[0m\n\u001b[1;33m    asd = \"C:\\Users\\HOLGER\\Downloads\\SharedFiles_ProfJames\\_Spline_Surface\\_SP_m_test\\_results\\temp_spl_sdat_file.sdat.aux\"\u001b[0m\n\u001b[1;37m                                                                                                                           ^\u001b[0m\n\u001b[1;31mSyntaxError\u001b[0m\u001b[1;31m:\u001b[0m (unicode error) 'unicodeescape' codec can't decode bytes in position 2-3: truncated \\UXXXXXXXX escape\n"
     ]
    }
   ],
   "source": [
    "asd = \"C:\\Users\\HOLGER\\Downloads\\SharedFiles_ProfJames\\_Spline_Surface\\_SP_m_test\\_results\\temp_spl_sdat_file.sdat.aux\""
   ]
  },
  {
   "cell_type": "code",
   "execution_count": 16,
   "metadata": {},
   "outputs": [
    {
     "ename": "FileNotFoundError",
     "evalue": "[WinError 2] The system cannot find the file specified: 'C:\\\\Users\\\\HOLGER\\\\Downloads\\\\SharedFiles_ProfJames\\\\_Spline_Surface\\\\_SP_m_test\\\\_results\\\\temp_spl_sdat_file.sdat.aux'",
     "output_type": "error",
     "traceback": [
      "\u001b[1;31m---------------------------------------------------------------------------\u001b[0m",
      "\u001b[1;31mFileNotFoundError\u001b[0m                         Traceback (most recent call last)",
      "Cell \u001b[1;32mIn [16], line 1\u001b[0m\n\u001b[1;32m----> 1\u001b[0m os\u001b[39m.\u001b[39mremove(asd)\n",
      "\u001b[1;31mFileNotFoundError\u001b[0m: [WinError 2] The system cannot find the file specified: 'C:\\\\Users\\\\HOLGER\\\\Downloads\\\\SharedFiles_ProfJames\\\\_Spline_Surface\\\\_SP_m_test\\\\_results\\\\temp_spl_sdat_file.sdat.aux'"
     ]
    }
   ],
   "source": [
    "os.remove(asd)"
   ]
  },
  {
   "cell_type": "code",
   "execution_count": null,
   "metadata": {},
   "outputs": [],
   "source": []
  }
 ],
 "metadata": {
  "kernelspec": {
   "display_name": "qgis_env",
   "language": "python",
   "name": "qgis_env"
  },
  "language_info": {
   "codemirror_mode": {
    "name": "ipython",
    "version": 3
   },
   "file_extension": ".py",
   "mimetype": "text/x-python",
   "name": "python",
   "nbconvert_exporter": "python",
   "pygments_lexer": "ipython3",
   "version": "3.9.5"
  },
  "orig_nbformat": 4,
  "vscode": {
   "interpreter": {
    "hash": "ad2bdc8ecc057115af97d19610ffacc2b4e99fae6737bb82f5d7fb13d2f2c186"
   }
  }
 },
 "nbformat": 4,
 "nbformat_minor": 2
}
