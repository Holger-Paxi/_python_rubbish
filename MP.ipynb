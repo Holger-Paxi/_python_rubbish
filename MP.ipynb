{
 "cells": [
  {
   "cell_type": "code",
   "execution_count": null,
   "id": "d47445d2-a6c5-4d9b-842b-72e32fc9a3c3",
   "metadata": {},
   "outputs": [],
   "source": [
    "import pandas as pd\n",
    "import numpy as np\n",
    "from resources import create_csv\n",
    "from multiprocessing import Pool\n",
    "from csv import DictWriter\n",
    "from datetime import datetime as dt"
   ]
  },
  {
   "cell_type": "code",
   "execution_count": null,
   "id": "38c765c0-a7ab-4c3a-b822-460eda6828b6",
   "metadata": {},
   "outputs": [],
   "source": [
    "create_csv('df1', 100)\n",
    "create_csv('df2', 500)"
   ]
  },
  {
   "cell_type": "code",
   "execution_count": null,
   "id": "9a1e6f2c-f732-40bb-855a-9cfb87871c06",
   "metadata": {},
   "outputs": [],
   "source": [
    "df1 = pd.read_csv('df1.csv',index_col=0)\n",
    "df1.tail()"
   ]
  },
  {
   "cell_type": "code",
   "execution_count": null,
   "id": "a08d15de-be61-4d53-974a-c22ddbdac22f",
   "metadata": {},
   "outputs": [],
   "source": [
    "df2 = pd.read_csv('df2.csv',index_col=0)\n",
    "df2.tail()"
   ]
  },
  {
   "cell_type": "code",
   "execution_count": null,
   "id": "3249e37e-cfab-4078-80fa-2e8b7830f94a",
   "metadata": {},
   "outputs": [],
   "source": [
    "def operaciones(arg1, arg2):\n",
    "    registro = [arg1, arg2, arg1+arg2, arg1-arg2, arg1*arg2, arg1/arg2]\n",
    "    return registro "
   ]
  },
  {
   "cell_type": "markdown",
   "id": "9226229c-d757-4816-a13a-6e65cb7895c9",
   "metadata": {},
   "source": [
    "# escribiendo cada registro"
   ]
  },
  {
   "cell_type": "code",
   "execution_count": null,
   "id": "d6a16854-8ad2-4ffd-b7fb-3f61e0749fba",
   "metadata": {},
   "outputs": [],
   "source": [
    "def subproceso(arg1,arg2):\n",
    "    keys = ['a', 'b', 'a+b', 'a-b', 'a*b', 'a/b']\n",
    "    registro = operaciones(arg1, arg2)\n",
    "    with open('./out.csv', 'a+', newline='') as csv_file:\n",
    "        dw = DictWriter(csv_file, fieldnames=keys)\n",
    "        dw.writerow(dict(zip(keys, registro)))  "
   ]
  },
  {
   "cell_type": "code",
   "execution_count": null,
   "id": "d6948556-6531-4b57-9247-1c80b0d9c6f9",
   "metadata": {},
   "outputs": [],
   "source": [
    "start = dt.now()"
   ]
  },
  {
   "cell_type": "code",
   "execution_count": null,
   "id": "7f6326dc-3880-430d-a609-587dd08bf89f",
   "metadata": {},
   "outputs": [],
   "source": [
    "with Pool(4) as pool:\n",
    "    for i in range(len(df1)):\n",
    "        pool.starmap(subproceso, [ (df1.iloc[i]['df1'], df2.iloc[j]['df2']) for j in range(len(df2)) ])"
   ]
  },
  {
   "cell_type": "code",
   "execution_count": null,
   "id": "da74840b-fb51-435a-9acf-172bb6d1c4a9",
   "metadata": {
    "scrolled": true
   },
   "outputs": [],
   "source": [
    "end = dt.now()\n",
    "tiempo = end - start\n",
    "print(f'{tiempo = }')"
   ]
  },
  {
   "cell_type": "code",
   "execution_count": null,
   "id": "75a854ee-71a1-445b-964c-0b7da23256ca",
   "metadata": {},
   "outputs": [],
   "source": [
    "out = pd.read_csv('out.csv',index_col=False, header=None, names=['a', 'b', 'a+b', 'a-b', 'a*b', 'a/b'])\n",
    "out.tail()"
   ]
  },
  {
   "cell_type": "markdown",
   "id": "4ca04ca4-cb40-41c4-8dba-1eede32d67ef",
   "metadata": {},
   "source": [
    "# escribiendo bloque completo df2"
   ]
  },
  {
   "cell_type": "code",
   "execution_count": null,
   "id": "c4340ff2-8c9e-481b-a46a-9b0a8e58a8f7",
   "metadata": {},
   "outputs": [],
   "source": [
    "start = dt.now()"
   ]
  },
  {
   "cell_type": "code",
   "execution_count": null,
   "id": "564aa07e-9331-4a40-8f2d-7593e4107e71",
   "metadata": {},
   "outputs": [],
   "source": [
    "with Pool(4) as pool:\n",
    "    for i in range(len(df1)):\n",
    "        registros = pool.starmap(operaciones, [ (df1.iloc[i]['df1'], df2.iloc[j]['df2']) for j in range(len(df2)) ])\n",
    "        keys = ['a', 'b', 'a+b', 'a-b', 'a*b', 'a/b']\n",
    "        regs = pd.DataFrame(registros, columns=keys)\n",
    "        regs.to_csv('out2.csv', header=False, index=None, mode='a')"
   ]
  },
  {
   "cell_type": "code",
   "execution_count": null,
   "id": "4db84e61-380f-429a-8ee7-0b1185ffe423",
   "metadata": {
    "scrolled": true
   },
   "outputs": [],
   "source": [
    "end = dt.now()\n",
    "tiempo = end - start\n",
    "print(f'{tiempo = }')"
   ]
  },
  {
   "cell_type": "code",
   "execution_count": null,
   "id": "0623095a-f35b-4c46-aca4-fc49a8f017ab",
   "metadata": {},
   "outputs": [],
   "source": [
    "out = pd.read_csv('out2.csv',index_col=False, header=None, names=['a', 'b', 'a+b', 'a-b', 'a*b', 'a/b'])\n",
    "out.tail()"
   ]
  },
  {
   "cell_type": "markdown",
   "id": "55549a50-8cec-46ae-8ac1-f2fc5fd06766",
   "metadata": {},
   "source": []
  }
 ],
 "metadata": {
  "kernelspec": {
   "display_name": "mp",
   "language": "python",
   "name": "mp"
  },
  "language_info": {
   "codemirror_mode": {
    "name": "ipython",
    "version": 3
   },
   "file_extension": ".py",
   "mimetype": "text/x-python",
   "name": "python",
   "nbconvert_exporter": "python",
   "pygments_lexer": "ipython3",
   "version": "3.11.3"
  }
 },
 "nbformat": 4,
 "nbformat_minor": 5
}
