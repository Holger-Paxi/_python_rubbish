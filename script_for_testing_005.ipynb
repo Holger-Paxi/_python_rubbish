{
 "cells": [
  {
   "cell_type": "code",
   "execution_count": 1,
   "id": "5e0393c8",
   "metadata": {},
   "outputs": [],
   "source": [
    "import pandas as pd\n",
    "import numpy as np"
   ]
  },
  {
   "cell_type": "code",
   "execution_count": 2,
   "id": "211836ce",
   "metadata": {},
   "outputs": [],
   "source": [
    "ts = pd.read_csv('C:/Users/HOLGER/Downloads/SharedFiles_ProfJames/_Spline_Surface/_test_timestamp2.csv')\n",
    "sc = pd.read_csv('C:/Users/HOLGER/Downloads/SharedFiles_ProfJames/_Spline_Surface/_test_subcatchments.csv')"
   ]
  },
  {
   "cell_type": "code",
   "execution_count": 3,
   "id": "3244262a",
   "metadata": {},
   "outputs": [
    {
     "data": {
      "text/html": [
       "<div>\n",
       "<style scoped>\n",
       "    .dataframe tbody tr th:only-of-type {\n",
       "        vertical-align: middle;\n",
       "    }\n",
       "\n",
       "    .dataframe tbody tr th {\n",
       "        vertical-align: top;\n",
       "    }\n",
       "\n",
       "    .dataframe thead th {\n",
       "        text-align: right;\n",
       "    }\n",
       "</style>\n",
       "<table border=\"1\" class=\"dataframe\">\n",
       "  <thead>\n",
       "    <tr style=\"text-align: right;\">\n",
       "      <th></th>\n",
       "      <th>timestamp</th>\n",
       "    </tr>\n",
       "  </thead>\n",
       "  <tbody>\n",
       "    <tr>\n",
       "      <th>0</th>\n",
       "      <td>Precipitation_30pts_1mm_28356</td>\n",
       "    </tr>\n",
       "    <tr>\n",
       "      <th>1</th>\n",
       "      <td>Precipitation_30pts_1mm_28357</td>\n",
       "    </tr>\n",
       "    <tr>\n",
       "      <th>2</th>\n",
       "      <td>Precipitation_30pts_1mm_28358</td>\n",
       "    </tr>\n",
       "    <tr>\n",
       "      <th>3</th>\n",
       "      <td>Precipitation_30pts_1mm_28359</td>\n",
       "    </tr>\n",
       "    <tr>\n",
       "      <th>4</th>\n",
       "      <td>Precipitation_30pts_1mm_28360</td>\n",
       "    </tr>\n",
       "  </tbody>\n",
       "</table>\n",
       "</div>"
      ],
      "text/plain": [
       "                       timestamp\n",
       "0  Precipitation_30pts_1mm_28356\n",
       "1  Precipitation_30pts_1mm_28357\n",
       "2  Precipitation_30pts_1mm_28358\n",
       "3  Precipitation_30pts_1mm_28359\n",
       "4  Precipitation_30pts_1mm_28360"
      ]
     },
     "execution_count": 3,
     "metadata": {},
     "output_type": "execute_result"
    }
   ],
   "source": [
    "ts.head()"
   ]
  },
  {
   "cell_type": "code",
   "execution_count": 4,
   "id": "49f008e2",
   "metadata": {},
   "outputs": [
    {
     "data": {
      "text/html": [
       "<div>\n",
       "<style scoped>\n",
       "    .dataframe tbody tr th:only-of-type {\n",
       "        vertical-align: middle;\n",
       "    }\n",
       "\n",
       "    .dataframe tbody tr th {\n",
       "        vertical-align: top;\n",
       "    }\n",
       "\n",
       "    .dataframe thead th {\n",
       "        text-align: right;\n",
       "    }\n",
       "</style>\n",
       "<table border=\"1\" class=\"dataframe\">\n",
       "  <thead>\n",
       "    <tr style=\"text-align: right;\">\n",
       "      <th></th>\n",
       "      <th>subcatchment</th>\n",
       "      <th>area</th>\n",
       "    </tr>\n",
       "  </thead>\n",
       "  <tbody>\n",
       "    <tr>\n",
       "      <th>0</th>\n",
       "      <td>sc_0001</td>\n",
       "      <td>1</td>\n",
       "    </tr>\n",
       "    <tr>\n",
       "      <th>1</th>\n",
       "      <td>sc_0002</td>\n",
       "      <td>2</td>\n",
       "    </tr>\n",
       "    <tr>\n",
       "      <th>2</th>\n",
       "      <td>sc_0003</td>\n",
       "      <td>3</td>\n",
       "    </tr>\n",
       "    <tr>\n",
       "      <th>3</th>\n",
       "      <td>sc_0004</td>\n",
       "      <td>4</td>\n",
       "    </tr>\n",
       "    <tr>\n",
       "      <th>4</th>\n",
       "      <td>sc_0005</td>\n",
       "      <td>5</td>\n",
       "    </tr>\n",
       "  </tbody>\n",
       "</table>\n",
       "</div>"
      ],
      "text/plain": [
       "  subcatchment  area\n",
       "0      sc_0001     1\n",
       "1      sc_0002     2\n",
       "2      sc_0003     3\n",
       "3      sc_0004     4\n",
       "4      sc_0005     5"
      ]
     },
     "execution_count": 4,
     "metadata": {},
     "output_type": "execute_result"
    }
   ],
   "source": [
    "sc.head()"
   ]
  },
  {
   "cell_type": "code",
   "execution_count": 5,
   "id": "ee7ed073",
   "metadata": {},
   "outputs": [
    {
     "data": {
      "text/html": [
       "<div>\n",
       "<style scoped>\n",
       "    .dataframe tbody tr th:only-of-type {\n",
       "        vertical-align: middle;\n",
       "    }\n",
       "\n",
       "    .dataframe tbody tr th {\n",
       "        vertical-align: top;\n",
       "    }\n",
       "\n",
       "    .dataframe thead th {\n",
       "        text-align: right;\n",
       "    }\n",
       "</style>\n",
       "<table border=\"1\" class=\"dataframe\">\n",
       "  <thead>\n",
       "    <tr style=\"text-align: right;\">\n",
       "      <th></th>\n",
       "      <th>subcatchment</th>\n",
       "    </tr>\n",
       "  </thead>\n",
       "  <tbody>\n",
       "    <tr>\n",
       "      <th>0</th>\n",
       "      <td>sc_0001_Precipitation_30pts_1mm_28356</td>\n",
       "    </tr>\n",
       "    <tr>\n",
       "      <th>1</th>\n",
       "      <td>sc_0002_Precipitation_30pts_1mm_28356</td>\n",
       "    </tr>\n",
       "    <tr>\n",
       "      <th>2</th>\n",
       "      <td>sc_0003_Precipitation_30pts_1mm_28356</td>\n",
       "    </tr>\n",
       "    <tr>\n",
       "      <th>3</th>\n",
       "      <td>sc_0004_Precipitation_30pts_1mm_28356</td>\n",
       "    </tr>\n",
       "    <tr>\n",
       "      <th>4</th>\n",
       "      <td>sc_0005_Precipitation_30pts_1mm_28356</td>\n",
       "    </tr>\n",
       "  </tbody>\n",
       "</table>\n",
       "</div>"
      ],
      "text/plain": [
       "                            subcatchment\n",
       "0  sc_0001_Precipitation_30pts_1mm_28356\n",
       "1  sc_0002_Precipitation_30pts_1mm_28356\n",
       "2  sc_0003_Precipitation_30pts_1mm_28356\n",
       "3  sc_0004_Precipitation_30pts_1mm_28356\n",
       "4  sc_0005_Precipitation_30pts_1mm_28356"
      ]
     },
     "execution_count": 5,
     "metadata": {},
     "output_type": "execute_result"
    }
   ],
   "source": [
    "aa = sc.subcatchment + '_' + ts.iloc[0,0] \n",
    "aa = aa.to_frame()\n",
    "aa.head()"
   ]
  },
  {
   "cell_type": "code",
   "execution_count": 6,
   "id": "36a33752",
   "metadata": {},
   "outputs": [
    {
     "data": {
      "text/html": [
       "<div>\n",
       "<style scoped>\n",
       "    .dataframe tbody tr th:only-of-type {\n",
       "        vertical-align: middle;\n",
       "    }\n",
       "\n",
       "    .dataframe tbody tr th {\n",
       "        vertical-align: top;\n",
       "    }\n",
       "\n",
       "    .dataframe thead th {\n",
       "        text-align: right;\n",
       "    }\n",
       "</style>\n",
       "<table border=\"1\" class=\"dataframe\">\n",
       "  <thead>\n",
       "    <tr style=\"text-align: right;\">\n",
       "      <th></th>\n",
       "      <th>timestamp</th>\n",
       "    </tr>\n",
       "  </thead>\n",
       "  <tbody>\n",
       "    <tr>\n",
       "      <th>0</th>\n",
       "      <td>sc_0001_Precipitation_30pts_1mm_28356</td>\n",
       "    </tr>\n",
       "    <tr>\n",
       "      <th>1</th>\n",
       "      <td>sc_0001_Precipitation_30pts_1mm_28357</td>\n",
       "    </tr>\n",
       "    <tr>\n",
       "      <th>2</th>\n",
       "      <td>sc_0001_Precipitation_30pts_1mm_28358</td>\n",
       "    </tr>\n",
       "    <tr>\n",
       "      <th>3</th>\n",
       "      <td>sc_0001_Precipitation_30pts_1mm_28359</td>\n",
       "    </tr>\n",
       "    <tr>\n",
       "      <th>4</th>\n",
       "      <td>sc_0001_Precipitation_30pts_1mm_28360</td>\n",
       "    </tr>\n",
       "  </tbody>\n",
       "</table>\n",
       "</div>"
      ],
      "text/plain": [
       "                               timestamp\n",
       "0  sc_0001_Precipitation_30pts_1mm_28356\n",
       "1  sc_0001_Precipitation_30pts_1mm_28357\n",
       "2  sc_0001_Precipitation_30pts_1mm_28358\n",
       "3  sc_0001_Precipitation_30pts_1mm_28359\n",
       "4  sc_0001_Precipitation_30pts_1mm_28360"
      ]
     },
     "execution_count": 6,
     "metadata": {},
     "output_type": "execute_result"
    }
   ],
   "source": [
    "bb = sc.iloc[0,0] + '_' + ts.timestamp\n",
    "bb = bb.to_frame()\n",
    "bb.head()"
   ]
  },
  {
   "cell_type": "code",
   "execution_count": null,
   "id": "340b558d",
   "metadata": {},
   "outputs": [],
   "source": []
  },
  {
   "cell_type": "code",
   "execution_count": 7,
   "id": "732b906e",
   "metadata": {},
   "outputs": [],
   "source": [
    "def func(id_arg_sc, arg_ts):\n",
    "    scc = id_arg_sc\n",
    "    globals()[scc] = id_arg_sc + '_' + arg_ts"
   ]
  },
  {
   "cell_type": "code",
   "execution_count": 8,
   "id": "ea4fb814",
   "metadata": {},
   "outputs": [],
   "source": [
    "re = np.vectorize(func)(sc.subcatchment, ts)"
   ]
  },
  {
   "cell_type": "code",
   "execution_count": 9,
   "id": "5511953d",
   "metadata": {},
   "outputs": [
    {
     "data": {
      "text/plain": [
       "'sc_0001_Precipitation_30pts_1mm_28395'"
      ]
     },
     "execution_count": 9,
     "metadata": {},
     "output_type": "execute_result"
    }
   ],
   "source": [
    "sc_0001"
   ]
  },
  {
   "cell_type": "code",
   "execution_count": 10,
   "id": "9f63b8a8",
   "metadata": {},
   "outputs": [
    {
     "data": {
      "text/plain": [
       "'sc_0002_Precipitation_30pts_1mm_28395'"
      ]
     },
     "execution_count": 10,
     "metadata": {},
     "output_type": "execute_result"
    }
   ],
   "source": [
    "sc_0002"
   ]
  },
  {
   "cell_type": "code",
   "execution_count": 11,
   "id": "a388ee82",
   "metadata": {},
   "outputs": [],
   "source": [
    "def func(id_arg_sc):\n",
    "    scc = id_arg_sc\n",
    "    globals()[scc] = id_arg_sc + '_' + ts"
   ]
  },
  {
   "cell_type": "code",
   "execution_count": 12,
   "id": "82917c3b",
   "metadata": {},
   "outputs": [],
   "source": [
    "re = np.vectorize(func)(sc.subcatchment)"
   ]
  },
  {
   "cell_type": "code",
   "execution_count": 13,
   "id": "9161fa15",
   "metadata": {},
   "outputs": [
    {
     "data": {
      "text/html": [
       "<div>\n",
       "<style scoped>\n",
       "    .dataframe tbody tr th:only-of-type {\n",
       "        vertical-align: middle;\n",
       "    }\n",
       "\n",
       "    .dataframe tbody tr th {\n",
       "        vertical-align: top;\n",
       "    }\n",
       "\n",
       "    .dataframe thead th {\n",
       "        text-align: right;\n",
       "    }\n",
       "</style>\n",
       "<table border=\"1\" class=\"dataframe\">\n",
       "  <thead>\n",
       "    <tr style=\"text-align: right;\">\n",
       "      <th></th>\n",
       "      <th>timestamp</th>\n",
       "    </tr>\n",
       "  </thead>\n",
       "  <tbody>\n",
       "    <tr>\n",
       "      <th>0</th>\n",
       "      <td>sc_0001_Precipitation_30pts_1mm_28356</td>\n",
       "    </tr>\n",
       "    <tr>\n",
       "      <th>1</th>\n",
       "      <td>sc_0001_Precipitation_30pts_1mm_28357</td>\n",
       "    </tr>\n",
       "    <tr>\n",
       "      <th>2</th>\n",
       "      <td>sc_0001_Precipitation_30pts_1mm_28358</td>\n",
       "    </tr>\n",
       "    <tr>\n",
       "      <th>3</th>\n",
       "      <td>sc_0001_Precipitation_30pts_1mm_28359</td>\n",
       "    </tr>\n",
       "    <tr>\n",
       "      <th>4</th>\n",
       "      <td>sc_0001_Precipitation_30pts_1mm_28360</td>\n",
       "    </tr>\n",
       "  </tbody>\n",
       "</table>\n",
       "</div>"
      ],
      "text/plain": [
       "                               timestamp\n",
       "0  sc_0001_Precipitation_30pts_1mm_28356\n",
       "1  sc_0001_Precipitation_30pts_1mm_28357\n",
       "2  sc_0001_Precipitation_30pts_1mm_28358\n",
       "3  sc_0001_Precipitation_30pts_1mm_28359\n",
       "4  sc_0001_Precipitation_30pts_1mm_28360"
      ]
     },
     "execution_count": 13,
     "metadata": {},
     "output_type": "execute_result"
    }
   ],
   "source": [
    "sc_0001.head()"
   ]
  },
  {
   "cell_type": "code",
   "execution_count": 14,
   "id": "b89aa6e5",
   "metadata": {},
   "outputs": [
    {
     "data": {
      "text/html": [
       "<div>\n",
       "<style scoped>\n",
       "    .dataframe tbody tr th:only-of-type {\n",
       "        vertical-align: middle;\n",
       "    }\n",
       "\n",
       "    .dataframe tbody tr th {\n",
       "        vertical-align: top;\n",
       "    }\n",
       "\n",
       "    .dataframe thead th {\n",
       "        text-align: right;\n",
       "    }\n",
       "</style>\n",
       "<table border=\"1\" class=\"dataframe\">\n",
       "  <thead>\n",
       "    <tr style=\"text-align: right;\">\n",
       "      <th></th>\n",
       "      <th>timestamp</th>\n",
       "    </tr>\n",
       "  </thead>\n",
       "  <tbody>\n",
       "    <tr>\n",
       "      <th>0</th>\n",
       "      <td>sc_0002_Precipitation_30pts_1mm_28356</td>\n",
       "    </tr>\n",
       "    <tr>\n",
       "      <th>1</th>\n",
       "      <td>sc_0002_Precipitation_30pts_1mm_28357</td>\n",
       "    </tr>\n",
       "    <tr>\n",
       "      <th>2</th>\n",
       "      <td>sc_0002_Precipitation_30pts_1mm_28358</td>\n",
       "    </tr>\n",
       "    <tr>\n",
       "      <th>3</th>\n",
       "      <td>sc_0002_Precipitation_30pts_1mm_28359</td>\n",
       "    </tr>\n",
       "    <tr>\n",
       "      <th>4</th>\n",
       "      <td>sc_0002_Precipitation_30pts_1mm_28360</td>\n",
       "    </tr>\n",
       "  </tbody>\n",
       "</table>\n",
       "</div>"
      ],
      "text/plain": [
       "                               timestamp\n",
       "0  sc_0002_Precipitation_30pts_1mm_28356\n",
       "1  sc_0002_Precipitation_30pts_1mm_28357\n",
       "2  sc_0002_Precipitation_30pts_1mm_28358\n",
       "3  sc_0002_Precipitation_30pts_1mm_28359\n",
       "4  sc_0002_Precipitation_30pts_1mm_28360"
      ]
     },
     "execution_count": 14,
     "metadata": {},
     "output_type": "execute_result"
    }
   ],
   "source": [
    "sc_0002.head()"
   ]
  },
  {
   "cell_type": "code",
   "execution_count": null,
   "id": "67e4be79",
   "metadata": {},
   "outputs": [],
   "source": []
  }
 ],
 "metadata": {
  "kernelspec": {
   "display_name": "qgis_env",
   "language": "python",
   "name": "qgis_env"
  },
  "language_info": {
   "codemirror_mode": {
    "name": "ipython",
    "version": 3
   },
   "file_extension": ".py",
   "mimetype": "text/x-python",
   "name": "python",
   "nbconvert_exporter": "python",
   "pygments_lexer": "ipython3",
   "version": "3.9.5"
  }
 },
 "nbformat": 4,
 "nbformat_minor": 5
}
