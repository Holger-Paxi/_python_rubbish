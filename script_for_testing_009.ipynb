{
 "cells": [
  {
   "cell_type": "code",
   "execution_count": 358,
   "id": "8c1088f8",
   "metadata": {},
   "outputs": [],
   "source": [
    "#%% MODULES\n",
    "\n",
    "import pandas as pd\n",
    "import processing\n",
    "import numpy as np\n",
    "import geopandas as gpd\n",
    "import datetime as dt\n",
    "from csv import DictWriter"
   ]
  },
  {
   "cell_type": "code",
   "execution_count": 393,
   "id": "148296dd",
   "metadata": {},
   "outputs": [],
   "source": [
    "#%% INPUT TIMESTAMPS (ts) THROUGH CSV FILES\n",
    "# IMPORTANT: the csv file must have a title and be limited to one column\n",
    "ts_csv_filename = '_test_timestamp2.csv'\n",
    "location_ts_csv_folder = 'C:/Users/HOLGER/Downloads/SharedFiles_ProfJames/_Spline_Surface/'\n",
    "location_ts_csv_file = '{}{}'.format(location_ts_csv_folder,ts_csv_filename)\n",
    "ts_name_df = pd.read_csv(location_ts_csv_file)"
   ]
  },
  {
   "cell_type": "code",
   "execution_count": 394,
   "id": "8ae4ffe8",
   "metadata": {},
   "outputs": [],
   "source": [
    "#%% INPUT SUBCATCHMENTS (sc) THROUGH CSV FILE\n",
    "sc_csv_filename = '_test_subcatchments.csv'\n",
    "location_sc_csv_folder = 'C:/Users/HOLGER/Downloads/SharedFiles_ProfJames/_Spline_Surface/'\n",
    "location_sc_csv_file = '{}{}'.format(location_sc_csv_folder,sc_csv_filename)\n",
    "sc_name_df = pd.read_csv(location_sc_csv_file)"
   ]
  },
  {
   "cell_type": "code",
   "execution_count": 395,
   "id": "1f3c6c8d",
   "metadata": {},
   "outputs": [],
   "source": [
    "#%% INPUT AND OUTPUT FOLDER\n",
    "input_folder = 'C:/Users/HOLGER/Downloads/SharedFiles_ProfJames/_Spline_Surface/vosc_dbf/'\n",
    "output_folder = 'C:/Users/HOLGER/Downloads/SharedFiles_ProfJames/_Spline_Surface/prec_csv/'"
   ]
  },
  {
   "cell_type": "code",
   "execution_count": 396,
   "id": "0d9c21db",
   "metadata": {},
   "outputs": [],
   "source": [
    "#%% SET NUMBER OF ITERATIONS\n",
    "# Sometimes it is necessary to put the maximum amount of iterations\n",
    "# remember: the first one is inclusive, whereas the last one is exclusive\n",
    "# first index: input index [n = 0] = dataframe index [n + 1 = 1]\n",
    "# last index: input index [n] = dataframe index [n + 1] \n",
    "initial_index = 0\n",
    "final_index = 0\n",
    "\n",
    "ts_name_df = ts_name_df.iloc[initial_index, :] if initial_index == final_index else ts_name_df.iloc[initial_index: final_index, :]\n",
    "ts_name_df = ts_name_df if type(ts_name_df) == type(pd.DataFrame()) else ts_name_df.to_frame().T\n",
    "ts_name_df['vosc_dbf'] = '_' + ts_name_df.timestamp.str[3:] + '.dbf'\n",
    "ts_name_df['prec_csv'] = '_' + ts_name_df.timestamp.str[3:] + '.csv'"
   ]
  },
  {
   "cell_type": "code",
   "execution_count": 397,
   "id": "59986fb1",
   "metadata": {},
   "outputs": [
    {
     "data": {
      "text/html": [
       "<div>\n",
       "<style scoped>\n",
       "    .dataframe tbody tr th:only-of-type {\n",
       "        vertical-align: middle;\n",
       "    }\n",
       "\n",
       "    .dataframe tbody tr th {\n",
       "        vertical-align: top;\n",
       "    }\n",
       "\n",
       "    .dataframe thead th {\n",
       "        text-align: right;\n",
       "    }\n",
       "</style>\n",
       "<table border=\"1\" class=\"dataframe\">\n",
       "  <thead>\n",
       "    <tr style=\"text-align: right;\">\n",
       "      <th></th>\n",
       "      <th>timestamp</th>\n",
       "      <th>vosc_dbf</th>\n",
       "      <th>prec_csv</th>\n",
       "    </tr>\n",
       "  </thead>\n",
       "  <tbody>\n",
       "    <tr>\n",
       "      <th>0</th>\n",
       "      <td>ts_202210060055</td>\n",
       "      <td>_202210060055.dbf</td>\n",
       "      <td>_202210060055.csv</td>\n",
       "    </tr>\n",
       "  </tbody>\n",
       "</table>\n",
       "</div>"
      ],
      "text/plain": [
       "         timestamp           vosc_dbf           prec_csv\n",
       "0  ts_202210060055  _202210060055.dbf  _202210060055.csv"
      ]
     },
     "execution_count": 397,
     "metadata": {},
     "output_type": "execute_result"
    }
   ],
   "source": [
    "ts_name_df"
   ]
  },
  {
   "cell_type": "code",
   "execution_count": 398,
   "id": "834de722",
   "metadata": {},
   "outputs": [
    {
     "name": "stdout",
     "output_type": "stream",
     "text": [
      "_202210060055.dbf\n",
      "_202210060055.csv\n"
     ]
    }
   ],
   "source": [
    "print(ts_name_df.iloc[0,1], ts_name_df.iloc[0,2], sep='\\n')"
   ]
  },
  {
   "cell_type": "code",
   "execution_count": 399,
   "id": "1a90a2d6",
   "metadata": {},
   "outputs": [],
   "source": [
    "#%% SET SUBCATCHMENT DATAFRAME\n",
    "# Sometimes it is necessary to put the maximum amount of iterations\n",
    "# remember: the first one is inclusive, whereas the last one is exclusive\n",
    "sc_name_df['vosc_dbf'] = input_folder + 'vosc_' + sc_name_df.subcatchment.str[3:]\n",
    "sc_name_df['prec_csv'] = output_folder + 'prec_' + sc_name_df.subcatchment.str[3:]"
   ]
  },
  {
   "cell_type": "code",
   "execution_count": 400,
   "id": "ae9c6790",
   "metadata": {},
   "outputs": [
    {
     "data": {
      "text/html": [
       "<div>\n",
       "<style scoped>\n",
       "    .dataframe tbody tr th:only-of-type {\n",
       "        vertical-align: middle;\n",
       "    }\n",
       "\n",
       "    .dataframe tbody tr th {\n",
       "        vertical-align: top;\n",
       "    }\n",
       "\n",
       "    .dataframe thead th {\n",
       "        text-align: right;\n",
       "    }\n",
       "</style>\n",
       "<table border=\"1\" class=\"dataframe\">\n",
       "  <thead>\n",
       "    <tr style=\"text-align: right;\">\n",
       "      <th></th>\n",
       "      <th>subcatchment</th>\n",
       "      <th>area</th>\n",
       "      <th>vosc_dbf</th>\n",
       "      <th>prec_csv</th>\n",
       "    </tr>\n",
       "  </thead>\n",
       "  <tbody>\n",
       "    <tr>\n",
       "      <th>0</th>\n",
       "      <td>sc_0001</td>\n",
       "      <td>1</td>\n",
       "      <td>C:/Users/HOLGER/Downloads/SharedFiles_ProfJame...</td>\n",
       "      <td>C:/Users/HOLGER/Downloads/SharedFiles_ProfJame...</td>\n",
       "    </tr>\n",
       "    <tr>\n",
       "      <th>1</th>\n",
       "      <td>sc_0002</td>\n",
       "      <td>2</td>\n",
       "      <td>C:/Users/HOLGER/Downloads/SharedFiles_ProfJame...</td>\n",
       "      <td>C:/Users/HOLGER/Downloads/SharedFiles_ProfJame...</td>\n",
       "    </tr>\n",
       "    <tr>\n",
       "      <th>2</th>\n",
       "      <td>sc_0003</td>\n",
       "      <td>3</td>\n",
       "      <td>C:/Users/HOLGER/Downloads/SharedFiles_ProfJame...</td>\n",
       "      <td>C:/Users/HOLGER/Downloads/SharedFiles_ProfJame...</td>\n",
       "    </tr>\n",
       "    <tr>\n",
       "      <th>3</th>\n",
       "      <td>sc_0004</td>\n",
       "      <td>4</td>\n",
       "      <td>C:/Users/HOLGER/Downloads/SharedFiles_ProfJame...</td>\n",
       "      <td>C:/Users/HOLGER/Downloads/SharedFiles_ProfJame...</td>\n",
       "    </tr>\n",
       "    <tr>\n",
       "      <th>4</th>\n",
       "      <td>sc_0005</td>\n",
       "      <td>5</td>\n",
       "      <td>C:/Users/HOLGER/Downloads/SharedFiles_ProfJame...</td>\n",
       "      <td>C:/Users/HOLGER/Downloads/SharedFiles_ProfJame...</td>\n",
       "    </tr>\n",
       "  </tbody>\n",
       "</table>\n",
       "</div>"
      ],
      "text/plain": [
       "  subcatchment  area                                           vosc_dbf  \\\n",
       "0      sc_0001     1  C:/Users/HOLGER/Downloads/SharedFiles_ProfJame...   \n",
       "1      sc_0002     2  C:/Users/HOLGER/Downloads/SharedFiles_ProfJame...   \n",
       "2      sc_0003     3  C:/Users/HOLGER/Downloads/SharedFiles_ProfJame...   \n",
       "3      sc_0004     4  C:/Users/HOLGER/Downloads/SharedFiles_ProfJame...   \n",
       "4      sc_0005     5  C:/Users/HOLGER/Downloads/SharedFiles_ProfJame...   \n",
       "\n",
       "                                            prec_csv  \n",
       "0  C:/Users/HOLGER/Downloads/SharedFiles_ProfJame...  \n",
       "1  C:/Users/HOLGER/Downloads/SharedFiles_ProfJame...  \n",
       "2  C:/Users/HOLGER/Downloads/SharedFiles_ProfJame...  \n",
       "3  C:/Users/HOLGER/Downloads/SharedFiles_ProfJame...  \n",
       "4  C:/Users/HOLGER/Downloads/SharedFiles_ProfJame...  "
      ]
     },
     "execution_count": 400,
     "metadata": {},
     "output_type": "execute_result"
    }
   ],
   "source": [
    "sc_name_df.head()"
   ]
  },
  {
   "cell_type": "code",
   "execution_count": 401,
   "id": "053175f9",
   "metadata": {},
   "outputs": [
    {
     "name": "stdout",
     "output_type": "stream",
     "text": [
      "C:/Users/HOLGER/Downloads/SharedFiles_ProfJames/_Spline_Surface/vosc_dbf/vosc_0001\n",
      "C:/Users/HOLGER/Downloads/SharedFiles_ProfJames/_Spline_Surface/prec_csv/prec_0001\n"
     ]
    }
   ],
   "source": [
    "print(sc_name_df.iloc[0,2], sc_name_df.iloc[0,3], sep='\\n')"
   ]
  },
  {
   "cell_type": "code",
   "execution_count": null,
   "id": "039e1144",
   "metadata": {},
   "outputs": [],
   "source": []
  },
  {
   "cell_type": "code",
   "execution_count": 402,
   "id": "f5a37b09",
   "metadata": {},
   "outputs": [],
   "source": [
    "#%% START TIME OF THE PROCESS\n",
    "starting_time = dt.datetime.now()"
   ]
  },
  {
   "cell_type": "code",
   "execution_count": 254,
   "id": "6237a634",
   "metadata": {},
   "outputs": [],
   "source": [
    "#%% FUNCTION 2: calculating precipitation depth (pd) from attribute table sdat file\n",
    "def get_prec_subca_surface_2(arg_sc_input_area, arg_sc_input_vosc_dbf_file, arg_sc_output_prec_csv_file, arg_ts_input_vosc_dbf_file, arg_ts_output_prec_csv_file):\n",
    "    # sc_name_df.apply(lambda x: get_prec_subca_surface_2(x.area, x.vosc_dbf, x.prec_csv, arg_ts_input_vosc_dbf_file, arg_ts_output_prec_csv_file), axis=1)\n",
    "\n",
    "    # CALCULATING PRECIPITATION DEPTH\n",
    "    # calculating precipitation depth (pd) from attribute table sdat file\n",
    "    \n",
    "    input_table_vosc_dbf_file = QgsVectorLayer(arg_sc_input_vosc_dbf_file + arg_ts_input_vosc_dbf_file, '', 'ogr').getFeature(0)\n",
    "    # first_feature_table = attb_table.getFeature(0)\n",
    "    vol_mm_x_m2 = input_table_vosc_dbf_file[0]\n",
    "    area_m2 = arg_sc_input_area # input_table_vosc_dbf_file[1]\n",
    "    prec_depth_mm = vol_mm_x_m2 / area_m2 if area_m2 != 0 else 0\n",
    "\n",
    "    # GETTING PRECIPITATION DEPTHS CSV FILES\n",
    "    # Getting the precipitation depth (pd) for each subcatchment considering their volume and area\n",
    "    field_names = ['PRECIPITATION_DEPTH', 'VOLUME', 'AREA']\n",
    "    output_table_prec_csv_file = arg_sc_output_prec_csv_file + arg_ts_output_prec_csv_file\n",
    "    first_feature_record = {'PRECIPITATION_DEPTH': prec_depth_mm, 'VOLUME': vol_mm_x_m2, 'AREA': area_m2}\n",
    "\n",
    "    with open(output_table_prec_csv_file, 'a+', newline='') as csv_file:\n",
    "        record_writer = DictWriter(csv_file, fieldnames=field_names)\n",
    "        record_writer.writerow(first_feature_record)"
   ]
  },
  {
   "cell_type": "code",
   "execution_count": 255,
   "id": "beadcd94",
   "metadata": {},
   "outputs": [],
   "source": [
    "#%% FUNCTION 1: Clip Raster by Mask Layer (CRBML)\n",
    "def get_prec_subca_surface_1(arg_ts_input_vosc_dbf_file, arg_ts_output_prec_csv_file):\n",
    "    # np.vectorize(get_prec_subca_surface_1)(ts_name_df.vosc_dbf, ts_name_df.prec_csv)\n",
    "\n",
    "    # EXECUTE FUNCTION 2\n",
    "    sc_name_df.apply(lambda x: get_prec_subca_surface_2(x.area, x.vosc_dbf, x.prec_csv, arg_ts_input_vosc_dbf_file, arg_ts_output_prec_csv_file), axis=1)\n",
    "    # np.vectorize(get_vol_subca_surface_2)(sc_name_df.clsc_sdat, sc_name_df.vosc_dbf, arg_ts_input_clsc_sdat_file, arg_ts_output_vosc_dbf_file)"
   ]
  },
  {
   "cell_type": "code",
   "execution_count": 256,
   "id": "22dc61cc",
   "metadata": {},
   "outputs": [],
   "source": [
    "# %% EXECUTE FUNCTION 1\n",
    "np.vectorize(get_prec_subca_surface_1)(ts_name_df.vosc_dbf, ts_name_df.prec_csv)"
   ]
  },
  {
   "cell_type": "code",
   "execution_count": null,
   "id": "8f4b33db",
   "metadata": {},
   "outputs": [],
   "source": []
  },
  {
   "cell_type": "code",
   "execution_count": 338,
   "id": "4363a9d6",
   "metadata": {},
   "outputs": [
    {
     "name": "stdout",
     "output_type": "stream",
     "text": [
      "Done! in 0:55:10.230100\n"
     ]
    }
   ],
   "source": [
    "#%% END TIME OF THE PROCESS\n",
    "ending_time = dt.datetime.now()\n",
    "total_time = ending_time - starting_time\n",
    "print('Done! in {}'.format(total_time))"
   ]
  },
  {
   "cell_type": "code",
   "execution_count": 339,
   "id": "98df8ac2",
   "metadata": {},
   "outputs": [
    {
     "data": {
      "text/plain": [
       "0    _cipitation_30pts_1mm_28356.dbf\n",
       "Name: vosc_dbf, dtype: object"
      ]
     },
     "execution_count": 339,
     "metadata": {},
     "output_type": "execute_result"
    }
   ],
   "source": [
    "ts_name_df.vosc_dbf"
   ]
  },
  {
   "cell_type": "code",
   "execution_count": 340,
   "id": "8e5a1e2b",
   "metadata": {},
   "outputs": [
    {
     "data": {
      "text/plain": [
       "0    _cipitation_30pts_1mm_28356.csv\n",
       "Name: prec_csv, dtype: object"
      ]
     },
     "execution_count": 340,
     "metadata": {},
     "output_type": "execute_result"
    }
   ],
   "source": [
    "ts_name_df.prec_csv"
   ]
  },
  {
   "cell_type": "code",
   "execution_count": 341,
   "id": "58f8d2cb",
   "metadata": {},
   "outputs": [
    {
     "data": {
      "text/plain": [
       "0       C:/Users/HOLGER/Downloads/SharedFiles_ProfJame...\n",
       "1       C:/Users/HOLGER/Downloads/SharedFiles_ProfJame...\n",
       "2       C:/Users/HOLGER/Downloads/SharedFiles_ProfJame...\n",
       "3       C:/Users/HOLGER/Downloads/SharedFiles_ProfJame...\n",
       "4       C:/Users/HOLGER/Downloads/SharedFiles_ProfJame...\n",
       "                              ...                        \n",
       "1529    C:/Users/HOLGER/Downloads/SharedFiles_ProfJame...\n",
       "1530    C:/Users/HOLGER/Downloads/SharedFiles_ProfJame...\n",
       "1531    C:/Users/HOLGER/Downloads/SharedFiles_ProfJame...\n",
       "1532    C:/Users/HOLGER/Downloads/SharedFiles_ProfJame...\n",
       "1533    C:/Users/HOLGER/Downloads/SharedFiles_ProfJame...\n",
       "Name: vosc_dbf, Length: 1534, dtype: object"
      ]
     },
     "execution_count": 341,
     "metadata": {},
     "output_type": "execute_result"
    }
   ],
   "source": [
    "sc_name_df.vosc_dbf"
   ]
  },
  {
   "cell_type": "code",
   "execution_count": 342,
   "id": "fbba8faf",
   "metadata": {},
   "outputs": [
    {
     "data": {
      "text/plain": [
       "0       C:/Users/HOLGER/Downloads/SharedFiles_ProfJame...\n",
       "1       C:/Users/HOLGER/Downloads/SharedFiles_ProfJame...\n",
       "2       C:/Users/HOLGER/Downloads/SharedFiles_ProfJame...\n",
       "3       C:/Users/HOLGER/Downloads/SharedFiles_ProfJame...\n",
       "4       C:/Users/HOLGER/Downloads/SharedFiles_ProfJame...\n",
       "                              ...                        \n",
       "1529    C:/Users/HOLGER/Downloads/SharedFiles_ProfJame...\n",
       "1530    C:/Users/HOLGER/Downloads/SharedFiles_ProfJame...\n",
       "1531    C:/Users/HOLGER/Downloads/SharedFiles_ProfJame...\n",
       "1532    C:/Users/HOLGER/Downloads/SharedFiles_ProfJame...\n",
       "1533    C:/Users/HOLGER/Downloads/SharedFiles_ProfJame...\n",
       "Name: prec_csv, Length: 1534, dtype: object"
      ]
     },
     "execution_count": 342,
     "metadata": {},
     "output_type": "execute_result"
    }
   ],
   "source": [
    "sc_name_df.prec_csv"
   ]
  },
  {
   "cell_type": "code",
   "execution_count": null,
   "id": "0cef53e9",
   "metadata": {},
   "outputs": [],
   "source": []
  },
  {
   "cell_type": "code",
   "execution_count": 320,
   "id": "2a845043",
   "metadata": {},
   "outputs": [
    {
     "data": {
      "text/html": [
       "<div>\n",
       "<style scoped>\n",
       "    .dataframe tbody tr th:only-of-type {\n",
       "        vertical-align: middle;\n",
       "    }\n",
       "\n",
       "    .dataframe tbody tr th {\n",
       "        vertical-align: top;\n",
       "    }\n",
       "\n",
       "    .dataframe thead th {\n",
       "        text-align: right;\n",
       "    }\n",
       "</style>\n",
       "<table border=\"1\" class=\"dataframe\">\n",
       "  <thead>\n",
       "    <tr style=\"text-align: right;\">\n",
       "      <th></th>\n",
       "      <th>timestamp</th>\n",
       "      <th>clsc_sdat</th>\n",
       "      <th>vosc_dbf</th>\n",
       "    </tr>\n",
       "  </thead>\n",
       "  <tbody>\n",
       "    <tr>\n",
       "      <th>0</th>\n",
       "      <td>Precipitation_30pts_1mm_28356</td>\n",
       "      <td>_cipitation_30pts_1mm_28356.sdat</td>\n",
       "      <td>_cipitation_30pts_1mm_28356.shp</td>\n",
       "    </tr>\n",
       "  </tbody>\n",
       "</table>\n",
       "</div>"
      ],
      "text/plain": [
       "                       timestamp                         clsc_sdat  \\\n",
       "0  Precipitation_30pts_1mm_28356  _cipitation_30pts_1mm_28356.sdat   \n",
       "\n",
       "                          vosc_dbf  \n",
       "0  _cipitation_30pts_1mm_28356.shp  "
      ]
     },
     "execution_count": 320,
     "metadata": {},
     "output_type": "execute_result"
    }
   ],
   "source": [
    "ts_name_df"
   ]
  },
  {
   "cell_type": "code",
   "execution_count": 321,
   "id": "81bfad4a",
   "metadata": {},
   "outputs": [
    {
     "data": {
      "text/html": [
       "<div>\n",
       "<style scoped>\n",
       "    .dataframe tbody tr th:only-of-type {\n",
       "        vertical-align: middle;\n",
       "    }\n",
       "\n",
       "    .dataframe tbody tr th {\n",
       "        vertical-align: top;\n",
       "    }\n",
       "\n",
       "    .dataframe thead th {\n",
       "        text-align: right;\n",
       "    }\n",
       "</style>\n",
       "<table border=\"1\" class=\"dataframe\">\n",
       "  <thead>\n",
       "    <tr style=\"text-align: right;\">\n",
       "      <th></th>\n",
       "      <th>subcatchment</th>\n",
       "      <th>area</th>\n",
       "      <th>clsc_sdat</th>\n",
       "      <th>vosc_dbf</th>\n",
       "    </tr>\n",
       "  </thead>\n",
       "  <tbody>\n",
       "    <tr>\n",
       "      <th>0</th>\n",
       "      <td>sc_0001</td>\n",
       "      <td>1</td>\n",
       "      <td>C:/Users/HOLGER/Downloads/SharedFiles_ProfJame...</td>\n",
       "      <td>C:/Users/HOLGER/Downloads/SharedFiles_ProfJame...</td>\n",
       "    </tr>\n",
       "    <tr>\n",
       "      <th>1</th>\n",
       "      <td>sc_0002</td>\n",
       "      <td>2</td>\n",
       "      <td>C:/Users/HOLGER/Downloads/SharedFiles_ProfJame...</td>\n",
       "      <td>C:/Users/HOLGER/Downloads/SharedFiles_ProfJame...</td>\n",
       "    </tr>\n",
       "    <tr>\n",
       "      <th>2</th>\n",
       "      <td>sc_0003</td>\n",
       "      <td>3</td>\n",
       "      <td>C:/Users/HOLGER/Downloads/SharedFiles_ProfJame...</td>\n",
       "      <td>C:/Users/HOLGER/Downloads/SharedFiles_ProfJame...</td>\n",
       "    </tr>\n",
       "    <tr>\n",
       "      <th>3</th>\n",
       "      <td>sc_0004</td>\n",
       "      <td>4</td>\n",
       "      <td>C:/Users/HOLGER/Downloads/SharedFiles_ProfJame...</td>\n",
       "      <td>C:/Users/HOLGER/Downloads/SharedFiles_ProfJame...</td>\n",
       "    </tr>\n",
       "    <tr>\n",
       "      <th>4</th>\n",
       "      <td>sc_0005</td>\n",
       "      <td>5</td>\n",
       "      <td>C:/Users/HOLGER/Downloads/SharedFiles_ProfJame...</td>\n",
       "      <td>C:/Users/HOLGER/Downloads/SharedFiles_ProfJame...</td>\n",
       "    </tr>\n",
       "    <tr>\n",
       "      <th>...</th>\n",
       "      <td>...</td>\n",
       "      <td>...</td>\n",
       "      <td>...</td>\n",
       "      <td>...</td>\n",
       "    </tr>\n",
       "    <tr>\n",
       "      <th>1529</th>\n",
       "      <td>sc_1530</td>\n",
       "      <td>1530</td>\n",
       "      <td>C:/Users/HOLGER/Downloads/SharedFiles_ProfJame...</td>\n",
       "      <td>C:/Users/HOLGER/Downloads/SharedFiles_ProfJame...</td>\n",
       "    </tr>\n",
       "    <tr>\n",
       "      <th>1530</th>\n",
       "      <td>sc_1531</td>\n",
       "      <td>1531</td>\n",
       "      <td>C:/Users/HOLGER/Downloads/SharedFiles_ProfJame...</td>\n",
       "      <td>C:/Users/HOLGER/Downloads/SharedFiles_ProfJame...</td>\n",
       "    </tr>\n",
       "    <tr>\n",
       "      <th>1531</th>\n",
       "      <td>sc_1532</td>\n",
       "      <td>1532</td>\n",
       "      <td>C:/Users/HOLGER/Downloads/SharedFiles_ProfJame...</td>\n",
       "      <td>C:/Users/HOLGER/Downloads/SharedFiles_ProfJame...</td>\n",
       "    </tr>\n",
       "    <tr>\n",
       "      <th>1532</th>\n",
       "      <td>sc_1533</td>\n",
       "      <td>1533</td>\n",
       "      <td>C:/Users/HOLGER/Downloads/SharedFiles_ProfJame...</td>\n",
       "      <td>C:/Users/HOLGER/Downloads/SharedFiles_ProfJame...</td>\n",
       "    </tr>\n",
       "    <tr>\n",
       "      <th>1533</th>\n",
       "      <td>sc_1534</td>\n",
       "      <td>1534</td>\n",
       "      <td>C:/Users/HOLGER/Downloads/SharedFiles_ProfJame...</td>\n",
       "      <td>C:/Users/HOLGER/Downloads/SharedFiles_ProfJame...</td>\n",
       "    </tr>\n",
       "  </tbody>\n",
       "</table>\n",
       "<p>1534 rows × 4 columns</p>\n",
       "</div>"
      ],
      "text/plain": [
       "     subcatchment  area                                          clsc_sdat  \\\n",
       "0         sc_0001     1  C:/Users/HOLGER/Downloads/SharedFiles_ProfJame...   \n",
       "1         sc_0002     2  C:/Users/HOLGER/Downloads/SharedFiles_ProfJame...   \n",
       "2         sc_0003     3  C:/Users/HOLGER/Downloads/SharedFiles_ProfJame...   \n",
       "3         sc_0004     4  C:/Users/HOLGER/Downloads/SharedFiles_ProfJame...   \n",
       "4         sc_0005     5  C:/Users/HOLGER/Downloads/SharedFiles_ProfJame...   \n",
       "...           ...   ...                                                ...   \n",
       "1529      sc_1530  1530  C:/Users/HOLGER/Downloads/SharedFiles_ProfJame...   \n",
       "1530      sc_1531  1531  C:/Users/HOLGER/Downloads/SharedFiles_ProfJame...   \n",
       "1531      sc_1532  1532  C:/Users/HOLGER/Downloads/SharedFiles_ProfJame...   \n",
       "1532      sc_1533  1533  C:/Users/HOLGER/Downloads/SharedFiles_ProfJame...   \n",
       "1533      sc_1534  1534  C:/Users/HOLGER/Downloads/SharedFiles_ProfJame...   \n",
       "\n",
       "                                               vosc_dbf  \n",
       "0     C:/Users/HOLGER/Downloads/SharedFiles_ProfJame...  \n",
       "1     C:/Users/HOLGER/Downloads/SharedFiles_ProfJame...  \n",
       "2     C:/Users/HOLGER/Downloads/SharedFiles_ProfJame...  \n",
       "3     C:/Users/HOLGER/Downloads/SharedFiles_ProfJame...  \n",
       "4     C:/Users/HOLGER/Downloads/SharedFiles_ProfJame...  \n",
       "...                                                 ...  \n",
       "1529  C:/Users/HOLGER/Downloads/SharedFiles_ProfJame...  \n",
       "1530  C:/Users/HOLGER/Downloads/SharedFiles_ProfJame...  \n",
       "1531  C:/Users/HOLGER/Downloads/SharedFiles_ProfJame...  \n",
       "1532  C:/Users/HOLGER/Downloads/SharedFiles_ProfJame...  \n",
       "1533  C:/Users/HOLGER/Downloads/SharedFiles_ProfJame...  \n",
       "\n",
       "[1534 rows x 4 columns]"
      ]
     },
     "execution_count": 321,
     "metadata": {},
     "output_type": "execute_result"
    }
   ],
   "source": [
    "sc_name_df"
   ]
  },
  {
   "cell_type": "code",
   "execution_count": null,
   "id": "36e85ab6",
   "metadata": {},
   "outputs": [],
   "source": []
  },
  {
   "cell_type": "code",
   "execution_count": null,
   "id": "23544d8b",
   "metadata": {},
   "outputs": [],
   "source": []
  },
  {
   "cell_type": "code",
   "execution_count": 258,
   "id": "7249f9c7",
   "metadata": {},
   "outputs": [
    {
     "data": {
      "text/html": [
       "<div>\n",
       "<style scoped>\n",
       "    .dataframe tbody tr th:only-of-type {\n",
       "        vertical-align: middle;\n",
       "    }\n",
       "\n",
       "    .dataframe tbody tr th {\n",
       "        vertical-align: top;\n",
       "    }\n",
       "\n",
       "    .dataframe thead th {\n",
       "        text-align: right;\n",
       "    }\n",
       "</style>\n",
       "<table border=\"1\" class=\"dataframe\">\n",
       "  <thead>\n",
       "    <tr style=\"text-align: right;\">\n",
       "      <th></th>\n",
       "      <th>timestamp</th>\n",
       "      <th>clspl_sdat</th>\n",
       "      <th>clsc_sdat</th>\n",
       "    </tr>\n",
       "  </thead>\n",
       "  <tbody>\n",
       "    <tr>\n",
       "      <th>0</th>\n",
       "      <td>Precipitation_30pts_1mm_28356</td>\n",
       "      <td>C:/Users/HOLGER/Downloads/SharedFiles_ProfJame...</td>\n",
       "      <td>_cipitation_30pts_1mm_28356.sdat</td>\n",
       "    </tr>\n",
       "    <tr>\n",
       "      <th>1</th>\n",
       "      <td>Precipitation_30pts_1mm_28357</td>\n",
       "      <td>C:/Users/HOLGER/Downloads/SharedFiles_ProfJame...</td>\n",
       "      <td>_cipitation_30pts_1mm_28357.sdat</td>\n",
       "    </tr>\n",
       "    <tr>\n",
       "      <th>2</th>\n",
       "      <td>Precipitation_30pts_1mm_28358</td>\n",
       "      <td>C:/Users/HOLGER/Downloads/SharedFiles_ProfJame...</td>\n",
       "      <td>_cipitation_30pts_1mm_28358.sdat</td>\n",
       "    </tr>\n",
       "    <tr>\n",
       "      <th>3</th>\n",
       "      <td>Precipitation_30pts_1mm_28359</td>\n",
       "      <td>C:/Users/HOLGER/Downloads/SharedFiles_ProfJame...</td>\n",
       "      <td>_cipitation_30pts_1mm_28359.sdat</td>\n",
       "    </tr>\n",
       "    <tr>\n",
       "      <th>4</th>\n",
       "      <td>Precipitation_30pts_1mm_28360</td>\n",
       "      <td>C:/Users/HOLGER/Downloads/SharedFiles_ProfJame...</td>\n",
       "      <td>_cipitation_30pts_1mm_28360.sdat</td>\n",
       "    </tr>\n",
       "  </tbody>\n",
       "</table>\n",
       "</div>"
      ],
      "text/plain": [
       "                       timestamp  \\\n",
       "0  Precipitation_30pts_1mm_28356   \n",
       "1  Precipitation_30pts_1mm_28357   \n",
       "2  Precipitation_30pts_1mm_28358   \n",
       "3  Precipitation_30pts_1mm_28359   \n",
       "4  Precipitation_30pts_1mm_28360   \n",
       "\n",
       "                                          clspl_sdat  \\\n",
       "0  C:/Users/HOLGER/Downloads/SharedFiles_ProfJame...   \n",
       "1  C:/Users/HOLGER/Downloads/SharedFiles_ProfJame...   \n",
       "2  C:/Users/HOLGER/Downloads/SharedFiles_ProfJame...   \n",
       "3  C:/Users/HOLGER/Downloads/SharedFiles_ProfJame...   \n",
       "4  C:/Users/HOLGER/Downloads/SharedFiles_ProfJame...   \n",
       "\n",
       "                          clsc_sdat  \n",
       "0  _cipitation_30pts_1mm_28356.sdat  \n",
       "1  _cipitation_30pts_1mm_28357.sdat  \n",
       "2  _cipitation_30pts_1mm_28358.sdat  \n",
       "3  _cipitation_30pts_1mm_28359.sdat  \n",
       "4  _cipitation_30pts_1mm_28360.sdat  "
      ]
     },
     "execution_count": 258,
     "metadata": {},
     "output_type": "execute_result"
    }
   ],
   "source": [
    "ts_name_df.head()"
   ]
  },
  {
   "cell_type": "code",
   "execution_count": 260,
   "id": "afcca5fa",
   "metadata": {},
   "outputs": [
    {
     "data": {
      "text/html": [
       "<div>\n",
       "<style scoped>\n",
       "    .dataframe tbody tr th:only-of-type {\n",
       "        vertical-align: middle;\n",
       "    }\n",
       "\n",
       "    .dataframe tbody tr th {\n",
       "        vertical-align: top;\n",
       "    }\n",
       "\n",
       "    .dataframe thead th {\n",
       "        text-align: right;\n",
       "    }\n",
       "</style>\n",
       "<table border=\"1\" class=\"dataframe\">\n",
       "  <thead>\n",
       "    <tr style=\"text-align: right;\">\n",
       "      <th></th>\n",
       "      <th>subcatchment</th>\n",
       "      <th>area</th>\n",
       "      <th>clsc_sdat</th>\n",
       "      <th>mask_shp</th>\n",
       "    </tr>\n",
       "  </thead>\n",
       "  <tbody>\n",
       "    <tr>\n",
       "      <th>0</th>\n",
       "      <td>sc_0001</td>\n",
       "      <td>1</td>\n",
       "      <td>C:/Users/HOLGER/Downloads/SharedFiles_ProfJame...</td>\n",
       "      <td>C:/Users/HOLGER/Downloads/SharedFiles_ProfJame...</td>\n",
       "    </tr>\n",
       "    <tr>\n",
       "      <th>1</th>\n",
       "      <td>sc_0002</td>\n",
       "      <td>2</td>\n",
       "      <td>C:/Users/HOLGER/Downloads/SharedFiles_ProfJame...</td>\n",
       "      <td>C:/Users/HOLGER/Downloads/SharedFiles_ProfJame...</td>\n",
       "    </tr>\n",
       "    <tr>\n",
       "      <th>2</th>\n",
       "      <td>sc_0003</td>\n",
       "      <td>3</td>\n",
       "      <td>C:/Users/HOLGER/Downloads/SharedFiles_ProfJame...</td>\n",
       "      <td>C:/Users/HOLGER/Downloads/SharedFiles_ProfJame...</td>\n",
       "    </tr>\n",
       "    <tr>\n",
       "      <th>3</th>\n",
       "      <td>sc_0004</td>\n",
       "      <td>4</td>\n",
       "      <td>C:/Users/HOLGER/Downloads/SharedFiles_ProfJame...</td>\n",
       "      <td>C:/Users/HOLGER/Downloads/SharedFiles_ProfJame...</td>\n",
       "    </tr>\n",
       "    <tr>\n",
       "      <th>4</th>\n",
       "      <td>sc_0005</td>\n",
       "      <td>5</td>\n",
       "      <td>C:/Users/HOLGER/Downloads/SharedFiles_ProfJame...</td>\n",
       "      <td>C:/Users/HOLGER/Downloads/SharedFiles_ProfJame...</td>\n",
       "    </tr>\n",
       "  </tbody>\n",
       "</table>\n",
       "</div>"
      ],
      "text/plain": [
       "  subcatchment  area                                          clsc_sdat  \\\n",
       "0      sc_0001     1  C:/Users/HOLGER/Downloads/SharedFiles_ProfJame...   \n",
       "1      sc_0002     2  C:/Users/HOLGER/Downloads/SharedFiles_ProfJame...   \n",
       "2      sc_0003     3  C:/Users/HOLGER/Downloads/SharedFiles_ProfJame...   \n",
       "3      sc_0004     4  C:/Users/HOLGER/Downloads/SharedFiles_ProfJame...   \n",
       "4      sc_0005     5  C:/Users/HOLGER/Downloads/SharedFiles_ProfJame...   \n",
       "\n",
       "                                            mask_shp  \n",
       "0  C:/Users/HOLGER/Downloads/SharedFiles_ProfJame...  \n",
       "1  C:/Users/HOLGER/Downloads/SharedFiles_ProfJame...  \n",
       "2  C:/Users/HOLGER/Downloads/SharedFiles_ProfJame...  \n",
       "3  C:/Users/HOLGER/Downloads/SharedFiles_ProfJame...  \n",
       "4  C:/Users/HOLGER/Downloads/SharedFiles_ProfJame...  "
      ]
     },
     "execution_count": 260,
     "metadata": {},
     "output_type": "execute_result"
    }
   ],
   "source": [
    "sc_name_df.head()"
   ]
  },
  {
   "cell_type": "code",
   "execution_count": null,
   "id": "8b8e371c",
   "metadata": {},
   "outputs": [],
   "source": []
  },
  {
   "cell_type": "code",
   "execution_count": 218,
   "id": "720232c8",
   "metadata": {},
   "outputs": [
    {
     "data": {
      "text/plain": [
       "<PandasArray>\n",
       "['C:/Users/HOLGER/Downloads/SharedFiles_ProfJames/_Spline_Surface/clspl_sdat/clspl_cipitation_30pts_1mm_28356.sdat',\n",
       " 'C:/Users/HOLGER/Downloads/SharedFiles_ProfJames/_Spline_Surface/clspl_sdat/clspl_cipitation_30pts_1mm_28357.sdat',\n",
       " 'C:/Users/HOLGER/Downloads/SharedFiles_ProfJames/_Spline_Surface/clspl_sdat/clspl_cipitation_30pts_1mm_28358.sdat',\n",
       " 'C:/Users/HOLGER/Downloads/SharedFiles_ProfJames/_Spline_Surface/clspl_sdat/clspl_cipitation_30pts_1mm_28359.sdat',\n",
       " 'C:/Users/HOLGER/Downloads/SharedFiles_ProfJames/_Spline_Surface/clspl_sdat/clspl_cipitation_30pts_1mm_28360.sdat']\n",
       "Length: 5, dtype: object"
      ]
     },
     "execution_count": 218,
     "metadata": {},
     "output_type": "execute_result"
    }
   ],
   "source": [
    "ts_name_df_clspl_sdat = ts_name_df.clspl_sdat.array\n",
    "ts_name_df_clspl_sdat"
   ]
  },
  {
   "cell_type": "code",
   "execution_count": 219,
   "id": "82084943",
   "metadata": {},
   "outputs": [
    {
     "data": {
      "text/plain": [
       "'C:/Users/HOLGER/Downloads/SharedFiles_ProfJames/_Spline_Surface/clspl_sdat/clspl_cipitation_30pts_1mm_28356.sdat'"
      ]
     },
     "execution_count": 219,
     "metadata": {},
     "output_type": "execute_result"
    }
   ],
   "source": [
    "ts_name_df_clspl_sdat[0]"
   ]
  },
  {
   "cell_type": "code",
   "execution_count": 220,
   "id": "6802e19e",
   "metadata": {},
   "outputs": [
    {
     "data": {
      "text/plain": [
       "<PandasArray>\n",
       "['_cipitation_30pts_1mm_28356.sdat', '_cipitation_30pts_1mm_28357.sdat',\n",
       " '_cipitation_30pts_1mm_28358.sdat', '_cipitation_30pts_1mm_28359.sdat',\n",
       " '_cipitation_30pts_1mm_28360.sdat']\n",
       "Length: 5, dtype: object"
      ]
     },
     "execution_count": 220,
     "metadata": {},
     "output_type": "execute_result"
    }
   ],
   "source": [
    "ts_name_df_clsc_sdat = ts_name_df.clsc_sdat.array\n",
    "ts_name_df_clsc_sdat"
   ]
  },
  {
   "cell_type": "code",
   "execution_count": 221,
   "id": "1e6d9cea",
   "metadata": {},
   "outputs": [
    {
     "data": {
      "text/plain": [
       "'_cipitation_30pts_1mm_28356.sdat'"
      ]
     },
     "execution_count": 221,
     "metadata": {},
     "output_type": "execute_result"
    }
   ],
   "source": [
    "ts_name_df_clsc_sdat[0]"
   ]
  },
  {
   "cell_type": "code",
   "execution_count": 222,
   "id": "48a2d36e",
   "metadata": {},
   "outputs": [
    {
     "data": {
      "text/plain": [
       "<PandasArray>\n",
       "['C:/Users/HOLGER/Downloads/SharedFiles_ProfJames/_Spline_Surface/clsc_sdat/clsc_0001',\n",
       " 'C:/Users/HOLGER/Downloads/SharedFiles_ProfJames/_Spline_Surface/clsc_sdat/clsc_0002',\n",
       " 'C:/Users/HOLGER/Downloads/SharedFiles_ProfJames/_Spline_Surface/clsc_sdat/clsc_0003',\n",
       " 'C:/Users/HOLGER/Downloads/SharedFiles_ProfJames/_Spline_Surface/clsc_sdat/clsc_0004',\n",
       " 'C:/Users/HOLGER/Downloads/SharedFiles_ProfJames/_Spline_Surface/clsc_sdat/clsc_0005',\n",
       " 'C:/Users/HOLGER/Downloads/SharedFiles_ProfJames/_Spline_Surface/clsc_sdat/clsc_0006',\n",
       " 'C:/Users/HOLGER/Downloads/SharedFiles_ProfJames/_Spline_Surface/clsc_sdat/clsc_0007',\n",
       " 'C:/Users/HOLGER/Downloads/SharedFiles_ProfJames/_Spline_Surface/clsc_sdat/clsc_0008',\n",
       " 'C:/Users/HOLGER/Downloads/SharedFiles_ProfJames/_Spline_Surface/clsc_sdat/clsc_0009',\n",
       " 'C:/Users/HOLGER/Downloads/SharedFiles_ProfJames/_Spline_Surface/clsc_sdat/clsc_0010',\n",
       " ...\n",
       " 'C:/Users/HOLGER/Downloads/SharedFiles_ProfJames/_Spline_Surface/clsc_sdat/clsc_1525',\n",
       " 'C:/Users/HOLGER/Downloads/SharedFiles_ProfJames/_Spline_Surface/clsc_sdat/clsc_1526',\n",
       " 'C:/Users/HOLGER/Downloads/SharedFiles_ProfJames/_Spline_Surface/clsc_sdat/clsc_1527',\n",
       " 'C:/Users/HOLGER/Downloads/SharedFiles_ProfJames/_Spline_Surface/clsc_sdat/clsc_1528',\n",
       " 'C:/Users/HOLGER/Downloads/SharedFiles_ProfJames/_Spline_Surface/clsc_sdat/clsc_1529',\n",
       " 'C:/Users/HOLGER/Downloads/SharedFiles_ProfJames/_Spline_Surface/clsc_sdat/clsc_1530',\n",
       " 'C:/Users/HOLGER/Downloads/SharedFiles_ProfJames/_Spline_Surface/clsc_sdat/clsc_1531',\n",
       " 'C:/Users/HOLGER/Downloads/SharedFiles_ProfJames/_Spline_Surface/clsc_sdat/clsc_1532',\n",
       " 'C:/Users/HOLGER/Downloads/SharedFiles_ProfJames/_Spline_Surface/clsc_sdat/clsc_1533',\n",
       " 'C:/Users/HOLGER/Downloads/SharedFiles_ProfJames/_Spline_Surface/clsc_sdat/clsc_1534']\n",
       "Length: 1534, dtype: object"
      ]
     },
     "execution_count": 222,
     "metadata": {},
     "output_type": "execute_result"
    }
   ],
   "source": [
    "sc_name_df_clsc_sdat = sc_name_df.clsc_sdat.array\n",
    "sc_name_df_clsc_sdat"
   ]
  },
  {
   "cell_type": "code",
   "execution_count": 223,
   "id": "84ecc236",
   "metadata": {},
   "outputs": [
    {
     "data": {
      "text/plain": [
       "'C:/Users/HOLGER/Downloads/SharedFiles_ProfJames/_Spline_Surface/clsc_sdat/clsc_0001'"
      ]
     },
     "execution_count": 223,
     "metadata": {},
     "output_type": "execute_result"
    }
   ],
   "source": [
    "sc_name_df_clsc_sdat[0]"
   ]
  },
  {
   "cell_type": "code",
   "execution_count": 224,
   "id": "bf32a661",
   "metadata": {},
   "outputs": [
    {
     "data": {
      "text/plain": [
       "<PandasArray>\n",
       "['C:/Users/HOLGER/Downloads/SharedFiles_ProfJames/_Spline_Surface/mask_sc_polygon/sc_0001.shp',\n",
       " 'C:/Users/HOLGER/Downloads/SharedFiles_ProfJames/_Spline_Surface/mask_sc_polygon/sc_0002.shp',\n",
       " 'C:/Users/HOLGER/Downloads/SharedFiles_ProfJames/_Spline_Surface/mask_sc_polygon/sc_0003.shp',\n",
       " 'C:/Users/HOLGER/Downloads/SharedFiles_ProfJames/_Spline_Surface/mask_sc_polygon/sc_0004.shp',\n",
       " 'C:/Users/HOLGER/Downloads/SharedFiles_ProfJames/_Spline_Surface/mask_sc_polygon/sc_0005.shp',\n",
       " 'C:/Users/HOLGER/Downloads/SharedFiles_ProfJames/_Spline_Surface/mask_sc_polygon/sc_0006.shp',\n",
       " 'C:/Users/HOLGER/Downloads/SharedFiles_ProfJames/_Spline_Surface/mask_sc_polygon/sc_0007.shp',\n",
       " 'C:/Users/HOLGER/Downloads/SharedFiles_ProfJames/_Spline_Surface/mask_sc_polygon/sc_0008.shp',\n",
       " 'C:/Users/HOLGER/Downloads/SharedFiles_ProfJames/_Spline_Surface/mask_sc_polygon/sc_0009.shp',\n",
       " 'C:/Users/HOLGER/Downloads/SharedFiles_ProfJames/_Spline_Surface/mask_sc_polygon/sc_0010.shp',\n",
       " ...\n",
       " 'C:/Users/HOLGER/Downloads/SharedFiles_ProfJames/_Spline_Surface/mask_sc_polygon/sc_1525.shp',\n",
       " 'C:/Users/HOLGER/Downloads/SharedFiles_ProfJames/_Spline_Surface/mask_sc_polygon/sc_1526.shp',\n",
       " 'C:/Users/HOLGER/Downloads/SharedFiles_ProfJames/_Spline_Surface/mask_sc_polygon/sc_1527.shp',\n",
       " 'C:/Users/HOLGER/Downloads/SharedFiles_ProfJames/_Spline_Surface/mask_sc_polygon/sc_1528.shp',\n",
       " 'C:/Users/HOLGER/Downloads/SharedFiles_ProfJames/_Spline_Surface/mask_sc_polygon/sc_1529.shp',\n",
       " 'C:/Users/HOLGER/Downloads/SharedFiles_ProfJames/_Spline_Surface/mask_sc_polygon/sc_1530.shp',\n",
       " 'C:/Users/HOLGER/Downloads/SharedFiles_ProfJames/_Spline_Surface/mask_sc_polygon/sc_1531.shp',\n",
       " 'C:/Users/HOLGER/Downloads/SharedFiles_ProfJames/_Spline_Surface/mask_sc_polygon/sc_1532.shp',\n",
       " 'C:/Users/HOLGER/Downloads/SharedFiles_ProfJames/_Spline_Surface/mask_sc_polygon/sc_1533.shp',\n",
       " 'C:/Users/HOLGER/Downloads/SharedFiles_ProfJames/_Spline_Surface/mask_sc_polygon/sc_1534.shp']\n",
       "Length: 1534, dtype: object"
      ]
     },
     "execution_count": 224,
     "metadata": {},
     "output_type": "execute_result"
    }
   ],
   "source": [
    "sc_name_df_mask_shp = sc_name_df.mask_shp.array\n",
    "sc_name_df_mask_shp"
   ]
  },
  {
   "cell_type": "code",
   "execution_count": 225,
   "id": "388411f6",
   "metadata": {},
   "outputs": [
    {
     "data": {
      "text/plain": [
       "'C:/Users/HOLGER/Downloads/SharedFiles_ProfJames/_Spline_Surface/mask_sc_polygon/sc_0001.shp'"
      ]
     },
     "execution_count": 225,
     "metadata": {},
     "output_type": "execute_result"
    }
   ],
   "source": [
    "sc_name_df_mask_shp[0]"
   ]
  },
  {
   "cell_type": "code",
   "execution_count": null,
   "id": "efcdae9d",
   "metadata": {},
   "outputs": [],
   "source": []
  },
  {
   "cell_type": "code",
   "execution_count": 226,
   "id": "a721523a",
   "metadata": {},
   "outputs": [
    {
     "data": {
      "text/plain": [
       "<PandasArray>\n",
       "['C:/Users/HOLGER/Downloads/SharedFiles_ProfJames/_Spline_Surface/clsc_sdat/clsc_0001',\n",
       " 'C:/Users/HOLGER/Downloads/SharedFiles_ProfJames/_Spline_Surface/clsc_sdat/clsc_0002',\n",
       " 'C:/Users/HOLGER/Downloads/SharedFiles_ProfJames/_Spline_Surface/clsc_sdat/clsc_0003',\n",
       " 'C:/Users/HOLGER/Downloads/SharedFiles_ProfJames/_Spline_Surface/clsc_sdat/clsc_0004',\n",
       " 'C:/Users/HOLGER/Downloads/SharedFiles_ProfJames/_Spline_Surface/clsc_sdat/clsc_0005',\n",
       " 'C:/Users/HOLGER/Downloads/SharedFiles_ProfJames/_Spline_Surface/clsc_sdat/clsc_0006',\n",
       " 'C:/Users/HOLGER/Downloads/SharedFiles_ProfJames/_Spline_Surface/clsc_sdat/clsc_0007',\n",
       " 'C:/Users/HOLGER/Downloads/SharedFiles_ProfJames/_Spline_Surface/clsc_sdat/clsc_0008',\n",
       " 'C:/Users/HOLGER/Downloads/SharedFiles_ProfJames/_Spline_Surface/clsc_sdat/clsc_0009',\n",
       " 'C:/Users/HOLGER/Downloads/SharedFiles_ProfJames/_Spline_Surface/clsc_sdat/clsc_0010',\n",
       " ...\n",
       " 'C:/Users/HOLGER/Downloads/SharedFiles_ProfJames/_Spline_Surface/clsc_sdat/clsc_1525',\n",
       " 'C:/Users/HOLGER/Downloads/SharedFiles_ProfJames/_Spline_Surface/clsc_sdat/clsc_1526',\n",
       " 'C:/Users/HOLGER/Downloads/SharedFiles_ProfJames/_Spline_Surface/clsc_sdat/clsc_1527',\n",
       " 'C:/Users/HOLGER/Downloads/SharedFiles_ProfJames/_Spline_Surface/clsc_sdat/clsc_1528',\n",
       " 'C:/Users/HOLGER/Downloads/SharedFiles_ProfJames/_Spline_Surface/clsc_sdat/clsc_1529',\n",
       " 'C:/Users/HOLGER/Downloads/SharedFiles_ProfJames/_Spline_Surface/clsc_sdat/clsc_1530',\n",
       " 'C:/Users/HOLGER/Downloads/SharedFiles_ProfJames/_Spline_Surface/clsc_sdat/clsc_1531',\n",
       " 'C:/Users/HOLGER/Downloads/SharedFiles_ProfJames/_Spline_Surface/clsc_sdat/clsc_1532',\n",
       " 'C:/Users/HOLGER/Downloads/SharedFiles_ProfJames/_Spline_Surface/clsc_sdat/clsc_1533',\n",
       " 'C:/Users/HOLGER/Downloads/SharedFiles_ProfJames/_Spline_Surface/clsc_sdat/clsc_1534']\n",
       "Length: 1534, dtype: object"
      ]
     },
     "execution_count": 226,
     "metadata": {},
     "output_type": "execute_result"
    }
   ],
   "source": [
    "sc_name_df_clsc_sdat"
   ]
  },
  {
   "cell_type": "code",
   "execution_count": 227,
   "id": "e4cc0e5d",
   "metadata": {},
   "outputs": [
    {
     "data": {
      "text/plain": [
       "<PandasArray>\n",
       "['C:/Users/HOLGER/Downloads/SharedFiles_ProfJames/_Spline_Surface/clsc_sdat/clsc_0001',\n",
       " 'C:/Users/HOLGER/Downloads/SharedFiles_ProfJames/_Spline_Surface/clsc_sdat/clsc_0002',\n",
       " 'C:/Users/HOLGER/Downloads/SharedFiles_ProfJames/_Spline_Surface/clsc_sdat/clsc_0003',\n",
       " 'C:/Users/HOLGER/Downloads/SharedFiles_ProfJames/_Spline_Surface/clsc_sdat/clsc_0004',\n",
       " 'C:/Users/HOLGER/Downloads/SharedFiles_ProfJames/_Spline_Surface/clsc_sdat/clsc_0005',\n",
       " 'C:/Users/HOLGER/Downloads/SharedFiles_ProfJames/_Spline_Surface/clsc_sdat/clsc_0006',\n",
       " 'C:/Users/HOLGER/Downloads/SharedFiles_ProfJames/_Spline_Surface/clsc_sdat/clsc_0007',\n",
       " 'C:/Users/HOLGER/Downloads/SharedFiles_ProfJames/_Spline_Surface/clsc_sdat/clsc_0008',\n",
       " 'C:/Users/HOLGER/Downloads/SharedFiles_ProfJames/_Spline_Surface/clsc_sdat/clsc_0009',\n",
       " 'C:/Users/HOLGER/Downloads/SharedFiles_ProfJames/_Spline_Surface/clsc_sdat/clsc_0010',\n",
       " ...\n",
       " 'C:/Users/HOLGER/Downloads/SharedFiles_ProfJames/_Spline_Surface/clsc_sdat/clsc_1525',\n",
       " 'C:/Users/HOLGER/Downloads/SharedFiles_ProfJames/_Spline_Surface/clsc_sdat/clsc_1526',\n",
       " 'C:/Users/HOLGER/Downloads/SharedFiles_ProfJames/_Spline_Surface/clsc_sdat/clsc_1527',\n",
       " 'C:/Users/HOLGER/Downloads/SharedFiles_ProfJames/_Spline_Surface/clsc_sdat/clsc_1528',\n",
       " 'C:/Users/HOLGER/Downloads/SharedFiles_ProfJames/_Spline_Surface/clsc_sdat/clsc_1529',\n",
       " 'C:/Users/HOLGER/Downloads/SharedFiles_ProfJames/_Spline_Surface/clsc_sdat/clsc_1530',\n",
       " 'C:/Users/HOLGER/Downloads/SharedFiles_ProfJames/_Spline_Surface/clsc_sdat/clsc_1531',\n",
       " 'C:/Users/HOLGER/Downloads/SharedFiles_ProfJames/_Spline_Surface/clsc_sdat/clsc_1532',\n",
       " 'C:/Users/HOLGER/Downloads/SharedFiles_ProfJames/_Spline_Surface/clsc_sdat/clsc_1533',\n",
       " 'C:/Users/HOLGER/Downloads/SharedFiles_ProfJames/_Spline_Surface/clsc_sdat/clsc_1534']\n",
       "Length: 1534, dtype: object"
      ]
     },
     "execution_count": 227,
     "metadata": {},
     "output_type": "execute_result"
    }
   ],
   "source": [
    "# ts_name_df_clsc_sdat[:, np.newaxis]# + \n",
    "np.transpose(sc_name_df_clsc_sdat)"
   ]
  },
  {
   "cell_type": "code",
   "execution_count": null,
   "id": "51d09b3f",
   "metadata": {},
   "outputs": [],
   "source": []
  },
  {
   "cell_type": "code",
   "execution_count": null,
   "id": "b3541caa",
   "metadata": {},
   "outputs": [],
   "source": []
  },
  {
   "cell_type": "code",
   "execution_count": 228,
   "id": "970e4410",
   "metadata": {},
   "outputs": [
    {
     "data": {
      "text/plain": [
       "<PandasArray>\n",
       "['_cipitation_30pts_1mm_28356.sdat', '_cipitation_30pts_1mm_28357.sdat',\n",
       " '_cipitation_30pts_1mm_28358.sdat', '_cipitation_30pts_1mm_28359.sdat',\n",
       " '_cipitation_30pts_1mm_28360.sdat']\n",
       "Length: 5, dtype: object"
      ]
     },
     "execution_count": 228,
     "metadata": {},
     "output_type": "execute_result"
    }
   ],
   "source": [
    "ts_name_df_clsc_sdat "
   ]
  },
  {
   "cell_type": "code",
   "execution_count": 229,
   "id": "3b0a7df7",
   "metadata": {},
   "outputs": [
    {
     "data": {
      "text/plain": [
       "pandas.core.arrays.numpy_.PandasArray"
      ]
     },
     "execution_count": 229,
     "metadata": {},
     "output_type": "execute_result"
    }
   ],
   "source": [
    "type(ts_name_df_clsc_sdat)"
   ]
  },
  {
   "cell_type": "code",
   "execution_count": 231,
   "id": "6ae3ec4f",
   "metadata": {},
   "outputs": [
    {
     "data": {
      "text/plain": [
       "<PandasArray>\n",
       "[\n",
       "['C:/Users/HOLGER/Downloads/SharedFiles_ProfJames/_Spline_Surface/clsc_sdat/clsc_0001_cipitation_30pts_1mm_28356.sdat',\n",
       " 'C:/Users/HOLGER/Downloads/SharedFiles_ProfJames/_Spline_Surface/clsc_sdat/clsc_0002_cipitation_30pts_1mm_28356.sdat',\n",
       " 'C:/Users/HOLGER/Downloads/SharedFiles_ProfJames/_Spline_Surface/clsc_sdat/clsc_0003_cipitation_30pts_1mm_28356.sdat',\n",
       " 'C:/Users/HOLGER/Downloads/SharedFiles_ProfJames/_Spline_Surface/clsc_sdat/clsc_0004_cipitation_30pts_1mm_28356.sdat',\n",
       " 'C:/Users/HOLGER/Downloads/SharedFiles_ProfJames/_Spline_Surface/clsc_sdat/clsc_0005_cipitation_30pts_1mm_28356.sdat',\n",
       " 'C:/Users/HOLGER/Downloads/SharedFiles_ProfJames/_Spline_Surface/clsc_sdat/clsc_0006_cipitation_30pts_1mm_28356.sdat',\n",
       " 'C:/Users/HOLGER/Downloads/SharedFiles_ProfJames/_Spline_Surface/clsc_sdat/clsc_0007_cipitation_30pts_1mm_28356.sdat',\n",
       " 'C:/Users/HOLGER/Downloads/SharedFiles_ProfJames/_Spline_Surface/clsc_sdat/clsc_0008_cipitation_30pts_1mm_28356.sdat',\n",
       " 'C:/Users/HOLGER/Downloads/SharedFiles_ProfJames/_Spline_Surface/clsc_sdat/clsc_0009_cipitation_30pts_1mm_28356.sdat',\n",
       " 'C:/Users/HOLGER/Downloads/SharedFiles_ProfJames/_Spline_Surface/clsc_sdat/clsc_0010_cipitation_30pts_1mm_28356.sdat',\n",
       " ...\n",
       " 'C:/Users/HOLGER/Downloads/SharedFiles_ProfJames/_Spline_Surface/clsc_sdat/clsc_1525_cipitation_30pts_1mm_28356.sdat',\n",
       " 'C:/Users/HOLGER/Downloads/SharedFiles_ProfJames/_Spline_Surface/clsc_sdat/clsc_1526_cipitation_30pts_1mm_28356.sdat',\n",
       " 'C:/Users/HOLGER/Downloads/SharedFiles_ProfJames/_Spline_Surface/clsc_sdat/clsc_1527_cipitation_30pts_1mm_28356.sdat',\n",
       " 'C:/Users/HOLGER/Downloads/SharedFiles_ProfJames/_Spline_Surface/clsc_sdat/clsc_1528_cipitation_30pts_1mm_28356.sdat',\n",
       " 'C:/Users/HOLGER/Downloads/SharedFiles_ProfJames/_Spline_Surface/clsc_sdat/clsc_1529_cipitation_30pts_1mm_28356.sdat',\n",
       " 'C:/Users/HOLGER/Downloads/SharedFiles_ProfJames/_Spline_Surface/clsc_sdat/clsc_1530_cipitation_30pts_1mm_28356.sdat',\n",
       " 'C:/Users/HOLGER/Downloads/SharedFiles_ProfJames/_Spline_Surface/clsc_sdat/clsc_1531_cipitation_30pts_1mm_28356.sdat',\n",
       " 'C:/Users/HOLGER/Downloads/SharedFiles_ProfJames/_Spline_Surface/clsc_sdat/clsc_1532_cipitation_30pts_1mm_28356.sdat',\n",
       " 'C:/Users/HOLGER/Downloads/SharedFiles_ProfJames/_Spline_Surface/clsc_sdat/clsc_1533_cipitation_30pts_1mm_28356.sdat',\n",
       " 'C:/Users/HOLGER/Downloads/SharedFiles_ProfJames/_Spline_Surface/clsc_sdat/clsc_1534_cipitation_30pts_1mm_28356.sdat'],\n",
       "['C:/Users/HOLGER/Downloads/SharedFiles_ProfJames/_Spline_Surface/clsc_sdat/clsc_0001_cipitation_30pts_1mm_28357.sdat',\n",
       " 'C:/Users/HOLGER/Downloads/SharedFiles_ProfJames/_Spline_Surface/clsc_sdat/clsc_0002_cipitation_30pts_1mm_28357.sdat',\n",
       " 'C:/Users/HOLGER/Downloads/SharedFiles_ProfJames/_Spline_Surface/clsc_sdat/clsc_0003_cipitation_30pts_1mm_28357.sdat',\n",
       " 'C:/Users/HOLGER/Downloads/SharedFiles_ProfJames/_Spline_Surface/clsc_sdat/clsc_0004_cipitation_30pts_1mm_28357.sdat',\n",
       " 'C:/Users/HOLGER/Downloads/SharedFiles_ProfJames/_Spline_Surface/clsc_sdat/clsc_0005_cipitation_30pts_1mm_28357.sdat',\n",
       " 'C:/Users/HOLGER/Downloads/SharedFiles_ProfJames/_Spline_Surface/clsc_sdat/clsc_0006_cipitation_30pts_1mm_28357.sdat',\n",
       " 'C:/Users/HOLGER/Downloads/SharedFiles_ProfJames/_Spline_Surface/clsc_sdat/clsc_0007_cipitation_30pts_1mm_28357.sdat',\n",
       " 'C:/Users/HOLGER/Downloads/SharedFiles_ProfJames/_Spline_Surface/clsc_sdat/clsc_0008_cipitation_30pts_1mm_28357.sdat',\n",
       " 'C:/Users/HOLGER/Downloads/SharedFiles_ProfJames/_Spline_Surface/clsc_sdat/clsc_0009_cipitation_30pts_1mm_28357.sdat',\n",
       " 'C:/Users/HOLGER/Downloads/SharedFiles_ProfJames/_Spline_Surface/clsc_sdat/clsc_0010_cipitation_30pts_1mm_28357.sdat',\n",
       " ...\n",
       " 'C:/Users/HOLGER/Downloads/SharedFiles_ProfJames/_Spline_Surface/clsc_sdat/clsc_1525_cipitation_30pts_1mm_28357.sdat',\n",
       " 'C:/Users/HOLGER/Downloads/SharedFiles_ProfJames/_Spline_Surface/clsc_sdat/clsc_1526_cipitation_30pts_1mm_28357.sdat',\n",
       " 'C:/Users/HOLGER/Downloads/SharedFiles_ProfJames/_Spline_Surface/clsc_sdat/clsc_1527_cipitation_30pts_1mm_28357.sdat',\n",
       " 'C:/Users/HOLGER/Downloads/SharedFiles_ProfJames/_Spline_Surface/clsc_sdat/clsc_1528_cipitation_30pts_1mm_28357.sdat',\n",
       " 'C:/Users/HOLGER/Downloads/SharedFiles_ProfJames/_Spline_Surface/clsc_sdat/clsc_1529_cipitation_30pts_1mm_28357.sdat',\n",
       " 'C:/Users/HOLGER/Downloads/SharedFiles_ProfJames/_Spline_Surface/clsc_sdat/clsc_1530_cipitation_30pts_1mm_28357.sdat',\n",
       " 'C:/Users/HOLGER/Downloads/SharedFiles_ProfJames/_Spline_Surface/clsc_sdat/clsc_1531_cipitation_30pts_1mm_28357.sdat',\n",
       " 'C:/Users/HOLGER/Downloads/SharedFiles_ProfJames/_Spline_Surface/clsc_sdat/clsc_1532_cipitation_30pts_1mm_28357.sdat',\n",
       " 'C:/Users/HOLGER/Downloads/SharedFiles_ProfJames/_Spline_Surface/clsc_sdat/clsc_1533_cipitation_30pts_1mm_28357.sdat',\n",
       " 'C:/Users/HOLGER/Downloads/SharedFiles_ProfJames/_Spline_Surface/clsc_sdat/clsc_1534_cipitation_30pts_1mm_28357.sdat'],\n",
       "['C:/Users/HOLGER/Downloads/SharedFiles_ProfJames/_Spline_Surface/clsc_sdat/clsc_0001_cipitation_30pts_1mm_28358.sdat',\n",
       " 'C:/Users/HOLGER/Downloads/SharedFiles_ProfJames/_Spline_Surface/clsc_sdat/clsc_0002_cipitation_30pts_1mm_28358.sdat',\n",
       " 'C:/Users/HOLGER/Downloads/SharedFiles_ProfJames/_Spline_Surface/clsc_sdat/clsc_0003_cipitation_30pts_1mm_28358.sdat',\n",
       " 'C:/Users/HOLGER/Downloads/SharedFiles_ProfJames/_Spline_Surface/clsc_sdat/clsc_0004_cipitation_30pts_1mm_28358.sdat',\n",
       " 'C:/Users/HOLGER/Downloads/SharedFiles_ProfJames/_Spline_Surface/clsc_sdat/clsc_0005_cipitation_30pts_1mm_28358.sdat',\n",
       " 'C:/Users/HOLGER/Downloads/SharedFiles_ProfJames/_Spline_Surface/clsc_sdat/clsc_0006_cipitation_30pts_1mm_28358.sdat',\n",
       " 'C:/Users/HOLGER/Downloads/SharedFiles_ProfJames/_Spline_Surface/clsc_sdat/clsc_0007_cipitation_30pts_1mm_28358.sdat',\n",
       " 'C:/Users/HOLGER/Downloads/SharedFiles_ProfJames/_Spline_Surface/clsc_sdat/clsc_0008_cipitation_30pts_1mm_28358.sdat',\n",
       " 'C:/Users/HOLGER/Downloads/SharedFiles_ProfJames/_Spline_Surface/clsc_sdat/clsc_0009_cipitation_30pts_1mm_28358.sdat',\n",
       " 'C:/Users/HOLGER/Downloads/SharedFiles_ProfJames/_Spline_Surface/clsc_sdat/clsc_0010_cipitation_30pts_1mm_28358.sdat',\n",
       " ...\n",
       " 'C:/Users/HOLGER/Downloads/SharedFiles_ProfJames/_Spline_Surface/clsc_sdat/clsc_1525_cipitation_30pts_1mm_28358.sdat',\n",
       " 'C:/Users/HOLGER/Downloads/SharedFiles_ProfJames/_Spline_Surface/clsc_sdat/clsc_1526_cipitation_30pts_1mm_28358.sdat',\n",
       " 'C:/Users/HOLGER/Downloads/SharedFiles_ProfJames/_Spline_Surface/clsc_sdat/clsc_1527_cipitation_30pts_1mm_28358.sdat',\n",
       " 'C:/Users/HOLGER/Downloads/SharedFiles_ProfJames/_Spline_Surface/clsc_sdat/clsc_1528_cipitation_30pts_1mm_28358.sdat',\n",
       " 'C:/Users/HOLGER/Downloads/SharedFiles_ProfJames/_Spline_Surface/clsc_sdat/clsc_1529_cipitation_30pts_1mm_28358.sdat',\n",
       " 'C:/Users/HOLGER/Downloads/SharedFiles_ProfJames/_Spline_Surface/clsc_sdat/clsc_1530_cipitation_30pts_1mm_28358.sdat',\n",
       " 'C:/Users/HOLGER/Downloads/SharedFiles_ProfJames/_Spline_Surface/clsc_sdat/clsc_1531_cipitation_30pts_1mm_28358.sdat',\n",
       " 'C:/Users/HOLGER/Downloads/SharedFiles_ProfJames/_Spline_Surface/clsc_sdat/clsc_1532_cipitation_30pts_1mm_28358.sdat',\n",
       " 'C:/Users/HOLGER/Downloads/SharedFiles_ProfJames/_Spline_Surface/clsc_sdat/clsc_1533_cipitation_30pts_1mm_28358.sdat',\n",
       " 'C:/Users/HOLGER/Downloads/SharedFiles_ProfJames/_Spline_Surface/clsc_sdat/clsc_1534_cipitation_30pts_1mm_28358.sdat'],\n",
       "['C:/Users/HOLGER/Downloads/SharedFiles_ProfJames/_Spline_Surface/clsc_sdat/clsc_0001_cipitation_30pts_1mm_28359.sdat',\n",
       " 'C:/Users/HOLGER/Downloads/SharedFiles_ProfJames/_Spline_Surface/clsc_sdat/clsc_0002_cipitation_30pts_1mm_28359.sdat',\n",
       " 'C:/Users/HOLGER/Downloads/SharedFiles_ProfJames/_Spline_Surface/clsc_sdat/clsc_0003_cipitation_30pts_1mm_28359.sdat',\n",
       " 'C:/Users/HOLGER/Downloads/SharedFiles_ProfJames/_Spline_Surface/clsc_sdat/clsc_0004_cipitation_30pts_1mm_28359.sdat',\n",
       " 'C:/Users/HOLGER/Downloads/SharedFiles_ProfJames/_Spline_Surface/clsc_sdat/clsc_0005_cipitation_30pts_1mm_28359.sdat',\n",
       " 'C:/Users/HOLGER/Downloads/SharedFiles_ProfJames/_Spline_Surface/clsc_sdat/clsc_0006_cipitation_30pts_1mm_28359.sdat',\n",
       " 'C:/Users/HOLGER/Downloads/SharedFiles_ProfJames/_Spline_Surface/clsc_sdat/clsc_0007_cipitation_30pts_1mm_28359.sdat',\n",
       " 'C:/Users/HOLGER/Downloads/SharedFiles_ProfJames/_Spline_Surface/clsc_sdat/clsc_0008_cipitation_30pts_1mm_28359.sdat',\n",
       " 'C:/Users/HOLGER/Downloads/SharedFiles_ProfJames/_Spline_Surface/clsc_sdat/clsc_0009_cipitation_30pts_1mm_28359.sdat',\n",
       " 'C:/Users/HOLGER/Downloads/SharedFiles_ProfJames/_Spline_Surface/clsc_sdat/clsc_0010_cipitation_30pts_1mm_28359.sdat',\n",
       " ...\n",
       " 'C:/Users/HOLGER/Downloads/SharedFiles_ProfJames/_Spline_Surface/clsc_sdat/clsc_1525_cipitation_30pts_1mm_28359.sdat',\n",
       " 'C:/Users/HOLGER/Downloads/SharedFiles_ProfJames/_Spline_Surface/clsc_sdat/clsc_1526_cipitation_30pts_1mm_28359.sdat',\n",
       " 'C:/Users/HOLGER/Downloads/SharedFiles_ProfJames/_Spline_Surface/clsc_sdat/clsc_1527_cipitation_30pts_1mm_28359.sdat',\n",
       " 'C:/Users/HOLGER/Downloads/SharedFiles_ProfJames/_Spline_Surface/clsc_sdat/clsc_1528_cipitation_30pts_1mm_28359.sdat',\n",
       " 'C:/Users/HOLGER/Downloads/SharedFiles_ProfJames/_Spline_Surface/clsc_sdat/clsc_1529_cipitation_30pts_1mm_28359.sdat',\n",
       " 'C:/Users/HOLGER/Downloads/SharedFiles_ProfJames/_Spline_Surface/clsc_sdat/clsc_1530_cipitation_30pts_1mm_28359.sdat',\n",
       " 'C:/Users/HOLGER/Downloads/SharedFiles_ProfJames/_Spline_Surface/clsc_sdat/clsc_1531_cipitation_30pts_1mm_28359.sdat',\n",
       " 'C:/Users/HOLGER/Downloads/SharedFiles_ProfJames/_Spline_Surface/clsc_sdat/clsc_1532_cipitation_30pts_1mm_28359.sdat',\n",
       " 'C:/Users/HOLGER/Downloads/SharedFiles_ProfJames/_Spline_Surface/clsc_sdat/clsc_1533_cipitation_30pts_1mm_28359.sdat',\n",
       " 'C:/Users/HOLGER/Downloads/SharedFiles_ProfJames/_Spline_Surface/clsc_sdat/clsc_1534_cipitation_30pts_1mm_28359.sdat'],\n",
       "['C:/Users/HOLGER/Downloads/SharedFiles_ProfJames/_Spline_Surface/clsc_sdat/clsc_0001_cipitation_30pts_1mm_28360.sdat',\n",
       " 'C:/Users/HOLGER/Downloads/SharedFiles_ProfJames/_Spline_Surface/clsc_sdat/clsc_0002_cipitation_30pts_1mm_28360.sdat',\n",
       " 'C:/Users/HOLGER/Downloads/SharedFiles_ProfJames/_Spline_Surface/clsc_sdat/clsc_0003_cipitation_30pts_1mm_28360.sdat',\n",
       " 'C:/Users/HOLGER/Downloads/SharedFiles_ProfJames/_Spline_Surface/clsc_sdat/clsc_0004_cipitation_30pts_1mm_28360.sdat',\n",
       " 'C:/Users/HOLGER/Downloads/SharedFiles_ProfJames/_Spline_Surface/clsc_sdat/clsc_0005_cipitation_30pts_1mm_28360.sdat',\n",
       " 'C:/Users/HOLGER/Downloads/SharedFiles_ProfJames/_Spline_Surface/clsc_sdat/clsc_0006_cipitation_30pts_1mm_28360.sdat',\n",
       " 'C:/Users/HOLGER/Downloads/SharedFiles_ProfJames/_Spline_Surface/clsc_sdat/clsc_0007_cipitation_30pts_1mm_28360.sdat',\n",
       " 'C:/Users/HOLGER/Downloads/SharedFiles_ProfJames/_Spline_Surface/clsc_sdat/clsc_0008_cipitation_30pts_1mm_28360.sdat',\n",
       " 'C:/Users/HOLGER/Downloads/SharedFiles_ProfJames/_Spline_Surface/clsc_sdat/clsc_0009_cipitation_30pts_1mm_28360.sdat',\n",
       " 'C:/Users/HOLGER/Downloads/SharedFiles_ProfJames/_Spline_Surface/clsc_sdat/clsc_0010_cipitation_30pts_1mm_28360.sdat',\n",
       " ...\n",
       " 'C:/Users/HOLGER/Downloads/SharedFiles_ProfJames/_Spline_Surface/clsc_sdat/clsc_1525_cipitation_30pts_1mm_28360.sdat',\n",
       " 'C:/Users/HOLGER/Downloads/SharedFiles_ProfJames/_Spline_Surface/clsc_sdat/clsc_1526_cipitation_30pts_1mm_28360.sdat',\n",
       " 'C:/Users/HOLGER/Downloads/SharedFiles_ProfJames/_Spline_Surface/clsc_sdat/clsc_1527_cipitation_30pts_1mm_28360.sdat',\n",
       " 'C:/Users/HOLGER/Downloads/SharedFiles_ProfJames/_Spline_Surface/clsc_sdat/clsc_1528_cipitation_30pts_1mm_28360.sdat',\n",
       " 'C:/Users/HOLGER/Downloads/SharedFiles_ProfJames/_Spline_Surface/clsc_sdat/clsc_1529_cipitation_30pts_1mm_28360.sdat',\n",
       " 'C:/Users/HOLGER/Downloads/SharedFiles_ProfJames/_Spline_Surface/clsc_sdat/clsc_1530_cipitation_30pts_1mm_28360.sdat',\n",
       " 'C:/Users/HOLGER/Downloads/SharedFiles_ProfJames/_Spline_Surface/clsc_sdat/clsc_1531_cipitation_30pts_1mm_28360.sdat',\n",
       " 'C:/Users/HOLGER/Downloads/SharedFiles_ProfJames/_Spline_Surface/clsc_sdat/clsc_1532_cipitation_30pts_1mm_28360.sdat',\n",
       " 'C:/Users/HOLGER/Downloads/SharedFiles_ProfJames/_Spline_Surface/clsc_sdat/clsc_1533_cipitation_30pts_1mm_28360.sdat',\n",
       " 'C:/Users/HOLGER/Downloads/SharedFiles_ProfJames/_Spline_Surface/clsc_sdat/clsc_1534_cipitation_30pts_1mm_28360.sdat']\n",
       "]\n",
       "Shape: (5, 1534), dtype: object"
      ]
     },
     "execution_count": 231,
     "metadata": {},
     "output_type": "execute_result"
    }
   ],
   "source": [
    "name_df_clsc_sdat = sc_name_df_clsc_sdat + ts_name_df_clsc_sdat[:, np.newaxis]\n",
    "name_df_clsc_sdat"
   ]
  },
  {
   "cell_type": "code",
   "execution_count": 234,
   "id": "4d7455bd",
   "metadata": {},
   "outputs": [
    {
     "data": {
      "text/plain": [
       "'C:/Users/HOLGER/Downloads/SharedFiles_ProfJames/_Spline_Surface/clsc_sdat/clsc_0001_cipitation_30pts_1mm_28356.sdat'"
      ]
     },
     "execution_count": 234,
     "metadata": {},
     "output_type": "execute_result"
    }
   ],
   "source": [
    "name_df_clsc_sdat[0,0]"
   ]
  },
  {
   "cell_type": "code",
   "execution_count": 237,
   "id": "288f7294",
   "metadata": {},
   "outputs": [
    {
     "data": {
      "text/plain": [
       "'C:/Users/HOLGER/Downloads/SharedFiles_ProfJames/_Spline_Surface/clsc_sdat/clsc_0002_cipitation_30pts_1mm_28356.sdat'"
      ]
     },
     "execution_count": 237,
     "metadata": {},
     "output_type": "execute_result"
    }
   ],
   "source": [
    "name_df_clsc_sdat[0,1]"
   ]
  },
  {
   "cell_type": "code",
   "execution_count": null,
   "id": "a0427d18",
   "metadata": {},
   "outputs": [],
   "source": []
  },
  {
   "cell_type": "code",
   "execution_count": null,
   "id": "83cff5cf",
   "metadata": {},
   "outputs": [],
   "source": []
  },
  {
   "cell_type": "code",
   "execution_count": 240,
   "id": "ba37606d",
   "metadata": {},
   "outputs": [],
   "source": [
    "def myfunc(a, b):\n",
    "    \"Return a-b if a>b, otherwise return a+b\"\n",
    "    if a > b:\n",
    "        return a - b\n",
    "    else:\n",
    "        return a + b"
   ]
  },
  {
   "cell_type": "code",
   "execution_count": 243,
   "id": "e8367558",
   "metadata": {},
   "outputs": [],
   "source": [
    "vfunc = np.vectorize(myfunc)"
   ]
  },
  {
   "cell_type": "code",
   "execution_count": 245,
   "id": "cd59a76e",
   "metadata": {},
   "outputs": [
    {
     "data": {
      "text/plain": [
       "array([3, 4, 1, 2])"
      ]
     },
     "execution_count": 245,
     "metadata": {},
     "output_type": "execute_result"
    }
   ],
   "source": [
    "vfunc([1, 2, 3, 4], 2)"
   ]
  },
  {
   "cell_type": "code",
   "execution_count": null,
   "id": "228f76e4",
   "metadata": {},
   "outputs": [],
   "source": []
  }
 ],
 "metadata": {
  "kernelspec": {
   "display_name": "qgis_env",
   "language": "python",
   "name": "qgis_env"
  },
  "language_info": {
   "codemirror_mode": {
    "name": "ipython",
    "version": 3
   },
   "file_extension": ".py",
   "mimetype": "text/x-python",
   "name": "python",
   "nbconvert_exporter": "python",
   "pygments_lexer": "ipython3",
   "version": "3.9.5"
  }
 },
 "nbformat": 4,
 "nbformat_minor": 5
}
