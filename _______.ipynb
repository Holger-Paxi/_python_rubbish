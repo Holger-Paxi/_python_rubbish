{
 "cells": [
  {
   "cell_type": "code",
   "execution_count": 11,
   "metadata": {},
   "outputs": [],
   "source": [
    "import pandas as pd"
   ]
  },
  {
   "cell_type": "code",
   "execution_count": 12,
   "metadata": {},
   "outputs": [
    {
     "data": {
      "text/plain": [
       "Timestamp('1998-09-09 07:40:00')"
      ]
     },
     "execution_count": 12,
     "metadata": {},
     "output_type": "execute_result"
    }
   ],
   "source": [
    "start = pd.Timestamp(\n",
    "    year=1998,\n",
    "    month=9,\n",
    "    day=9,\n",
    "    hour=7,\n",
    "    minute=40\n",
    "    )\n",
    "start"
   ]
  },
  {
   "cell_type": "code",
   "execution_count": 13,
   "metadata": {},
   "outputs": [
    {
     "data": {
      "text/plain": [
       "Timestamp('2009-01-01 00:05:00')"
      ]
     },
     "execution_count": 13,
     "metadata": {},
     "output_type": "execute_result"
    }
   ],
   "source": [
    "end = pd.Timestamp(\n",
    "    year=2009,\n",
    "    month=1,\n",
    "    day=1,\n",
    "    hour=0,\n",
    "    minute=5\n",
    "    )\n",
    "# end = pd.Timestamp(\n",
    "#     year=1998,\n",
    "#     month=9,\n",
    "#     day=9,\n",
    "#     hour=8,\n",
    "#     minute=50\n",
    "#     )\n",
    "end"
   ]
  },
  {
   "cell_type": "code",
   "execution_count": 14,
   "metadata": {},
   "outputs": [
    {
     "data": {
      "text/plain": [
       "Timedelta('0 days 00:05:00')"
      ]
     },
     "execution_count": 14,
     "metadata": {},
     "output_type": "execute_result"
    }
   ],
   "source": [
    "freq = pd.Timedelta(value=5, unit='min')\n",
    "freq"
   ]
  },
  {
   "cell_type": "code",
   "execution_count": 15,
   "metadata": {},
   "outputs": [
    {
     "data": {
      "text/plain": [
       "DatetimeIndex(['1998-09-09 07:40:00', '1998-09-09 07:45:00',\n",
       "               '1998-09-09 07:50:00', '1998-09-09 07:55:00',\n",
       "               '1998-09-09 08:00:00', '1998-09-09 08:05:00',\n",
       "               '1998-09-09 08:10:00', '1998-09-09 08:15:00',\n",
       "               '1998-09-09 08:20:00', '1998-09-09 08:25:00',\n",
       "               ...\n",
       "               '2008-12-31 23:20:00', '2008-12-31 23:25:00',\n",
       "               '2008-12-31 23:30:00', '2008-12-31 23:35:00',\n",
       "               '2008-12-31 23:40:00', '2008-12-31 23:45:00',\n",
       "               '2008-12-31 23:50:00', '2008-12-31 23:55:00',\n",
       "               '2009-01-01 00:00:00', '2009-01-01 00:05:00'],\n",
       "              dtype='datetime64[ns]', length=1084806, freq='5T')"
      ]
     },
     "execution_count": 15,
     "metadata": {},
     "output_type": "execute_result"
    }
   ],
   "source": [
    "ts_sets = pd.date_range(start=start, end=end, freq=freq)\n",
    "ts_sets"
   ]
  },
  {
   "cell_type": "code",
   "execution_count": 16,
   "metadata": {},
   "outputs": [
    {
     "data": {
      "text/plain": [
       "1084806"
      ]
     },
     "execution_count": 16,
     "metadata": {},
     "output_type": "execute_result"
    }
   ],
   "source": [
    "len(ts_sets)"
   ]
  },
  {
   "cell_type": "code",
   "execution_count": null,
   "metadata": {},
   "outputs": [],
   "source": []
  }
 ],
 "metadata": {
  "kernelspec": {
   "display_name": "temp_env",
   "language": "python",
   "name": "python3"
  },
  "language_info": {
   "codemirror_mode": {
    "name": "ipython",
    "version": 3
   },
   "file_extension": ".py",
   "mimetype": "text/x-python",
   "name": "python",
   "nbconvert_exporter": "python",
   "pygments_lexer": "ipython3",
   "version": "3.10.12"
  }
 },
 "nbformat": 4,
 "nbformat_minor": 2
}
