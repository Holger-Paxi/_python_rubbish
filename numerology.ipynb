{
 "cells": [
  {
   "cell_type": "code",
   "execution_count": 145,
   "metadata": {},
   "outputs": [],
   "source": [
    "input_date_of_birth = [\n",
    "    '15/10/1985',\n",
    "    '02/03/1986'\n",
    "]\n",
    "\n",
    "input_complete_name = [\n",
    "    'Holger Cancio Paxi Alvarez',\n",
    "    'Thi Bich Lieu Huynh'\n",
    "]"
   ]
  },
  {
   "cell_type": "code",
   "execution_count": 146,
   "metadata": {},
   "outputs": [
    {
     "name": "stdout",
     "output_type": "stream",
     "text": [
      "15/10/1985: ['15', '10', '1985']\n",
      "15/10/1985: [[1, 5], [1, 0], [1, 9, 8, 5]]\n",
      "15/10/1985: [6, 1, 23]\n",
      "15/10/1985: [[6], [1], [2, 3]]\n",
      "15/10/1985: [6, 1, 5]\n",
      "15/10/1985: 12\n",
      "15/10/1985: 3\n",
      "\n",
      "\n",
      "02/03/1986: ['02', '03', '1986']\n",
      "02/03/1986: [[0, 2], [0, 3], [1, 9, 8, 6]]\n",
      "02/03/1986: [2, 3, 24]\n",
      "02/03/1986: [[2], [3], [2, 4]]\n",
      "02/03/1986: [2, 3, 6]\n",
      "02/03/1986: 11\n",
      "02/03/1986: 11\n",
      "\n",
      "\n"
     ]
    }
   ],
   "source": [
    "for ind_ in input_date_of_birth:\n",
    "    \n",
    "    d = ind_.split(sep='/')\n",
    "    print('{}: {}'.format(ind_, d))\n",
    "\n",
    "    d = [list(ind_) for ind_ in d]\n",
    "    d = [[int(ind2) for ind2 in ind1] for ind1 in d]\n",
    "    print('{}: {}'.format(ind_, d))\n",
    "\n",
    "    d = [sum(ind) for ind in d]\n",
    "    print('{}: {}'.format(ind_, d))\n",
    "\n",
    "    d = [list(str(ind)) for ind in d]\n",
    "    d = [[int(ind2) for ind2 in ind1] for ind1 in d]\n",
    "    print('{}: {}'.format(ind_, d))\n",
    "\n",
    "    d = [sum(ind) for ind in d]\n",
    "    print('{}: {}'.format(ind_, d))\n",
    "\n",
    "    d = sum(d)\n",
    "    print('{}: {}'.format(ind_, d))\n",
    "\n",
    "    if (d != 11) & (d != 22):\n",
    "        d = list(str(d))\n",
    "        d = [int(ind) for ind in d]\n",
    "        d = sum(d)\n",
    "    print('{}: {}'.format(ind_, d))\n",
    "\n",
    "    print('\\n')"
   ]
  },
  {
   "cell_type": "code",
   "execution_count": 147,
   "metadata": {},
   "outputs": [],
   "source": [
    "letter_number = {\n",
    "    1:['A', 'J', 'S'],\n",
    "    2:['B', 'K', 'T'],\n",
    "    3:['C', 'L', 'U'],\n",
    "    4:['D', 'M', 'V'],\n",
    "    5:['E', 'N', 'W'],\n",
    "    6:['F', 'O', 'X'],\n",
    "    7:['G', 'P', 'Y'],\n",
    "    8:['H', 'Q', 'Z'],\n",
    "    9:['I', 'R']\n",
    "}\n",
    "letter_number = {ind:key for key, val in letter_number.items() for ind in val}\n",
    "letter_number;"
   ]
  },
  {
   "cell_type": "code",
   "execution_count": 149,
   "metadata": {},
   "outputs": [
    {
     "name": "stdout",
     "output_type": "stream",
     "text": [
      "Holger Cancio Paxi Alvarez: ['HOLGER', 'CANCIO', 'PAXI', 'ALVAREZ']\n",
      "Holger Cancio Paxi Alvarez: [['H', 'O', 'L', 'G', 'E', 'R'], ['C', 'A', 'N', 'C', 'I', 'O'], ['P', 'A', 'X', 'I'], ['A', 'L', 'V', 'A', 'R', 'E', 'Z']]\n",
      "Holger Cancio Paxi Alvarez: [[8, 6, 3, 7, 5, 9], [3, 1, 5, 3, 9, 6], [7, 1, 6, 9], [1, 3, 4, 1, 9, 5, 8]]\n",
      "Holger Cancio Paxi Alvarez: [38, 27, 23, 31]\n",
      "Holger Cancio Paxi Alvarez: [[3, 8], [2, 7], [2, 3], [3, 1]]\n",
      "Holger Cancio Paxi Alvarez: [11, 9, 5, 4]\n",
      "Holger Cancio Paxi Alvarez: 29\n",
      "Holger Cancio Paxi Alvarez: 11\n",
      "\n",
      "\n",
      "Thi Bich Lieu Huynh: ['THI', 'BICH', 'LIEU', 'HUYNH']\n",
      "Thi Bich Lieu Huynh: [['T', 'H', 'I'], ['B', 'I', 'C', 'H'], ['L', 'I', 'E', 'U'], ['H', 'U', 'Y', 'N', 'H']]\n",
      "Thi Bich Lieu Huynh: [[2, 8, 9], [2, 9, 3, 8], [3, 9, 5, 3], [8, 3, 7, 5, 8]]\n",
      "Thi Bich Lieu Huynh: [19, 22, 20, 31]\n",
      "Thi Bich Lieu Huynh: [[1, 9], [2, 2], [2, 0], [3, 1]]\n",
      "Thi Bich Lieu Huynh: [10, 4, 2, 4]\n",
      "Thi Bich Lieu Huynh: 20\n",
      "Thi Bich Lieu Huynh: 2\n",
      "\n",
      "\n"
     ]
    }
   ],
   "source": [
    "for ind_ in input_complete_name:\n",
    "    n = ind_.upper().split(sep=' ')\n",
    "    print('{}: {}'.format(ind_, n))\n",
    "\n",
    "    n = [list(ind) for ind in n]\n",
    "    print('{}: {}'.format(ind_, n))\n",
    "\n",
    "    n = [[val for ind2 in ind1 for key, val in letter_number.items() if key == ind2] for ind1 in n]\n",
    "    print('{}: {}'.format(ind_, n))\n",
    "\n",
    "    n = [sum(ind) for ind in n]\n",
    "    print('{}: {}'.format(ind_, n))\n",
    "\n",
    "    n = [list(str(ind)) for ind in n]\n",
    "    n = [[int(ind2) for ind2 in ind1] for ind1 in n]\n",
    "    print('{}: {}'.format(ind_, n))\n",
    "\n",
    "    n = [sum(ind) for ind in n]\n",
    "    print('{}: {}'.format(ind_, n))\n",
    "\n",
    "    n = sum(n)\n",
    "    print('{}: {}'.format(ind_, n))\n",
    "\n",
    "    if (n != 11) & (n != 22):\n",
    "        n = list(str(n))\n",
    "        n = [int(ind) for ind in n]\n",
    "        n = sum(n)\n",
    "    print('{}: {}'.format(ind_, n))\n",
    "\n",
    "    print('\\n')"
   ]
  },
  {
   "cell_type": "code",
   "execution_count": null,
   "metadata": {},
   "outputs": [],
   "source": []
  }
 ],
 "metadata": {
  "kernelspec": {
   "display_name": "temp_env",
   "language": "python",
   "name": "python3"
  },
  "language_info": {
   "codemirror_mode": {
    "name": "ipython",
    "version": 3
   },
   "file_extension": ".py",
   "mimetype": "text/x-python",
   "name": "python",
   "nbconvert_exporter": "python",
   "pygments_lexer": "ipython3",
   "version": "3.10.12"
  }
 },
 "nbformat": 4,
 "nbformat_minor": 2
}
