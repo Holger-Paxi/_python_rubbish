{
 "cells": [
  {
   "cell_type": "code",
   "execution_count": 246,
   "id": "3b7b6e20",
   "metadata": {},
   "outputs": [],
   "source": [
    "#%% MODULES\n",
    "\n",
    "import pandas as pd\n",
    "import processing\n",
    "import numpy as np\n",
    "import geopandas as gpd\n",
    "import datetime as dt\n",
    "from csv import DictWriter"
   ]
  },
  {
   "cell_type": "code",
   "execution_count": 247,
   "id": "625bd8bb",
   "metadata": {},
   "outputs": [],
   "source": [
    "#%% INPUT TIMESTAMPS (ts) THROUGH CSV FILES\n",
    "# IMPORTANT: the csv file must have a title and be limited to one column\n",
    "ts_csv_filename = '_test_timestamp2.csv'\n",
    "location_ts_csv_folder = 'C:/Users/HOLGER/Downloads/SharedFiles_ProfJames/_Spline_Surface/'\n",
    "location_ts_csv_file = '{}{}'.format(location_ts_csv_folder,ts_csv_filename)\n",
    "ts_name_df = pd.read_csv(location_ts_csv_file)"
   ]
  },
  {
   "cell_type": "code",
   "execution_count": 248,
   "id": "58994f1b",
   "metadata": {},
   "outputs": [],
   "source": [
    "#%% INPUT SUBCATCHMENTS (sc) THROUGH CSV FILE\n",
    "sc_csv_filename = '_test_subcatchments.csv'\n",
    "location_sc_csv_folder = 'C:/Users/HOLGER/Downloads/SharedFiles_ProfJames/_Spline_Surface/'\n",
    "location_sc_csv_file = '{}{}'.format(location_sc_csv_folder,sc_csv_filename)\n",
    "sc_name_df = pd.read_csv(location_sc_csv_file)"
   ]
  },
  {
   "cell_type": "code",
   "execution_count": 249,
   "id": "514754d2",
   "metadata": {},
   "outputs": [],
   "source": [
    "#%% INPUT AND OUTPUT FOLDER\n",
    "input_folder = 'C:/Users/HOLGER/Downloads/SharedFiles_ProfJames/_Spline_Surface/clspl_sdat/'\n",
    "output_folder = 'C:/Users/HOLGER/Downloads/SharedFiles_ProfJames/_Spline_Surface/clsc_sdat/'"
   ]
  },
  {
   "cell_type": "code",
   "execution_count": 250,
   "id": "2c0d667d",
   "metadata": {},
   "outputs": [],
   "source": [
    "#%% SET NUMBER OF ITERATIONS\n",
    "# Sometimes it is necessary to put the maximum amount of iterations\n",
    "# remember: the first one is inclusive, whereas the last one is exclusive\n",
    "# first index: input index [n = 0] = dataframe index [n + 1 = 1]\n",
    "# last index: input index [n] = dataframe index [n + 1] \n",
    "initial_index = 0\n",
    "final_index = 5\n",
    "\n",
    "ts_name_df = ts_name_df.iloc[initial_index, :] if initial_index == final_index else ts_name_df.iloc[initial_index: final_index, :]\n",
    "ts_name_df = ts_name_df if type(ts_name_df) == type(pd.DataFrame()) else ts_name_df.to_frame().T\n",
    "ts_name_df['clspl_sdat'] = input_folder + 'clspl_' + ts_name_df.timestamp.str[3:] + '.sdat'\n",
    "ts_name_df['clsc_sdat'] = '_' + ts_name_df.timestamp.str[3:] + '.sdat'"
   ]
  },
  {
   "cell_type": "code",
   "execution_count": 251,
   "id": "95a70cb9",
   "metadata": {},
   "outputs": [],
   "source": [
    "#%% SET SUBCATCHMENT DATAFRAME\n",
    "# Sometimes it is necessary to put the maximum amount of iterations\n",
    "# remember: the first one is inclusive, whereas the last one is exclusive\n",
    "sc_name_df['clsc_sdat'] = output_folder + 'clsc_' + sc_name_df.subcatchment.str[3:]"
   ]
  },
  {
   "cell_type": "code",
   "execution_count": 252,
   "id": "f5f3a069",
   "metadata": {},
   "outputs": [],
   "source": [
    "#%% SET SUBCATCHMENT POLYGON AS A MASK\n",
    "mask_prefix_sc_pol_shp_filename = 'sc_'\n",
    "location_mask_sc_pol_shp_folder = 'C:/Users/HOLGER/Downloads/SharedFiles_ProfJames/_Spline_Surface/mask_sc_polygon/'\n",
    "location_mask_sc_pol_shp_file = '{}{}'.format(location_mask_sc_pol_shp_folder,mask_prefix_sc_pol_shp_filename)\n",
    "sc_name_df['mask_shp'] = location_mask_sc_pol_shp_file + sc_name_df.subcatchment.str[3:] + '.shp'"
   ]
  },
  {
   "cell_type": "code",
   "execution_count": 253,
   "id": "c4f1ffd9",
   "metadata": {},
   "outputs": [],
   "source": [
    "#%% START TIME OF THE PROCESS\n",
    "starting_time = dt.datetime.now()"
   ]
  },
  {
   "cell_type": "code",
   "execution_count": 254,
   "id": "d7cf7dd0",
   "metadata": {},
   "outputs": [],
   "source": [
    "def get_clip_subca_surface_2(arg_sc_output_clsc_sdat_file, arg_sc_input_mask_shp_file, arg_ts_input_clspl_sdat_file, arg_ts_output_clsc_sdat_file):\n",
    "    # np.vectorize(get_clip_subca_surface_2)(sc_name_df.clsc_sdat, sc_name_df.mask_shp, arg_ts_input_clspl_sdat_file, arg_ts_output_clsc_sdat_file)\n",
    "\n",
    "    # CRBML via QGIS processing\n",
    "    processing.run(\"gdal:cliprasterbymasklayer\",\\\n",
    "        {'INPUT':arg_ts_input_clspl_sdat_file,\\\n",
    "        'MASK': arg_sc_input_mask_shp_file,\\\n",
    "        'SOURCE_CRS':None,\\\n",
    "        'TARGET_CRS':None,\\\n",
    "        'NODATA':None,\\\n",
    "        'ALPHA_BAND':False,\\\n",
    "        'CROP_TO_CUTLINE':True,\\\n",
    "        'KEEP_RESOLUTION':False,\\\n",
    "        'SET_RESOLUTION':False,\\\n",
    "        'X_RESOLUTION':None,\\\n",
    "        'Y_RESOLUTION':None,\\\n",
    "        'MULTITHREADING':False,\\\n",
    "        'OPTIONS':'',\\\n",
    "        'DATA_TYPE':0,\\\n",
    "        'EXTRA':'',\\\n",
    "        'OUTPUT':arg_sc_output_clsc_sdat_file + arg_ts_output_clsc_sdat_file})"
   ]
  },
  {
   "cell_type": "code",
   "execution_count": 255,
   "id": "0588a090",
   "metadata": {},
   "outputs": [],
   "source": [
    "#%% FUNCTION 1: Clip Raster by Mask Layer (CRBML)\n",
    "def get_clip_subca_surface_1(arg_ts_input_clspl_sdat_file, arg_ts_output_clsc_sdat_file):\n",
    "    # np.vectorize(get_clip_subca_surface_1)(ts_name_df.clspl_sdat, ts_name_df.clsc_sdat)\n",
    "    \n",
    "    arg_ts_input_clspl_sdat_file = arg_ts_input_clspl_sdat_file\n",
    "    arg_ts_output_clsc_sdat_file = arg_ts_output_clsc_sdat_file\n",
    "\n",
    "    # EXECUTE FUNCTION 2\n",
    "    sc_name_df.apply(lambda x: get_clip_subca_surface_2(x.clsc_sdat, x.mask_shp, arg_ts_input_clspl_sdat_file, arg_ts_output_clsc_sdat_file), axis=1)\n",
    "#     np.vectorize(get_clip_subca_surface_2)(sc_name_df.clsc_sdat, sc_name_df.mask_shp, arg_ts_input_clspl_sdat_file, arg_ts_output_clsc_sdat_file)"
   ]
  },
  {
   "cell_type": "code",
   "execution_count": 256,
   "id": "6e28ba93",
   "metadata": {},
   "outputs": [],
   "source": [
    "# #%% EXECUTE FUNCTION 1\n",
    "np.vectorize(get_clip_subca_surface_1)(ts_name_df.clspl_sdat, ts_name_df.clsc_sdat)"
   ]
  },
  {
   "cell_type": "code",
   "execution_count": 257,
   "id": "f75b1c22",
   "metadata": {},
   "outputs": [
    {
     "name": "stdout",
     "output_type": "stream",
     "text": [
      "Done! in 0:00:02.291374\n"
     ]
    }
   ],
   "source": [
    "#%% END TIME OF THE PROCESS\n",
    "ending_time = dt.datetime.now()\n",
    "total_time = ending_time - starting_time\n",
    "print('Done! in {}'.format(total_time))"
   ]
  },
  {
   "cell_type": "code",
   "execution_count": null,
   "id": "2805bfe0",
   "metadata": {},
   "outputs": [],
   "source": []
  },
  {
   "cell_type": "code",
   "execution_count": null,
   "id": "2bea40ef",
   "metadata": {},
   "outputs": [],
   "source": []
  },
  {
   "cell_type": "code",
   "execution_count": null,
   "id": "cdd4f664",
   "metadata": {},
   "outputs": [],
   "source": []
  },
  {
   "cell_type": "code",
   "execution_count": null,
   "id": "03e9cdaf",
   "metadata": {},
   "outputs": [],
   "source": []
  },
  {
   "cell_type": "code",
   "execution_count": null,
   "id": "54c60d81",
   "metadata": {},
   "outputs": [],
   "source": []
  },
  {
   "cell_type": "code",
   "execution_count": 258,
   "id": "9fa134a5",
   "metadata": {},
   "outputs": [
    {
     "data": {
      "text/html": [
       "<div>\n",
       "<style scoped>\n",
       "    .dataframe tbody tr th:only-of-type {\n",
       "        vertical-align: middle;\n",
       "    }\n",
       "\n",
       "    .dataframe tbody tr th {\n",
       "        vertical-align: top;\n",
       "    }\n",
       "\n",
       "    .dataframe thead th {\n",
       "        text-align: right;\n",
       "    }\n",
       "</style>\n",
       "<table border=\"1\" class=\"dataframe\">\n",
       "  <thead>\n",
       "    <tr style=\"text-align: right;\">\n",
       "      <th></th>\n",
       "      <th>timestamp</th>\n",
       "      <th>clspl_sdat</th>\n",
       "      <th>clsc_sdat</th>\n",
       "    </tr>\n",
       "  </thead>\n",
       "  <tbody>\n",
       "    <tr>\n",
       "      <th>0</th>\n",
       "      <td>Precipitation_30pts_1mm_28356</td>\n",
       "      <td>C:/Users/HOLGER/Downloads/SharedFiles_ProfJame...</td>\n",
       "      <td>_cipitation_30pts_1mm_28356.sdat</td>\n",
       "    </tr>\n",
       "    <tr>\n",
       "      <th>1</th>\n",
       "      <td>Precipitation_30pts_1mm_28357</td>\n",
       "      <td>C:/Users/HOLGER/Downloads/SharedFiles_ProfJame...</td>\n",
       "      <td>_cipitation_30pts_1mm_28357.sdat</td>\n",
       "    </tr>\n",
       "    <tr>\n",
       "      <th>2</th>\n",
       "      <td>Precipitation_30pts_1mm_28358</td>\n",
       "      <td>C:/Users/HOLGER/Downloads/SharedFiles_ProfJame...</td>\n",
       "      <td>_cipitation_30pts_1mm_28358.sdat</td>\n",
       "    </tr>\n",
       "    <tr>\n",
       "      <th>3</th>\n",
       "      <td>Precipitation_30pts_1mm_28359</td>\n",
       "      <td>C:/Users/HOLGER/Downloads/SharedFiles_ProfJame...</td>\n",
       "      <td>_cipitation_30pts_1mm_28359.sdat</td>\n",
       "    </tr>\n",
       "    <tr>\n",
       "      <th>4</th>\n",
       "      <td>Precipitation_30pts_1mm_28360</td>\n",
       "      <td>C:/Users/HOLGER/Downloads/SharedFiles_ProfJame...</td>\n",
       "      <td>_cipitation_30pts_1mm_28360.sdat</td>\n",
       "    </tr>\n",
       "  </tbody>\n",
       "</table>\n",
       "</div>"
      ],
      "text/plain": [
       "                       timestamp  \\\n",
       "0  Precipitation_30pts_1mm_28356   \n",
       "1  Precipitation_30pts_1mm_28357   \n",
       "2  Precipitation_30pts_1mm_28358   \n",
       "3  Precipitation_30pts_1mm_28359   \n",
       "4  Precipitation_30pts_1mm_28360   \n",
       "\n",
       "                                          clspl_sdat  \\\n",
       "0  C:/Users/HOLGER/Downloads/SharedFiles_ProfJame...   \n",
       "1  C:/Users/HOLGER/Downloads/SharedFiles_ProfJame...   \n",
       "2  C:/Users/HOLGER/Downloads/SharedFiles_ProfJame...   \n",
       "3  C:/Users/HOLGER/Downloads/SharedFiles_ProfJame...   \n",
       "4  C:/Users/HOLGER/Downloads/SharedFiles_ProfJame...   \n",
       "\n",
       "                          clsc_sdat  \n",
       "0  _cipitation_30pts_1mm_28356.sdat  \n",
       "1  _cipitation_30pts_1mm_28357.sdat  \n",
       "2  _cipitation_30pts_1mm_28358.sdat  \n",
       "3  _cipitation_30pts_1mm_28359.sdat  \n",
       "4  _cipitation_30pts_1mm_28360.sdat  "
      ]
     },
     "execution_count": 258,
     "metadata": {},
     "output_type": "execute_result"
    }
   ],
   "source": [
    "ts_name_df.head()"
   ]
  },
  {
   "cell_type": "code",
   "execution_count": 260,
   "id": "4d70d3f2",
   "metadata": {},
   "outputs": [
    {
     "data": {
      "text/html": [
       "<div>\n",
       "<style scoped>\n",
       "    .dataframe tbody tr th:only-of-type {\n",
       "        vertical-align: middle;\n",
       "    }\n",
       "\n",
       "    .dataframe tbody tr th {\n",
       "        vertical-align: top;\n",
       "    }\n",
       "\n",
       "    .dataframe thead th {\n",
       "        text-align: right;\n",
       "    }\n",
       "</style>\n",
       "<table border=\"1\" class=\"dataframe\">\n",
       "  <thead>\n",
       "    <tr style=\"text-align: right;\">\n",
       "      <th></th>\n",
       "      <th>subcatchment</th>\n",
       "      <th>area</th>\n",
       "      <th>clsc_sdat</th>\n",
       "      <th>mask_shp</th>\n",
       "    </tr>\n",
       "  </thead>\n",
       "  <tbody>\n",
       "    <tr>\n",
       "      <th>0</th>\n",
       "      <td>sc_0001</td>\n",
       "      <td>1</td>\n",
       "      <td>C:/Users/HOLGER/Downloads/SharedFiles_ProfJame...</td>\n",
       "      <td>C:/Users/HOLGER/Downloads/SharedFiles_ProfJame...</td>\n",
       "    </tr>\n",
       "    <tr>\n",
       "      <th>1</th>\n",
       "      <td>sc_0002</td>\n",
       "      <td>2</td>\n",
       "      <td>C:/Users/HOLGER/Downloads/SharedFiles_ProfJame...</td>\n",
       "      <td>C:/Users/HOLGER/Downloads/SharedFiles_ProfJame...</td>\n",
       "    </tr>\n",
       "    <tr>\n",
       "      <th>2</th>\n",
       "      <td>sc_0003</td>\n",
       "      <td>3</td>\n",
       "      <td>C:/Users/HOLGER/Downloads/SharedFiles_ProfJame...</td>\n",
       "      <td>C:/Users/HOLGER/Downloads/SharedFiles_ProfJame...</td>\n",
       "    </tr>\n",
       "    <tr>\n",
       "      <th>3</th>\n",
       "      <td>sc_0004</td>\n",
       "      <td>4</td>\n",
       "      <td>C:/Users/HOLGER/Downloads/SharedFiles_ProfJame...</td>\n",
       "      <td>C:/Users/HOLGER/Downloads/SharedFiles_ProfJame...</td>\n",
       "    </tr>\n",
       "    <tr>\n",
       "      <th>4</th>\n",
       "      <td>sc_0005</td>\n",
       "      <td>5</td>\n",
       "      <td>C:/Users/HOLGER/Downloads/SharedFiles_ProfJame...</td>\n",
       "      <td>C:/Users/HOLGER/Downloads/SharedFiles_ProfJame...</td>\n",
       "    </tr>\n",
       "  </tbody>\n",
       "</table>\n",
       "</div>"
      ],
      "text/plain": [
       "  subcatchment  area                                          clsc_sdat  \\\n",
       "0      sc_0001     1  C:/Users/HOLGER/Downloads/SharedFiles_ProfJame...   \n",
       "1      sc_0002     2  C:/Users/HOLGER/Downloads/SharedFiles_ProfJame...   \n",
       "2      sc_0003     3  C:/Users/HOLGER/Downloads/SharedFiles_ProfJame...   \n",
       "3      sc_0004     4  C:/Users/HOLGER/Downloads/SharedFiles_ProfJame...   \n",
       "4      sc_0005     5  C:/Users/HOLGER/Downloads/SharedFiles_ProfJame...   \n",
       "\n",
       "                                            mask_shp  \n",
       "0  C:/Users/HOLGER/Downloads/SharedFiles_ProfJame...  \n",
       "1  C:/Users/HOLGER/Downloads/SharedFiles_ProfJame...  \n",
       "2  C:/Users/HOLGER/Downloads/SharedFiles_ProfJame...  \n",
       "3  C:/Users/HOLGER/Downloads/SharedFiles_ProfJame...  \n",
       "4  C:/Users/HOLGER/Downloads/SharedFiles_ProfJame...  "
      ]
     },
     "execution_count": 260,
     "metadata": {},
     "output_type": "execute_result"
    }
   ],
   "source": [
    "sc_name_df.head()"
   ]
  },
  {
   "cell_type": "code",
   "execution_count": null,
   "id": "1fb0b835",
   "metadata": {},
   "outputs": [],
   "source": []
  },
  {
   "cell_type": "code",
   "execution_count": 218,
   "id": "91882106",
   "metadata": {},
   "outputs": [
    {
     "data": {
      "text/plain": [
       "<PandasArray>\n",
       "['C:/Users/HOLGER/Downloads/SharedFiles_ProfJames/_Spline_Surface/clspl_sdat/clspl_cipitation_30pts_1mm_28356.sdat',\n",
       " 'C:/Users/HOLGER/Downloads/SharedFiles_ProfJames/_Spline_Surface/clspl_sdat/clspl_cipitation_30pts_1mm_28357.sdat',\n",
       " 'C:/Users/HOLGER/Downloads/SharedFiles_ProfJames/_Spline_Surface/clspl_sdat/clspl_cipitation_30pts_1mm_28358.sdat',\n",
       " 'C:/Users/HOLGER/Downloads/SharedFiles_ProfJames/_Spline_Surface/clspl_sdat/clspl_cipitation_30pts_1mm_28359.sdat',\n",
       " 'C:/Users/HOLGER/Downloads/SharedFiles_ProfJames/_Spline_Surface/clspl_sdat/clspl_cipitation_30pts_1mm_28360.sdat']\n",
       "Length: 5, dtype: object"
      ]
     },
     "execution_count": 218,
     "metadata": {},
     "output_type": "execute_result"
    }
   ],
   "source": [
    "ts_name_df_clspl_sdat = ts_name_df.clspl_sdat.array\n",
    "ts_name_df_clspl_sdat"
   ]
  },
  {
   "cell_type": "code",
   "execution_count": 219,
   "id": "526fcb50",
   "metadata": {},
   "outputs": [
    {
     "data": {
      "text/plain": [
       "'C:/Users/HOLGER/Downloads/SharedFiles_ProfJames/_Spline_Surface/clspl_sdat/clspl_cipitation_30pts_1mm_28356.sdat'"
      ]
     },
     "execution_count": 219,
     "metadata": {},
     "output_type": "execute_result"
    }
   ],
   "source": [
    "ts_name_df_clspl_sdat[0]"
   ]
  },
  {
   "cell_type": "code",
   "execution_count": 220,
   "id": "456f978a",
   "metadata": {},
   "outputs": [
    {
     "data": {
      "text/plain": [
       "<PandasArray>\n",
       "['_cipitation_30pts_1mm_28356.sdat', '_cipitation_30pts_1mm_28357.sdat',\n",
       " '_cipitation_30pts_1mm_28358.sdat', '_cipitation_30pts_1mm_28359.sdat',\n",
       " '_cipitation_30pts_1mm_28360.sdat']\n",
       "Length: 5, dtype: object"
      ]
     },
     "execution_count": 220,
     "metadata": {},
     "output_type": "execute_result"
    }
   ],
   "source": [
    "ts_name_df_clsc_sdat = ts_name_df.clsc_sdat.array\n",
    "ts_name_df_clsc_sdat"
   ]
  },
  {
   "cell_type": "code",
   "execution_count": 221,
   "id": "aea1833c",
   "metadata": {},
   "outputs": [
    {
     "data": {
      "text/plain": [
       "'_cipitation_30pts_1mm_28356.sdat'"
      ]
     },
     "execution_count": 221,
     "metadata": {},
     "output_type": "execute_result"
    }
   ],
   "source": [
    "ts_name_df_clsc_sdat[0]"
   ]
  },
  {
   "cell_type": "code",
   "execution_count": 222,
   "id": "d48f351b",
   "metadata": {},
   "outputs": [
    {
     "data": {
      "text/plain": [
       "<PandasArray>\n",
       "['C:/Users/HOLGER/Downloads/SharedFiles_ProfJames/_Spline_Surface/clsc_sdat/clsc_0001',\n",
       " 'C:/Users/HOLGER/Downloads/SharedFiles_ProfJames/_Spline_Surface/clsc_sdat/clsc_0002',\n",
       " 'C:/Users/HOLGER/Downloads/SharedFiles_ProfJames/_Spline_Surface/clsc_sdat/clsc_0003',\n",
       " 'C:/Users/HOLGER/Downloads/SharedFiles_ProfJames/_Spline_Surface/clsc_sdat/clsc_0004',\n",
       " 'C:/Users/HOLGER/Downloads/SharedFiles_ProfJames/_Spline_Surface/clsc_sdat/clsc_0005',\n",
       " 'C:/Users/HOLGER/Downloads/SharedFiles_ProfJames/_Spline_Surface/clsc_sdat/clsc_0006',\n",
       " 'C:/Users/HOLGER/Downloads/SharedFiles_ProfJames/_Spline_Surface/clsc_sdat/clsc_0007',\n",
       " 'C:/Users/HOLGER/Downloads/SharedFiles_ProfJames/_Spline_Surface/clsc_sdat/clsc_0008',\n",
       " 'C:/Users/HOLGER/Downloads/SharedFiles_ProfJames/_Spline_Surface/clsc_sdat/clsc_0009',\n",
       " 'C:/Users/HOLGER/Downloads/SharedFiles_ProfJames/_Spline_Surface/clsc_sdat/clsc_0010',\n",
       " ...\n",
       " 'C:/Users/HOLGER/Downloads/SharedFiles_ProfJames/_Spline_Surface/clsc_sdat/clsc_1525',\n",
       " 'C:/Users/HOLGER/Downloads/SharedFiles_ProfJames/_Spline_Surface/clsc_sdat/clsc_1526',\n",
       " 'C:/Users/HOLGER/Downloads/SharedFiles_ProfJames/_Spline_Surface/clsc_sdat/clsc_1527',\n",
       " 'C:/Users/HOLGER/Downloads/SharedFiles_ProfJames/_Spline_Surface/clsc_sdat/clsc_1528',\n",
       " 'C:/Users/HOLGER/Downloads/SharedFiles_ProfJames/_Spline_Surface/clsc_sdat/clsc_1529',\n",
       " 'C:/Users/HOLGER/Downloads/SharedFiles_ProfJames/_Spline_Surface/clsc_sdat/clsc_1530',\n",
       " 'C:/Users/HOLGER/Downloads/SharedFiles_ProfJames/_Spline_Surface/clsc_sdat/clsc_1531',\n",
       " 'C:/Users/HOLGER/Downloads/SharedFiles_ProfJames/_Spline_Surface/clsc_sdat/clsc_1532',\n",
       " 'C:/Users/HOLGER/Downloads/SharedFiles_ProfJames/_Spline_Surface/clsc_sdat/clsc_1533',\n",
       " 'C:/Users/HOLGER/Downloads/SharedFiles_ProfJames/_Spline_Surface/clsc_sdat/clsc_1534']\n",
       "Length: 1534, dtype: object"
      ]
     },
     "execution_count": 222,
     "metadata": {},
     "output_type": "execute_result"
    }
   ],
   "source": [
    "sc_name_df_clsc_sdat = sc_name_df.clsc_sdat.array\n",
    "sc_name_df_clsc_sdat"
   ]
  },
  {
   "cell_type": "code",
   "execution_count": 223,
   "id": "32283536",
   "metadata": {},
   "outputs": [
    {
     "data": {
      "text/plain": [
       "'C:/Users/HOLGER/Downloads/SharedFiles_ProfJames/_Spline_Surface/clsc_sdat/clsc_0001'"
      ]
     },
     "execution_count": 223,
     "metadata": {},
     "output_type": "execute_result"
    }
   ],
   "source": [
    "sc_name_df_clsc_sdat[0]"
   ]
  },
  {
   "cell_type": "code",
   "execution_count": 224,
   "id": "0e80b81c",
   "metadata": {},
   "outputs": [
    {
     "data": {
      "text/plain": [
       "<PandasArray>\n",
       "['C:/Users/HOLGER/Downloads/SharedFiles_ProfJames/_Spline_Surface/mask_sc_polygon/sc_0001.shp',\n",
       " 'C:/Users/HOLGER/Downloads/SharedFiles_ProfJames/_Spline_Surface/mask_sc_polygon/sc_0002.shp',\n",
       " 'C:/Users/HOLGER/Downloads/SharedFiles_ProfJames/_Spline_Surface/mask_sc_polygon/sc_0003.shp',\n",
       " 'C:/Users/HOLGER/Downloads/SharedFiles_ProfJames/_Spline_Surface/mask_sc_polygon/sc_0004.shp',\n",
       " 'C:/Users/HOLGER/Downloads/SharedFiles_ProfJames/_Spline_Surface/mask_sc_polygon/sc_0005.shp',\n",
       " 'C:/Users/HOLGER/Downloads/SharedFiles_ProfJames/_Spline_Surface/mask_sc_polygon/sc_0006.shp',\n",
       " 'C:/Users/HOLGER/Downloads/SharedFiles_ProfJames/_Spline_Surface/mask_sc_polygon/sc_0007.shp',\n",
       " 'C:/Users/HOLGER/Downloads/SharedFiles_ProfJames/_Spline_Surface/mask_sc_polygon/sc_0008.shp',\n",
       " 'C:/Users/HOLGER/Downloads/SharedFiles_ProfJames/_Spline_Surface/mask_sc_polygon/sc_0009.shp',\n",
       " 'C:/Users/HOLGER/Downloads/SharedFiles_ProfJames/_Spline_Surface/mask_sc_polygon/sc_0010.shp',\n",
       " ...\n",
       " 'C:/Users/HOLGER/Downloads/SharedFiles_ProfJames/_Spline_Surface/mask_sc_polygon/sc_1525.shp',\n",
       " 'C:/Users/HOLGER/Downloads/SharedFiles_ProfJames/_Spline_Surface/mask_sc_polygon/sc_1526.shp',\n",
       " 'C:/Users/HOLGER/Downloads/SharedFiles_ProfJames/_Spline_Surface/mask_sc_polygon/sc_1527.shp',\n",
       " 'C:/Users/HOLGER/Downloads/SharedFiles_ProfJames/_Spline_Surface/mask_sc_polygon/sc_1528.shp',\n",
       " 'C:/Users/HOLGER/Downloads/SharedFiles_ProfJames/_Spline_Surface/mask_sc_polygon/sc_1529.shp',\n",
       " 'C:/Users/HOLGER/Downloads/SharedFiles_ProfJames/_Spline_Surface/mask_sc_polygon/sc_1530.shp',\n",
       " 'C:/Users/HOLGER/Downloads/SharedFiles_ProfJames/_Spline_Surface/mask_sc_polygon/sc_1531.shp',\n",
       " 'C:/Users/HOLGER/Downloads/SharedFiles_ProfJames/_Spline_Surface/mask_sc_polygon/sc_1532.shp',\n",
       " 'C:/Users/HOLGER/Downloads/SharedFiles_ProfJames/_Spline_Surface/mask_sc_polygon/sc_1533.shp',\n",
       " 'C:/Users/HOLGER/Downloads/SharedFiles_ProfJames/_Spline_Surface/mask_sc_polygon/sc_1534.shp']\n",
       "Length: 1534, dtype: object"
      ]
     },
     "execution_count": 224,
     "metadata": {},
     "output_type": "execute_result"
    }
   ],
   "source": [
    "sc_name_df_mask_shp = sc_name_df.mask_shp.array\n",
    "sc_name_df_mask_shp"
   ]
  },
  {
   "cell_type": "code",
   "execution_count": 225,
   "id": "c01e27ab",
   "metadata": {},
   "outputs": [
    {
     "data": {
      "text/plain": [
       "'C:/Users/HOLGER/Downloads/SharedFiles_ProfJames/_Spline_Surface/mask_sc_polygon/sc_0001.shp'"
      ]
     },
     "execution_count": 225,
     "metadata": {},
     "output_type": "execute_result"
    }
   ],
   "source": [
    "sc_name_df_mask_shp[0]"
   ]
  },
  {
   "cell_type": "code",
   "execution_count": null,
   "id": "0cc7e47a",
   "metadata": {},
   "outputs": [],
   "source": []
  },
  {
   "cell_type": "code",
   "execution_count": 226,
   "id": "c406d27e",
   "metadata": {},
   "outputs": [
    {
     "data": {
      "text/plain": [
       "<PandasArray>\n",
       "['C:/Users/HOLGER/Downloads/SharedFiles_ProfJames/_Spline_Surface/clsc_sdat/clsc_0001',\n",
       " 'C:/Users/HOLGER/Downloads/SharedFiles_ProfJames/_Spline_Surface/clsc_sdat/clsc_0002',\n",
       " 'C:/Users/HOLGER/Downloads/SharedFiles_ProfJames/_Spline_Surface/clsc_sdat/clsc_0003',\n",
       " 'C:/Users/HOLGER/Downloads/SharedFiles_ProfJames/_Spline_Surface/clsc_sdat/clsc_0004',\n",
       " 'C:/Users/HOLGER/Downloads/SharedFiles_ProfJames/_Spline_Surface/clsc_sdat/clsc_0005',\n",
       " 'C:/Users/HOLGER/Downloads/SharedFiles_ProfJames/_Spline_Surface/clsc_sdat/clsc_0006',\n",
       " 'C:/Users/HOLGER/Downloads/SharedFiles_ProfJames/_Spline_Surface/clsc_sdat/clsc_0007',\n",
       " 'C:/Users/HOLGER/Downloads/SharedFiles_ProfJames/_Spline_Surface/clsc_sdat/clsc_0008',\n",
       " 'C:/Users/HOLGER/Downloads/SharedFiles_ProfJames/_Spline_Surface/clsc_sdat/clsc_0009',\n",
       " 'C:/Users/HOLGER/Downloads/SharedFiles_ProfJames/_Spline_Surface/clsc_sdat/clsc_0010',\n",
       " ...\n",
       " 'C:/Users/HOLGER/Downloads/SharedFiles_ProfJames/_Spline_Surface/clsc_sdat/clsc_1525',\n",
       " 'C:/Users/HOLGER/Downloads/SharedFiles_ProfJames/_Spline_Surface/clsc_sdat/clsc_1526',\n",
       " 'C:/Users/HOLGER/Downloads/SharedFiles_ProfJames/_Spline_Surface/clsc_sdat/clsc_1527',\n",
       " 'C:/Users/HOLGER/Downloads/SharedFiles_ProfJames/_Spline_Surface/clsc_sdat/clsc_1528',\n",
       " 'C:/Users/HOLGER/Downloads/SharedFiles_ProfJames/_Spline_Surface/clsc_sdat/clsc_1529',\n",
       " 'C:/Users/HOLGER/Downloads/SharedFiles_ProfJames/_Spline_Surface/clsc_sdat/clsc_1530',\n",
       " 'C:/Users/HOLGER/Downloads/SharedFiles_ProfJames/_Spline_Surface/clsc_sdat/clsc_1531',\n",
       " 'C:/Users/HOLGER/Downloads/SharedFiles_ProfJames/_Spline_Surface/clsc_sdat/clsc_1532',\n",
       " 'C:/Users/HOLGER/Downloads/SharedFiles_ProfJames/_Spline_Surface/clsc_sdat/clsc_1533',\n",
       " 'C:/Users/HOLGER/Downloads/SharedFiles_ProfJames/_Spline_Surface/clsc_sdat/clsc_1534']\n",
       "Length: 1534, dtype: object"
      ]
     },
     "execution_count": 226,
     "metadata": {},
     "output_type": "execute_result"
    }
   ],
   "source": [
    "sc_name_df_clsc_sdat"
   ]
  },
  {
   "cell_type": "code",
   "execution_count": 227,
   "id": "cf485c4d",
   "metadata": {},
   "outputs": [
    {
     "data": {
      "text/plain": [
       "<PandasArray>\n",
       "['C:/Users/HOLGER/Downloads/SharedFiles_ProfJames/_Spline_Surface/clsc_sdat/clsc_0001',\n",
       " 'C:/Users/HOLGER/Downloads/SharedFiles_ProfJames/_Spline_Surface/clsc_sdat/clsc_0002',\n",
       " 'C:/Users/HOLGER/Downloads/SharedFiles_ProfJames/_Spline_Surface/clsc_sdat/clsc_0003',\n",
       " 'C:/Users/HOLGER/Downloads/SharedFiles_ProfJames/_Spline_Surface/clsc_sdat/clsc_0004',\n",
       " 'C:/Users/HOLGER/Downloads/SharedFiles_ProfJames/_Spline_Surface/clsc_sdat/clsc_0005',\n",
       " 'C:/Users/HOLGER/Downloads/SharedFiles_ProfJames/_Spline_Surface/clsc_sdat/clsc_0006',\n",
       " 'C:/Users/HOLGER/Downloads/SharedFiles_ProfJames/_Spline_Surface/clsc_sdat/clsc_0007',\n",
       " 'C:/Users/HOLGER/Downloads/SharedFiles_ProfJames/_Spline_Surface/clsc_sdat/clsc_0008',\n",
       " 'C:/Users/HOLGER/Downloads/SharedFiles_ProfJames/_Spline_Surface/clsc_sdat/clsc_0009',\n",
       " 'C:/Users/HOLGER/Downloads/SharedFiles_ProfJames/_Spline_Surface/clsc_sdat/clsc_0010',\n",
       " ...\n",
       " 'C:/Users/HOLGER/Downloads/SharedFiles_ProfJames/_Spline_Surface/clsc_sdat/clsc_1525',\n",
       " 'C:/Users/HOLGER/Downloads/SharedFiles_ProfJames/_Spline_Surface/clsc_sdat/clsc_1526',\n",
       " 'C:/Users/HOLGER/Downloads/SharedFiles_ProfJames/_Spline_Surface/clsc_sdat/clsc_1527',\n",
       " 'C:/Users/HOLGER/Downloads/SharedFiles_ProfJames/_Spline_Surface/clsc_sdat/clsc_1528',\n",
       " 'C:/Users/HOLGER/Downloads/SharedFiles_ProfJames/_Spline_Surface/clsc_sdat/clsc_1529',\n",
       " 'C:/Users/HOLGER/Downloads/SharedFiles_ProfJames/_Spline_Surface/clsc_sdat/clsc_1530',\n",
       " 'C:/Users/HOLGER/Downloads/SharedFiles_ProfJames/_Spline_Surface/clsc_sdat/clsc_1531',\n",
       " 'C:/Users/HOLGER/Downloads/SharedFiles_ProfJames/_Spline_Surface/clsc_sdat/clsc_1532',\n",
       " 'C:/Users/HOLGER/Downloads/SharedFiles_ProfJames/_Spline_Surface/clsc_sdat/clsc_1533',\n",
       " 'C:/Users/HOLGER/Downloads/SharedFiles_ProfJames/_Spline_Surface/clsc_sdat/clsc_1534']\n",
       "Length: 1534, dtype: object"
      ]
     },
     "execution_count": 227,
     "metadata": {},
     "output_type": "execute_result"
    }
   ],
   "source": [
    "# ts_name_df_clsc_sdat[:, np.newaxis]# + \n",
    "np.transpose(sc_name_df_clsc_sdat)"
   ]
  },
  {
   "cell_type": "code",
   "execution_count": null,
   "id": "71f92b84",
   "metadata": {},
   "outputs": [],
   "source": []
  },
  {
   "cell_type": "code",
   "execution_count": null,
   "id": "e363974e",
   "metadata": {},
   "outputs": [],
   "source": []
  },
  {
   "cell_type": "code",
   "execution_count": 228,
   "id": "5d3956a4",
   "metadata": {},
   "outputs": [
    {
     "data": {
      "text/plain": [
       "<PandasArray>\n",
       "['_cipitation_30pts_1mm_28356.sdat', '_cipitation_30pts_1mm_28357.sdat',\n",
       " '_cipitation_30pts_1mm_28358.sdat', '_cipitation_30pts_1mm_28359.sdat',\n",
       " '_cipitation_30pts_1mm_28360.sdat']\n",
       "Length: 5, dtype: object"
      ]
     },
     "execution_count": 228,
     "metadata": {},
     "output_type": "execute_result"
    }
   ],
   "source": [
    "ts_name_df_clsc_sdat "
   ]
  },
  {
   "cell_type": "code",
   "execution_count": 229,
   "id": "0e08cd41",
   "metadata": {},
   "outputs": [
    {
     "data": {
      "text/plain": [
       "pandas.core.arrays.numpy_.PandasArray"
      ]
     },
     "execution_count": 229,
     "metadata": {},
     "output_type": "execute_result"
    }
   ],
   "source": [
    "type(ts_name_df_clsc_sdat)"
   ]
  },
  {
   "cell_type": "code",
   "execution_count": 231,
   "id": "982c7f7b",
   "metadata": {},
   "outputs": [
    {
     "data": {
      "text/plain": [
       "<PandasArray>\n",
       "[\n",
       "['C:/Users/HOLGER/Downloads/SharedFiles_ProfJames/_Spline_Surface/clsc_sdat/clsc_0001_cipitation_30pts_1mm_28356.sdat',\n",
       " 'C:/Users/HOLGER/Downloads/SharedFiles_ProfJames/_Spline_Surface/clsc_sdat/clsc_0002_cipitation_30pts_1mm_28356.sdat',\n",
       " 'C:/Users/HOLGER/Downloads/SharedFiles_ProfJames/_Spline_Surface/clsc_sdat/clsc_0003_cipitation_30pts_1mm_28356.sdat',\n",
       " 'C:/Users/HOLGER/Downloads/SharedFiles_ProfJames/_Spline_Surface/clsc_sdat/clsc_0004_cipitation_30pts_1mm_28356.sdat',\n",
       " 'C:/Users/HOLGER/Downloads/SharedFiles_ProfJames/_Spline_Surface/clsc_sdat/clsc_0005_cipitation_30pts_1mm_28356.sdat',\n",
       " 'C:/Users/HOLGER/Downloads/SharedFiles_ProfJames/_Spline_Surface/clsc_sdat/clsc_0006_cipitation_30pts_1mm_28356.sdat',\n",
       " 'C:/Users/HOLGER/Downloads/SharedFiles_ProfJames/_Spline_Surface/clsc_sdat/clsc_0007_cipitation_30pts_1mm_28356.sdat',\n",
       " 'C:/Users/HOLGER/Downloads/SharedFiles_ProfJames/_Spline_Surface/clsc_sdat/clsc_0008_cipitation_30pts_1mm_28356.sdat',\n",
       " 'C:/Users/HOLGER/Downloads/SharedFiles_ProfJames/_Spline_Surface/clsc_sdat/clsc_0009_cipitation_30pts_1mm_28356.sdat',\n",
       " 'C:/Users/HOLGER/Downloads/SharedFiles_ProfJames/_Spline_Surface/clsc_sdat/clsc_0010_cipitation_30pts_1mm_28356.sdat',\n",
       " ...\n",
       " 'C:/Users/HOLGER/Downloads/SharedFiles_ProfJames/_Spline_Surface/clsc_sdat/clsc_1525_cipitation_30pts_1mm_28356.sdat',\n",
       " 'C:/Users/HOLGER/Downloads/SharedFiles_ProfJames/_Spline_Surface/clsc_sdat/clsc_1526_cipitation_30pts_1mm_28356.sdat',\n",
       " 'C:/Users/HOLGER/Downloads/SharedFiles_ProfJames/_Spline_Surface/clsc_sdat/clsc_1527_cipitation_30pts_1mm_28356.sdat',\n",
       " 'C:/Users/HOLGER/Downloads/SharedFiles_ProfJames/_Spline_Surface/clsc_sdat/clsc_1528_cipitation_30pts_1mm_28356.sdat',\n",
       " 'C:/Users/HOLGER/Downloads/SharedFiles_ProfJames/_Spline_Surface/clsc_sdat/clsc_1529_cipitation_30pts_1mm_28356.sdat',\n",
       " 'C:/Users/HOLGER/Downloads/SharedFiles_ProfJames/_Spline_Surface/clsc_sdat/clsc_1530_cipitation_30pts_1mm_28356.sdat',\n",
       " 'C:/Users/HOLGER/Downloads/SharedFiles_ProfJames/_Spline_Surface/clsc_sdat/clsc_1531_cipitation_30pts_1mm_28356.sdat',\n",
       " 'C:/Users/HOLGER/Downloads/SharedFiles_ProfJames/_Spline_Surface/clsc_sdat/clsc_1532_cipitation_30pts_1mm_28356.sdat',\n",
       " 'C:/Users/HOLGER/Downloads/SharedFiles_ProfJames/_Spline_Surface/clsc_sdat/clsc_1533_cipitation_30pts_1mm_28356.sdat',\n",
       " 'C:/Users/HOLGER/Downloads/SharedFiles_ProfJames/_Spline_Surface/clsc_sdat/clsc_1534_cipitation_30pts_1mm_28356.sdat'],\n",
       "['C:/Users/HOLGER/Downloads/SharedFiles_ProfJames/_Spline_Surface/clsc_sdat/clsc_0001_cipitation_30pts_1mm_28357.sdat',\n",
       " 'C:/Users/HOLGER/Downloads/SharedFiles_ProfJames/_Spline_Surface/clsc_sdat/clsc_0002_cipitation_30pts_1mm_28357.sdat',\n",
       " 'C:/Users/HOLGER/Downloads/SharedFiles_ProfJames/_Spline_Surface/clsc_sdat/clsc_0003_cipitation_30pts_1mm_28357.sdat',\n",
       " 'C:/Users/HOLGER/Downloads/SharedFiles_ProfJames/_Spline_Surface/clsc_sdat/clsc_0004_cipitation_30pts_1mm_28357.sdat',\n",
       " 'C:/Users/HOLGER/Downloads/SharedFiles_ProfJames/_Spline_Surface/clsc_sdat/clsc_0005_cipitation_30pts_1mm_28357.sdat',\n",
       " 'C:/Users/HOLGER/Downloads/SharedFiles_ProfJames/_Spline_Surface/clsc_sdat/clsc_0006_cipitation_30pts_1mm_28357.sdat',\n",
       " 'C:/Users/HOLGER/Downloads/SharedFiles_ProfJames/_Spline_Surface/clsc_sdat/clsc_0007_cipitation_30pts_1mm_28357.sdat',\n",
       " 'C:/Users/HOLGER/Downloads/SharedFiles_ProfJames/_Spline_Surface/clsc_sdat/clsc_0008_cipitation_30pts_1mm_28357.sdat',\n",
       " 'C:/Users/HOLGER/Downloads/SharedFiles_ProfJames/_Spline_Surface/clsc_sdat/clsc_0009_cipitation_30pts_1mm_28357.sdat',\n",
       " 'C:/Users/HOLGER/Downloads/SharedFiles_ProfJames/_Spline_Surface/clsc_sdat/clsc_0010_cipitation_30pts_1mm_28357.sdat',\n",
       " ...\n",
       " 'C:/Users/HOLGER/Downloads/SharedFiles_ProfJames/_Spline_Surface/clsc_sdat/clsc_1525_cipitation_30pts_1mm_28357.sdat',\n",
       " 'C:/Users/HOLGER/Downloads/SharedFiles_ProfJames/_Spline_Surface/clsc_sdat/clsc_1526_cipitation_30pts_1mm_28357.sdat',\n",
       " 'C:/Users/HOLGER/Downloads/SharedFiles_ProfJames/_Spline_Surface/clsc_sdat/clsc_1527_cipitation_30pts_1mm_28357.sdat',\n",
       " 'C:/Users/HOLGER/Downloads/SharedFiles_ProfJames/_Spline_Surface/clsc_sdat/clsc_1528_cipitation_30pts_1mm_28357.sdat',\n",
       " 'C:/Users/HOLGER/Downloads/SharedFiles_ProfJames/_Spline_Surface/clsc_sdat/clsc_1529_cipitation_30pts_1mm_28357.sdat',\n",
       " 'C:/Users/HOLGER/Downloads/SharedFiles_ProfJames/_Spline_Surface/clsc_sdat/clsc_1530_cipitation_30pts_1mm_28357.sdat',\n",
       " 'C:/Users/HOLGER/Downloads/SharedFiles_ProfJames/_Spline_Surface/clsc_sdat/clsc_1531_cipitation_30pts_1mm_28357.sdat',\n",
       " 'C:/Users/HOLGER/Downloads/SharedFiles_ProfJames/_Spline_Surface/clsc_sdat/clsc_1532_cipitation_30pts_1mm_28357.sdat',\n",
       " 'C:/Users/HOLGER/Downloads/SharedFiles_ProfJames/_Spline_Surface/clsc_sdat/clsc_1533_cipitation_30pts_1mm_28357.sdat',\n",
       " 'C:/Users/HOLGER/Downloads/SharedFiles_ProfJames/_Spline_Surface/clsc_sdat/clsc_1534_cipitation_30pts_1mm_28357.sdat'],\n",
       "['C:/Users/HOLGER/Downloads/SharedFiles_ProfJames/_Spline_Surface/clsc_sdat/clsc_0001_cipitation_30pts_1mm_28358.sdat',\n",
       " 'C:/Users/HOLGER/Downloads/SharedFiles_ProfJames/_Spline_Surface/clsc_sdat/clsc_0002_cipitation_30pts_1mm_28358.sdat',\n",
       " 'C:/Users/HOLGER/Downloads/SharedFiles_ProfJames/_Spline_Surface/clsc_sdat/clsc_0003_cipitation_30pts_1mm_28358.sdat',\n",
       " 'C:/Users/HOLGER/Downloads/SharedFiles_ProfJames/_Spline_Surface/clsc_sdat/clsc_0004_cipitation_30pts_1mm_28358.sdat',\n",
       " 'C:/Users/HOLGER/Downloads/SharedFiles_ProfJames/_Spline_Surface/clsc_sdat/clsc_0005_cipitation_30pts_1mm_28358.sdat',\n",
       " 'C:/Users/HOLGER/Downloads/SharedFiles_ProfJames/_Spline_Surface/clsc_sdat/clsc_0006_cipitation_30pts_1mm_28358.sdat',\n",
       " 'C:/Users/HOLGER/Downloads/SharedFiles_ProfJames/_Spline_Surface/clsc_sdat/clsc_0007_cipitation_30pts_1mm_28358.sdat',\n",
       " 'C:/Users/HOLGER/Downloads/SharedFiles_ProfJames/_Spline_Surface/clsc_sdat/clsc_0008_cipitation_30pts_1mm_28358.sdat',\n",
       " 'C:/Users/HOLGER/Downloads/SharedFiles_ProfJames/_Spline_Surface/clsc_sdat/clsc_0009_cipitation_30pts_1mm_28358.sdat',\n",
       " 'C:/Users/HOLGER/Downloads/SharedFiles_ProfJames/_Spline_Surface/clsc_sdat/clsc_0010_cipitation_30pts_1mm_28358.sdat',\n",
       " ...\n",
       " 'C:/Users/HOLGER/Downloads/SharedFiles_ProfJames/_Spline_Surface/clsc_sdat/clsc_1525_cipitation_30pts_1mm_28358.sdat',\n",
       " 'C:/Users/HOLGER/Downloads/SharedFiles_ProfJames/_Spline_Surface/clsc_sdat/clsc_1526_cipitation_30pts_1mm_28358.sdat',\n",
       " 'C:/Users/HOLGER/Downloads/SharedFiles_ProfJames/_Spline_Surface/clsc_sdat/clsc_1527_cipitation_30pts_1mm_28358.sdat',\n",
       " 'C:/Users/HOLGER/Downloads/SharedFiles_ProfJames/_Spline_Surface/clsc_sdat/clsc_1528_cipitation_30pts_1mm_28358.sdat',\n",
       " 'C:/Users/HOLGER/Downloads/SharedFiles_ProfJames/_Spline_Surface/clsc_sdat/clsc_1529_cipitation_30pts_1mm_28358.sdat',\n",
       " 'C:/Users/HOLGER/Downloads/SharedFiles_ProfJames/_Spline_Surface/clsc_sdat/clsc_1530_cipitation_30pts_1mm_28358.sdat',\n",
       " 'C:/Users/HOLGER/Downloads/SharedFiles_ProfJames/_Spline_Surface/clsc_sdat/clsc_1531_cipitation_30pts_1mm_28358.sdat',\n",
       " 'C:/Users/HOLGER/Downloads/SharedFiles_ProfJames/_Spline_Surface/clsc_sdat/clsc_1532_cipitation_30pts_1mm_28358.sdat',\n",
       " 'C:/Users/HOLGER/Downloads/SharedFiles_ProfJames/_Spline_Surface/clsc_sdat/clsc_1533_cipitation_30pts_1mm_28358.sdat',\n",
       " 'C:/Users/HOLGER/Downloads/SharedFiles_ProfJames/_Spline_Surface/clsc_sdat/clsc_1534_cipitation_30pts_1mm_28358.sdat'],\n",
       "['C:/Users/HOLGER/Downloads/SharedFiles_ProfJames/_Spline_Surface/clsc_sdat/clsc_0001_cipitation_30pts_1mm_28359.sdat',\n",
       " 'C:/Users/HOLGER/Downloads/SharedFiles_ProfJames/_Spline_Surface/clsc_sdat/clsc_0002_cipitation_30pts_1mm_28359.sdat',\n",
       " 'C:/Users/HOLGER/Downloads/SharedFiles_ProfJames/_Spline_Surface/clsc_sdat/clsc_0003_cipitation_30pts_1mm_28359.sdat',\n",
       " 'C:/Users/HOLGER/Downloads/SharedFiles_ProfJames/_Spline_Surface/clsc_sdat/clsc_0004_cipitation_30pts_1mm_28359.sdat',\n",
       " 'C:/Users/HOLGER/Downloads/SharedFiles_ProfJames/_Spline_Surface/clsc_sdat/clsc_0005_cipitation_30pts_1mm_28359.sdat',\n",
       " 'C:/Users/HOLGER/Downloads/SharedFiles_ProfJames/_Spline_Surface/clsc_sdat/clsc_0006_cipitation_30pts_1mm_28359.sdat',\n",
       " 'C:/Users/HOLGER/Downloads/SharedFiles_ProfJames/_Spline_Surface/clsc_sdat/clsc_0007_cipitation_30pts_1mm_28359.sdat',\n",
       " 'C:/Users/HOLGER/Downloads/SharedFiles_ProfJames/_Spline_Surface/clsc_sdat/clsc_0008_cipitation_30pts_1mm_28359.sdat',\n",
       " 'C:/Users/HOLGER/Downloads/SharedFiles_ProfJames/_Spline_Surface/clsc_sdat/clsc_0009_cipitation_30pts_1mm_28359.sdat',\n",
       " 'C:/Users/HOLGER/Downloads/SharedFiles_ProfJames/_Spline_Surface/clsc_sdat/clsc_0010_cipitation_30pts_1mm_28359.sdat',\n",
       " ...\n",
       " 'C:/Users/HOLGER/Downloads/SharedFiles_ProfJames/_Spline_Surface/clsc_sdat/clsc_1525_cipitation_30pts_1mm_28359.sdat',\n",
       " 'C:/Users/HOLGER/Downloads/SharedFiles_ProfJames/_Spline_Surface/clsc_sdat/clsc_1526_cipitation_30pts_1mm_28359.sdat',\n",
       " 'C:/Users/HOLGER/Downloads/SharedFiles_ProfJames/_Spline_Surface/clsc_sdat/clsc_1527_cipitation_30pts_1mm_28359.sdat',\n",
       " 'C:/Users/HOLGER/Downloads/SharedFiles_ProfJames/_Spline_Surface/clsc_sdat/clsc_1528_cipitation_30pts_1mm_28359.sdat',\n",
       " 'C:/Users/HOLGER/Downloads/SharedFiles_ProfJames/_Spline_Surface/clsc_sdat/clsc_1529_cipitation_30pts_1mm_28359.sdat',\n",
       " 'C:/Users/HOLGER/Downloads/SharedFiles_ProfJames/_Spline_Surface/clsc_sdat/clsc_1530_cipitation_30pts_1mm_28359.sdat',\n",
       " 'C:/Users/HOLGER/Downloads/SharedFiles_ProfJames/_Spline_Surface/clsc_sdat/clsc_1531_cipitation_30pts_1mm_28359.sdat',\n",
       " 'C:/Users/HOLGER/Downloads/SharedFiles_ProfJames/_Spline_Surface/clsc_sdat/clsc_1532_cipitation_30pts_1mm_28359.sdat',\n",
       " 'C:/Users/HOLGER/Downloads/SharedFiles_ProfJames/_Spline_Surface/clsc_sdat/clsc_1533_cipitation_30pts_1mm_28359.sdat',\n",
       " 'C:/Users/HOLGER/Downloads/SharedFiles_ProfJames/_Spline_Surface/clsc_sdat/clsc_1534_cipitation_30pts_1mm_28359.sdat'],\n",
       "['C:/Users/HOLGER/Downloads/SharedFiles_ProfJames/_Spline_Surface/clsc_sdat/clsc_0001_cipitation_30pts_1mm_28360.sdat',\n",
       " 'C:/Users/HOLGER/Downloads/SharedFiles_ProfJames/_Spline_Surface/clsc_sdat/clsc_0002_cipitation_30pts_1mm_28360.sdat',\n",
       " 'C:/Users/HOLGER/Downloads/SharedFiles_ProfJames/_Spline_Surface/clsc_sdat/clsc_0003_cipitation_30pts_1mm_28360.sdat',\n",
       " 'C:/Users/HOLGER/Downloads/SharedFiles_ProfJames/_Spline_Surface/clsc_sdat/clsc_0004_cipitation_30pts_1mm_28360.sdat',\n",
       " 'C:/Users/HOLGER/Downloads/SharedFiles_ProfJames/_Spline_Surface/clsc_sdat/clsc_0005_cipitation_30pts_1mm_28360.sdat',\n",
       " 'C:/Users/HOLGER/Downloads/SharedFiles_ProfJames/_Spline_Surface/clsc_sdat/clsc_0006_cipitation_30pts_1mm_28360.sdat',\n",
       " 'C:/Users/HOLGER/Downloads/SharedFiles_ProfJames/_Spline_Surface/clsc_sdat/clsc_0007_cipitation_30pts_1mm_28360.sdat',\n",
       " 'C:/Users/HOLGER/Downloads/SharedFiles_ProfJames/_Spline_Surface/clsc_sdat/clsc_0008_cipitation_30pts_1mm_28360.sdat',\n",
       " 'C:/Users/HOLGER/Downloads/SharedFiles_ProfJames/_Spline_Surface/clsc_sdat/clsc_0009_cipitation_30pts_1mm_28360.sdat',\n",
       " 'C:/Users/HOLGER/Downloads/SharedFiles_ProfJames/_Spline_Surface/clsc_sdat/clsc_0010_cipitation_30pts_1mm_28360.sdat',\n",
       " ...\n",
       " 'C:/Users/HOLGER/Downloads/SharedFiles_ProfJames/_Spline_Surface/clsc_sdat/clsc_1525_cipitation_30pts_1mm_28360.sdat',\n",
       " 'C:/Users/HOLGER/Downloads/SharedFiles_ProfJames/_Spline_Surface/clsc_sdat/clsc_1526_cipitation_30pts_1mm_28360.sdat',\n",
       " 'C:/Users/HOLGER/Downloads/SharedFiles_ProfJames/_Spline_Surface/clsc_sdat/clsc_1527_cipitation_30pts_1mm_28360.sdat',\n",
       " 'C:/Users/HOLGER/Downloads/SharedFiles_ProfJames/_Spline_Surface/clsc_sdat/clsc_1528_cipitation_30pts_1mm_28360.sdat',\n",
       " 'C:/Users/HOLGER/Downloads/SharedFiles_ProfJames/_Spline_Surface/clsc_sdat/clsc_1529_cipitation_30pts_1mm_28360.sdat',\n",
       " 'C:/Users/HOLGER/Downloads/SharedFiles_ProfJames/_Spline_Surface/clsc_sdat/clsc_1530_cipitation_30pts_1mm_28360.sdat',\n",
       " 'C:/Users/HOLGER/Downloads/SharedFiles_ProfJames/_Spline_Surface/clsc_sdat/clsc_1531_cipitation_30pts_1mm_28360.sdat',\n",
       " 'C:/Users/HOLGER/Downloads/SharedFiles_ProfJames/_Spline_Surface/clsc_sdat/clsc_1532_cipitation_30pts_1mm_28360.sdat',\n",
       " 'C:/Users/HOLGER/Downloads/SharedFiles_ProfJames/_Spline_Surface/clsc_sdat/clsc_1533_cipitation_30pts_1mm_28360.sdat',\n",
       " 'C:/Users/HOLGER/Downloads/SharedFiles_ProfJames/_Spline_Surface/clsc_sdat/clsc_1534_cipitation_30pts_1mm_28360.sdat']\n",
       "]\n",
       "Shape: (5, 1534), dtype: object"
      ]
     },
     "execution_count": 231,
     "metadata": {},
     "output_type": "execute_result"
    }
   ],
   "source": [
    "name_df_clsc_sdat = sc_name_df_clsc_sdat + ts_name_df_clsc_sdat[:, np.newaxis]\n",
    "name_df_clsc_sdat"
   ]
  },
  {
   "cell_type": "code",
   "execution_count": 234,
   "id": "d68a4864",
   "metadata": {},
   "outputs": [
    {
     "data": {
      "text/plain": [
       "'C:/Users/HOLGER/Downloads/SharedFiles_ProfJames/_Spline_Surface/clsc_sdat/clsc_0001_cipitation_30pts_1mm_28356.sdat'"
      ]
     },
     "execution_count": 234,
     "metadata": {},
     "output_type": "execute_result"
    }
   ],
   "source": [
    "name_df_clsc_sdat[0,0]"
   ]
  },
  {
   "cell_type": "code",
   "execution_count": 237,
   "id": "353399b5",
   "metadata": {},
   "outputs": [
    {
     "data": {
      "text/plain": [
       "'C:/Users/HOLGER/Downloads/SharedFiles_ProfJames/_Spline_Surface/clsc_sdat/clsc_0002_cipitation_30pts_1mm_28356.sdat'"
      ]
     },
     "execution_count": 237,
     "metadata": {},
     "output_type": "execute_result"
    }
   ],
   "source": [
    "name_df_clsc_sdat[0,1]"
   ]
  },
  {
   "cell_type": "code",
   "execution_count": null,
   "id": "f0723511",
   "metadata": {},
   "outputs": [],
   "source": []
  },
  {
   "cell_type": "code",
   "execution_count": null,
   "id": "c9c8cff0",
   "metadata": {},
   "outputs": [],
   "source": []
  },
  {
   "cell_type": "code",
   "execution_count": 240,
   "id": "77ef6277",
   "metadata": {},
   "outputs": [],
   "source": [
    "def myfunc(a, b):\n",
    "    \"Return a-b if a>b, otherwise return a+b\"\n",
    "    if a > b:\n",
    "        return a - b\n",
    "    else:\n",
    "        return a + b"
   ]
  },
  {
   "cell_type": "code",
   "execution_count": 243,
   "id": "6aff8302",
   "metadata": {},
   "outputs": [],
   "source": [
    "vfunc = np.vectorize(myfunc)"
   ]
  },
  {
   "cell_type": "code",
   "execution_count": 245,
   "id": "a806de99",
   "metadata": {},
   "outputs": [
    {
     "data": {
      "text/plain": [
       "array([3, 4, 1, 2])"
      ]
     },
     "execution_count": 245,
     "metadata": {},
     "output_type": "execute_result"
    }
   ],
   "source": [
    "vfunc([1, 2, 3, 4], 2)"
   ]
  },
  {
   "cell_type": "code",
   "execution_count": null,
   "id": "ab5d92a3",
   "metadata": {},
   "outputs": [],
   "source": []
  }
 ],
 "metadata": {
  "kernelspec": {
   "display_name": "qgis_env",
   "language": "python",
   "name": "qgis_env"
  },
  "language_info": {
   "codemirror_mode": {
    "name": "ipython",
    "version": 3
   },
   "file_extension": ".py",
   "mimetype": "text/x-python",
   "name": "python",
   "nbconvert_exporter": "python",
   "pygments_lexer": "ipython3",
   "version": "3.9.5"
  }
 },
 "nbformat": 4,
 "nbformat_minor": 5
}
