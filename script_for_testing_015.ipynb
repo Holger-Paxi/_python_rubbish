{
 "cells": [
  {
   "cell_type": "code",
   "execution_count": 153,
   "metadata": {},
   "outputs": [],
   "source": [
    "import pandas as pd\n",
    "import datetime"
   ]
  },
  {
   "cell_type": "code",
   "execution_count": 154,
   "metadata": {},
   "outputs": [],
   "source": [
    "input = '_SP_m13_clsc_sdat.csv'\n",
    "output = 'out' + input"
   ]
  },
  {
   "cell_type": "code",
   "execution_count": 155,
   "metadata": {},
   "outputs": [],
   "source": [
    "aa = pd.read_csv('../_reports/' + input)\n",
    "bb = aa.iloc[:,1]\n",
    "cc = bb[bb.str[:12] == 'timestamp ts']\n",
    "aa['timestamp'] = cc.str[10:25]\n",
    "dd = pd.to_datetime(cc.str[13:25], format='%Y%m%d%H%M')\n",
    "aa['ts'] = dd\n",
    "ee = aa.sort_values(by='ts')\n",
    "\n",
    "ee.to_csv('../_reports/' + output)"
   ]
  },
  {
   "cell_type": "code",
   "execution_count": 156,
   "metadata": {},
   "outputs": [
    {
     "data": {
      "text/html": [
       "<div>\n",
       "<style scoped>\n",
       "    .dataframe tbody tr th:only-of-type {\n",
       "        vertical-align: middle;\n",
       "    }\n",
       "\n",
       "    .dataframe tbody tr th {\n",
       "        vertical-align: top;\n",
       "    }\n",
       "\n",
       "    .dataframe thead th {\n",
       "        text-align: right;\n",
       "    }\n",
       "</style>\n",
       "<table border=\"1\" class=\"dataframe\">\n",
       "  <thead>\n",
       "    <tr style=\"text-align: right;\">\n",
       "      <th></th>\n",
       "      <th>--------------------------------------------------------------------------------</th>\n",
       "      <th>Unnamed: 1</th>\n",
       "      <th>timestamp</th>\n",
       "      <th>ts</th>\n",
       "    </tr>\n",
       "  </thead>\n",
       "  <tbody>\n",
       "    <tr>\n",
       "      <th>1</th>\n",
       "      <td>NaN</td>\n",
       "      <td>timestamp ts_200304030405 completed at 2022-10...</td>\n",
       "      <td>ts_200304030405</td>\n",
       "      <td>2003-04-03 04:05:00</td>\n",
       "    </tr>\n",
       "    <tr>\n",
       "      <th>3</th>\n",
       "      <td>NaN</td>\n",
       "      <td>timestamp ts_200304030405 completed at 2022-10...</td>\n",
       "      <td>ts_200304030405</td>\n",
       "      <td>2003-04-03 04:05:00</td>\n",
       "    </tr>\n",
       "  </tbody>\n",
       "</table>\n",
       "</div>"
      ],
      "text/plain": [
       "  --------------------------------------------------------------------------------  \\\n",
       "1                                                NaN                                 \n",
       "3                                                NaN                                 \n",
       "\n",
       "                                          Unnamed: 1        timestamp  \\\n",
       "1  timestamp ts_200304030405 completed at 2022-10...  ts_200304030405   \n",
       "3  timestamp ts_200304030405 completed at 2022-10...  ts_200304030405   \n",
       "\n",
       "                   ts  \n",
       "1 2003-04-03 04:05:00  \n",
       "3 2003-04-03 04:05:00  "
      ]
     },
     "execution_count": 156,
     "metadata": {},
     "output_type": "execute_result"
    }
   ],
   "source": [
    "ee[(ee['ts'] == ee['ts'].max()) | (ee['ts'] == ee['ts'].min())]"
   ]
  },
  {
   "cell_type": "code",
   "execution_count": null,
   "metadata": {},
   "outputs": [],
   "source": []
  },
  {
   "cell_type": "code",
   "execution_count": 220,
   "metadata": {},
   "outputs": [],
   "source": [
    "input = '_SP_m27_spl_sdat.csv'\n",
    "output = 'out' + input"
   ]
  },
  {
   "cell_type": "code",
   "execution_count": 221,
   "metadata": {},
   "outputs": [],
   "source": [
    "aa = pd.read_csv('../_reports/' + input)\n",
    "bb = aa.iloc[:,1]\n",
    "cc = bb[bb.str[:12] == 'timestamp ts']\n",
    "aa['timestamp'] = cc.str[10:25]\n",
    "dd = pd.to_datetime(cc.str[13:25], format='%Y%m%d%H%M')\n",
    "aa['ts'] = dd\n",
    "ee = aa.sort_values(by='ts')\n",
    "\n",
    "ee.to_csv('../_reports/' + output)"
   ]
  },
  {
   "cell_type": "code",
   "execution_count": 162,
   "metadata": {},
   "outputs": [
    {
     "data": {
      "text/html": [
       "<div>\n",
       "<style scoped>\n",
       "    .dataframe tbody tr th:only-of-type {\n",
       "        vertical-align: middle;\n",
       "    }\n",
       "\n",
       "    .dataframe tbody tr th {\n",
       "        vertical-align: top;\n",
       "    }\n",
       "\n",
       "    .dataframe thead th {\n",
       "        text-align: right;\n",
       "    }\n",
       "</style>\n",
       "<table border=\"1\" class=\"dataframe\">\n",
       "  <thead>\n",
       "    <tr style=\"text-align: right;\">\n",
       "      <th></th>\n",
       "      <th>--------------------------------------------------------------------------------</th>\n",
       "      <th>Unnamed: 1</th>\n",
       "      <th>timestamp</th>\n",
       "      <th>ts</th>\n",
       "    </tr>\n",
       "  </thead>\n",
       "  <tbody>\n",
       "    <tr>\n",
       "      <th>1</th>\n",
       "      <td>NaN</td>\n",
       "      <td>timestamp ts_199809090740 completed at 2022-10...</td>\n",
       "      <td>ts_199809090740</td>\n",
       "      <td>1998-09-09 07:40:00</td>\n",
       "    </tr>\n",
       "    <tr>\n",
       "      <th>401</th>\n",
       "      <td>NaN</td>\n",
       "      <td>timestamp ts_199809112120 completed at 2022-10...</td>\n",
       "      <td>ts_199809112120</td>\n",
       "      <td>1998-09-11 21:20:00</td>\n",
       "    </tr>\n",
       "  </tbody>\n",
       "</table>\n",
       "</div>"
      ],
      "text/plain": [
       "    --------------------------------------------------------------------------------  \\\n",
       "1                                                  NaN                                 \n",
       "401                                                NaN                                 \n",
       "\n",
       "                                            Unnamed: 1        timestamp  \\\n",
       "1    timestamp ts_199809090740 completed at 2022-10...  ts_199809090740   \n",
       "401  timestamp ts_199809112120 completed at 2022-10...  ts_199809112120   \n",
       "\n",
       "                     ts  \n",
       "1   1998-09-09 07:40:00  \n",
       "401 1998-09-11 21:20:00  "
      ]
     },
     "execution_count": 162,
     "metadata": {},
     "output_type": "execute_result"
    }
   ],
   "source": [
    "ee[(ee['ts'] == ee['ts'].max()) | (ee['ts'] == ee['ts'].min())]"
   ]
  },
  {
   "cell_type": "code",
   "execution_count": null,
   "metadata": {},
   "outputs": [],
   "source": []
  },
  {
   "cell_type": "code",
   "execution_count": 59,
   "metadata": {},
   "outputs": [
    {
     "data": {
      "text/html": [
       "<div>\n",
       "<style scoped>\n",
       "    .dataframe tbody tr th:only-of-type {\n",
       "        vertical-align: middle;\n",
       "    }\n",
       "\n",
       "    .dataframe tbody tr th {\n",
       "        vertical-align: top;\n",
       "    }\n",
       "\n",
       "    .dataframe thead th {\n",
       "        text-align: right;\n",
       "    }\n",
       "</style>\n",
       "<table border=\"1\" class=\"dataframe\">\n",
       "  <thead>\n",
       "    <tr style=\"text-align: right;\">\n",
       "      <th></th>\n",
       "      <th>--------------------------------------------------------------------------------</th>\n",
       "      <th>Unnamed: 1</th>\n",
       "    </tr>\n",
       "  </thead>\n",
       "  <tbody>\n",
       "    <tr>\n",
       "      <th>0</th>\n",
       "      <td>starting ts_199809090740 at 2022-10-15 01:13:3...</td>\n",
       "      <td>NaN</td>\n",
       "    </tr>\n",
       "    <tr>\n",
       "      <th>1</th>\n",
       "      <td>NaN</td>\n",
       "      <td>timestamp ts_199809090740 completed at 2022-10...</td>\n",
       "    </tr>\n",
       "    <tr>\n",
       "      <th>2</th>\n",
       "      <td>NaN</td>\n",
       "      <td>elapsed time 0:06:54.448738</td>\n",
       "    </tr>\n",
       "    <tr>\n",
       "      <th>3</th>\n",
       "      <td>NaN</td>\n",
       "      <td>timestamp ts_199809090745 completed at 2022-10...</td>\n",
       "    </tr>\n",
       "    <tr>\n",
       "      <th>4</th>\n",
       "      <td>NaN</td>\n",
       "      <td>elapsed time 0:04:25.728494</td>\n",
       "    </tr>\n",
       "  </tbody>\n",
       "</table>\n",
       "</div>"
      ],
      "text/plain": [
       "  --------------------------------------------------------------------------------  \\\n",
       "0  starting ts_199809090740 at 2022-10-15 01:13:3...                                 \n",
       "1                                                NaN                                 \n",
       "2                                                NaN                                 \n",
       "3                                                NaN                                 \n",
       "4                                                NaN                                 \n",
       "\n",
       "                                          Unnamed: 1  \n",
       "0                                                NaN  \n",
       "1  timestamp ts_199809090740 completed at 2022-10...  \n",
       "2                        elapsed time 0:06:54.448738  \n",
       "3  timestamp ts_199809090745 completed at 2022-10...  \n",
       "4                        elapsed time 0:04:25.728494  "
      ]
     },
     "execution_count": 59,
     "metadata": {},
     "output_type": "execute_result"
    }
   ],
   "source": [
    "aa = pd.read_csv('../' + input)\n",
    "aa.head()"
   ]
  },
  {
   "cell_type": "code",
   "execution_count": 60,
   "metadata": {},
   "outputs": [
    {
     "data": {
      "text/plain": [
       "0                                                  NaN\n",
       "1    timestamp ts_199809090740 completed at 2022-10...\n",
       "2                          elapsed time 0:06:54.448738\n",
       "3    timestamp ts_199809090745 completed at 2022-10...\n",
       "4                          elapsed time 0:04:25.728494\n",
       "Name: Unnamed: 1, dtype: object"
      ]
     },
     "execution_count": 60,
     "metadata": {},
     "output_type": "execute_result"
    }
   ],
   "source": [
    "bb = aa.iloc[:,1]\n",
    "bb.head()"
   ]
  },
  {
   "cell_type": "code",
   "execution_count": 61,
   "metadata": {},
   "outputs": [
    {
     "data": {
      "text/plain": [
       "1    timestamp ts_199809090740 completed at 2022-10...\n",
       "3    timestamp ts_199809090745 completed at 2022-10...\n",
       "5    timestamp ts_199809090750 completed at 2022-10...\n",
       "7    timestamp ts_199809090755 completed at 2022-10...\n",
       "9    timestamp ts_199809090800 completed at 2022-10...\n",
       "Name: Unnamed: 1, dtype: object"
      ]
     },
     "execution_count": 61,
     "metadata": {},
     "output_type": "execute_result"
    }
   ],
   "source": [
    "cc = bb[bb.str[:12] == 'timestamp ts']\n",
    "cc.head()"
   ]
  },
  {
   "cell_type": "code",
   "execution_count": 62,
   "metadata": {},
   "outputs": [
    {
     "data": {
      "text/html": [
       "<div>\n",
       "<style scoped>\n",
       "    .dataframe tbody tr th:only-of-type {\n",
       "        vertical-align: middle;\n",
       "    }\n",
       "\n",
       "    .dataframe tbody tr th {\n",
       "        vertical-align: top;\n",
       "    }\n",
       "\n",
       "    .dataframe thead th {\n",
       "        text-align: right;\n",
       "    }\n",
       "</style>\n",
       "<table border=\"1\" class=\"dataframe\">\n",
       "  <thead>\n",
       "    <tr style=\"text-align: right;\">\n",
       "      <th></th>\n",
       "      <th>--------------------------------------------------------------------------------</th>\n",
       "      <th>Unnamed: 1</th>\n",
       "      <th>timestamp</th>\n",
       "    </tr>\n",
       "  </thead>\n",
       "  <tbody>\n",
       "    <tr>\n",
       "      <th>0</th>\n",
       "      <td>starting ts_199809090740 at 2022-10-15 01:13:3...</td>\n",
       "      <td>NaN</td>\n",
       "      <td>NaN</td>\n",
       "    </tr>\n",
       "    <tr>\n",
       "      <th>1</th>\n",
       "      <td>NaN</td>\n",
       "      <td>timestamp ts_199809090740 completed at 2022-10...</td>\n",
       "      <td>ts_199809090740</td>\n",
       "    </tr>\n",
       "    <tr>\n",
       "      <th>2</th>\n",
       "      <td>NaN</td>\n",
       "      <td>elapsed time 0:06:54.448738</td>\n",
       "      <td>NaN</td>\n",
       "    </tr>\n",
       "    <tr>\n",
       "      <th>3</th>\n",
       "      <td>NaN</td>\n",
       "      <td>timestamp ts_199809090745 completed at 2022-10...</td>\n",
       "      <td>ts_199809090745</td>\n",
       "    </tr>\n",
       "    <tr>\n",
       "      <th>4</th>\n",
       "      <td>NaN</td>\n",
       "      <td>elapsed time 0:04:25.728494</td>\n",
       "      <td>NaN</td>\n",
       "    </tr>\n",
       "  </tbody>\n",
       "</table>\n",
       "</div>"
      ],
      "text/plain": [
       "  --------------------------------------------------------------------------------  \\\n",
       "0  starting ts_199809090740 at 2022-10-15 01:13:3...                                 \n",
       "1                                                NaN                                 \n",
       "2                                                NaN                                 \n",
       "3                                                NaN                                 \n",
       "4                                                NaN                                 \n",
       "\n",
       "                                          Unnamed: 1        timestamp  \n",
       "0                                                NaN              NaN  \n",
       "1  timestamp ts_199809090740 completed at 2022-10...  ts_199809090740  \n",
       "2                        elapsed time 0:06:54.448738              NaN  \n",
       "3  timestamp ts_199809090745 completed at 2022-10...  ts_199809090745  \n",
       "4                        elapsed time 0:04:25.728494              NaN  "
      ]
     },
     "execution_count": 62,
     "metadata": {},
     "output_type": "execute_result"
    }
   ],
   "source": [
    "aa['timestamp'] = cc.str[10:25]\n",
    "aa.head()"
   ]
  },
  {
   "cell_type": "code",
   "execution_count": 66,
   "metadata": {},
   "outputs": [
    {
     "data": {
      "text/plain": [
       "1   1998-09-09 07:40:00\n",
       "3   1998-09-09 07:45:00\n",
       "5   1998-09-09 07:50:00\n",
       "7   1998-09-09 07:55:00\n",
       "9   1998-09-09 08:00:00\n",
       "Name: Unnamed: 1, dtype: datetime64[ns]"
      ]
     },
     "execution_count": 66,
     "metadata": {},
     "output_type": "execute_result"
    }
   ],
   "source": [
    "dd = pd.to_datetime(cc.str[13:25], format='%Y%m%d%H%M')\n",
    "dd.head()"
   ]
  },
  {
   "cell_type": "code",
   "execution_count": 68,
   "metadata": {},
   "outputs": [
    {
     "data": {
      "text/html": [
       "<div>\n",
       "<style scoped>\n",
       "    .dataframe tbody tr th:only-of-type {\n",
       "        vertical-align: middle;\n",
       "    }\n",
       "\n",
       "    .dataframe tbody tr th {\n",
       "        vertical-align: top;\n",
       "    }\n",
       "\n",
       "    .dataframe thead th {\n",
       "        text-align: right;\n",
       "    }\n",
       "</style>\n",
       "<table border=\"1\" class=\"dataframe\">\n",
       "  <thead>\n",
       "    <tr style=\"text-align: right;\">\n",
       "      <th></th>\n",
       "      <th>--------------------------------------------------------------------------------</th>\n",
       "      <th>Unnamed: 1</th>\n",
       "      <th>timestamp</th>\n",
       "      <th>ts</th>\n",
       "    </tr>\n",
       "  </thead>\n",
       "  <tbody>\n",
       "    <tr>\n",
       "      <th>0</th>\n",
       "      <td>starting ts_199809090740 at 2022-10-15 01:13:3...</td>\n",
       "      <td>NaN</td>\n",
       "      <td>NaN</td>\n",
       "      <td>NaT</td>\n",
       "    </tr>\n",
       "    <tr>\n",
       "      <th>1</th>\n",
       "      <td>NaN</td>\n",
       "      <td>timestamp ts_199809090740 completed at 2022-10...</td>\n",
       "      <td>ts_199809090740</td>\n",
       "      <td>1998-09-09 07:40:00</td>\n",
       "    </tr>\n",
       "    <tr>\n",
       "      <th>2</th>\n",
       "      <td>NaN</td>\n",
       "      <td>elapsed time 0:06:54.448738</td>\n",
       "      <td>NaN</td>\n",
       "      <td>NaT</td>\n",
       "    </tr>\n",
       "    <tr>\n",
       "      <th>3</th>\n",
       "      <td>NaN</td>\n",
       "      <td>timestamp ts_199809090745 completed at 2022-10...</td>\n",
       "      <td>ts_199809090745</td>\n",
       "      <td>1998-09-09 07:45:00</td>\n",
       "    </tr>\n",
       "    <tr>\n",
       "      <th>4</th>\n",
       "      <td>NaN</td>\n",
       "      <td>elapsed time 0:04:25.728494</td>\n",
       "      <td>NaN</td>\n",
       "      <td>NaT</td>\n",
       "    </tr>\n",
       "  </tbody>\n",
       "</table>\n",
       "</div>"
      ],
      "text/plain": [
       "  --------------------------------------------------------------------------------  \\\n",
       "0  starting ts_199809090740 at 2022-10-15 01:13:3...                                 \n",
       "1                                                NaN                                 \n",
       "2                                                NaN                                 \n",
       "3                                                NaN                                 \n",
       "4                                                NaN                                 \n",
       "\n",
       "                                          Unnamed: 1        timestamp  \\\n",
       "0                                                NaN              NaN   \n",
       "1  timestamp ts_199809090740 completed at 2022-10...  ts_199809090740   \n",
       "2                        elapsed time 0:06:54.448738              NaN   \n",
       "3  timestamp ts_199809090745 completed at 2022-10...  ts_199809090745   \n",
       "4                        elapsed time 0:04:25.728494              NaN   \n",
       "\n",
       "                   ts  \n",
       "0                 NaT  \n",
       "1 1998-09-09 07:40:00  \n",
       "2                 NaT  \n",
       "3 1998-09-09 07:45:00  \n",
       "4                 NaT  "
      ]
     },
     "execution_count": 68,
     "metadata": {},
     "output_type": "execute_result"
    }
   ],
   "source": [
    "aa['ts'] = dd\n",
    "aa.head()"
   ]
  },
  {
   "cell_type": "code",
   "execution_count": 71,
   "metadata": {},
   "outputs": [
    {
     "data": {
      "text/html": [
       "<div>\n",
       "<style scoped>\n",
       "    .dataframe tbody tr th:only-of-type {\n",
       "        vertical-align: middle;\n",
       "    }\n",
       "\n",
       "    .dataframe tbody tr th {\n",
       "        vertical-align: top;\n",
       "    }\n",
       "\n",
       "    .dataframe thead th {\n",
       "        text-align: right;\n",
       "    }\n",
       "</style>\n",
       "<table border=\"1\" class=\"dataframe\">\n",
       "  <thead>\n",
       "    <tr style=\"text-align: right;\">\n",
       "      <th></th>\n",
       "      <th>--------------------------------------------------------------------------------</th>\n",
       "      <th>Unnamed: 1</th>\n",
       "      <th>timestamp</th>\n",
       "      <th>ts</th>\n",
       "    </tr>\n",
       "  </thead>\n",
       "  <tbody>\n",
       "    <tr>\n",
       "      <th>1</th>\n",
       "      <td>NaN</td>\n",
       "      <td>timestamp ts_199809090740 completed at 2022-10...</td>\n",
       "      <td>ts_199809090740</td>\n",
       "      <td>1998-09-09 07:40:00</td>\n",
       "    </tr>\n",
       "    <tr>\n",
       "      <th>111</th>\n",
       "      <td>NaN</td>\n",
       "      <td>timestamp ts_199809090740 completed at 2022-10...</td>\n",
       "      <td>ts_199809090740</td>\n",
       "      <td>1998-09-09 07:40:00</td>\n",
       "    </tr>\n",
       "    <tr>\n",
       "      <th>3</th>\n",
       "      <td>NaN</td>\n",
       "      <td>timestamp ts_199809090745 completed at 2022-10...</td>\n",
       "      <td>ts_199809090745</td>\n",
       "      <td>1998-09-09 07:45:00</td>\n",
       "    </tr>\n",
       "    <tr>\n",
       "      <th>113</th>\n",
       "      <td>NaN</td>\n",
       "      <td>timestamp ts_199809090745 completed at 2022-10...</td>\n",
       "      <td>ts_199809090745</td>\n",
       "      <td>1998-09-09 07:45:00</td>\n",
       "    </tr>\n",
       "    <tr>\n",
       "      <th>5</th>\n",
       "      <td>NaN</td>\n",
       "      <td>timestamp ts_199809090750 completed at 2022-10...</td>\n",
       "      <td>ts_199809090750</td>\n",
       "      <td>1998-09-09 07:50:00</td>\n",
       "    </tr>\n",
       "  </tbody>\n",
       "</table>\n",
       "</div>"
      ],
      "text/plain": [
       "    --------------------------------------------------------------------------------  \\\n",
       "1                                                  NaN                                 \n",
       "111                                                NaN                                 \n",
       "3                                                  NaN                                 \n",
       "113                                                NaN                                 \n",
       "5                                                  NaN                                 \n",
       "\n",
       "                                            Unnamed: 1        timestamp  \\\n",
       "1    timestamp ts_199809090740 completed at 2022-10...  ts_199809090740   \n",
       "111  timestamp ts_199809090740 completed at 2022-10...  ts_199809090740   \n",
       "3    timestamp ts_199809090745 completed at 2022-10...  ts_199809090745   \n",
       "113  timestamp ts_199809090745 completed at 2022-10...  ts_199809090745   \n",
       "5    timestamp ts_199809090750 completed at 2022-10...  ts_199809090750   \n",
       "\n",
       "                     ts  \n",
       "1   1998-09-09 07:40:00  \n",
       "111 1998-09-09 07:40:00  \n",
       "3   1998-09-09 07:45:00  \n",
       "113 1998-09-09 07:45:00  \n",
       "5   1998-09-09 07:50:00  "
      ]
     },
     "execution_count": 71,
     "metadata": {},
     "output_type": "execute_result"
    }
   ],
   "source": [
    "ee = aa.sort_values(by='ts')\n",
    "ee.head()"
   ]
  },
  {
   "cell_type": "code",
   "execution_count": 72,
   "metadata": {},
   "outputs": [],
   "source": [
    "ee.to_csv('../' + output)"
   ]
  },
  {
   "cell_type": "code",
   "execution_count": 148,
   "metadata": {},
   "outputs": [
    {
     "name": "stdout",
     "output_type": "stream",
     "text": [
      "1500\n"
     ]
    }
   ],
   "source": [
    "x = 1500\n",
    "print('{:04d}'.format(x))"
   ]
  },
  {
   "cell_type": "code",
   "execution_count": null,
   "metadata": {},
   "outputs": [],
   "source": []
  }
 ],
 "metadata": {
  "kernelspec": {
   "display_name": "Python 3.9.5 ('qgis_env')",
   "language": "python",
   "name": "python3"
  },
  "language_info": {
   "codemirror_mode": {
    "name": "ipython",
    "version": 3
   },
   "file_extension": ".py",
   "mimetype": "text/x-python",
   "name": "python",
   "nbconvert_exporter": "python",
   "pygments_lexer": "ipython3",
   "version": "3.9.5"
  },
  "orig_nbformat": 4,
  "vscode": {
   "interpreter": {
    "hash": "f507a3b1b233680011a04a7dff691513f5d521a8540dfe8352f99843ef706fd4"
   }
  }
 },
 "nbformat": 4,
 "nbformat_minor": 2
}
