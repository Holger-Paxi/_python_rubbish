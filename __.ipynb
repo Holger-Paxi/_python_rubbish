{
 "cells": [
  {
   "cell_type": "code",
   "execution_count": 1,
   "metadata": {},
   "outputs": [],
   "source": [
    "import pandas as pd\n",
    "import numpy as np\n",
    "import glob"
   ]
  },
  {
   "cell_type": "code",
   "execution_count": 2,
   "metadata": {},
   "outputs": [],
   "source": [
    "def list_files(arg_directory_path, arg_regex, arg_column_name='file_path'):\n",
    "    \"\"\"return list of files in a directory\n",
    "\n",
    "    arguments:\n",
    "        [string] --> arg_directory_path = directory path of the polygons\n",
    "        [string] --> arg_regex = regex entry\n",
    "        [string] --> arg_column_name = column's name\n",
    "    \"\"\"\n",
    "    list_files = glob.glob(pathname=arg_directory_path + arg_regex)\n",
    "    list_files = pd.DataFrame(list_files, columns=[arg_column_name])\n",
    "    list_files.sort_values(by=[arg_column_name], inplace=True)\n",
    "    list_files.reset_index(drop=True, inplace=True)\n",
    "\n",
    "    return list_files"
   ]
  },
  {
   "cell_type": "code",
   "execution_count": 3,
   "metadata": {},
   "outputs": [
    {
     "data": {
      "text/plain": [
       "'/home/holger/Downloads/SharedFiles_ProfJames/Results_Scripts/output_GTPSPD_prec_data_by_sc/results_dir_001m_0120min/'"
      ]
     },
     "execution_count": 3,
     "metadata": {},
     "output_type": "execute_result"
    }
   ],
   "source": [
    "# asd = '/home/holger/Downloads/SharedFiles_ProfJames/Results_Scripts/output_GTPSPD_prec_data_by_sc/results_dir_001m_0005min/'\n",
    "# asd = '/home/holger/Downloads/SharedFiles_ProfJames/Results_Scripts/output_GTPSPD_prec_data_by_sc/results_dir_001m_0010min/'\n",
    "# asd = '/home/holger/Downloads/SharedFiles_ProfJames/Results_Scripts/output_GTPSPD_prec_data_by_sc/results_dir_001m_0015min/'\n",
    "# asd = '/home/holger/Downloads/SharedFiles_ProfJames/Results_Scripts/output_GTPSPD_prec_data_by_sc/results_dir_001m_0020min/'\n",
    "# asd = '/home/holger/Downloads/SharedFiles_ProfJames/Results_Scripts/output_GTPSPD_prec_data_by_sc/results_dir_001m_0025min/'\n",
    "# asd = '/home/holger/Downloads/SharedFiles_ProfJames/Results_Scripts/output_GTPSPD_prec_data_by_sc/results_dir_001m_0030min/'\n",
    "# asd = '/home/holger/Downloads/SharedFiles_ProfJames/Results_Scripts/output_GTPSPD_prec_data_by_sc/results_dir_001m_0045min/'\n",
    "# asd = '/home/holger/Downloads/SharedFiles_ProfJames/Results_Scripts/output_GTPSPD_prec_data_by_sc/results_dir_001m_0060min/'\n",
    "# asd = '/home/holger/Downloads/SharedFiles_ProfJames/Results_Scripts/output_GTPSPD_prec_data_by_sc/results_dir_001m_0090min/'\n",
    "asd = '/home/holger/Downloads/SharedFiles_ProfJames/Results_Scripts/output_GTPSPD_prec_data_by_sc/results_dir_001m_0120min/'\n",
    "# asd = '/home/holger/Downloads/SharedFiles_ProfJames/Results_Scripts/output_GTPSPD_prec_data_by_sc/results_dir_001m_0180min/'\n",
    "\n",
    "asd"
   ]
  },
  {
   "cell_type": "code",
   "execution_count": 4,
   "metadata": {},
   "outputs": [
    {
     "data": {
      "text/html": [
       "<div>\n",
       "<style scoped>\n",
       "    .dataframe tbody tr th:only-of-type {\n",
       "        vertical-align: middle;\n",
       "    }\n",
       "\n",
       "    .dataframe tbody tr th {\n",
       "        vertical-align: top;\n",
       "    }\n",
       "\n",
       "    .dataframe thead th {\n",
       "        text-align: right;\n",
       "    }\n",
       "</style>\n",
       "<table border=\"1\" class=\"dataframe\">\n",
       "  <thead>\n",
       "    <tr style=\"text-align: right;\">\n",
       "      <th></th>\n",
       "      <th>file_path</th>\n",
       "    </tr>\n",
       "  </thead>\n",
       "  <tbody>\n",
       "    <tr>\n",
       "      <th>0</th>\n",
       "      <td>/home/holger/Downloads/SharedFiles_ProfJames/R...</td>\n",
       "    </tr>\n",
       "    <tr>\n",
       "      <th>1</th>\n",
       "      <td>/home/holger/Downloads/SharedFiles_ProfJames/R...</td>\n",
       "    </tr>\n",
       "    <tr>\n",
       "      <th>2</th>\n",
       "      <td>/home/holger/Downloads/SharedFiles_ProfJames/R...</td>\n",
       "    </tr>\n",
       "    <tr>\n",
       "      <th>3</th>\n",
       "      <td>/home/holger/Downloads/SharedFiles_ProfJames/R...</td>\n",
       "    </tr>\n",
       "    <tr>\n",
       "      <th>4</th>\n",
       "      <td>/home/holger/Downloads/SharedFiles_ProfJames/R...</td>\n",
       "    </tr>\n",
       "    <tr>\n",
       "      <th>...</th>\n",
       "      <td>...</td>\n",
       "    </tr>\n",
       "    <tr>\n",
       "      <th>1531</th>\n",
       "      <td>/home/holger/Downloads/SharedFiles_ProfJames/R...</td>\n",
       "    </tr>\n",
       "    <tr>\n",
       "      <th>1532</th>\n",
       "      <td>/home/holger/Downloads/SharedFiles_ProfJames/R...</td>\n",
       "    </tr>\n",
       "    <tr>\n",
       "      <th>1533</th>\n",
       "      <td>/home/holger/Downloads/SharedFiles_ProfJames/R...</td>\n",
       "    </tr>\n",
       "    <tr>\n",
       "      <th>1534</th>\n",
       "      <td>/home/holger/Downloads/SharedFiles_ProfJames/R...</td>\n",
       "    </tr>\n",
       "    <tr>\n",
       "      <th>1535</th>\n",
       "      <td>/home/holger/Downloads/SharedFiles_ProfJames/R...</td>\n",
       "    </tr>\n",
       "  </tbody>\n",
       "</table>\n",
       "<p>1536 rows × 1 columns</p>\n",
       "</div>"
      ],
      "text/plain": [
       "                                              file_path\n",
       "0     /home/holger/Downloads/SharedFiles_ProfJames/R...\n",
       "1     /home/holger/Downloads/SharedFiles_ProfJames/R...\n",
       "2     /home/holger/Downloads/SharedFiles_ProfJames/R...\n",
       "3     /home/holger/Downloads/SharedFiles_ProfJames/R...\n",
       "4     /home/holger/Downloads/SharedFiles_ProfJames/R...\n",
       "...                                                 ...\n",
       "1531  /home/holger/Downloads/SharedFiles_ProfJames/R...\n",
       "1532  /home/holger/Downloads/SharedFiles_ProfJames/R...\n",
       "1533  /home/holger/Downloads/SharedFiles_ProfJames/R...\n",
       "1534  /home/holger/Downloads/SharedFiles_ProfJames/R...\n",
       "1535  /home/holger/Downloads/SharedFiles_ProfJames/R...\n",
       "\n",
       "[1536 rows x 1 columns]"
      ]
     },
     "execution_count": 4,
     "metadata": {},
     "output_type": "execute_result"
    }
   ],
   "source": [
    "asd = list_files(asd, '*.parquet')\n",
    "asd"
   ]
  },
  {
   "cell_type": "code",
   "execution_count": 5,
   "metadata": {},
   "outputs": [
    {
     "data": {
      "text/plain": [
       "array([6363])"
      ]
     },
     "execution_count": 5,
     "metadata": {},
     "output_type": "execute_result"
    }
   ],
   "source": [
    "asd = np.array(object=[len(pd.read_parquet(path=asd.file_path[ind])) for ind in asd.index])\n",
    "asd = np.unique(ar=asd)\n",
    "asd"
   ]
  },
  {
   "cell_type": "code",
   "execution_count": null,
   "metadata": {},
   "outputs": [],
   "source": []
  },
  {
   "cell_type": "code",
   "execution_count": null,
   "metadata": {},
   "outputs": [],
   "source": []
  }
 ],
 "metadata": {
  "kernelspec": {
   "display_name": "temp_env",
   "language": "python",
   "name": "python3"
  },
  "language_info": {
   "codemirror_mode": {
    "name": "ipython",
    "version": 3
   },
   "file_extension": ".py",
   "mimetype": "text/x-python",
   "name": "python",
   "nbconvert_exporter": "python",
   "pygments_lexer": "ipython3",
   "version": "3.10.12"
  }
 },
 "nbformat": 4,
 "nbformat_minor": 2
}
